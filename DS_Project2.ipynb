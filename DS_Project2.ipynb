{
  "nbformat": 4,
  "nbformat_minor": 0,
  "metadata": {
    "colab": {
      "name": "DS_Project2.ipynb",
      "version": "0.3.2",
      "provenance": [],
      "collapsed_sections": [],
      "include_colab_link": true
    },
    "kernelspec": {
      "name": "python3",
      "display_name": "Python 3"
    }
  },
  "cells": [
    {
      "cell_type": "markdown",
      "metadata": {
        "id": "view-in-github",
        "colab_type": "text"
      },
      "source": [
        "<a href=\"https://colab.research.google.com/github/thiagotandrade/ds_project/blob/master/DS_Project2.ipynb\" target=\"_parent\"><img src=\"https://colab.research.google.com/assets/colab-badge.svg\" alt=\"Open In Colab\"/></a>"
      ]
    },
    {
      "cell_type": "markdown",
      "metadata": {
        "id": "sVre2WUgKoi_",
        "colab_type": "text"
      },
      "source": [
        "# Competição do Kaggle: [Zillow Prize](https://www.kaggle.com/c/zillow-prize-1)"
      ]
    },
    {
      "cell_type": "markdown",
      "metadata": {
        "id": "0IPooS0RABuM",
        "colab_type": "text"
      },
      "source": [
        "# Initial Setup"
      ]
    },
    {
      "cell_type": "code",
      "metadata": {
        "id": "mP2_Ebqt4Q4N",
        "colab_type": "code",
        "colab": {}
      },
      "source": [
        "import os\n",
        "import warnings\n",
        "import xgboost\n",
        "\n",
        "import numpy as np\n",
        "import pandas as pd\n",
        "import matplotlib.pyplot as plt\n",
        "import seaborn as sns \n",
        "\n",
        "from sklearn.linear_model import LinearRegression\n",
        "from sklearn.ensemble import RandomForestRegressor\n",
        "from sklearn.model_selection import GridSearchCV, ShuffleSplit, train_test_split\n",
        "from sklearn.metrics import make_scorer, mean_absolute_error, r2_score\n",
        "\n",
        "%matplotlib inline\n",
        "warnings.filterwarnings(\"ignore\")"
      ],
      "execution_count": 0,
      "outputs": []
    },
    {
      "cell_type": "code",
      "metadata": {
        "id": "Q7zSVIF_35mX",
        "colab_type": "code",
        "colab": {}
      },
      "source": [
        "props = pd.read_csv('https://raw.githubusercontent.com/thiagotandrade/ds_project/master/Database/merged_2016v2.csv',\n",
        "                             header=0, sep=',', quotechar='\"')"
      ],
      "execution_count": 0,
      "outputs": []
    },
    {
      "cell_type": "code",
      "metadata": {
        "id": "VinzfNHI4aJR",
        "colab_type": "code",
        "outputId": "85212971-da18-4d6f-e799-11c780d5191a",
        "colab": {
          "base_uri": "https://localhost:8080/",
          "height": 224
        }
      },
      "source": [
        "props.head()"
      ],
      "execution_count": 0,
      "outputs": [
        {
          "output_type": "execute_result",
          "data": {
            "text/html": [
              "<div>\n",
              "<style scoped>\n",
              "    .dataframe tbody tr th:only-of-type {\n",
              "        vertical-align: middle;\n",
              "    }\n",
              "\n",
              "    .dataframe tbody tr th {\n",
              "        vertical-align: top;\n",
              "    }\n",
              "\n",
              "    .dataframe thead th {\n",
              "        text-align: right;\n",
              "    }\n",
              "</style>\n",
              "<table border=\"1\" class=\"dataframe\">\n",
              "  <thead>\n",
              "    <tr style=\"text-align: right;\">\n",
              "      <th></th>\n",
              "      <th>parcelid</th>\n",
              "      <th>airconditioningtypeid</th>\n",
              "      <th>architecturalstyletypeid</th>\n",
              "      <th>basementsqft</th>\n",
              "      <th>bathroomcnt</th>\n",
              "      <th>bedroomcnt</th>\n",
              "      <th>buildingclasstypeid</th>\n",
              "      <th>buildingqualitytypeid</th>\n",
              "      <th>calculatedbathnbr</th>\n",
              "      <th>decktypeid</th>\n",
              "      <th>finishedfloor1squarefeet</th>\n",
              "      <th>calculatedfinishedsquarefeet</th>\n",
              "      <th>finishedsquarefeet12</th>\n",
              "      <th>finishedsquarefeet13</th>\n",
              "      <th>finishedsquarefeet15</th>\n",
              "      <th>finishedsquarefeet50</th>\n",
              "      <th>finishedsquarefeet6</th>\n",
              "      <th>fips</th>\n",
              "      <th>fireplacecnt</th>\n",
              "      <th>fullbathcnt</th>\n",
              "      <th>garagecarcnt</th>\n",
              "      <th>garagetotalsqft</th>\n",
              "      <th>hashottuborspa</th>\n",
              "      <th>heatingorsystemtypeid</th>\n",
              "      <th>latitude</th>\n",
              "      <th>longitude</th>\n",
              "      <th>lotsizesquarefeet</th>\n",
              "      <th>poolcnt</th>\n",
              "      <th>poolsizesum</th>\n",
              "      <th>pooltypeid10</th>\n",
              "      <th>pooltypeid2</th>\n",
              "      <th>pooltypeid7</th>\n",
              "      <th>propertycountylandusecode</th>\n",
              "      <th>propertylandusetypeid</th>\n",
              "      <th>propertyzoningdesc</th>\n",
              "      <th>rawcensustractandblock</th>\n",
              "      <th>regionidcity</th>\n",
              "      <th>regionidcounty</th>\n",
              "      <th>regionidneighborhood</th>\n",
              "      <th>regionidzip</th>\n",
              "      <th>roomcnt</th>\n",
              "      <th>storytypeid</th>\n",
              "      <th>threequarterbathnbr</th>\n",
              "      <th>typeconstructiontypeid</th>\n",
              "      <th>unitcnt</th>\n",
              "      <th>yardbuildingsqft17</th>\n",
              "      <th>yardbuildingsqft26</th>\n",
              "      <th>yearbuilt</th>\n",
              "      <th>numberofstories</th>\n",
              "      <th>fireplaceflag</th>\n",
              "      <th>structuretaxvaluedollarcnt</th>\n",
              "      <th>taxvaluedollarcnt</th>\n",
              "      <th>assessmentyear</th>\n",
              "      <th>landtaxvaluedollarcnt</th>\n",
              "      <th>taxamount</th>\n",
              "      <th>taxdelinquencyflag</th>\n",
              "      <th>taxdelinquencyyear</th>\n",
              "      <th>censustractandblock</th>\n",
              "      <th>logerror</th>\n",
              "      <th>transactiondate</th>\n",
              "    </tr>\n",
              "  </thead>\n",
              "  <tbody>\n",
              "    <tr>\n",
              "      <th>0</th>\n",
              "      <td>17073783</td>\n",
              "      <td>NaN</td>\n",
              "      <td>NaN</td>\n",
              "      <td>NaN</td>\n",
              "      <td>2.5</td>\n",
              "      <td>3.0</td>\n",
              "      <td>NaN</td>\n",
              "      <td>NaN</td>\n",
              "      <td>2.5</td>\n",
              "      <td>NaN</td>\n",
              "      <td>548.0</td>\n",
              "      <td>1264.0</td>\n",
              "      <td>1264.0</td>\n",
              "      <td>NaN</td>\n",
              "      <td>NaN</td>\n",
              "      <td>548.0</td>\n",
              "      <td>NaN</td>\n",
              "      <td>6111.0</td>\n",
              "      <td>NaN</td>\n",
              "      <td>2.0</td>\n",
              "      <td>2.0</td>\n",
              "      <td>0.0</td>\n",
              "      <td>NaN</td>\n",
              "      <td>NaN</td>\n",
              "      <td>34303597.0</td>\n",
              "      <td>-119287236.0</td>\n",
              "      <td>1735.0</td>\n",
              "      <td>NaN</td>\n",
              "      <td>NaN</td>\n",
              "      <td>NaN</td>\n",
              "      <td>NaN</td>\n",
              "      <td>NaN</td>\n",
              "      <td>1128</td>\n",
              "      <td>265.0</td>\n",
              "      <td>NaN</td>\n",
              "      <td>6.111002e+07</td>\n",
              "      <td>34543.0</td>\n",
              "      <td>2061.0</td>\n",
              "      <td>NaN</td>\n",
              "      <td>97081.0</td>\n",
              "      <td>5.0</td>\n",
              "      <td>NaN</td>\n",
              "      <td>1.0</td>\n",
              "      <td>NaN</td>\n",
              "      <td>NaN</td>\n",
              "      <td>128.0</td>\n",
              "      <td>NaN</td>\n",
              "      <td>1986.0</td>\n",
              "      <td>2.0</td>\n",
              "      <td>NaN</td>\n",
              "      <td>115087.0</td>\n",
              "      <td>191811.0</td>\n",
              "      <td>2015.0</td>\n",
              "      <td>76724.0</td>\n",
              "      <td>2015.06</td>\n",
              "      <td>NaN</td>\n",
              "      <td>NaN</td>\n",
              "      <td>6.111002e+13</td>\n",
              "      <td>0.0953</td>\n",
              "      <td>2016-01-27</td>\n",
              "    </tr>\n",
              "    <tr>\n",
              "      <th>1</th>\n",
              "      <td>17088994</td>\n",
              "      <td>NaN</td>\n",
              "      <td>NaN</td>\n",
              "      <td>NaN</td>\n",
              "      <td>1.0</td>\n",
              "      <td>2.0</td>\n",
              "      <td>NaN</td>\n",
              "      <td>NaN</td>\n",
              "      <td>1.0</td>\n",
              "      <td>NaN</td>\n",
              "      <td>777.0</td>\n",
              "      <td>777.0</td>\n",
              "      <td>777.0</td>\n",
              "      <td>NaN</td>\n",
              "      <td>NaN</td>\n",
              "      <td>777.0</td>\n",
              "      <td>NaN</td>\n",
              "      <td>6111.0</td>\n",
              "      <td>NaN</td>\n",
              "      <td>1.0</td>\n",
              "      <td>1.0</td>\n",
              "      <td>0.0</td>\n",
              "      <td>NaN</td>\n",
              "      <td>NaN</td>\n",
              "      <td>34272866.0</td>\n",
              "      <td>-119198911.0</td>\n",
              "      <td>NaN</td>\n",
              "      <td>NaN</td>\n",
              "      <td>NaN</td>\n",
              "      <td>NaN</td>\n",
              "      <td>NaN</td>\n",
              "      <td>NaN</td>\n",
              "      <td>1129</td>\n",
              "      <td>266.0</td>\n",
              "      <td>NaN</td>\n",
              "      <td>6.111002e+07</td>\n",
              "      <td>34543.0</td>\n",
              "      <td>2061.0</td>\n",
              "      <td>NaN</td>\n",
              "      <td>97083.0</td>\n",
              "      <td>4.0</td>\n",
              "      <td>NaN</td>\n",
              "      <td>NaN</td>\n",
              "      <td>NaN</td>\n",
              "      <td>NaN</td>\n",
              "      <td>198.0</td>\n",
              "      <td>NaN</td>\n",
              "      <td>1990.0</td>\n",
              "      <td>1.0</td>\n",
              "      <td>NaN</td>\n",
              "      <td>143809.0</td>\n",
              "      <td>239679.0</td>\n",
              "      <td>2015.0</td>\n",
              "      <td>95870.0</td>\n",
              "      <td>2581.30</td>\n",
              "      <td>NaN</td>\n",
              "      <td>NaN</td>\n",
              "      <td>6.111002e+13</td>\n",
              "      <td>0.0198</td>\n",
              "      <td>2016-03-30</td>\n",
              "    </tr>\n",
              "    <tr>\n",
              "      <th>2</th>\n",
              "      <td>17100444</td>\n",
              "      <td>NaN</td>\n",
              "      <td>NaN</td>\n",
              "      <td>NaN</td>\n",
              "      <td>2.0</td>\n",
              "      <td>3.0</td>\n",
              "      <td>NaN</td>\n",
              "      <td>NaN</td>\n",
              "      <td>2.0</td>\n",
              "      <td>NaN</td>\n",
              "      <td>1101.0</td>\n",
              "      <td>1101.0</td>\n",
              "      <td>1101.0</td>\n",
              "      <td>NaN</td>\n",
              "      <td>NaN</td>\n",
              "      <td>1101.0</td>\n",
              "      <td>NaN</td>\n",
              "      <td>6111.0</td>\n",
              "      <td>NaN</td>\n",
              "      <td>2.0</td>\n",
              "      <td>2.0</td>\n",
              "      <td>441.0</td>\n",
              "      <td>NaN</td>\n",
              "      <td>NaN</td>\n",
              "      <td>34340801.0</td>\n",
              "      <td>-119079610.0</td>\n",
              "      <td>6569.0</td>\n",
              "      <td>NaN</td>\n",
              "      <td>NaN</td>\n",
              "      <td>NaN</td>\n",
              "      <td>NaN</td>\n",
              "      <td>NaN</td>\n",
              "      <td>1111</td>\n",
              "      <td>261.0</td>\n",
              "      <td>NaN</td>\n",
              "      <td>6.111001e+07</td>\n",
              "      <td>26965.0</td>\n",
              "      <td>2061.0</td>\n",
              "      <td>NaN</td>\n",
              "      <td>97113.0</td>\n",
              "      <td>5.0</td>\n",
              "      <td>NaN</td>\n",
              "      <td>NaN</td>\n",
              "      <td>NaN</td>\n",
              "      <td>NaN</td>\n",
              "      <td>NaN</td>\n",
              "      <td>NaN</td>\n",
              "      <td>1956.0</td>\n",
              "      <td>1.0</td>\n",
              "      <td>NaN</td>\n",
              "      <td>33619.0</td>\n",
              "      <td>47853.0</td>\n",
              "      <td>2015.0</td>\n",
              "      <td>14234.0</td>\n",
              "      <td>591.64</td>\n",
              "      <td>NaN</td>\n",
              "      <td>NaN</td>\n",
              "      <td>6.111001e+13</td>\n",
              "      <td>0.0060</td>\n",
              "      <td>2016-05-27</td>\n",
              "    </tr>\n",
              "    <tr>\n",
              "      <th>3</th>\n",
              "      <td>17102429</td>\n",
              "      <td>NaN</td>\n",
              "      <td>NaN</td>\n",
              "      <td>NaN</td>\n",
              "      <td>1.5</td>\n",
              "      <td>2.0</td>\n",
              "      <td>NaN</td>\n",
              "      <td>NaN</td>\n",
              "      <td>1.5</td>\n",
              "      <td>NaN</td>\n",
              "      <td>1554.0</td>\n",
              "      <td>1554.0</td>\n",
              "      <td>1554.0</td>\n",
              "      <td>NaN</td>\n",
              "      <td>NaN</td>\n",
              "      <td>1554.0</td>\n",
              "      <td>NaN</td>\n",
              "      <td>6111.0</td>\n",
              "      <td>1.0</td>\n",
              "      <td>1.0</td>\n",
              "      <td>2.0</td>\n",
              "      <td>460.0</td>\n",
              "      <td>NaN</td>\n",
              "      <td>NaN</td>\n",
              "      <td>34354313.0</td>\n",
              "      <td>-119076405.0</td>\n",
              "      <td>7400.0</td>\n",
              "      <td>NaN</td>\n",
              "      <td>NaN</td>\n",
              "      <td>NaN</td>\n",
              "      <td>NaN</td>\n",
              "      <td>NaN</td>\n",
              "      <td>1110</td>\n",
              "      <td>261.0</td>\n",
              "      <td>NaN</td>\n",
              "      <td>6.111001e+07</td>\n",
              "      <td>26965.0</td>\n",
              "      <td>2061.0</td>\n",
              "      <td>NaN</td>\n",
              "      <td>97113.0</td>\n",
              "      <td>5.0</td>\n",
              "      <td>NaN</td>\n",
              "      <td>1.0</td>\n",
              "      <td>NaN</td>\n",
              "      <td>NaN</td>\n",
              "      <td>NaN</td>\n",
              "      <td>NaN</td>\n",
              "      <td>1965.0</td>\n",
              "      <td>1.0</td>\n",
              "      <td>NaN</td>\n",
              "      <td>45609.0</td>\n",
              "      <td>62914.0</td>\n",
              "      <td>2015.0</td>\n",
              "      <td>17305.0</td>\n",
              "      <td>682.78</td>\n",
              "      <td>NaN</td>\n",
              "      <td>NaN</td>\n",
              "      <td>6.111001e+13</td>\n",
              "      <td>-0.0566</td>\n",
              "      <td>2016-06-07</td>\n",
              "    </tr>\n",
              "    <tr>\n",
              "      <th>4</th>\n",
              "      <td>17109604</td>\n",
              "      <td>NaN</td>\n",
              "      <td>NaN</td>\n",
              "      <td>NaN</td>\n",
              "      <td>2.5</td>\n",
              "      <td>4.0</td>\n",
              "      <td>NaN</td>\n",
              "      <td>NaN</td>\n",
              "      <td>2.5</td>\n",
              "      <td>NaN</td>\n",
              "      <td>1305.0</td>\n",
              "      <td>2415.0</td>\n",
              "      <td>2415.0</td>\n",
              "      <td>NaN</td>\n",
              "      <td>NaN</td>\n",
              "      <td>1305.0</td>\n",
              "      <td>NaN</td>\n",
              "      <td>6111.0</td>\n",
              "      <td>1.0</td>\n",
              "      <td>2.0</td>\n",
              "      <td>2.0</td>\n",
              "      <td>665.0</td>\n",
              "      <td>NaN</td>\n",
              "      <td>NaN</td>\n",
              "      <td>34266578.0</td>\n",
              "      <td>-119165392.0</td>\n",
              "      <td>6326.0</td>\n",
              "      <td>NaN</td>\n",
              "      <td>NaN</td>\n",
              "      <td>NaN</td>\n",
              "      <td>NaN</td>\n",
              "      <td>NaN</td>\n",
              "      <td>1111</td>\n",
              "      <td>261.0</td>\n",
              "      <td>NaN</td>\n",
              "      <td>6.111001e+07</td>\n",
              "      <td>34543.0</td>\n",
              "      <td>2061.0</td>\n",
              "      <td>NaN</td>\n",
              "      <td>97084.0</td>\n",
              "      <td>8.0</td>\n",
              "      <td>NaN</td>\n",
              "      <td>1.0</td>\n",
              "      <td>NaN</td>\n",
              "      <td>NaN</td>\n",
              "      <td>NaN</td>\n",
              "      <td>NaN</td>\n",
              "      <td>1984.0</td>\n",
              "      <td>2.0</td>\n",
              "      <td>NaN</td>\n",
              "      <td>277000.0</td>\n",
              "      <td>554000.0</td>\n",
              "      <td>2015.0</td>\n",
              "      <td>277000.0</td>\n",
              "      <td>5886.92</td>\n",
              "      <td>NaN</td>\n",
              "      <td>NaN</td>\n",
              "      <td>6.111001e+13</td>\n",
              "      <td>0.0573</td>\n",
              "      <td>2016-08-08</td>\n",
              "    </tr>\n",
              "  </tbody>\n",
              "</table>\n",
              "</div>"
            ],
            "text/plain": [
              "   parcelid  airconditioningtypeid  ...  logerror  transactiondate\n",
              "0  17073783                    NaN  ...    0.0953       2016-01-27\n",
              "1  17088994                    NaN  ...    0.0198       2016-03-30\n",
              "2  17100444                    NaN  ...    0.0060       2016-05-27\n",
              "3  17102429                    NaN  ...   -0.0566       2016-06-07\n",
              "4  17109604                    NaN  ...    0.0573       2016-08-08\n",
              "\n",
              "[5 rows x 60 columns]"
            ]
          },
          "metadata": {
            "tags": []
          },
          "execution_count": 15
        }
      ]
    },
    {
      "cell_type": "markdown",
      "metadata": {
        "id": "YUakemSYtqJc",
        "colab_type": "text"
      },
      "source": [
        "# Definição de tipos"
      ]
    },
    {
      "cell_type": "code",
      "metadata": {
        "id": "81mSB6YZuaZZ",
        "colab_type": "code",
        "outputId": "0ee4e659-7f61-4425-d204-08b22a56378b",
        "colab": {
          "base_uri": "https://localhost:8080/",
          "height": 119
        }
      },
      "source": [
        "props['transactiondate'].head()"
      ],
      "execution_count": 0,
      "outputs": [
        {
          "output_type": "execute_result",
          "data": {
            "text/plain": [
              "0    2016-01-27\n",
              "1    2016-03-30\n",
              "2    2016-05-27\n",
              "3    2016-06-07\n",
              "4    2016-08-08\n",
              "Name: transactiondate, dtype: object"
            ]
          },
          "metadata": {
            "tags": []
          },
          "execution_count": 16
        }
      ]
    },
    {
      "cell_type": "code",
      "metadata": {
        "id": "SsbbCSLctp6E",
        "colab_type": "code",
        "colab": {}
      },
      "source": [
        "object_type = props.select_dtypes(include=['object']).columns.values\n",
        "props[object_type] = props[object_type].astype('category')\n",
        "\n",
        "#Mudar tipo da coluna transaction date para 'datetime64' e separando a data em colunas\n",
        "props['transactiondate'] = pd.to_datetime(props['transactiondate'])\n",
        "props['transaction_year'] = props['transactiondate'].dt.year\n",
        "props['transaction_month'] = props['transactiondate'].dt.month\n",
        "props['transaction_day'] = props['transactiondate'].dt.day\n",
        "props.drop(['transactiondate'], axis=1, inplace=True)"
      ],
      "execution_count": 0,
      "outputs": []
    },
    {
      "cell_type": "markdown",
      "metadata": {
        "id": "eiw9sE9gj-_1",
        "colab_type": "text"
      },
      "source": [
        "# Remoção de dados ausentes"
      ]
    },
    {
      "cell_type": "code",
      "metadata": {
        "id": "ZHeolZyuj-gp",
        "colab_type": "code",
        "colab": {}
      },
      "source": [
        "#A coluna 'fireplaceflag' não adiciona nenhuma informação útil pois o dataset já possui 'fireplacecnt', então removemos:\n",
        "props.drop(['fireplaceflag'], axis=1, inplace=True)\n",
        "\n",
        "#A coluna 'calculatedbathnbr' é uma cópia da coluna 'bathroomcnt', então removemos:\n",
        "props.drop(['calculatedbathnbr'], axis=1, inplace=True)\n",
        "\n",
        "#A coluna 'calculatedfinishedsquarefeet' é uma cópia da coluna 'finishedsquarefeet12', então removemos:\n",
        "props.drop(['calculatedfinishedsquarefeet'], axis=1, inplace=True)\n",
        "\n",
        "# Remover colunas com mais de 70% de dados ausentes\n",
        "props.dropna(thresh=0.70*len(props), axis=1, inplace=True)\n",
        "\n",
        "props.dropna(inplace=True)"
      ],
      "execution_count": 0,
      "outputs": []
    },
    {
      "cell_type": "code",
      "metadata": {
        "id": "6ejinXxNkxLT",
        "colab_type": "code",
        "outputId": "80a5d5ef-3287-47bd-e5ca-b9d34ac75910",
        "colab": {
          "base_uri": "https://localhost:8080/",
          "height": 34
        }
      },
      "source": [
        "props.shape"
      ],
      "execution_count": 0,
      "outputs": [
        {
          "output_type": "execute_result",
          "data": {
            "text/plain": [
              "(73972, 27)"
            ]
          },
          "metadata": {
            "tags": []
          },
          "execution_count": 19
        }
      ]
    },
    {
      "cell_type": "code",
      "metadata": {
        "id": "gcjaHXYOrRFZ",
        "colab_type": "code",
        "outputId": "925b0ad5-9471-4acb-e4ad-0655e29112cd",
        "colab": {
          "base_uri": "https://localhost:8080/",
          "height": 34
        }
      },
      "source": [
        "props.isnull().values.any()"
      ],
      "execution_count": 0,
      "outputs": [
        {
          "output_type": "execute_result",
          "data": {
            "text/plain": [
              "False"
            ]
          },
          "metadata": {
            "tags": []
          },
          "execution_count": 20
        }
      ]
    },
    {
      "cell_type": "code",
      "metadata": {
        "id": "1SQWloUMtNaQ",
        "colab_type": "code",
        "outputId": "5787c29c-3c4b-47db-ffd6-6321ac3c4105",
        "colab": {
          "base_uri": "https://localhost:8080/",
          "height": 224
        }
      },
      "source": [
        "props.head()"
      ],
      "execution_count": 0,
      "outputs": [
        {
          "output_type": "execute_result",
          "data": {
            "text/html": [
              "<div>\n",
              "<style scoped>\n",
              "    .dataframe tbody tr th:only-of-type {\n",
              "        vertical-align: middle;\n",
              "    }\n",
              "\n",
              "    .dataframe tbody tr th {\n",
              "        vertical-align: top;\n",
              "    }\n",
              "\n",
              "    .dataframe thead th {\n",
              "        text-align: right;\n",
              "    }\n",
              "</style>\n",
              "<table border=\"1\" class=\"dataframe\">\n",
              "  <thead>\n",
              "    <tr style=\"text-align: right;\">\n",
              "      <th></th>\n",
              "      <th>parcelid</th>\n",
              "      <th>bathroomcnt</th>\n",
              "      <th>bedroomcnt</th>\n",
              "      <th>finishedsquarefeet12</th>\n",
              "      <th>fips</th>\n",
              "      <th>fullbathcnt</th>\n",
              "      <th>latitude</th>\n",
              "      <th>longitude</th>\n",
              "      <th>lotsizesquarefeet</th>\n",
              "      <th>propertycountylandusecode</th>\n",
              "      <th>propertylandusetypeid</th>\n",
              "      <th>rawcensustractandblock</th>\n",
              "      <th>regionidcity</th>\n",
              "      <th>regionidcounty</th>\n",
              "      <th>regionidzip</th>\n",
              "      <th>roomcnt</th>\n",
              "      <th>yearbuilt</th>\n",
              "      <th>structuretaxvaluedollarcnt</th>\n",
              "      <th>taxvaluedollarcnt</th>\n",
              "      <th>assessmentyear</th>\n",
              "      <th>landtaxvaluedollarcnt</th>\n",
              "      <th>taxamount</th>\n",
              "      <th>censustractandblock</th>\n",
              "      <th>logerror</th>\n",
              "      <th>transaction_year</th>\n",
              "      <th>transaction_month</th>\n",
              "      <th>transaction_day</th>\n",
              "    </tr>\n",
              "  </thead>\n",
              "  <tbody>\n",
              "    <tr>\n",
              "      <th>0</th>\n",
              "      <td>17073783</td>\n",
              "      <td>2.5</td>\n",
              "      <td>3.0</td>\n",
              "      <td>1264.0</td>\n",
              "      <td>6111.0</td>\n",
              "      <td>2.0</td>\n",
              "      <td>34303597.0</td>\n",
              "      <td>-119287236.0</td>\n",
              "      <td>1735.0</td>\n",
              "      <td>1128</td>\n",
              "      <td>265.0</td>\n",
              "      <td>6.111002e+07</td>\n",
              "      <td>34543.0</td>\n",
              "      <td>2061.0</td>\n",
              "      <td>97081.0</td>\n",
              "      <td>5.0</td>\n",
              "      <td>1986.0</td>\n",
              "      <td>115087.0</td>\n",
              "      <td>191811.0</td>\n",
              "      <td>2015.0</td>\n",
              "      <td>76724.0</td>\n",
              "      <td>2015.06</td>\n",
              "      <td>6.111002e+13</td>\n",
              "      <td>0.0953</td>\n",
              "      <td>2016</td>\n",
              "      <td>1</td>\n",
              "      <td>27</td>\n",
              "    </tr>\n",
              "    <tr>\n",
              "      <th>2</th>\n",
              "      <td>17100444</td>\n",
              "      <td>2.0</td>\n",
              "      <td>3.0</td>\n",
              "      <td>1101.0</td>\n",
              "      <td>6111.0</td>\n",
              "      <td>2.0</td>\n",
              "      <td>34340801.0</td>\n",
              "      <td>-119079610.0</td>\n",
              "      <td>6569.0</td>\n",
              "      <td>1111</td>\n",
              "      <td>261.0</td>\n",
              "      <td>6.111001e+07</td>\n",
              "      <td>26965.0</td>\n",
              "      <td>2061.0</td>\n",
              "      <td>97113.0</td>\n",
              "      <td>5.0</td>\n",
              "      <td>1956.0</td>\n",
              "      <td>33619.0</td>\n",
              "      <td>47853.0</td>\n",
              "      <td>2015.0</td>\n",
              "      <td>14234.0</td>\n",
              "      <td>591.64</td>\n",
              "      <td>6.111001e+13</td>\n",
              "      <td>0.0060</td>\n",
              "      <td>2016</td>\n",
              "      <td>5</td>\n",
              "      <td>27</td>\n",
              "    </tr>\n",
              "    <tr>\n",
              "      <th>3</th>\n",
              "      <td>17102429</td>\n",
              "      <td>1.5</td>\n",
              "      <td>2.0</td>\n",
              "      <td>1554.0</td>\n",
              "      <td>6111.0</td>\n",
              "      <td>1.0</td>\n",
              "      <td>34354313.0</td>\n",
              "      <td>-119076405.0</td>\n",
              "      <td>7400.0</td>\n",
              "      <td>1110</td>\n",
              "      <td>261.0</td>\n",
              "      <td>6.111001e+07</td>\n",
              "      <td>26965.0</td>\n",
              "      <td>2061.0</td>\n",
              "      <td>97113.0</td>\n",
              "      <td>5.0</td>\n",
              "      <td>1965.0</td>\n",
              "      <td>45609.0</td>\n",
              "      <td>62914.0</td>\n",
              "      <td>2015.0</td>\n",
              "      <td>17305.0</td>\n",
              "      <td>682.78</td>\n",
              "      <td>6.111001e+13</td>\n",
              "      <td>-0.0566</td>\n",
              "      <td>2016</td>\n",
              "      <td>6</td>\n",
              "      <td>7</td>\n",
              "    </tr>\n",
              "    <tr>\n",
              "      <th>4</th>\n",
              "      <td>17109604</td>\n",
              "      <td>2.5</td>\n",
              "      <td>4.0</td>\n",
              "      <td>2415.0</td>\n",
              "      <td>6111.0</td>\n",
              "      <td>2.0</td>\n",
              "      <td>34266578.0</td>\n",
              "      <td>-119165392.0</td>\n",
              "      <td>6326.0</td>\n",
              "      <td>1111</td>\n",
              "      <td>261.0</td>\n",
              "      <td>6.111001e+07</td>\n",
              "      <td>34543.0</td>\n",
              "      <td>2061.0</td>\n",
              "      <td>97084.0</td>\n",
              "      <td>8.0</td>\n",
              "      <td>1984.0</td>\n",
              "      <td>277000.0</td>\n",
              "      <td>554000.0</td>\n",
              "      <td>2015.0</td>\n",
              "      <td>277000.0</td>\n",
              "      <td>5886.92</td>\n",
              "      <td>6.111001e+13</td>\n",
              "      <td>0.0573</td>\n",
              "      <td>2016</td>\n",
              "      <td>8</td>\n",
              "      <td>8</td>\n",
              "    </tr>\n",
              "    <tr>\n",
              "      <th>5</th>\n",
              "      <td>17125829</td>\n",
              "      <td>2.5</td>\n",
              "      <td>4.0</td>\n",
              "      <td>2882.0</td>\n",
              "      <td>6111.0</td>\n",
              "      <td>2.0</td>\n",
              "      <td>34240014.0</td>\n",
              "      <td>-119024793.0</td>\n",
              "      <td>10000.0</td>\n",
              "      <td>1111</td>\n",
              "      <td>261.0</td>\n",
              "      <td>6.111005e+07</td>\n",
              "      <td>51239.0</td>\n",
              "      <td>2061.0</td>\n",
              "      <td>97089.0</td>\n",
              "      <td>8.0</td>\n",
              "      <td>1980.0</td>\n",
              "      <td>222070.0</td>\n",
              "      <td>289609.0</td>\n",
              "      <td>2015.0</td>\n",
              "      <td>67539.0</td>\n",
              "      <td>3110.44</td>\n",
              "      <td>6.111005e+13</td>\n",
              "      <td>0.0564</td>\n",
              "      <td>2016</td>\n",
              "      <td>8</td>\n",
              "      <td>26</td>\n",
              "    </tr>\n",
              "  </tbody>\n",
              "</table>\n",
              "</div>"
            ],
            "text/plain": [
              "   parcelid  bathroomcnt  ...  transaction_month  transaction_day\n",
              "0  17073783          2.5  ...                  1               27\n",
              "2  17100444          2.0  ...                  5               27\n",
              "3  17102429          1.5  ...                  6                7\n",
              "4  17109604          2.5  ...                  8                8\n",
              "5  17125829          2.5  ...                  8               26\n",
              "\n",
              "[5 rows x 27 columns]"
            ]
          },
          "metadata": {
            "tags": []
          },
          "execution_count": 21
        }
      ]
    },
    {
      "cell_type": "markdown",
      "metadata": {
        "id": "MdjffKml2HBz",
        "colab_type": "text"
      },
      "source": [
        "# Definição de Tipos"
      ]
    },
    {
      "cell_type": "code",
      "metadata": {
        "id": "Zbs4CV8h2G0b",
        "colab_type": "code",
        "colab": {}
      },
      "source": [
        ""
      ],
      "execution_count": 0,
      "outputs": []
    },
    {
      "cell_type": "markdown",
      "metadata": {
        "id": "Z_Tw3ltGEhJ6",
        "colab_type": "text"
      },
      "source": [
        "# Normalizando dados"
      ]
    },
    {
      "cell_type": "code",
      "metadata": {
        "id": "zMvTZICmH7k2",
        "colab_type": "code",
        "colab": {}
      },
      "source": [
        ""
      ],
      "execution_count": 0,
      "outputs": []
    },
    {
      "cell_type": "markdown",
      "metadata": {
        "id": "3jkBpRGkIAB3",
        "colab_type": "text"
      },
      "source": [
        "# Separando em conjuntos de treinamento e teste"
      ]
    },
    {
      "cell_type": "code",
      "metadata": {
        "id": "bBdWhiIbCzbB",
        "colab_type": "code",
        "colab": {}
      },
      "source": [
        "X = props.drop(['logerror'],axis=1)\n",
        "y = props['logerror']"
      ],
      "execution_count": 0,
      "outputs": []
    },
    {
      "cell_type": "code",
      "metadata": {
        "id": "0hauJVdnBzCp",
        "colab_type": "code",
        "colab": {}
      },
      "source": [
        "X_train, X_test, Y_train, Y_test = train_test_split(X, y, test_size=1/3, random_state=42)"
      ],
      "execution_count": 0,
      "outputs": []
    },
    {
      "cell_type": "markdown",
      "metadata": {
        "id": "gxL2sfGLAGJd",
        "colab_type": "text"
      },
      "source": [
        "# Linear Regressor para servir como baseline"
      ]
    },
    {
      "cell_type": "code",
      "metadata": {
        "id": "IHKJFKJp4cyc",
        "colab_type": "code",
        "colab": {}
      },
      "source": [
        "\n",
        "regressor = LinearRegression(fit_intercept=True)\n",
        "\n",
        "model = regressor.fit(X_train, Y_train)\n",
        "\n",
        "pred_LR = regressor.predict(X_test)"
      ],
      "execution_count": 0,
      "outputs": []
    },
    {
      "cell_type": "code",
      "metadata": {
        "id": "2HMKt6Ev6jUX",
        "colab_type": "code",
        "colab": {}
      },
      "source": [
        "plt.scatter(Y_test, pred_LR)\n",
        "plt.xlabel(\"True Values\")\n",
        "plt.ylabel(\"Predictions\")"
      ],
      "execution_count": 0,
      "outputs": []
    },
    {
      "cell_type": "code",
      "metadata": {
        "id": "csItSnguBiyy",
        "colab_type": "code",
        "colab": {}
      },
      "source": [
        "model.score(X_test, Y_test)\n",
        "\n",
        "mae_LR = mean_absolute_error(Y_test, pred_LR)\n",
        "print (\"Erro médio absoluto: {}\".format(mae_LR))"
      ],
      "execution_count": 0,
      "outputs": []
    },
    {
      "cell_type": "markdown",
      "metadata": {
        "id": "eBtqVZ2eGHlb",
        "colab_type": "text"
      },
      "source": [
        "# Random Forest Regressor"
      ]
    },
    {
      "cell_type": "code",
      "metadata": {
        "id": "_djHEZgZD8qr",
        "colab_type": "code",
        "colab": {}
      },
      "source": [
        "def randomForestRegressor(X_train, Y_train):\n",
        "  # Gerar conjuntos de validação-cruzada para o treinamento de dados\n",
        "  cv_sets = ShuffleSplit(n_splits=10, test_size = 0.25)\n",
        "\n",
        "  #n_estimators =10\n",
        "  rfr =  RandomForestRegressor(n_estimators=10, random_state=42)\n",
        "\n",
        "  #Gerar um dicionário para o parâmetro 'max_depth' com um alcance de 1 a 10\n",
        "  params ={'max_depth': list(range(1,10))}\n",
        "\n",
        "  #Transformar 'performance_metric' em uma função de pontuação utilizando 'make_scorer' \n",
        "  scoring_fnc = make_scorer(mean_absolute_error)\n",
        "\n",
        "  # Gerar o objeto de busca em matriz\n",
        "  grid = GridSearchCV(rfr, params, scoring=scoring_fnc, cv=cv_sets)\n",
        "\n",
        "  # Ajustar o objeto de busca em matriz com os dados para calcular o modelo ótimo\n",
        "  grid = grid.fit(X_train, Y_train)\n",
        "\n",
        "  # Escolher o melhor estimador para predizer os dados de teste\n",
        "  best_rfr = grid.best_estimator_\n",
        "\n",
        "  predictions = best_rfr.predict(X_test)\n",
        "  \n",
        "  return predictions"
      ],
      "execution_count": 0,
      "outputs": []
    },
    {
      "cell_type": "code",
      "metadata": {
        "id": "Poep35k414Nf",
        "colab_type": "code",
        "colab": {}
      },
      "source": [
        "predictions = randomForestRegressor(X_train, Y_train)"
      ],
      "execution_count": 0,
      "outputs": []
    },
    {
      "cell_type": "code",
      "metadata": {
        "id": "CoIj3EbQ_pYd",
        "colab_type": "code",
        "colab": {}
      },
      "source": [
        "#calculando o erro de uma árvore de decisão para regressão:\n",
        "mae_RFR = mean_absolute_error(Y_test, predictions)\n",
        "print (\"Erro médio absoluto: {}\".format(mae_RFR))\n",
        "\n",
        "#Acurácia do modelo\n",
        "r2_RFR = r2_score(Y_test, predictions)\n",
        "print (\"Índice R²: {}\".format(r2_RFR))"
      ],
      "execution_count": 0,
      "outputs": []
    },
    {
      "cell_type": "markdown",
      "metadata": {
        "id": "OyyNEbsQznf4",
        "colab_type": "text"
      },
      "source": [
        "# Separando dataset em relação ao munícipio com mais propriedades"
      ]
    },
    {
      "cell_type": "code",
      "metadata": {
        "id": "SnAqfei5IrAu",
        "colab_type": "code",
        "outputId": "8154b85d-edd6-47f1-8758-4e5cec479e83",
        "colab": {
          "base_uri": "https://localhost:8080/",
          "height": 34
        }
      },
      "source": [
        "props.select_dtypes(include=['category']).columns.values"
      ],
      "execution_count": 37,
      "outputs": [
        {
          "output_type": "execute_result",
          "data": {
            "text/plain": [
              "array(['propertycountylandusecode'], dtype=object)"
            ]
          },
          "metadata": {
            "tags": []
          },
          "execution_count": 37
        }
      ]
    },
    {
      "cell_type": "code",
      "metadata": {
        "id": "j5z6yyTWwa7M",
        "colab_type": "code",
        "outputId": "8ba2d381-51a5-46ba-cbdc-8adf26969275",
        "colab": {
          "base_uri": "https://localhost:8080/",
          "height": 221
        }
      },
      "source": [
        "props.propertycountylandusecode.dtype"
      ],
      "execution_count": 0,
      "outputs": [
        {
          "output_type": "execute_result",
          "data": {
            "text/plain": [
              "CategoricalDtype(categories=['0', '010', '0100', '0101', '0102', '0103', '0104', '0108',\n",
              "                  '0109', '010C', '010D', '010E', '010F', '010G', '010H',\n",
              "                  '010M', '010V', '0110', '0111', '0114', '012C', '012D',\n",
              "                  '012E', '0130', '0131', '01DC', '01DD', '01HC', '0200',\n",
              "                  '0201', '020G', '020M', '0210', '0300', '0301', '0303',\n",
              "                  '030G', '0400', '0401', '040A', '040V', '0700', '070D', '1',\n",
              "                  '100V', '1011', '1012', '1014', '105', '1110', '1111',\n",
              "                  '1112', '1116', '1117', '1128', '1129', '1200', '1210',\n",
              "                  '122', '1222', '1310', '1321', '1333', '135', '1410', '1420',\n",
              "                  '1421', '1432', '1720', '1722', '200', '34', '38', '6050',\n",
              "                  '73', '8800', '96'],\n",
              "                 ordered=False)"
            ]
          },
          "metadata": {
            "tags": []
          },
          "execution_count": 31
        }
      ]
    },
    {
      "cell_type": "code",
      "metadata": {
        "id": "XnAAOk5lvjhE",
        "colab_type": "code",
        "colab": {}
      },
      "source": [
        "print (props.propertycountylandusecode.value_counts()[props.propertycountylandusecode.value_counts() >0])"
      ],
      "execution_count": 0,
      "outputs": []
    },
    {
      "cell_type": "code",
      "metadata": {
        "id": "sx65xkHhw6ou",
        "colab_type": "code",
        "colab": {}
      },
      "source": [
        "p.propertycountylandusecode.value"
      ],
      "execution_count": 0,
      "outputs": []
    },
    {
      "cell_type": "code",
      "metadata": {
        "id": "Vbf3Bpiky8TB",
        "colab_type": "code",
        "colab": {
          "base_uri": "https://localhost:8080/",
          "height": 34
        },
        "outputId": "8658c4ce-f8fd-44f5-afb6-e894b6de6948"
      },
      "source": [
        "props.propertycountylandusecode.value_counts().argmax()"
      ],
      "execution_count": 36,
      "outputs": [
        {
          "output_type": "execute_result",
          "data": {
            "text/plain": [
              "'0100'"
            ]
          },
          "metadata": {
            "tags": []
          },
          "execution_count": 36
        }
      ]
    },
    {
      "cell_type": "code",
      "metadata": {
        "id": "nyzgzuk4y9EE",
        "colab_type": "code",
        "colab": {}
      },
      "source": [
        "props_county = props[props.propertycountylandusecode == props.propertycountylandusecode.value_counts().argmax()]"
      ],
      "execution_count": 0,
      "outputs": []
    },
    {
      "cell_type": "code",
      "metadata": {
        "id": "131T9_dqz3cO",
        "colab_type": "code",
        "colab": {
          "base_uri": "https://localhost:8080/",
          "height": 224
        },
        "outputId": "1d49f3e6-abb7-4fab-cdfe-0396dbc00ec6"
      },
      "source": [
        "props_county.head()"
      ],
      "execution_count": 40,
      "outputs": [
        {
          "output_type": "execute_result",
          "data": {
            "text/html": [
              "<div>\n",
              "<style scoped>\n",
              "    .dataframe tbody tr th:only-of-type {\n",
              "        vertical-align: middle;\n",
              "    }\n",
              "\n",
              "    .dataframe tbody tr th {\n",
              "        vertical-align: top;\n",
              "    }\n",
              "\n",
              "    .dataframe thead th {\n",
              "        text-align: right;\n",
              "    }\n",
              "</style>\n",
              "<table border=\"1\" class=\"dataframe\">\n",
              "  <thead>\n",
              "    <tr style=\"text-align: right;\">\n",
              "      <th></th>\n",
              "      <th>parcelid</th>\n",
              "      <th>bathroomcnt</th>\n",
              "      <th>bedroomcnt</th>\n",
              "      <th>finishedsquarefeet12</th>\n",
              "      <th>fips</th>\n",
              "      <th>fullbathcnt</th>\n",
              "      <th>latitude</th>\n",
              "      <th>longitude</th>\n",
              "      <th>lotsizesquarefeet</th>\n",
              "      <th>propertycountylandusecode</th>\n",
              "      <th>propertylandusetypeid</th>\n",
              "      <th>rawcensustractandblock</th>\n",
              "      <th>regionidcity</th>\n",
              "      <th>regionidcounty</th>\n",
              "      <th>regionidzip</th>\n",
              "      <th>roomcnt</th>\n",
              "      <th>yearbuilt</th>\n",
              "      <th>structuretaxvaluedollarcnt</th>\n",
              "      <th>taxvaluedollarcnt</th>\n",
              "      <th>assessmentyear</th>\n",
              "      <th>landtaxvaluedollarcnt</th>\n",
              "      <th>taxamount</th>\n",
              "      <th>censustractandblock</th>\n",
              "      <th>logerror</th>\n",
              "      <th>transaction_year</th>\n",
              "      <th>transaction_month</th>\n",
              "      <th>transaction_day</th>\n",
              "    </tr>\n",
              "  </thead>\n",
              "  <tbody>\n",
              "    <tr>\n",
              "      <th>27</th>\n",
              "      <td>10727091</td>\n",
              "      <td>2.0</td>\n",
              "      <td>3.0</td>\n",
              "      <td>1160.0</td>\n",
              "      <td>6037.0</td>\n",
              "      <td>2.0</td>\n",
              "      <td>34188121.0</td>\n",
              "      <td>-118646361.0</td>\n",
              "      <td>7688.0</td>\n",
              "      <td>0100</td>\n",
              "      <td>261.0</td>\n",
              "      <td>6.037135e+07</td>\n",
              "      <td>12447.0</td>\n",
              "      <td>3101.0</td>\n",
              "      <td>96342.0</td>\n",
              "      <td>0.0</td>\n",
              "      <td>1960.0</td>\n",
              "      <td>105045.0</td>\n",
              "      <td>437584.0</td>\n",
              "      <td>2015.0</td>\n",
              "      <td>332539.0</td>\n",
              "      <td>5421.96</td>\n",
              "      <td>6.037135e+13</td>\n",
              "      <td>0.0030</td>\n",
              "      <td>2016</td>\n",
              "      <td>10</td>\n",
              "      <td>14</td>\n",
              "    </tr>\n",
              "    <tr>\n",
              "      <th>28</th>\n",
              "      <td>10730788</td>\n",
              "      <td>2.0</td>\n",
              "      <td>4.0</td>\n",
              "      <td>1570.0</td>\n",
              "      <td>6037.0</td>\n",
              "      <td>2.0</td>\n",
              "      <td>34188446.0</td>\n",
              "      <td>-118616724.0</td>\n",
              "      <td>11308.0</td>\n",
              "      <td>0100</td>\n",
              "      <td>261.0</td>\n",
              "      <td>6.037135e+07</td>\n",
              "      <td>12447.0</td>\n",
              "      <td>3101.0</td>\n",
              "      <td>96342.0</td>\n",
              "      <td>0.0</td>\n",
              "      <td>1959.0</td>\n",
              "      <td>115379.0</td>\n",
              "      <td>397138.0</td>\n",
              "      <td>2015.0</td>\n",
              "      <td>281759.0</td>\n",
              "      <td>5097.78</td>\n",
              "      <td>6.037135e+13</td>\n",
              "      <td>-0.0020</td>\n",
              "      <td>2016</td>\n",
              "      <td>7</td>\n",
              "      <td>1</td>\n",
              "    </tr>\n",
              "    <tr>\n",
              "      <th>32</th>\n",
              "      <td>10760933</td>\n",
              "      <td>2.0</td>\n",
              "      <td>4.0</td>\n",
              "      <td>1212.0</td>\n",
              "      <td>6037.0</td>\n",
              "      <td>2.0</td>\n",
              "      <td>34220631.0</td>\n",
              "      <td>-118521001.0</td>\n",
              "      <td>7379.0</td>\n",
              "      <td>0100</td>\n",
              "      <td>261.0</td>\n",
              "      <td>6.037131e+07</td>\n",
              "      <td>12447.0</td>\n",
              "      <td>3101.0</td>\n",
              "      <td>96355.0</td>\n",
              "      <td>0.0</td>\n",
              "      <td>1954.0</td>\n",
              "      <td>32615.0</td>\n",
              "      <td>56867.0</td>\n",
              "      <td>2015.0</td>\n",
              "      <td>24252.0</td>\n",
              "      <td>4560.02</td>\n",
              "      <td>6.037131e+13</td>\n",
              "      <td>-0.1244</td>\n",
              "      <td>2016</td>\n",
              "      <td>6</td>\n",
              "      <td>27</td>\n",
              "    </tr>\n",
              "    <tr>\n",
              "      <th>33</th>\n",
              "      <td>10772282</td>\n",
              "      <td>3.0</td>\n",
              "      <td>4.0</td>\n",
              "      <td>2597.0</td>\n",
              "      <td>6037.0</td>\n",
              "      <td>3.0</td>\n",
              "      <td>34209413.0</td>\n",
              "      <td>-118578052.0</td>\n",
              "      <td>10537.0</td>\n",
              "      <td>0100</td>\n",
              "      <td>261.0</td>\n",
              "      <td>6.037134e+07</td>\n",
              "      <td>12447.0</td>\n",
              "      <td>3101.0</td>\n",
              "      <td>96341.0</td>\n",
              "      <td>0.0</td>\n",
              "      <td>1964.0</td>\n",
              "      <td>234987.0</td>\n",
              "      <td>391643.0</td>\n",
              "      <td>2015.0</td>\n",
              "      <td>156656.0</td>\n",
              "      <td>4998.86</td>\n",
              "      <td>6.037134e+13</td>\n",
              "      <td>0.0545</td>\n",
              "      <td>2016</td>\n",
              "      <td>4</td>\n",
              "      <td>15</td>\n",
              "    </tr>\n",
              "    <tr>\n",
              "      <th>34</th>\n",
              "      <td>10783331</td>\n",
              "      <td>2.0</td>\n",
              "      <td>3.0</td>\n",
              "      <td>1742.0</td>\n",
              "      <td>6037.0</td>\n",
              "      <td>2.0</td>\n",
              "      <td>34185891.0</td>\n",
              "      <td>-118550426.0</td>\n",
              "      <td>7076.0</td>\n",
              "      <td>0100</td>\n",
              "      <td>261.0</td>\n",
              "      <td>6.037133e+07</td>\n",
              "      <td>12447.0</td>\n",
              "      <td>3101.0</td>\n",
              "      <td>96364.0</td>\n",
              "      <td>0.0</td>\n",
              "      <td>1953.0</td>\n",
              "      <td>192864.0</td>\n",
              "      <td>471448.0</td>\n",
              "      <td>2015.0</td>\n",
              "      <td>278584.0</td>\n",
              "      <td>5784.98</td>\n",
              "      <td>6.037133e+13</td>\n",
              "      <td>0.0070</td>\n",
              "      <td>2016</td>\n",
              "      <td>2</td>\n",
              "      <td>25</td>\n",
              "    </tr>\n",
              "  </tbody>\n",
              "</table>\n",
              "</div>"
            ],
            "text/plain": [
              "    parcelid  bathroomcnt  ...  transaction_month  transaction_day\n",
              "27  10727091          2.0  ...                 10               14\n",
              "28  10730788          2.0  ...                  7                1\n",
              "32  10760933          2.0  ...                  6               27\n",
              "33  10772282          3.0  ...                  4               15\n",
              "34  10783331          2.0  ...                  2               25\n",
              "\n",
              "[5 rows x 27 columns]"
            ]
          },
          "metadata": {
            "tags": []
          },
          "execution_count": 40
        }
      ]
    },
    {
      "cell_type": "code",
      "metadata": {
        "id": "AtN28xgnz4sy",
        "colab_type": "code",
        "colab": {}
      },
      "source": [
        ""
      ],
      "execution_count": 0,
      "outputs": []
    }
  ]
}