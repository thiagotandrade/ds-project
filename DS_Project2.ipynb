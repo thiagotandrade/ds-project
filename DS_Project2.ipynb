{
 "cells": [
  {
   "cell_type": "markdown",
   "metadata": {},
   "source": [
    "# Projeto 2 - Data Science 2019.1"
   ]
  },
  {
   "cell_type": "markdown",
   "metadata": {},
   "source": [
    "## Compilação de resultados das predições submetidas\n",
    "\n",
    "### XGBoost: \n",
    "Baseline:<br/>\n",
    "    Private Score: 0.12437<br/>\n",
    "    Public Score: 0.11853<br/><br/>\n",
    "Gridsearch:\n",
    "1. Version 1\n",
    "    * Private Score: 0.11582\n",
    "    * Public Score: 0.10853\n",
    "2. Version 2\n",
    "    * Private Score: 0.09201\n",
    "    * Public Score: 0.08213\n",
    "\n",
    "### Random Forest:\n",
    "Baseline:<br/>\n",
    "    Private Score: 0.15999<br/>\n",
    "    Public Score: 0.15315<br/><br/>\n",
    "Gridsearch:\n",
    "1. Version 1\n",
    "    * Private Score: 0.14568\n",
    "    * Public Score: 0.14060\n",
    "\n",
    "### Linear Regressor:\n",
    "Baseline:<br/>\n",
    "Private Score: 1.36184<br/>\n",
    "Public Score: 1.11183"
   ]
  },
  {
   "cell_type": "code",
   "execution_count": 1,
   "metadata": {},
   "outputs": [],
   "source": [
    "# Variável para indicar para qual modelo se deseja realizar grid search.\n",
    "# Por limitações do kernel do kaggle, fazer o grid search apenas de um modelo por vez.\n",
    "#    \"RFR\"      -> Random Forest Regressor grid search\n",
    "#    \"XGB\"      -> XGBoost Regressor grid search\n",
    "#    \"TPOT\"     -> TPOT Regressor\n",
    "#    \"MLPR\"     -> MLP Regressor grid search\n",
    "#    \"Default\"  -> Executar os modelos com os parâmetros padrão (sem grid search)\n",
    "#    \"Best\"     -> Executar os melhores modelos de acordo com grid search anteriores\n",
    "grid_search = \"Best\""
   ]
  },
  {
   "cell_type": "code",
   "execution_count": 2,
   "metadata": {
    "_cell_guid": "b1076dfc-b9ad-4769-8c92-a6c4dae69d19",
    "_uuid": "8f2839f25d086af736a60e9eeb907d3b93b6e0e5"
   },
   "outputs": [],
   "source": [
    "import os\n",
    "import warnings\n",
    "import gc\n",
    "import xgboost\n",
    "\n",
    "import numpy as np\n",
    "import pandas as pd\n",
    "import matplotlib.pyplot as plt\n",
    "import seaborn as sns \n",
    "import datetime as dt\n",
    "\n",
    "from sklearn.linear_model import LinearRegression\n",
    "from sklearn.ensemble import RandomForestRegressor\n",
    "from sklearn.model_selection import GridSearchCV, RandomizedSearchCV, ShuffleSplit, train_test_split\n",
    "from sklearn.metrics import make_scorer, mean_absolute_error, r2_score\n",
    "from xgboost.sklearn import XGBRegressor\n",
    "from sklearn.svm import LinearSVR\n",
    "\n",
    "%matplotlib inline\n",
    "warnings.filterwarnings(\"ignore\")"
   ]
  },
  {
   "cell_type": "markdown",
   "metadata": {},
   "source": [
    "# Carregando Datasets"
   ]
  },
  {
   "cell_type": "code",
   "execution_count": 3,
   "metadata": {},
   "outputs": [],
   "source": [
    "properties2016 = pd.read_csv('../input/properties_2016.csv', low_memory = False)\n",
    "properties2017 = pd.read_csv('../input/properties_2017.csv', low_memory = False)"
   ]
  },
  {
   "cell_type": "code",
   "execution_count": 4,
   "metadata": {},
   "outputs": [],
   "source": [
    "def changeToFloat32(properties):\n",
    "    for c, dtype in zip(properties.columns, properties.dtypes):\n",
    "        if dtype == np.float64:\n",
    "            properties[c] = properties[c].astype(np.float32)"
   ]
  },
  {
   "cell_type": "code",
   "execution_count": 5,
   "metadata": {},
   "outputs": [],
   "source": [
    "changeToFloat32(properties2016)\n",
    "changeToFloat32(properties2017)"
   ]
  },
  {
   "cell_type": "code",
   "execution_count": 6,
   "metadata": {},
   "outputs": [],
   "source": [
    "train2016 = pd.read_csv('../input/train_2016_v2.csv', parse_dates=['transactiondate'], low_memory=False)\n",
    "train2017 = pd.read_csv('../input/train_2017.csv', parse_dates=['transactiondate'], low_memory=False)"
   ]
  },
  {
   "cell_type": "code",
   "execution_count": 7,
   "metadata": {},
   "outputs": [],
   "source": [
    "sample_submission = pd.read_csv('../input/sample_submission.csv', low_memory = False)"
   ]
  },
  {
   "cell_type": "markdown",
   "metadata": {},
   "source": [
    "# Análise de dados"
   ]
  },
  {
   "cell_type": "markdown",
   "metadata": {},
   "source": [
    "## Função para adicionar features envolvendo datas"
   ]
  },
  {
   "cell_type": "code",
   "execution_count": 8,
   "metadata": {},
   "outputs": [],
   "source": [
    "def add_date_features(df):\n",
    "    df[\"transaction_year\"] = df[\"transactiondate\"].dt.year\n",
    "    df[\"transaction_month\"] = (df[\"transactiondate\"].dt.year - 2016)*12 + df[\"transactiondate\"].dt.month\n",
    "    df[\"transaction_day\"] = df[\"transactiondate\"].dt.day\n",
    "    df[\"transaction_quarter\"] = (df[\"transactiondate\"].dt.year - 2016)*4 +df[\"transactiondate\"].dt.quarter\n",
    "    df.drop([\"transactiondate\"], inplace=True, axis=1)\n",
    "    return df"
   ]
  },
  {
   "cell_type": "markdown",
   "metadata": {},
   "source": [
    "## Removendo colunas que não agregam informações novas"
   ]
  },
  {
   "cell_type": "code",
   "execution_count": 9,
   "metadata": {},
   "outputs": [],
   "source": [
    "dropcols = ['finishedsquarefeet12', 'finishedsquarefeet13'\\\n",
    "            ,'finishedsquarefeet15', 'finishedsquarefeet6'\\\n",
    "            ,'finishedsquarefeet50', 'fullbathcnt', 'calculatedbathnbr']\n",
    "\n",
    "properties2016.drop(dropcols, axis=1, inplace=True)\n",
    "properties2017.drop(dropcols, axis=1, inplace=True)"
   ]
  },
  {
   "cell_type": "markdown",
   "metadata": {},
   "source": [
    "# Configurando dataframes de treinamento e teste"
   ]
  },
  {
   "cell_type": "code",
   "execution_count": 10,
   "metadata": {},
   "outputs": [],
   "source": [
    "train2016 = add_date_features(train2016)\n",
    "train2017 = add_date_features(train2017)"
   ]
  },
  {
   "cell_type": "markdown",
   "metadata": {},
   "source": [
    "### Fazendo o merge dos dados das propriedades com os dados de treinamento"
   ]
  },
  {
   "cell_type": "code",
   "execution_count": 11,
   "metadata": {},
   "outputs": [],
   "source": [
    "train2016 = pd.merge(train2016, properties2016, how = 'left', on = 'parcelid')\n",
    "train2017 = pd.merge(train2017, properties2017, how = 'left', on = 'parcelid')"
   ]
  },
  {
   "cell_type": "code",
   "execution_count": 12,
   "metadata": {},
   "outputs": [
    {
     "data": {
      "text/html": [
       "<div>\n",
       "<style scoped>\n",
       "    .dataframe tbody tr th:only-of-type {\n",
       "        vertical-align: middle;\n",
       "    }\n",
       "\n",
       "    .dataframe tbody tr th {\n",
       "        vertical-align: top;\n",
       "    }\n",
       "\n",
       "    .dataframe thead th {\n",
       "        text-align: right;\n",
       "    }\n",
       "</style>\n",
       "<table border=\"1\" class=\"dataframe\">\n",
       "  <thead>\n",
       "    <tr style=\"text-align: right;\">\n",
       "      <th></th>\n",
       "      <th>parcelid</th>\n",
       "      <th>logerror</th>\n",
       "      <th>transaction_year</th>\n",
       "      <th>transaction_month</th>\n",
       "      <th>transaction_day</th>\n",
       "      <th>transaction_quarter</th>\n",
       "      <th>airconditioningtypeid</th>\n",
       "      <th>architecturalstyletypeid</th>\n",
       "      <th>basementsqft</th>\n",
       "      <th>bathroomcnt</th>\n",
       "      <th>bedroomcnt</th>\n",
       "      <th>buildingclasstypeid</th>\n",
       "      <th>buildingqualitytypeid</th>\n",
       "      <th>decktypeid</th>\n",
       "      <th>finishedfloor1squarefeet</th>\n",
       "      <th>calculatedfinishedsquarefeet</th>\n",
       "      <th>fips</th>\n",
       "      <th>fireplacecnt</th>\n",
       "      <th>garagecarcnt</th>\n",
       "      <th>garagetotalsqft</th>\n",
       "      <th>hashottuborspa</th>\n",
       "      <th>heatingorsystemtypeid</th>\n",
       "      <th>latitude</th>\n",
       "      <th>longitude</th>\n",
       "      <th>lotsizesquarefeet</th>\n",
       "      <th>poolcnt</th>\n",
       "      <th>poolsizesum</th>\n",
       "      <th>pooltypeid10</th>\n",
       "      <th>pooltypeid2</th>\n",
       "      <th>pooltypeid7</th>\n",
       "      <th>propertycountylandusecode</th>\n",
       "      <th>propertylandusetypeid</th>\n",
       "      <th>propertyzoningdesc</th>\n",
       "      <th>rawcensustractandblock</th>\n",
       "      <th>regionidcity</th>\n",
       "      <th>regionidcounty</th>\n",
       "      <th>regionidneighborhood</th>\n",
       "      <th>regionidzip</th>\n",
       "      <th>roomcnt</th>\n",
       "      <th>storytypeid</th>\n",
       "      <th>threequarterbathnbr</th>\n",
       "      <th>typeconstructiontypeid</th>\n",
       "      <th>unitcnt</th>\n",
       "      <th>yardbuildingsqft17</th>\n",
       "      <th>yardbuildingsqft26</th>\n",
       "      <th>yearbuilt</th>\n",
       "      <th>numberofstories</th>\n",
       "      <th>fireplaceflag</th>\n",
       "      <th>structuretaxvaluedollarcnt</th>\n",
       "      <th>taxvaluedollarcnt</th>\n",
       "      <th>assessmentyear</th>\n",
       "      <th>landtaxvaluedollarcnt</th>\n",
       "      <th>taxamount</th>\n",
       "      <th>taxdelinquencyflag</th>\n",
       "      <th>taxdelinquencyyear</th>\n",
       "      <th>censustractandblock</th>\n",
       "    </tr>\n",
       "  </thead>\n",
       "  <tbody>\n",
       "    <tr>\n",
       "      <th>0</th>\n",
       "      <td>11016594</td>\n",
       "      <td>0.0276</td>\n",
       "      <td>2016</td>\n",
       "      <td>1</td>\n",
       "      <td>1</td>\n",
       "      <td>1</td>\n",
       "      <td>1.0</td>\n",
       "      <td>NaN</td>\n",
       "      <td>NaN</td>\n",
       "      <td>2.0</td>\n",
       "      <td>3.0</td>\n",
       "      <td>NaN</td>\n",
       "      <td>4.0</td>\n",
       "      <td>NaN</td>\n",
       "      <td>NaN</td>\n",
       "      <td>1684.0</td>\n",
       "      <td>6037.0</td>\n",
       "      <td>NaN</td>\n",
       "      <td>NaN</td>\n",
       "      <td>NaN</td>\n",
       "      <td>NaN</td>\n",
       "      <td>2.0</td>\n",
       "      <td>34280992.0</td>\n",
       "      <td>-118488536.0</td>\n",
       "      <td>7528.0</td>\n",
       "      <td>NaN</td>\n",
       "      <td>NaN</td>\n",
       "      <td>NaN</td>\n",
       "      <td>NaN</td>\n",
       "      <td>NaN</td>\n",
       "      <td>0100</td>\n",
       "      <td>261.0</td>\n",
       "      <td>LARS</td>\n",
       "      <td>60371068.0</td>\n",
       "      <td>12447.0</td>\n",
       "      <td>3101.0</td>\n",
       "      <td>31817.0</td>\n",
       "      <td>96370.0</td>\n",
       "      <td>0.0</td>\n",
       "      <td>NaN</td>\n",
       "      <td>NaN</td>\n",
       "      <td>NaN</td>\n",
       "      <td>1.0</td>\n",
       "      <td>NaN</td>\n",
       "      <td>NaN</td>\n",
       "      <td>1959.0</td>\n",
       "      <td>NaN</td>\n",
       "      <td>NaN</td>\n",
       "      <td>122754.0</td>\n",
       "      <td>360170.0</td>\n",
       "      <td>2015.0</td>\n",
       "      <td>237416.0</td>\n",
       "      <td>6735.879883</td>\n",
       "      <td>NaN</td>\n",
       "      <td>NaN</td>\n",
       "      <td>6.037107e+13</td>\n",
       "    </tr>\n",
       "    <tr>\n",
       "      <th>1</th>\n",
       "      <td>14366692</td>\n",
       "      <td>-0.1684</td>\n",
       "      <td>2016</td>\n",
       "      <td>1</td>\n",
       "      <td>1</td>\n",
       "      <td>1</td>\n",
       "      <td>NaN</td>\n",
       "      <td>NaN</td>\n",
       "      <td>NaN</td>\n",
       "      <td>3.5</td>\n",
       "      <td>4.0</td>\n",
       "      <td>NaN</td>\n",
       "      <td>NaN</td>\n",
       "      <td>NaN</td>\n",
       "      <td>NaN</td>\n",
       "      <td>2263.0</td>\n",
       "      <td>6059.0</td>\n",
       "      <td>NaN</td>\n",
       "      <td>2.0</td>\n",
       "      <td>468.0</td>\n",
       "      <td>NaN</td>\n",
       "      <td>NaN</td>\n",
       "      <td>33668120.0</td>\n",
       "      <td>-117677552.0</td>\n",
       "      <td>3643.0</td>\n",
       "      <td>NaN</td>\n",
       "      <td>NaN</td>\n",
       "      <td>NaN</td>\n",
       "      <td>NaN</td>\n",
       "      <td>NaN</td>\n",
       "      <td>1</td>\n",
       "      <td>261.0</td>\n",
       "      <td>NaN</td>\n",
       "      <td>60590524.0</td>\n",
       "      <td>32380.0</td>\n",
       "      <td>1286.0</td>\n",
       "      <td>NaN</td>\n",
       "      <td>96962.0</td>\n",
       "      <td>0.0</td>\n",
       "      <td>NaN</td>\n",
       "      <td>1.0</td>\n",
       "      <td>NaN</td>\n",
       "      <td>NaN</td>\n",
       "      <td>NaN</td>\n",
       "      <td>NaN</td>\n",
       "      <td>2014.0</td>\n",
       "      <td>NaN</td>\n",
       "      <td>NaN</td>\n",
       "      <td>346458.0</td>\n",
       "      <td>585529.0</td>\n",
       "      <td>2015.0</td>\n",
       "      <td>239071.0</td>\n",
       "      <td>10153.019531</td>\n",
       "      <td>NaN</td>\n",
       "      <td>NaN</td>\n",
       "      <td>NaN</td>\n",
       "    </tr>\n",
       "    <tr>\n",
       "      <th>2</th>\n",
       "      <td>12098116</td>\n",
       "      <td>-0.0040</td>\n",
       "      <td>2016</td>\n",
       "      <td>1</td>\n",
       "      <td>1</td>\n",
       "      <td>1</td>\n",
       "      <td>1.0</td>\n",
       "      <td>NaN</td>\n",
       "      <td>NaN</td>\n",
       "      <td>3.0</td>\n",
       "      <td>2.0</td>\n",
       "      <td>NaN</td>\n",
       "      <td>4.0</td>\n",
       "      <td>NaN</td>\n",
       "      <td>NaN</td>\n",
       "      <td>2217.0</td>\n",
       "      <td>6037.0</td>\n",
       "      <td>NaN</td>\n",
       "      <td>NaN</td>\n",
       "      <td>NaN</td>\n",
       "      <td>NaN</td>\n",
       "      <td>2.0</td>\n",
       "      <td>34136312.0</td>\n",
       "      <td>-118175032.0</td>\n",
       "      <td>11423.0</td>\n",
       "      <td>NaN</td>\n",
       "      <td>NaN</td>\n",
       "      <td>NaN</td>\n",
       "      <td>NaN</td>\n",
       "      <td>NaN</td>\n",
       "      <td>0100</td>\n",
       "      <td>261.0</td>\n",
       "      <td>PSR6</td>\n",
       "      <td>60374640.0</td>\n",
       "      <td>47019.0</td>\n",
       "      <td>3101.0</td>\n",
       "      <td>275411.0</td>\n",
       "      <td>96293.0</td>\n",
       "      <td>0.0</td>\n",
       "      <td>NaN</td>\n",
       "      <td>NaN</td>\n",
       "      <td>NaN</td>\n",
       "      <td>1.0</td>\n",
       "      <td>NaN</td>\n",
       "      <td>NaN</td>\n",
       "      <td>1940.0</td>\n",
       "      <td>NaN</td>\n",
       "      <td>NaN</td>\n",
       "      <td>61994.0</td>\n",
       "      <td>119906.0</td>\n",
       "      <td>2015.0</td>\n",
       "      <td>57912.0</td>\n",
       "      <td>11484.480469</td>\n",
       "      <td>NaN</td>\n",
       "      <td>NaN</td>\n",
       "      <td>6.037464e+13</td>\n",
       "    </tr>\n",
       "    <tr>\n",
       "      <th>3</th>\n",
       "      <td>12643413</td>\n",
       "      <td>0.0218</td>\n",
       "      <td>2016</td>\n",
       "      <td>1</td>\n",
       "      <td>2</td>\n",
       "      <td>1</td>\n",
       "      <td>1.0</td>\n",
       "      <td>NaN</td>\n",
       "      <td>NaN</td>\n",
       "      <td>2.0</td>\n",
       "      <td>2.0</td>\n",
       "      <td>NaN</td>\n",
       "      <td>4.0</td>\n",
       "      <td>NaN</td>\n",
       "      <td>NaN</td>\n",
       "      <td>839.0</td>\n",
       "      <td>6037.0</td>\n",
       "      <td>NaN</td>\n",
       "      <td>NaN</td>\n",
       "      <td>NaN</td>\n",
       "      <td>NaN</td>\n",
       "      <td>2.0</td>\n",
       "      <td>33755800.0</td>\n",
       "      <td>-118309000.0</td>\n",
       "      <td>70859.0</td>\n",
       "      <td>NaN</td>\n",
       "      <td>NaN</td>\n",
       "      <td>NaN</td>\n",
       "      <td>NaN</td>\n",
       "      <td>NaN</td>\n",
       "      <td>010C</td>\n",
       "      <td>266.0</td>\n",
       "      <td>LAR3</td>\n",
       "      <td>60372964.0</td>\n",
       "      <td>12447.0</td>\n",
       "      <td>3101.0</td>\n",
       "      <td>54300.0</td>\n",
       "      <td>96222.0</td>\n",
       "      <td>0.0</td>\n",
       "      <td>NaN</td>\n",
       "      <td>NaN</td>\n",
       "      <td>NaN</td>\n",
       "      <td>1.0</td>\n",
       "      <td>NaN</td>\n",
       "      <td>NaN</td>\n",
       "      <td>1987.0</td>\n",
       "      <td>NaN</td>\n",
       "      <td>NaN</td>\n",
       "      <td>171518.0</td>\n",
       "      <td>244880.0</td>\n",
       "      <td>2015.0</td>\n",
       "      <td>73362.0</td>\n",
       "      <td>3048.739990</td>\n",
       "      <td>NaN</td>\n",
       "      <td>NaN</td>\n",
       "      <td>6.037296e+13</td>\n",
       "    </tr>\n",
       "    <tr>\n",
       "      <th>4</th>\n",
       "      <td>14432541</td>\n",
       "      <td>-0.0050</td>\n",
       "      <td>2016</td>\n",
       "      <td>1</td>\n",
       "      <td>2</td>\n",
       "      <td>1</td>\n",
       "      <td>NaN</td>\n",
       "      <td>NaN</td>\n",
       "      <td>NaN</td>\n",
       "      <td>2.5</td>\n",
       "      <td>4.0</td>\n",
       "      <td>NaN</td>\n",
       "      <td>NaN</td>\n",
       "      <td>NaN</td>\n",
       "      <td>NaN</td>\n",
       "      <td>2283.0</td>\n",
       "      <td>6059.0</td>\n",
       "      <td>NaN</td>\n",
       "      <td>2.0</td>\n",
       "      <td>598.0</td>\n",
       "      <td>NaN</td>\n",
       "      <td>NaN</td>\n",
       "      <td>33485644.0</td>\n",
       "      <td>-117700232.0</td>\n",
       "      <td>6000.0</td>\n",
       "      <td>1.0</td>\n",
       "      <td>NaN</td>\n",
       "      <td>NaN</td>\n",
       "      <td>NaN</td>\n",
       "      <td>1.0</td>\n",
       "      <td>122</td>\n",
       "      <td>261.0</td>\n",
       "      <td>NaN</td>\n",
       "      <td>60590424.0</td>\n",
       "      <td>17686.0</td>\n",
       "      <td>1286.0</td>\n",
       "      <td>NaN</td>\n",
       "      <td>96961.0</td>\n",
       "      <td>8.0</td>\n",
       "      <td>NaN</td>\n",
       "      <td>1.0</td>\n",
       "      <td>NaN</td>\n",
       "      <td>NaN</td>\n",
       "      <td>NaN</td>\n",
       "      <td>NaN</td>\n",
       "      <td>1981.0</td>\n",
       "      <td>2.0</td>\n",
       "      <td>NaN</td>\n",
       "      <td>169574.0</td>\n",
       "      <td>434551.0</td>\n",
       "      <td>2015.0</td>\n",
       "      <td>264977.0</td>\n",
       "      <td>5488.959961</td>\n",
       "      <td>NaN</td>\n",
       "      <td>NaN</td>\n",
       "      <td>6.059042e+13</td>\n",
       "    </tr>\n",
       "  </tbody>\n",
       "</table>\n",
       "</div>"
      ],
      "text/plain": [
       "   parcelid         ...           censustractandblock\n",
       "0  11016594         ...                  6.037107e+13\n",
       "1  14366692         ...                           NaN\n",
       "2  12098116         ...                  6.037464e+13\n",
       "3  12643413         ...                  6.037296e+13\n",
       "4  14432541         ...                  6.059042e+13\n",
       "\n",
       "[5 rows x 56 columns]"
      ]
     },
     "execution_count": 12,
     "metadata": {},
     "output_type": "execute_result"
    }
   ],
   "source": [
    "train2016.head()"
   ]
  },
  {
   "cell_type": "code",
   "execution_count": 13,
   "metadata": {},
   "outputs": [
    {
     "data": {
      "text/html": [
       "<div>\n",
       "<style scoped>\n",
       "    .dataframe tbody tr th:only-of-type {\n",
       "        vertical-align: middle;\n",
       "    }\n",
       "\n",
       "    .dataframe tbody tr th {\n",
       "        vertical-align: top;\n",
       "    }\n",
       "\n",
       "    .dataframe thead th {\n",
       "        text-align: right;\n",
       "    }\n",
       "</style>\n",
       "<table border=\"1\" class=\"dataframe\">\n",
       "  <thead>\n",
       "    <tr style=\"text-align: right;\">\n",
       "      <th></th>\n",
       "      <th>parcelid</th>\n",
       "      <th>logerror</th>\n",
       "      <th>transaction_year</th>\n",
       "      <th>transaction_month</th>\n",
       "      <th>transaction_day</th>\n",
       "      <th>transaction_quarter</th>\n",
       "      <th>airconditioningtypeid</th>\n",
       "      <th>architecturalstyletypeid</th>\n",
       "      <th>basementsqft</th>\n",
       "      <th>bathroomcnt</th>\n",
       "      <th>bedroomcnt</th>\n",
       "      <th>buildingclasstypeid</th>\n",
       "      <th>buildingqualitytypeid</th>\n",
       "      <th>decktypeid</th>\n",
       "      <th>finishedfloor1squarefeet</th>\n",
       "      <th>calculatedfinishedsquarefeet</th>\n",
       "      <th>fips</th>\n",
       "      <th>fireplacecnt</th>\n",
       "      <th>garagecarcnt</th>\n",
       "      <th>garagetotalsqft</th>\n",
       "      <th>hashottuborspa</th>\n",
       "      <th>heatingorsystemtypeid</th>\n",
       "      <th>latitude</th>\n",
       "      <th>longitude</th>\n",
       "      <th>lotsizesquarefeet</th>\n",
       "      <th>poolcnt</th>\n",
       "      <th>poolsizesum</th>\n",
       "      <th>pooltypeid10</th>\n",
       "      <th>pooltypeid2</th>\n",
       "      <th>pooltypeid7</th>\n",
       "      <th>propertycountylandusecode</th>\n",
       "      <th>propertylandusetypeid</th>\n",
       "      <th>propertyzoningdesc</th>\n",
       "      <th>rawcensustractandblock</th>\n",
       "      <th>regionidcity</th>\n",
       "      <th>regionidcounty</th>\n",
       "      <th>regionidneighborhood</th>\n",
       "      <th>regionidzip</th>\n",
       "      <th>roomcnt</th>\n",
       "      <th>storytypeid</th>\n",
       "      <th>threequarterbathnbr</th>\n",
       "      <th>typeconstructiontypeid</th>\n",
       "      <th>unitcnt</th>\n",
       "      <th>yardbuildingsqft17</th>\n",
       "      <th>yardbuildingsqft26</th>\n",
       "      <th>yearbuilt</th>\n",
       "      <th>numberofstories</th>\n",
       "      <th>fireplaceflag</th>\n",
       "      <th>structuretaxvaluedollarcnt</th>\n",
       "      <th>taxvaluedollarcnt</th>\n",
       "      <th>assessmentyear</th>\n",
       "      <th>landtaxvaluedollarcnt</th>\n",
       "      <th>taxamount</th>\n",
       "      <th>taxdelinquencyflag</th>\n",
       "      <th>taxdelinquencyyear</th>\n",
       "      <th>censustractandblock</th>\n",
       "    </tr>\n",
       "  </thead>\n",
       "  <tbody>\n",
       "    <tr>\n",
       "      <th>0</th>\n",
       "      <td>14297519</td>\n",
       "      <td>0.025595</td>\n",
       "      <td>2017</td>\n",
       "      <td>13</td>\n",
       "      <td>1</td>\n",
       "      <td>5</td>\n",
       "      <td>NaN</td>\n",
       "      <td>NaN</td>\n",
       "      <td>NaN</td>\n",
       "      <td>3.5</td>\n",
       "      <td>4.0</td>\n",
       "      <td>NaN</td>\n",
       "      <td>NaN</td>\n",
       "      <td>NaN</td>\n",
       "      <td>NaN</td>\n",
       "      <td>3100.0</td>\n",
       "      <td>6059.0</td>\n",
       "      <td>NaN</td>\n",
       "      <td>2.0</td>\n",
       "      <td>633.0</td>\n",
       "      <td>NaN</td>\n",
       "      <td>NaN</td>\n",
       "      <td>33634932.0</td>\n",
       "      <td>-117869208.0</td>\n",
       "      <td>4506.0</td>\n",
       "      <td>NaN</td>\n",
       "      <td>NaN</td>\n",
       "      <td>NaN</td>\n",
       "      <td>NaN</td>\n",
       "      <td>NaN</td>\n",
       "      <td>122</td>\n",
       "      <td>261.0</td>\n",
       "      <td>NaN</td>\n",
       "      <td>60590632.0</td>\n",
       "      <td>53571.0</td>\n",
       "      <td>1286.0</td>\n",
       "      <td>NaN</td>\n",
       "      <td>96978.0</td>\n",
       "      <td>0.0</td>\n",
       "      <td>NaN</td>\n",
       "      <td>1.0</td>\n",
       "      <td>NaN</td>\n",
       "      <td>NaN</td>\n",
       "      <td>NaN</td>\n",
       "      <td>NaN</td>\n",
       "      <td>1998.0</td>\n",
       "      <td>NaN</td>\n",
       "      <td>NaN</td>\n",
       "      <td>485713.0</td>\n",
       "      <td>1023282.0</td>\n",
       "      <td>2016.0</td>\n",
       "      <td>537569.0</td>\n",
       "      <td>11013.719727</td>\n",
       "      <td>NaN</td>\n",
       "      <td>NaN</td>\n",
       "      <td>6.059063e+13</td>\n",
       "    </tr>\n",
       "    <tr>\n",
       "      <th>1</th>\n",
       "      <td>17052889</td>\n",
       "      <td>0.055619</td>\n",
       "      <td>2017</td>\n",
       "      <td>13</td>\n",
       "      <td>1</td>\n",
       "      <td>5</td>\n",
       "      <td>NaN</td>\n",
       "      <td>NaN</td>\n",
       "      <td>NaN</td>\n",
       "      <td>1.0</td>\n",
       "      <td>2.0</td>\n",
       "      <td>NaN</td>\n",
       "      <td>NaN</td>\n",
       "      <td>NaN</td>\n",
       "      <td>1465.0</td>\n",
       "      <td>1465.0</td>\n",
       "      <td>6111.0</td>\n",
       "      <td>1.0</td>\n",
       "      <td>1.0</td>\n",
       "      <td>0.0</td>\n",
       "      <td>NaN</td>\n",
       "      <td>NaN</td>\n",
       "      <td>34449264.0</td>\n",
       "      <td>-119281528.0</td>\n",
       "      <td>12647.0</td>\n",
       "      <td>NaN</td>\n",
       "      <td>NaN</td>\n",
       "      <td>NaN</td>\n",
       "      <td>NaN</td>\n",
       "      <td>NaN</td>\n",
       "      <td>1110</td>\n",
       "      <td>261.0</td>\n",
       "      <td>NaN</td>\n",
       "      <td>61110012.0</td>\n",
       "      <td>13091.0</td>\n",
       "      <td>2061.0</td>\n",
       "      <td>NaN</td>\n",
       "      <td>97099.0</td>\n",
       "      <td>5.0</td>\n",
       "      <td>NaN</td>\n",
       "      <td>NaN</td>\n",
       "      <td>NaN</td>\n",
       "      <td>NaN</td>\n",
       "      <td>NaN</td>\n",
       "      <td>NaN</td>\n",
       "      <td>1967.0</td>\n",
       "      <td>1.0</td>\n",
       "      <td>NaN</td>\n",
       "      <td>88000.0</td>\n",
       "      <td>464000.0</td>\n",
       "      <td>2016.0</td>\n",
       "      <td>376000.0</td>\n",
       "      <td>5672.479980</td>\n",
       "      <td>NaN</td>\n",
       "      <td>NaN</td>\n",
       "      <td>6.111001e+13</td>\n",
       "    </tr>\n",
       "    <tr>\n",
       "      <th>2</th>\n",
       "      <td>14186244</td>\n",
       "      <td>0.005383</td>\n",
       "      <td>2017</td>\n",
       "      <td>13</td>\n",
       "      <td>1</td>\n",
       "      <td>5</td>\n",
       "      <td>NaN</td>\n",
       "      <td>NaN</td>\n",
       "      <td>NaN</td>\n",
       "      <td>2.0</td>\n",
       "      <td>3.0</td>\n",
       "      <td>NaN</td>\n",
       "      <td>NaN</td>\n",
       "      <td>NaN</td>\n",
       "      <td>NaN</td>\n",
       "      <td>1243.0</td>\n",
       "      <td>6059.0</td>\n",
       "      <td>NaN</td>\n",
       "      <td>2.0</td>\n",
       "      <td>440.0</td>\n",
       "      <td>NaN</td>\n",
       "      <td>NaN</td>\n",
       "      <td>33886168.0</td>\n",
       "      <td>-117823168.0</td>\n",
       "      <td>8432.0</td>\n",
       "      <td>1.0</td>\n",
       "      <td>NaN</td>\n",
       "      <td>NaN</td>\n",
       "      <td>NaN</td>\n",
       "      <td>1.0</td>\n",
       "      <td>122</td>\n",
       "      <td>261.0</td>\n",
       "      <td>NaN</td>\n",
       "      <td>60590220.0</td>\n",
       "      <td>21412.0</td>\n",
       "      <td>1286.0</td>\n",
       "      <td>NaN</td>\n",
       "      <td>97078.0</td>\n",
       "      <td>6.0</td>\n",
       "      <td>NaN</td>\n",
       "      <td>NaN</td>\n",
       "      <td>NaN</td>\n",
       "      <td>NaN</td>\n",
       "      <td>NaN</td>\n",
       "      <td>NaN</td>\n",
       "      <td>1962.0</td>\n",
       "      <td>1.0</td>\n",
       "      <td>NaN</td>\n",
       "      <td>85289.0</td>\n",
       "      <td>564778.0</td>\n",
       "      <td>2016.0</td>\n",
       "      <td>479489.0</td>\n",
       "      <td>6488.299805</td>\n",
       "      <td>NaN</td>\n",
       "      <td>NaN</td>\n",
       "      <td>6.059022e+13</td>\n",
       "    </tr>\n",
       "    <tr>\n",
       "      <th>3</th>\n",
       "      <td>12177905</td>\n",
       "      <td>-0.103410</td>\n",
       "      <td>2017</td>\n",
       "      <td>13</td>\n",
       "      <td>1</td>\n",
       "      <td>5</td>\n",
       "      <td>NaN</td>\n",
       "      <td>NaN</td>\n",
       "      <td>NaN</td>\n",
       "      <td>3.0</td>\n",
       "      <td>4.0</td>\n",
       "      <td>NaN</td>\n",
       "      <td>8.0</td>\n",
       "      <td>NaN</td>\n",
       "      <td>NaN</td>\n",
       "      <td>2376.0</td>\n",
       "      <td>6037.0</td>\n",
       "      <td>NaN</td>\n",
       "      <td>NaN</td>\n",
       "      <td>NaN</td>\n",
       "      <td>NaN</td>\n",
       "      <td>2.0</td>\n",
       "      <td>34245180.0</td>\n",
       "      <td>-118240720.0</td>\n",
       "      <td>13038.0</td>\n",
       "      <td>1.0</td>\n",
       "      <td>NaN</td>\n",
       "      <td>NaN</td>\n",
       "      <td>NaN</td>\n",
       "      <td>1.0</td>\n",
       "      <td>0101</td>\n",
       "      <td>261.0</td>\n",
       "      <td>LCR110000*</td>\n",
       "      <td>60373000.0</td>\n",
       "      <td>396551.0</td>\n",
       "      <td>3101.0</td>\n",
       "      <td>NaN</td>\n",
       "      <td>96330.0</td>\n",
       "      <td>0.0</td>\n",
       "      <td>NaN</td>\n",
       "      <td>NaN</td>\n",
       "      <td>NaN</td>\n",
       "      <td>1.0</td>\n",
       "      <td>NaN</td>\n",
       "      <td>NaN</td>\n",
       "      <td>1970.0</td>\n",
       "      <td>NaN</td>\n",
       "      <td>NaN</td>\n",
       "      <td>108918.0</td>\n",
       "      <td>145143.0</td>\n",
       "      <td>2016.0</td>\n",
       "      <td>36225.0</td>\n",
       "      <td>1777.510010</td>\n",
       "      <td>NaN</td>\n",
       "      <td>NaN</td>\n",
       "      <td>6.037300e+13</td>\n",
       "    </tr>\n",
       "    <tr>\n",
       "      <th>4</th>\n",
       "      <td>10887214</td>\n",
       "      <td>0.006940</td>\n",
       "      <td>2017</td>\n",
       "      <td>13</td>\n",
       "      <td>1</td>\n",
       "      <td>5</td>\n",
       "      <td>1.0</td>\n",
       "      <td>NaN</td>\n",
       "      <td>NaN</td>\n",
       "      <td>3.0</td>\n",
       "      <td>3.0</td>\n",
       "      <td>NaN</td>\n",
       "      <td>8.0</td>\n",
       "      <td>NaN</td>\n",
       "      <td>NaN</td>\n",
       "      <td>1312.0</td>\n",
       "      <td>6037.0</td>\n",
       "      <td>NaN</td>\n",
       "      <td>NaN</td>\n",
       "      <td>NaN</td>\n",
       "      <td>NaN</td>\n",
       "      <td>2.0</td>\n",
       "      <td>34185120.0</td>\n",
       "      <td>-118414640.0</td>\n",
       "      <td>278581.0</td>\n",
       "      <td>1.0</td>\n",
       "      <td>NaN</td>\n",
       "      <td>NaN</td>\n",
       "      <td>NaN</td>\n",
       "      <td>1.0</td>\n",
       "      <td>010C</td>\n",
       "      <td>266.0</td>\n",
       "      <td>LAR3</td>\n",
       "      <td>60371236.0</td>\n",
       "      <td>12447.0</td>\n",
       "      <td>3101.0</td>\n",
       "      <td>268548.0</td>\n",
       "      <td>96451.0</td>\n",
       "      <td>0.0</td>\n",
       "      <td>NaN</td>\n",
       "      <td>NaN</td>\n",
       "      <td>NaN</td>\n",
       "      <td>1.0</td>\n",
       "      <td>NaN</td>\n",
       "      <td>NaN</td>\n",
       "      <td>1964.0</td>\n",
       "      <td>NaN</td>\n",
       "      <td>NaN</td>\n",
       "      <td>73681.0</td>\n",
       "      <td>119407.0</td>\n",
       "      <td>2016.0</td>\n",
       "      <td>45726.0</td>\n",
       "      <td>1533.890015</td>\n",
       "      <td>NaN</td>\n",
       "      <td>NaN</td>\n",
       "      <td>6.037123e+13</td>\n",
       "    </tr>\n",
       "  </tbody>\n",
       "</table>\n",
       "</div>"
      ],
      "text/plain": [
       "   parcelid         ...           censustractandblock\n",
       "0  14297519         ...                  6.059063e+13\n",
       "1  17052889         ...                  6.111001e+13\n",
       "2  14186244         ...                  6.059022e+13\n",
       "3  12177905         ...                  6.037300e+13\n",
       "4  10887214         ...                  6.037123e+13\n",
       "\n",
       "[5 rows x 56 columns]"
      ]
     },
     "execution_count": 13,
     "metadata": {},
     "output_type": "execute_result"
    }
   ],
   "source": [
    "train2017.head()"
   ]
  },
  {
   "cell_type": "code",
   "execution_count": 14,
   "metadata": {},
   "outputs": [],
   "source": [
    "# Necessário anular os valores das colunas de 'tax' de acordo com as regras da competição\n",
    "train2017.iloc[:, train2017.columns.str.startswith('tax')] = np.nan"
   ]
  },
  {
   "cell_type": "markdown",
   "metadata": {},
   "source": [
    "### Concatenando propriedades de 2016 e 2017"
   ]
  },
  {
   "cell_type": "code",
   "execution_count": 15,
   "metadata": {},
   "outputs": [],
   "source": [
    "train_df = pd.concat([train2016, train2017], axis = 0)\n",
    "test_df = pd.merge(sample_submission[['ParcelId']], properties2016.rename(columns = {'parcelid': 'ParcelId'}), how = 'left', on = 'ParcelId')"
   ]
  },
  {
   "cell_type": "code",
   "execution_count": 16,
   "metadata": {},
   "outputs": [],
   "source": [
    "del properties2016, properties2017, train2016, train2017\n",
    "gc.collect();"
   ]
  },
  {
   "cell_type": "code",
   "execution_count": 17,
   "metadata": {},
   "outputs": [
    {
     "data": {
      "text/plain": [
       "(167888, 56)"
      ]
     },
     "execution_count": 17,
     "metadata": {},
     "output_type": "execute_result"
    }
   ],
   "source": [
    "train_df.shape"
   ]
  },
  {
   "cell_type": "code",
   "execution_count": 18,
   "metadata": {},
   "outputs": [
    {
     "data": {
      "text/plain": [
       "(2985217, 51)"
      ]
     },
     "execution_count": 18,
     "metadata": {},
     "output_type": "execute_result"
    }
   ],
   "source": [
    "test_df.shape"
   ]
  },
  {
   "cell_type": "markdown",
   "metadata": {},
   "source": [
    "# Tratamento das bases de treinamento e teste"
   ]
  },
  {
   "cell_type": "markdown",
   "metadata": {},
   "source": [
    "### Criando features nos conjuntos de treinamento e teste"
   ]
  },
  {
   "cell_type": "code",
   "execution_count": 19,
   "metadata": {},
   "outputs": [],
   "source": [
    "def add_new_features(df):\n",
    "    df['AREA_UTIL_IMOVEL'] = df['calculatedfinishedsquarefeet'] / df['lotsizesquarefeet']\n",
    "    df['AREA_QUINTAL'] = df['lotsizesquarefeet'] - df['calculatedfinishedsquarefeet']\n",
    "    df['TOTAL_COMODOS'] = df['bathroomcnt'] + df['bedroomcnt']\n",
    "    \n",
    "    import datetime\n",
    "    now = datetime.datetime.now()\n",
    "    df['IDADE_IMOVEL'] = now.year - df['yearbuilt']\n",
    "    \n",
    "    df['TOTAL_IMPOSTOS'] = df['taxvaluedollarcnt'] + df['taxamount']\n",
    "    \n",
    "    #Taxa de impostos total por taxas de uma pesquisa\n",
    "    df['TAXA_IMPOSTOS'] = df['taxvaluedollarcnt'] / df['taxamount']\n",
    "       \n",
    "    #Quantidade de imoveis por municipio\n",
    "    county_count = df['regionidcounty'].value_counts().to_dict()\n",
    "    df['IMOVEIS_MUNICIPIO'] = df['regionidcounty'].map(county_count)\n",
    "\n",
    "    #Quantidade de imoveis por cidade\n",
    "    city_count = df['regionidcity'].value_counts().to_dict()\n",
    "    df['IMOVEIS_CIDADE'] = df['regionidcity'].map(city_count)\n",
    "    \n",
    "    df['latitude'] = df['latitude'] / 1e7\n",
    "    df['longitude'] = df['longitude'] / 1e7"
   ]
  },
  {
   "cell_type": "code",
   "execution_count": 20,
   "metadata": {},
   "outputs": [],
   "source": [
    "add_new_features(train_df)\n",
    "add_new_features(test_df)"
   ]
  },
  {
   "cell_type": "markdown",
   "metadata": {},
   "source": [
    "### Convertendo colunas categóricas para numéricas"
   ]
  },
  {
   "cell_type": "code",
   "execution_count": 21,
   "metadata": {},
   "outputs": [],
   "source": [
    "def cat_to_code(df):\n",
    "    object_type = df.select_dtypes(include=['object']).columns.values\n",
    "    df[object_type] = df[object_type].astype('category')\n",
    "    for column in object_type:\n",
    "        df[column] = df[column].cat.codes"
   ]
  },
  {
   "cell_type": "code",
   "execution_count": 22,
   "metadata": {},
   "outputs": [],
   "source": [
    "cat_to_code(train_df)\n",
    "cat_to_code(test_df)"
   ]
  },
  {
   "cell_type": "markdown",
   "metadata": {},
   "source": [
    "### Tratamento do conjunto de testes"
   ]
  },
  {
   "cell_type": "code",
   "execution_count": 23,
   "metadata": {},
   "outputs": [],
   "source": [
    "test_df['transactiondate'] = pd.Timestamp('2016-12-01') \n",
    "test_df = add_date_features(test_df)\n",
    "test_df.fillna(-999, inplace=True)"
   ]
  },
  {
   "cell_type": "markdown",
   "metadata": {},
   "source": [
    "## Remoção de dados ausentes"
   ]
  },
  {
   "cell_type": "markdown",
   "metadata": {},
   "source": [
    "### Remover colunas com mais de 70% de dados ausentes"
   ]
  },
  {
   "cell_type": "code",
   "execution_count": 24,
   "metadata": {},
   "outputs": [
    {
     "data": {
      "text/plain": [
       "(167888, 35)"
      ]
     },
     "execution_count": 24,
     "metadata": {},
     "output_type": "execute_result"
    }
   ],
   "source": [
    "train_df.dropna(thresh=0.70*len(train_df), axis=1, inplace=True)\n",
    "train_df.shape"
   ]
  },
  {
   "cell_type": "markdown",
   "metadata": {},
   "source": [
    "### Remover colunas com valores únicos"
   ]
  },
  {
   "cell_type": "code",
   "execution_count": 25,
   "metadata": {},
   "outputs": [
    {
     "data": {
      "text/plain": [
       "(167888, 35)"
      ]
     },
     "execution_count": 25,
     "metadata": {},
     "output_type": "execute_result"
    }
   ],
   "source": [
    "train_df.loc[:, (train_df != train_df.iloc[0]).any()].shape"
   ]
  },
  {
   "cell_type": "markdown",
   "metadata": {},
   "source": [
    "### Removendo linhas com valores NaN"
   ]
  },
  {
   "cell_type": "code",
   "execution_count": 26,
   "metadata": {},
   "outputs": [],
   "source": [
    "train_df.dropna(inplace=True)"
   ]
  },
  {
   "cell_type": "code",
   "execution_count": 27,
   "metadata": {},
   "outputs": [
    {
     "data": {
      "text/plain": [
       "False"
      ]
     },
     "execution_count": 27,
     "metadata": {},
     "output_type": "execute_result"
    }
   ],
   "source": [
    "train_df.isnull().values.any()"
   ]
  },
  {
   "cell_type": "markdown",
   "metadata": {},
   "source": [
    "### Dataframe resultante"
   ]
  },
  {
   "cell_type": "code",
   "execution_count": 28,
   "metadata": {},
   "outputs": [
    {
     "data": {
      "text/plain": [
       "(145647, 35)"
      ]
     },
     "execution_count": 28,
     "metadata": {},
     "output_type": "execute_result"
    }
   ],
   "source": [
    "train_df.shape"
   ]
  },
  {
   "cell_type": "markdown",
   "metadata": {},
   "source": [
    "# Ajustando os datasets para a execução dos modelos de aprendizagem"
   ]
  },
  {
   "cell_type": "markdown",
   "metadata": {},
   "source": [
    "## Separando train_df em conjuntos de treinamento e holdout para visualização de resultados"
   ]
  },
  {
   "cell_type": "code",
   "execution_count": 29,
   "metadata": {},
   "outputs": [],
   "source": [
    "#x_train, x_test, y_train, y_test = train_test_split(train_df.drop(['logerror', 'parcelid'], axis=1), train_df.logerror, test_size=1/3, random_state=42)#"
   ]
  },
  {
   "cell_type": "code",
   "execution_count": 30,
   "metadata": {},
   "outputs": [],
   "source": [
    "#print(\"x_train: {}, x_test: {}, y_train: {}, y_test: {}\".format(x_train.shape, x_test.shape, y_train.shape, y_test.shape))"
   ]
  },
  {
   "cell_type": "markdown",
   "metadata": {},
   "source": [
    "# Definindo funções para execução dos modelos "
   ]
  },
  {
   "cell_type": "markdown",
   "metadata": {},
   "source": [
    "## Definindo Regressor Linear que servirá como baseline para os demais modelos"
   ]
  },
  {
   "cell_type": "code",
   "execution_count": 31,
   "metadata": {},
   "outputs": [],
   "source": [
    "def linearRegressor(X_train, Y_train, X_test, Y_test):\n",
    "  regressor = LinearRegression(fit_intercept=True)\n",
    "\n",
    "  model = regressor.fit(X_train, Y_train)\n",
    "\n",
    "  pred_LR = regressor.predict(X_test)\n",
    "  \n",
    "  resultados(Y_test, pred_LR, \"Linear Regressor\")\n",
    "\n",
    "  # Returns the trained model\n",
    "  return model"
   ]
  },
  {
   "cell_type": "markdown",
   "metadata": {},
   "source": [
    "## Definindo Random Forest Regressor"
   ]
  },
  {
   "cell_type": "code",
   "execution_count": 32,
   "metadata": {},
   "outputs": [],
   "source": [
    "def randomForestRegressor(X_train, Y_train, X_test, Y_test):\n",
    "  # Gerar conjuntos de validação-cruzada para o treinamento de dados\n",
    "  cv_sets = ShuffleSplit(n_splits=5, test_size = 0.25)\n",
    "\n",
    "  rfr =  RandomForestRegressor(random_state=42)\n",
    "\n",
    "  # Numero de arvores no random forest\n",
    "  n_estimators = [int(x) for x in np.linspace(start = 180, stop = 220, num = 11)]\n",
    "  # Numero de features para considerar a cada separacao\n",
    "  max_features = ['auto', 'sqrt']\n",
    "  # Profundidade maxima da arvore\n",
    "  max_depth = [int(x) for x in np.linspace(20, 30, num = 6)]\n",
    "  # Quantidade minima de amostras para se separar um no\n",
    "  min_samples_split = list(range(4,8))\n",
    "  # Quantidade minima de amostras requeridas em cada no folha\n",
    "  min_samples_leaf = list(range(1,4))\n",
    "\n",
    "  # Grid search anterior\n",
    "  #n_estimators = [int(x) for x in np.linspace(start = 100, stop = 1200, num = 12)]\n",
    "  #max_features = ['auto', 'sqrt']\n",
    "  #max_depth = [int(x) for x in np.linspace(5, 30, num = 6)]\n",
    "  #min_samples_split = [2, 5, 10, 15, 100]\n",
    "  #min_samples_leaf = [1, 2, 5, 10]\n",
    "\n",
    "  # Create the random grid\n",
    "  params = {'n_estimators': n_estimators,\n",
    "                 'max_features': max_features,\n",
    "                 'max_depth': max_depth,\n",
    "                 'min_samples_split': min_samples_split,\n",
    "                 'min_samples_leaf': min_samples_leaf}\n",
    "\n",
    "  #Transformar 'performance_metric' em uma função de pontuação utilizando 'make_scorer' \n",
    "  scoring_fnc = make_scorer(mean_absolute_error)\n",
    "\n",
    "  # Gerar o objeto de busca em matriz\n",
    "  grid = RandomizedSearchCV(estimator = rfr, param_distributions = params, scoring=scoring_fnc, \n",
    "                            cv=cv_sets, n_iter=100, verbose=2)\n",
    "\n",
    "  # Ajustar o objeto de busca em matriz com os dados para calcular o modelo ótimo\n",
    "  grid = grid.fit(X_train, Y_train)\n",
    "\n",
    "  # Escolher o melhor estimador para predizer os dados de teste\n",
    "  best_rfr = grid.best_estimator_\n",
    "\n",
    "  print(\"Best Estimator: \\n{}\\n\".format(grid.best_estimator_))\n",
    "  print(\"Best Parameters: \\n{}\\n\".format(grid.best_params_))\n",
    "\n",
    "  pred_RFR = best_rfr.predict(X_test)\n",
    "  \n",
    "  resultados(Y_test, pred_RFR, \"Random Forest Regressor\")\n",
    "   \n",
    "  # Returns the best trained model\n",
    "  return best_rfr"
   ]
  },
  {
   "cell_type": "markdown",
   "metadata": {},
   "source": [
    "## Definindo XGBOOST"
   ]
  },
  {
   "cell_type": "code",
   "execution_count": 33,
   "metadata": {},
   "outputs": [],
   "source": [
    "def xgb(X_train, Y_train, X_test, Y_test):\n",
    "  \n",
    "  cv_sets = ShuffleSplit(n_splits=5, test_size = 0.25)\n",
    "  \n",
    "  xgb = XGBRegressor()\n",
    "\n",
    "  # xgboost params\n",
    "  params = {\n",
    "              'objective':['reg:linear'],\n",
    "              'learning_rate': [.03, .033, .035, .037],\n",
    "              'max_depth': [5, 6, 7],\n",
    "              'min_child_weight': [2, 4, 10],\n",
    "              'silent': [1],\n",
    "              'subsample': [0.6, 0.7, 0.8],\n",
    "              'colsample_bytree': [0.6, 0.7, 0.8],\n",
    "              'n_estimators': [500],\n",
    "              'base_score': [np.mean(Y_train), 0.5],\n",
    "              'reg_lambda': [0.3, 0.5, 0.8],\n",
    "              'eval_metric': ['mae', 'logloss']\n",
    "              \n",
    "  }\n",
    "\n",
    "  # Gerar o objeto de busca em matriz\n",
    "  grid = RandomizedSearchCV(estimator = xgb, param_distributions = params, scoring='neg_mean_squared_error', \n",
    "                            cv=cv_sets, n_iter=100, verbose=2)\n",
    "\n",
    "  grid = grid.fit(X_train, Y_train)\n",
    "\n",
    "  # Escolher o melhor estimador para predizer os dados de teste\n",
    "  best_xgb = grid.best_estimator_\n",
    "\n",
    "  print(\"Best Estimator: \\n{}\\n\".format(grid.best_estimator_))\n",
    "  print(\"Best Parameters: \\n{}\\n\".format(grid.best_params_))\n",
    "\n",
    "  pred_xgb = best_xgb.predict(X_test)\n",
    "  \n",
    "  resultados(Y_test, pred_xgb, \"XGBoost Regressor\")\n",
    "\n",
    "  # Returns the trained model\n",
    "  return best_xgb"
   ]
  },
  {
   "cell_type": "markdown",
   "metadata": {},
   "source": [
    "## Definindo TPOTRegressor\n",
    "[API refference](https://epistasislab.github.io/tpot/api/), [Using TPOT](https://epistasislab.github.io/tpot/using/)"
   ]
  },
  {
   "cell_type": "code",
   "execution_count": 34,
   "metadata": {},
   "outputs": [],
   "source": [
    "def tpotRegressor(X_train, Y_train, X_test, Y_test):\n",
    "    from tpot import TPOTRegressor\n",
    "\n",
    "    tpot = TPOTRegressor(generations=10, population_size=100, scoring='neg_mean_absolute_error', verbosity=2)\n",
    "    tpot.fit(X_train, Y_train)\n",
    "    print(tpot.score(X_test, Y_test))\n",
    "    tpot.export('tpot_zillow_pipeline.py')"
   ]
  },
  {
   "cell_type": "markdown",
   "metadata": {},
   "source": [
    "## Função para exibir resultados no conjunto de treinamento"
   ]
  },
  {
   "cell_type": "code",
   "execution_count": 35,
   "metadata": {},
   "outputs": [],
   "source": [
    "def resultados(Y_test, predictions, model_name):\n",
    "\n",
    "    #calculando o erro de uma árvore de decisão para regressão:\n",
    "    mae_RFR = mean_absolute_error(predictions, Y_test)\n",
    "    print (\"Erro médio absoluto: {}\".format(mae_RFR))\n",
    "\n",
    "    #Acurácia do modelo\n",
    "    #r2_RFR = r2_score(predictions, Y_test)\n",
    "    #print (\"Índice R² (score): {}\".format(r2_RFR))\n",
    "    \n",
    "    sns.set(style=\"whitegrid\")\n",
    "    fig, axs = plt.subplots(ncols=2, sharey=False, figsize=(15,5))\n",
    "    sns.residplot(predictions, Y_test, color=\"g\", ax=axs[0]).set_title(\"Residuals plot of \" + model_name)\n",
    "    sns.scatterplot(x=Y_test, y=predictions, ax=axs[1]).set_title(\"Model Error\")\n",
    "    axs[1].set(xlabel='True Values', ylabel='Predicted Values')"
   ]
  },
  {
   "cell_type": "markdown",
   "metadata": {},
   "source": [
    "## Função para submeter (para o kaggle) as predições de um modelo"
   ]
  },
  {
   "cell_type": "code",
   "execution_count": 36,
   "metadata": {},
   "outputs": [],
   "source": [
    "def submitPredictions(predictions, model_name):\n",
    "    y_pred=[]\n",
    "\n",
    "    for i,predict in enumerate(predictions):\n",
    "        y_pred.append(str(round(predict,4)))\n",
    "    y_pred=np.array(y_pred)\n",
    "\n",
    "    output = pd.DataFrame({'ParcelId': test_df['ParcelId'].astype(np.int32),\n",
    "            '201610': y_pred, '201611': y_pred, '201612': y_pred,\n",
    "            '201710': y_pred, '201711': y_pred, '201712': y_pred})\n",
    "\n",
    "    cols = output.columns.tolist()\n",
    "    cols = cols[-1:] + cols[:-1]\n",
    "    output = output[cols]\n",
    "\n",
    "    from datetime import datetime\n",
    "\n",
    "    print( \"\\nWriting results to disk ...\" )\n",
    "    output.to_csv('sub{}_{}.csv'.format(datetime.now().strftime('%Y%m%d_%H%M%S'), model_name), index=False)"
   ]
  },
  {
   "cell_type": "markdown",
   "metadata": {},
   "source": [
    "## Melhor RFR de acordo com o Gridsearch"
   ]
  },
  {
   "cell_type": "code",
   "execution_count": 37,
   "metadata": {},
   "outputs": [],
   "source": [
    "def submitBestModelRFR(X_train, Y_train, X_test, Y_test):\n",
    "\n",
    "    print(\"Using Best Random Forest Regressor Model...\")\n",
    "    \n",
    "    # Best model according to previous grid search\n",
    "    best_rfr = RandomForestRegressor(bootstrap=True, criterion='mse', max_depth=25,\n",
    "               max_features='auto', max_leaf_nodes=None,\n",
    "               min_impurity_decrease=0.0, min_impurity_split=None,\n",
    "               min_samples_leaf=1, min_samples_split=5,\n",
    "               min_weight_fraction_leaf=0.0, n_estimators=200, n_jobs=None,\n",
    "               oob_score=False, random_state=42, verbose=0, warm_start=False)\n",
    "    \n",
    "    # Visualizing model performance on training dataset\n",
    "    best_rfr.fit(X_train, Y_train)\n",
    "    # Results for the training dataset\n",
    "    predictions_best_rfr = best_rfr.predict(X_test)\n",
    "    resultados(Y_test, predictions_best_rfr, \"Best RFR\")\n",
    "\n",
    "    # Testing the model on test dataframe and submiting results\n",
    "    submitPredictions(best_rfr.predict(test_df[X_train.columns.values]), \"best_RFR\")"
   ]
  },
  {
   "cell_type": "markdown",
   "metadata": {},
   "source": [
    "## Melhor XGBRegressor de acordo com o grid search"
   ]
  },
  {
   "cell_type": "code",
   "execution_count": 38,
   "metadata": {},
   "outputs": [],
   "source": [
    "def submitBestModelXGB(X_train, Y_train, X_test, Y_test):\n",
    "    \n",
    "    print(\"Using Best XGBoost Regressor Model...\")\n",
    "    \n",
    "    # Best model according to previous grid search\n",
    "    best_xgb = XGBRegressor(base_score=0.014415016651286966, booster='gbtree',\n",
    "       colsample_bylevel=1, colsample_bytree=0.6, eval_metric='logloss',\n",
    "       gamma=0, importance_type='gain', learning_rate=0.03,\n",
    "       max_delta_step=0, max_depth=5, min_child_weight=10, missing=None,\n",
    "       n_estimators=500, n_jobs=1, nthread=None, objective='reg:linear',\n",
    "       random_state=0, reg_alpha=0, reg_lambda=0.3, scale_pos_weight=1,\n",
    "       seed=None, silent=1, subsample=0.8)\n",
    "\n",
    "    #Previous XGB Parameters\n",
    "#     XGBRegressor(base_score=0.5, booster='gbtree', colsample_bylevel=1,\n",
    "#            colsample_bytree=0.7, gamma=0, importance_type='gain',\n",
    "#            learning_rate=0.03, max_delta_step=0, max_depth=5,\n",
    "#            min_child_weight=4, missing=None, n_estimators=500, n_jobs=1,\n",
    "#            nthread=None, objective='reg:linear', random_state=0, reg_alpha=0,\n",
    "#            reg_lambda=1, scale_pos_weight=1, seed=None, silent=1,\n",
    "#            subsample=0.7)\n",
    "\n",
    "    # Visualizing model performance on training dataset\n",
    "    best_xgb.fit(X_train, Y_train)\n",
    "    # Results for the training dataset\n",
    "    predictions_best_xgb = best_xgb.predict(X_test)\n",
    "    resultados(Y_test, predictions_best_xgb, \"Best XGB\")\n",
    "\n",
    "    # Testing the model on test dataframe and submiting results\n",
    "    submitPredictions(best_xgb.predict(test_df[X_train.columns.values]), \"best_XGB\")"
   ]
  },
  {
   "cell_type": "markdown",
   "metadata": {},
   "source": [
    "## Melhor TPOT Regressor de acordo com execução anterior"
   ]
  },
  {
   "cell_type": "code",
   "execution_count": 39,
   "metadata": {},
   "outputs": [],
   "source": [
    "def submitBestModelTPOT(X_train, Y_train, X_test, Y_test):\n",
    "    \n",
    "    print(\"Using Best TPOT Model (Linear SVR)...\")\n",
    "    \n",
    "    best_svr = LinearSVR(C=0.1, dual=True, epsilon=0.001, loss=\"squared_epsilon_insensitive\", tol=0.0001)\n",
    "    \n",
    "    # Visualizing model performance on training dataset\n",
    "    best_svr.fit(X_train, Y_train)\n",
    "    # Results for the training dataset\n",
    "    predictions_best_svr = best_svr.predict(X_test)\n",
    "    resultados(Y_test, predictions_best_svr, \"Best SVR\")\n",
    "\n",
    "    # Testing the model on test dataframe and submiting results\n",
    "    submitPredictions(best_svr.predict(test_df[X_train.columns.values]), \"best_SVR\")"
   ]
  },
  {
   "cell_type": "markdown",
   "metadata": {},
   "source": [
    "## Definindo modelos XGB e RFR com seus parâmetros padrão"
   ]
  },
  {
   "cell_type": "code",
   "execution_count": 40,
   "metadata": {},
   "outputs": [],
   "source": [
    "def defaultXGB(X_train, Y_train, X_test, Y_test):\n",
    "    print (\"Using default XGB Regressor...\")\n",
    "    \n",
    "    default_xgb = XGBRegressor()\n",
    "    \n",
    "    # Visualizing model performance on training dataset\n",
    "    default_xgb.fit(X_train, Y_train)\n",
    "    # Results for the training dataset\n",
    "    predictions_default_xgb = default_xgb.predict(X_test)\n",
    "    resultados(Y_test, predictions_default_xgb, \"Default XGB\")\n",
    "\n",
    "    # Testing the model on test dataframe and submiting results\n",
    "    submitPredictions(default_xgb.predict(test_df[X_train.columns.values]), \"default_XGB\")"
   ]
  },
  {
   "cell_type": "code",
   "execution_count": 41,
   "metadata": {},
   "outputs": [],
   "source": [
    "def defaultRFR(X_train, Y_train, X_test, Y_test):\n",
    "    print (\"Using default RFR Regressor...\")\n",
    "    \n",
    "    default_rfr = RandomForestRegressor()\n",
    "        \n",
    "    # Visualizing model performance on training dataset\n",
    "    default_rfr.fit(X_train, Y_train)\n",
    "    # Results for the training dataset\n",
    "    predictions_default_rfr = default_rfr.predict(X_test)\n",
    "    resultados(Y_test, predictions_default_rfr, \"Default RFR\")\n",
    "\n",
    "    # Testing the model on test dataframe and submiting results\n",
    "    submitPredictions(default_rfr.predict(test_df[X_train.columns.values]), \"default_RFR\")"
   ]
  },
  {
   "cell_type": "markdown",
   "metadata": {},
   "source": [
    "# Encontrando os melhores modelos e submetendo suas predições no conjunto de teste"
   ]
  },
  {
   "cell_type": "markdown",
   "metadata": {},
   "source": [
    "*Devido as limitações do kaggle (tempo de execução limitado a 9h), para treinar os modelos usamos somente dados do município com mais imóveis*"
   ]
  },
  {
   "cell_type": "code",
   "execution_count": 42,
   "metadata": {},
   "outputs": [],
   "source": [
    "train_county = train_df[train_df.propertycountylandusecode == train_df.propertycountylandusecode.value_counts().argmax()]"
   ]
  },
  {
   "cell_type": "code",
   "execution_count": 43,
   "metadata": {},
   "outputs": [
    {
     "data": {
      "text/plain": [
       "(55967, 35)"
      ]
     },
     "execution_count": 43,
     "metadata": {},
     "output_type": "execute_result"
    }
   ],
   "source": [
    "train_county.shape"
   ]
  },
  {
   "cell_type": "code",
   "execution_count": 44,
   "metadata": {},
   "outputs": [],
   "source": [
    "X_train, X_test, Y_train, Y_test = train_test_split(train_county.drop(['logerror', 'parcelid'], axis=1), train_county.logerror, test_size=1/3, random_state=42)"
   ]
  },
  {
   "cell_type": "code",
   "execution_count": 45,
   "metadata": {},
   "outputs": [
    {
     "name": "stdout",
     "output_type": "stream",
     "text": [
      "x_train: (37311, 33), x_test: (18656, 33), y_train: (37311,), y_test: (18656,)\n"
     ]
    }
   ],
   "source": [
    "print(\"x_train: {}, x_test: {}, y_train: {}, y_test: {}\".format(X_train.shape, X_test.shape, Y_train.shape, Y_test.shape))"
   ]
  },
  {
   "cell_type": "markdown",
   "metadata": {},
   "source": [
    "## Regressão Linear foi escolhida como baseline para os demais modelos."
   ]
  },
  {
   "cell_type": "code",
   "execution_count": 46,
   "metadata": {
    "collapsed": true
   },
   "outputs": [
    {
     "name": "stdout",
     "output_type": "stream",
     "text": [
      "Running Linear Regressor...\n",
      "Erro médio absoluto: 0.0763853470789697\n",
      "\n",
      "Writing results to disk ...\n"
     ]
    },
    {
     "data": {
      "image/png": "[encoded data removed]",
      "text/plain": [
       "<Figure size 1080x360 with 2 Axes>"
      ]
     },
     "metadata": {},
     "output_type": "display_data"
    }
   ],
   "source": [
    "print(\"Running Linear Regressor...\")\n",
    "model_lr = linearRegressor(X_train, Y_train, X_test, Y_test)\n",
    "submitPredictions(model_lr.predict(test_df[X_train.columns.values]), \"LR\")"
   ]
  },
  {
   "cell_type": "markdown",
   "metadata": {},
   "source": [
    "### Executar um dos grid search definidos acima de acordo com o valor definido da variável"
   ]
  },
  {
   "cell_type": "code",
   "execution_count": 47,
   "metadata": {},
   "outputs": [],
   "source": [
    "if (grid_search == \"Default\"):\n",
    "    defaultXGB(X_train, Y_train, X_test, Y_test) \n",
    "    defaultRFR(X_train, Y_train, X_test, Y_test)"
   ]
  },
  {
   "cell_type": "code",
   "execution_count": 48,
   "metadata": {},
   "outputs": [],
   "source": [
    "if (grid_search == \"RFR\"):\n",
    "    print(\"Running Random Forest Regressor...\")\n",
    "    model_rfr = randomForestRegressor(X_train, Y_train, X_test, Y_test)\n",
    "    submitPredictions(model_rfr.predict(test_df[X_train.columns.values]), \"RFR\")"
   ]
  },
  {
   "cell_type": "code",
   "execution_count": 49,
   "metadata": {},
   "outputs": [],
   "source": [
    "if (grid_search == \"XGB\"):\n",
    "    print(\"Running XGBoost...\")\n",
    "    model_xgb = xgb(X_train, Y_train, X_test, Y_test)\n",
    "    submitPredictions(model_xgb.predict(test_df[X_train.columns.values]), \"XGB\")"
   ]
  },
  {
   "cell_type": "code",
   "execution_count": 50,
   "metadata": {},
   "outputs": [],
   "source": [
    "if (grid_search == \"TPOT\"):\n",
    "    tpotRegressor(X_train, Y_train, X_test, Y_test)"
   ]
  },
  {
   "cell_type": "markdown",
   "metadata": {},
   "source": [
    "# Caso não se deseje executar grid search, submeter os resultados dos melhores modelos"
   ]
  },
  {
   "cell_type": "code",
   "execution_count": 51,
   "metadata": {},
   "outputs": [
    {
     "name": "stdout",
     "output_type": "stream",
     "text": [
      "Using Best Random Forest Regressor Model...\n",
      "Erro médio absoluto: 0.07901866132488992\n",
      "\n",
      "Writing results to disk ...\n",
      "Using Best XGBoost Regressor Model...\n",
      "Erro médio absoluto: 0.07696229829133656\n",
      "\n",
      "Writing results to disk ...\n",
      "Using Best TPOT Model (Linear SVR)...\n",
      "Erro médio absoluto: 0.07554527577620643\n",
      "\n",
      "Writing results to disk ...\n"
     ]
    },
    {
     "data": {
      "image/png": "[encoded data removed]",
      "text/plain": [
       "<Figure size 1080x360 with 2 Axes>"
      ]
     },
     "metadata": {},
     "output_type": "display_data"
    },
    {
     "data": {
      "image/png": "[encoded data removed]",
      "text/plain": [
       "<Figure size 1080x360 with 2 Axes>"
      ]
     },
     "metadata": {},
     "output_type": "display_data"
    },
    {
     "data": {
      "image/png": "[encoded data removed]",
      "text/plain": [
       "<Figure size 1080x360 with 2 Axes>"
      ]
     },
     "metadata": {},
     "output_type": "display_data"
    }
   ],
   "source": [
    "if (grid_search == \"Best\"):\n",
    "    submitBestModelRFR(X_train, Y_train, X_test, Y_test)\n",
    "    submitBestModelXGB(X_train, Y_train, X_test, Y_test)\n",
    "    submitBestModelTPOT(X_train, Y_train, X_test, Y_test)"
   ]
  },
  {
   "cell_type": "code",
   "execution_count": 52,
   "metadata": {},
   "outputs": [
    {
     "data": {
      "text/plain": [
       "'\\nimport numpy as np\\nimport pandas as pd\\nfrom sklearn.model_selection import train_test_split\\nfrom sklearn.svm import LinearSVR\\n\\n# NOTE: Make sure that the class is labeled \\'target\\' in the data file\\ntpot_data = pd.read_csv(\\'PATH/TO/DATA/FILE\\', sep=\\'COLUMN_SEPARATOR\\', dtype=np.float64)\\nfeatures = tpot_data.drop(\\'target\\', axis=1).values\\ntraining_features, testing_features, training_target, testing_target =             train_test_split(features, tpot_data[\\'target\\'].values, random_state=None)\\n\\n# Average CV score on the training set was:-0.0678352369864653\\nexported_pipeline = LinearSVR(C=0.1, dual=True, epsilon=1.0, loss=\"squared_epsilon_insensitive\", tol=0.0001)\\n\\nexported_pipeline.fit(training_features, training_target)\\nresults = exported_pipeline.predict(testing_features)\\n'"
      ]
     },
     "execution_count": 52,
     "metadata": {},
     "output_type": "execute_result"
    }
   ],
   "source": [
    "#Retorno do TPOT\n",
    "'''\n",
    "import numpy as np\n",
    "import pandas as pd\n",
    "from sklearn.model_selection import train_test_split\n",
    "from sklearn.svm import LinearSVR\n",
    "\n",
    "# NOTE: Make sure that the class is labeled 'target' in the data file\n",
    "tpot_data = pd.read_csv('PATH/TO/DATA/FILE', sep='COLUMN_SEPARATOR', dtype=np.float64)\n",
    "features = tpot_data.drop('target', axis=1).values\n",
    "training_features, testing_features, training_target, testing_target = \\\n",
    "            train_test_split(features, tpot_data['target'].values, random_state=None)\n",
    "\n",
    "# Average CV score on the training set was:-0.0678352369864653\n",
    "exported_pipeline = LinearSVR(C=0.1, dual=True, epsilon=1.0, loss=\"squared_epsilon_insensitive\", tol=0.0001)\n",
    "\n",
    "exported_pipeline.fit(training_features, training_target)\n",
    "results = exported_pipeline.predict(testing_features)\n",
    "'''"
   ]
  },
  {
   "cell_type": "markdown",
   "metadata": {},
   "source": [
    "Os modelos foram avaliados de acordo com o score retornado pela submissão ao kaggle do conjunto de testes.\n",
    "Apesar de o desempenho do modelo de Regressão Linear ser bom no conjunto de treinamento, quando utilizado o conjunto de testes ele apresentou o pior desempenho. \n"
   ]
  },
  {
   "cell_type": "markdown",
   "metadata": {},
   "source": [
    "## Regressor usando Redes Neurais"
   ]
  },
  {
   "cell_type": "code",
   "execution_count": 53,
   "metadata": {},
   "outputs": [],
   "source": [
    "from sklearn.neural_network import MLPRegressor\n",
    "from sklearn.preprocessing import StandardScaler"
   ]
  },
  {
   "cell_type": "code",
   "execution_count": 54,
   "metadata": {},
   "outputs": [],
   "source": [
    "def submitNeuralNetwork(X_train, X_test, Y_train, Y_test):\n",
    "    \n",
    "    print(\"Using Neural Network ...\")\n",
    "    scaler = StandardScaler()\n",
    "    X_train_sc = scaler.fit_transform(X_train)\n",
    "    X_test_sc = scaler.transform(X_test)\n",
    "    \n",
    "    rn_regressor = MLPRegressor(hidden_layer_sizes = (350,200,120,),early_stopping = True)\n",
    "    rn_regressor.fit(X_train_sc, Y_train)\n",
    "    \n",
    "    predictions_rn = rn_regressor.predict(X_test_sc)\n",
    "    \n",
    "    # Visualizing model performance on training dataset\n",
    "    # Results for the training dataset\n",
    "    resultados(Y_test, predictions_rn, \"Neural Network\")\n",
    "\n",
    "    # Testing the model on test dataframe and submiting results\n",
    "    #submitPredictions(rn_regressor.predict(test_df[X_train.columns.values]), \"Neural_Network\")"
   ]
  },
  {
   "cell_type": "code",
   "execution_count": 55,
   "metadata": {},
   "outputs": [
    {
     "name": "stdout",
     "output_type": "stream",
     "text": [
      "Using Neural Network ...\n",
      "Erro médio absoluto: 0.07763090745835889\n"
     ]
    },
    {
     "data": {
      "image/png": "[encoded data removed]",
      "text/plain": [
       "<Figure size 1080x360 with 2 Axes>"
      ]
     },
     "metadata": {},
     "output_type": "display_data"
    }
   ],
   "source": [
    "submitNeuralNetwork(X_train, X_test, Y_train, Y_test)"
   ]
  },
  {
   "cell_type": "markdown",
   "metadata": {},
   "source": [
    "## Grid Search com Redes Neurais"
   ]
  },
  {
   "cell_type": "code",
   "execution_count": 56,
   "metadata": {},
   "outputs": [],
   "source": [
    "def NeuralNetwork_gs(X_train, X_test, Y_train, Y_test):\n",
    "    \n",
    "    cv_sets = ShuffleSplit(n_splits=5, test_size = 0.25)\n",
    "    \n",
    "    print(\"Using Neural Network with Grid Search...\")\n",
    "    scaler = StandardScaler()\n",
    "    X_train_sc = scaler.fit_transform(X_train)\n",
    "    X_test_sc = scaler.transform(X_test)\n",
    "\n",
    "    rn_regressor = MLPRegressor()\n",
    "\n",
    "    # neural network params\n",
    "    params = {\n",
    "        'hidden_layer_sizes':[(150,100,),(200,150,100,),(300,200,100)],\n",
    "        'activation':['relu'],\n",
    "        'solver':['sgd','adam'],\n",
    "        'learning_rate': ['constant','adaptive'],\n",
    "        'learning_rate_init':[.001],\n",
    "        'early_stopping':[True]\n",
    "    }\n",
    "\n",
    "    # Gerar o objeto de busca em matriz\n",
    "    grid = GridSearchCV(estimator = rn_regressor, param_grid = params, scoring='neg_mean_squared_error',cv=cv_sets, verbose=2,n_jobs = -1)\n",
    "\n",
    "    grid = grid.fit(X_train_sc, Y_train)\n",
    "\n",
    "    # Escolher o melhor estimador para predizer os dados de teste\n",
    "    best_model = grid.best_estimator_\n",
    "\n",
    "    print(\"Best Estimator: \\n{}\\n\".format(grid.best_estimator_))\n",
    "    print(\"Best Parameters: \\n{}\\n\".format(grid.best_params_))\n",
    "\n",
    "    pred_rn = best_model.predict(X_test_sc)\n",
    "  \n",
    "    resultados(Y_test, pred_rn, \"MLP Regressor\")\n",
    "\n",
    "    # Returns the trained model\n",
    "    return best_model\n",
    "    "
   ]
  },
  {
   "cell_type": "code",
   "execution_count": 57,
   "metadata": {},
   "outputs": [],
   "source": [
    "if (grid_search == \"MLPR\"):\n",
    "    rn_model = NeuralNetwork_gs(X_train, X_test, Y_train, Y_test)"
   ]
  },
  {
   "cell_type": "code",
   "execution_count": 58,
   "metadata": {},
   "outputs": [],
   "source": []
  }
 ],
 "metadata": {
  "kernelspec": {
   "display_name": "Python 3",
   "language": "python",
   "name": "python3"
  },
  "language_info": {
   "codemirror_mode": {
    "name": "ipython",
    "version": 3
   },
   "file_extension": ".py",
   "mimetype": "text/x-python",
   "name": "python",
   "nbconvert_exporter": "python",
   "pygments_lexer": "ipython3",
   "version": "3.6.4"
  }
 },
 "nbformat": 4,
 "nbformat_minor": 1
}
