{
  "nbformat": 4,
  "nbformat_minor": 0,
  "metadata": {
    "colab": {
      "name": "DS-Project2.ipynb",
      "version": "0.3.2",
      "provenance": [],
      "collapsed_sections": [],
      "include_colab_link": true
    },
    "kernelspec": {
      "name": "python3",
      "display_name": "Python 3"
    }
  },
  "cells": [
    {
      "cell_type": "markdown",
      "metadata": {
        "id": "view-in-github",
        "colab_type": "text"
      },
      "source": [
        "<a href=\"https://colab.research.google.com/github/thiagotandrade/ds_project/blob/master/DS_Project2.ipynb\" target=\"_parent\"><img src=\"https://colab.research.google.com/assets/colab-badge.svg\" alt=\"Open In Colab\"/></a>"
      ]
    },
    {
      "cell_type": "markdown",
      "metadata": {
        "id": "DzEAfgRiCCRj",
        "colab_type": "text"
      },
      "source": [
        "# TODO: \n",
        "\n",
        "# 1.   VISUALIZAR A DISPERSÃO DOS ERROS\n",
        "# 1.   COPIAR OUTROS KERNELS E VER DESEMPENHO\n",
        "\n",
        "[fine tuning xgboost hyperparameters](https://towardsdatascience.com/fine-tuning-xgboost-in-python-like-a-boss-b4543ed8b1e)\n",
        "\n",
        "\n",
        "[another tutorial on fine tuning xgboost hyperparameters](https://towardsdatascience.com/doing-xgboost-hyper-parameter-tuning-the-smart-way-part-1-of-2-f6d255a45dde)"
      ]
    },
    {
      "cell_type": "markdown",
      "metadata": {
        "id": "sVre2WUgKoi_",
        "colab_type": "text"
      },
      "source": [
        "# Competição do Kaggle: [Zillow Prize](https://www.kaggle.com/c/zillow-prize-1)"
      ]
    },
    {
      "cell_type": "markdown",
      "metadata": {
        "id": "0IPooS0RABuM",
        "colab_type": "text"
      },
      "source": [
        "# Initial Setup"
      ]
    },
    {
      "cell_type": "code",
      "metadata": {
        "id": "mP2_Ebqt4Q4N",
        "colab_type": "code",
        "trusted": true,
        "colab": {}
      },
      "source": [
        "import os\n",
        "import warnings\n",
        "import xgboost\n",
        "\n",
        "import numpy as np\n",
        "import pandas as pd\n",
        "import matplotlib.pyplot as plt\n",
        "import seaborn as sns \n",
        "\n",
        "from sklearn.linear_model import LinearRegression\n",
        "from sklearn.ensemble import RandomForestRegressor\n",
        "from sklearn.model_selection import GridSearchCV, RandomizedSearchCV, ShuffleSplit, train_test_split\n",
        "from sklearn.metrics import make_scorer, mean_absolute_error, r2_score\n",
        "\n",
        "%matplotlib inline\n",
        "warnings.filterwarnings(\"ignore\")"
      ],
      "execution_count": 0,
      "outputs": []
    },
    {
      "cell_type": "code",
      "metadata": {
        "id": "Q7zSVIF_35mX",
        "colab_type": "code",
        "trusted": true,
        "colab": {}
      },
      "source": [
        "props = pd.read_csv('../input/props.csv', header=0, sep=',', quotechar='\"')"
      ],
      "execution_count": 0,
      "outputs": []
    },
    {
      "cell_type": "code",
      "metadata": {
        "id": "VinzfNHI4aJR",
        "colab_type": "code",
        "outputId": "a98378ae-5d45-4776-eb61-a0710b29a59c",
        "trusted": true,
        "colab": {
          "base_uri": "https://localhost:8080/",
          "height": 224
        }
      },
      "source": [
        "props.head()"
      ],
      "execution_count": 0,
      "outputs": [
        {
          "output_type": "execute_result",
          "data": {
            "text/plain": [
              "   parcelid  airconditioningtypeid       ...         logerror  transactiondate\n",
              "0  17073783                    NaN       ...           0.0953       2016-01-27\n",
              "1  17088994                    NaN       ...           0.0198       2016-03-30\n",
              "2  17100444                    NaN       ...           0.0060       2016-05-27\n",
              "3  17102429                    NaN       ...          -0.0566       2016-06-07\n",
              "4  17109604                    NaN       ...           0.0573       2016-08-08\n",
              "\n",
              "[5 rows x 60 columns]"
            ],
            "text/html": [
              "<div>\n",
              "<style scoped>\n",
              "    .dataframe tbody tr th:only-of-type {\n",
              "        vertical-align: middle;\n",
              "    }\n",
              "\n",
              "    .dataframe tbody tr th {\n",
              "        vertical-align: top;\n",
              "    }\n",
              "\n",
              "    .dataframe thead th {\n",
              "        text-align: right;\n",
              "    }\n",
              "</style>\n",
              "<table border=\"1\" class=\"dataframe\">\n",
              "  <thead>\n",
              "    <tr style=\"text-align: right;\">\n",
              "      <th></th>\n",
              "      <th>parcelid</th>\n",
              "      <th>airconditioningtypeid</th>\n",
              "      <th>architecturalstyletypeid</th>\n",
              "      <th>basementsqft</th>\n",
              "      <th>bathroomcnt</th>\n",
              "      <th>bedroomcnt</th>\n",
              "      <th>buildingclasstypeid</th>\n",
              "      <th>buildingqualitytypeid</th>\n",
              "      <th>calculatedbathnbr</th>\n",
              "      <th>decktypeid</th>\n",
              "      <th>finishedfloor1squarefeet</th>\n",
              "      <th>calculatedfinishedsquarefeet</th>\n",
              "      <th>finishedsquarefeet12</th>\n",
              "      <th>finishedsquarefeet13</th>\n",
              "      <th>finishedsquarefeet15</th>\n",
              "      <th>finishedsquarefeet50</th>\n",
              "      <th>finishedsquarefeet6</th>\n",
              "      <th>fips</th>\n",
              "      <th>fireplacecnt</th>\n",
              "      <th>fullbathcnt</th>\n",
              "      <th>garagecarcnt</th>\n",
              "      <th>garagetotalsqft</th>\n",
              "      <th>hashottuborspa</th>\n",
              "      <th>heatingorsystemtypeid</th>\n",
              "      <th>latitude</th>\n",
              "      <th>longitude</th>\n",
              "      <th>lotsizesquarefeet</th>\n",
              "      <th>poolcnt</th>\n",
              "      <th>poolsizesum</th>\n",
              "      <th>pooltypeid10</th>\n",
              "      <th>pooltypeid2</th>\n",
              "      <th>pooltypeid7</th>\n",
              "      <th>propertycountylandusecode</th>\n",
              "      <th>propertylandusetypeid</th>\n",
              "      <th>propertyzoningdesc</th>\n",
              "      <th>rawcensustractandblock</th>\n",
              "      <th>regionidcity</th>\n",
              "      <th>regionidcounty</th>\n",
              "      <th>regionidneighborhood</th>\n",
              "      <th>regionidzip</th>\n",
              "      <th>roomcnt</th>\n",
              "      <th>storytypeid</th>\n",
              "      <th>threequarterbathnbr</th>\n",
              "      <th>typeconstructiontypeid</th>\n",
              "      <th>unitcnt</th>\n",
              "      <th>yardbuildingsqft17</th>\n",
              "      <th>yardbuildingsqft26</th>\n",
              "      <th>yearbuilt</th>\n",
              "      <th>numberofstories</th>\n",
              "      <th>fireplaceflag</th>\n",
              "      <th>structuretaxvaluedollarcnt</th>\n",
              "      <th>taxvaluedollarcnt</th>\n",
              "      <th>assessmentyear</th>\n",
              "      <th>landtaxvaluedollarcnt</th>\n",
              "      <th>taxamount</th>\n",
              "      <th>taxdelinquencyflag</th>\n",
              "      <th>taxdelinquencyyear</th>\n",
              "      <th>censustractandblock</th>\n",
              "      <th>logerror</th>\n",
              "      <th>transactiondate</th>\n",
              "    </tr>\n",
              "  </thead>\n",
              "  <tbody>\n",
              "    <tr>\n",
              "      <th>0</th>\n",
              "      <td>17073783</td>\n",
              "      <td>NaN</td>\n",
              "      <td>NaN</td>\n",
              "      <td>NaN</td>\n",
              "      <td>2.5</td>\n",
              "      <td>3.0</td>\n",
              "      <td>NaN</td>\n",
              "      <td>NaN</td>\n",
              "      <td>2.5</td>\n",
              "      <td>NaN</td>\n",
              "      <td>548.0</td>\n",
              "      <td>1264.0</td>\n",
              "      <td>1264.0</td>\n",
              "      <td>NaN</td>\n",
              "      <td>NaN</td>\n",
              "      <td>548.0</td>\n",
              "      <td>NaN</td>\n",
              "      <td>6111.0</td>\n",
              "      <td>NaN</td>\n",
              "      <td>2.0</td>\n",
              "      <td>2.0</td>\n",
              "      <td>0.0</td>\n",
              "      <td>NaN</td>\n",
              "      <td>NaN</td>\n",
              "      <td>34303597.0</td>\n",
              "      <td>-119287236.0</td>\n",
              "      <td>1735.0</td>\n",
              "      <td>NaN</td>\n",
              "      <td>NaN</td>\n",
              "      <td>NaN</td>\n",
              "      <td>NaN</td>\n",
              "      <td>NaN</td>\n",
              "      <td>1128</td>\n",
              "      <td>265.0</td>\n",
              "      <td>NaN</td>\n",
              "      <td>6.111002e+07</td>\n",
              "      <td>34543.0</td>\n",
              "      <td>2061.0</td>\n",
              "      <td>NaN</td>\n",
              "      <td>97081.0</td>\n",
              "      <td>5.0</td>\n",
              "      <td>NaN</td>\n",
              "      <td>1.0</td>\n",
              "      <td>NaN</td>\n",
              "      <td>NaN</td>\n",
              "      <td>128.0</td>\n",
              "      <td>NaN</td>\n",
              "      <td>1986.0</td>\n",
              "      <td>2.0</td>\n",
              "      <td>NaN</td>\n",
              "      <td>115087.0</td>\n",
              "      <td>191811.0</td>\n",
              "      <td>2015.0</td>\n",
              "      <td>76724.0</td>\n",
              "      <td>2015.06</td>\n",
              "      <td>NaN</td>\n",
              "      <td>NaN</td>\n",
              "      <td>6.111002e+13</td>\n",
              "      <td>0.0953</td>\n",
              "      <td>2016-01-27</td>\n",
              "    </tr>\n",
              "    <tr>\n",
              "      <th>1</th>\n",
              "      <td>17088994</td>\n",
              "      <td>NaN</td>\n",
              "      <td>NaN</td>\n",
              "      <td>NaN</td>\n",
              "      <td>1.0</td>\n",
              "      <td>2.0</td>\n",
              "      <td>NaN</td>\n",
              "      <td>NaN</td>\n",
              "      <td>1.0</td>\n",
              "      <td>NaN</td>\n",
              "      <td>777.0</td>\n",
              "      <td>777.0</td>\n",
              "      <td>777.0</td>\n",
              "      <td>NaN</td>\n",
              "      <td>NaN</td>\n",
              "      <td>777.0</td>\n",
              "      <td>NaN</td>\n",
              "      <td>6111.0</td>\n",
              "      <td>NaN</td>\n",
              "      <td>1.0</td>\n",
              "      <td>1.0</td>\n",
              "      <td>0.0</td>\n",
              "      <td>NaN</td>\n",
              "      <td>NaN</td>\n",
              "      <td>34272866.0</td>\n",
              "      <td>-119198911.0</td>\n",
              "      <td>NaN</td>\n",
              "      <td>NaN</td>\n",
              "      <td>NaN</td>\n",
              "      <td>NaN</td>\n",
              "      <td>NaN</td>\n",
              "      <td>NaN</td>\n",
              "      <td>1129</td>\n",
              "      <td>266.0</td>\n",
              "      <td>NaN</td>\n",
              "      <td>6.111002e+07</td>\n",
              "      <td>34543.0</td>\n",
              "      <td>2061.0</td>\n",
              "      <td>NaN</td>\n",
              "      <td>97083.0</td>\n",
              "      <td>4.0</td>\n",
              "      <td>NaN</td>\n",
              "      <td>NaN</td>\n",
              "      <td>NaN</td>\n",
              "      <td>NaN</td>\n",
              "      <td>198.0</td>\n",
              "      <td>NaN</td>\n",
              "      <td>1990.0</td>\n",
              "      <td>1.0</td>\n",
              "      <td>NaN</td>\n",
              "      <td>143809.0</td>\n",
              "      <td>239679.0</td>\n",
              "      <td>2015.0</td>\n",
              "      <td>95870.0</td>\n",
              "      <td>2581.30</td>\n",
              "      <td>NaN</td>\n",
              "      <td>NaN</td>\n",
              "      <td>6.111002e+13</td>\n",
              "      <td>0.0198</td>\n",
              "      <td>2016-03-30</td>\n",
              "    </tr>\n",
              "    <tr>\n",
              "      <th>2</th>\n",
              "      <td>17100444</td>\n",
              "      <td>NaN</td>\n",
              "      <td>NaN</td>\n",
              "      <td>NaN</td>\n",
              "      <td>2.0</td>\n",
              "      <td>3.0</td>\n",
              "      <td>NaN</td>\n",
              "      <td>NaN</td>\n",
              "      <td>2.0</td>\n",
              "      <td>NaN</td>\n",
              "      <td>1101.0</td>\n",
              "      <td>1101.0</td>\n",
              "      <td>1101.0</td>\n",
              "      <td>NaN</td>\n",
              "      <td>NaN</td>\n",
              "      <td>1101.0</td>\n",
              "      <td>NaN</td>\n",
              "      <td>6111.0</td>\n",
              "      <td>NaN</td>\n",
              "      <td>2.0</td>\n",
              "      <td>2.0</td>\n",
              "      <td>441.0</td>\n",
              "      <td>NaN</td>\n",
              "      <td>NaN</td>\n",
              "      <td>34340801.0</td>\n",
              "      <td>-119079610.0</td>\n",
              "      <td>6569.0</td>\n",
              "      <td>NaN</td>\n",
              "      <td>NaN</td>\n",
              "      <td>NaN</td>\n",
              "      <td>NaN</td>\n",
              "      <td>NaN</td>\n",
              "      <td>1111</td>\n",
              "      <td>261.0</td>\n",
              "      <td>NaN</td>\n",
              "      <td>6.111001e+07</td>\n",
              "      <td>26965.0</td>\n",
              "      <td>2061.0</td>\n",
              "      <td>NaN</td>\n",
              "      <td>97113.0</td>\n",
              "      <td>5.0</td>\n",
              "      <td>NaN</td>\n",
              "      <td>NaN</td>\n",
              "      <td>NaN</td>\n",
              "      <td>NaN</td>\n",
              "      <td>NaN</td>\n",
              "      <td>NaN</td>\n",
              "      <td>1956.0</td>\n",
              "      <td>1.0</td>\n",
              "      <td>NaN</td>\n",
              "      <td>33619.0</td>\n",
              "      <td>47853.0</td>\n",
              "      <td>2015.0</td>\n",
              "      <td>14234.0</td>\n",
              "      <td>591.64</td>\n",
              "      <td>NaN</td>\n",
              "      <td>NaN</td>\n",
              "      <td>6.111001e+13</td>\n",
              "      <td>0.0060</td>\n",
              "      <td>2016-05-27</td>\n",
              "    </tr>\n",
              "    <tr>\n",
              "      <th>3</th>\n",
              "      <td>17102429</td>\n",
              "      <td>NaN</td>\n",
              "      <td>NaN</td>\n",
              "      <td>NaN</td>\n",
              "      <td>1.5</td>\n",
              "      <td>2.0</td>\n",
              "      <td>NaN</td>\n",
              "      <td>NaN</td>\n",
              "      <td>1.5</td>\n",
              "      <td>NaN</td>\n",
              "      <td>1554.0</td>\n",
              "      <td>1554.0</td>\n",
              "      <td>1554.0</td>\n",
              "      <td>NaN</td>\n",
              "      <td>NaN</td>\n",
              "      <td>1554.0</td>\n",
              "      <td>NaN</td>\n",
              "      <td>6111.0</td>\n",
              "      <td>1.0</td>\n",
              "      <td>1.0</td>\n",
              "      <td>2.0</td>\n",
              "      <td>460.0</td>\n",
              "      <td>NaN</td>\n",
              "      <td>NaN</td>\n",
              "      <td>34354313.0</td>\n",
              "      <td>-119076405.0</td>\n",
              "      <td>7400.0</td>\n",
              "      <td>NaN</td>\n",
              "      <td>NaN</td>\n",
              "      <td>NaN</td>\n",
              "      <td>NaN</td>\n",
              "      <td>NaN</td>\n",
              "      <td>1110</td>\n",
              "      <td>261.0</td>\n",
              "      <td>NaN</td>\n",
              "      <td>6.111001e+07</td>\n",
              "      <td>26965.0</td>\n",
              "      <td>2061.0</td>\n",
              "      <td>NaN</td>\n",
              "      <td>97113.0</td>\n",
              "      <td>5.0</td>\n",
              "      <td>NaN</td>\n",
              "      <td>1.0</td>\n",
              "      <td>NaN</td>\n",
              "      <td>NaN</td>\n",
              "      <td>NaN</td>\n",
              "      <td>NaN</td>\n",
              "      <td>1965.0</td>\n",
              "      <td>1.0</td>\n",
              "      <td>NaN</td>\n",
              "      <td>45609.0</td>\n",
              "      <td>62914.0</td>\n",
              "      <td>2015.0</td>\n",
              "      <td>17305.0</td>\n",
              "      <td>682.78</td>\n",
              "      <td>NaN</td>\n",
              "      <td>NaN</td>\n",
              "      <td>6.111001e+13</td>\n",
              "      <td>-0.0566</td>\n",
              "      <td>2016-06-07</td>\n",
              "    </tr>\n",
              "    <tr>\n",
              "      <th>4</th>\n",
              "      <td>17109604</td>\n",
              "      <td>NaN</td>\n",
              "      <td>NaN</td>\n",
              "      <td>NaN</td>\n",
              "      <td>2.5</td>\n",
              "      <td>4.0</td>\n",
              "      <td>NaN</td>\n",
              "      <td>NaN</td>\n",
              "      <td>2.5</td>\n",
              "      <td>NaN</td>\n",
              "      <td>1305.0</td>\n",
              "      <td>2415.0</td>\n",
              "      <td>2415.0</td>\n",
              "      <td>NaN</td>\n",
              "      <td>NaN</td>\n",
              "      <td>1305.0</td>\n",
              "      <td>NaN</td>\n",
              "      <td>6111.0</td>\n",
              "      <td>1.0</td>\n",
              "      <td>2.0</td>\n",
              "      <td>2.0</td>\n",
              "      <td>665.0</td>\n",
              "      <td>NaN</td>\n",
              "      <td>NaN</td>\n",
              "      <td>34266578.0</td>\n",
              "      <td>-119165392.0</td>\n",
              "      <td>6326.0</td>\n",
              "      <td>NaN</td>\n",
              "      <td>NaN</td>\n",
              "      <td>NaN</td>\n",
              "      <td>NaN</td>\n",
              "      <td>NaN</td>\n",
              "      <td>1111</td>\n",
              "      <td>261.0</td>\n",
              "      <td>NaN</td>\n",
              "      <td>6.111001e+07</td>\n",
              "      <td>34543.0</td>\n",
              "      <td>2061.0</td>\n",
              "      <td>NaN</td>\n",
              "      <td>97084.0</td>\n",
              "      <td>8.0</td>\n",
              "      <td>NaN</td>\n",
              "      <td>1.0</td>\n",
              "      <td>NaN</td>\n",
              "      <td>NaN</td>\n",
              "      <td>NaN</td>\n",
              "      <td>NaN</td>\n",
              "      <td>1984.0</td>\n",
              "      <td>2.0</td>\n",
              "      <td>NaN</td>\n",
              "      <td>277000.0</td>\n",
              "      <td>554000.0</td>\n",
              "      <td>2015.0</td>\n",
              "      <td>277000.0</td>\n",
              "      <td>5886.92</td>\n",
              "      <td>NaN</td>\n",
              "      <td>NaN</td>\n",
              "      <td>6.111001e+13</td>\n",
              "      <td>0.0573</td>\n",
              "      <td>2016-08-08</td>\n",
              "    </tr>\n",
              "  </tbody>\n",
              "</table>\n",
              "</div>"
            ]
          },
          "metadata": {
            "tags": []
          },
          "execution_count": 104
        }
      ]
    },
    {
      "cell_type": "markdown",
      "metadata": {
        "id": "YUakemSYtqJc",
        "colab_type": "text"
      },
      "source": [
        "# Definição de tipos"
      ]
    },
    {
      "cell_type": "code",
      "metadata": {
        "id": "SsbbCSLctp6E",
        "colab_type": "code",
        "trusted": true,
        "colab": {}
      },
      "source": [
        "object_type = props.select_dtypes(include=['object']).columns.values\n",
        "props[object_type] = props[object_type].astype('category')\n",
        "\n",
        "#Mudar tipo da coluna transaction date para 'datetime64' e separando a data em colunas\n",
        "props['transactiondate'] = pd.to_datetime(props['transactiondate'])\n",
        "props['transaction_year'] = props['transactiondate'].dt.year\n",
        "props['transaction_month'] = props['transactiondate'].dt.month\n",
        "props['transaction_day'] = props['transactiondate'].dt.day\n",
        "props['transactiondate_quarter'] = props['transactiondate'].dt.quarter\n",
        "props.drop(['transactiondate'], axis=1, inplace=True)"
      ],
      "execution_count": 0,
      "outputs": []
    },
    {
      "cell_type": "markdown",
      "metadata": {
        "id": "eiw9sE9gj-_1",
        "colab_type": "text"
      },
      "source": [
        "# Remoção de dados ausentes"
      ]
    },
    {
      "cell_type": "code",
      "metadata": {
        "id": "ZHeolZyuj-gp",
        "colab_type": "code",
        "trusted": true,
        "colab": {}
      },
      "source": [
        "#A coluna 'fireplaceflag' não adiciona nenhuma informação útil pois o dataset já possui 'fireplacecnt', então removemos:\n",
        "props.drop(['fireplaceflag'], axis=1, inplace=True)\n",
        "\n",
        "#A coluna 'calculatedbathnbr' é uma cópia da coluna 'bathroomcnt', então removemos:\n",
        "props.drop(['calculatedbathnbr'], axis=1, inplace=True)\n",
        "\n",
        "#A coluna 'calculatedfinishedsquarefeet' é uma cópia da coluna 'finishedsquarefeet12', então removemos:\n",
        "props.drop(['calculatedfinishedsquarefeet'], axis=1, inplace=True)\n",
        "\n",
        "# Remover colunas com mais de 70% de dados ausentes\n",
        "props.dropna(thresh=0.70*len(props), axis=1, inplace=True)\n",
        "\n",
        "props.dropna(inplace=True)"
      ],
      "execution_count": 0,
      "outputs": []
    },
    {
      "cell_type": "code",
      "metadata": {
        "id": "6ejinXxNkxLT",
        "colab_type": "code",
        "outputId": "f60f9e9f-9596-4e89-bc67-80113591ae03",
        "trusted": true,
        "colab": {
          "base_uri": "https://localhost:8080/",
          "height": 34
        }
      },
      "source": [
        "props.shape"
      ],
      "execution_count": 0,
      "outputs": [
        {
          "output_type": "execute_result",
          "data": {
            "text/plain": [
              "(5653, 28)"
            ]
          },
          "metadata": {
            "tags": []
          },
          "execution_count": 107
        }
      ]
    },
    {
      "cell_type": "code",
      "metadata": {
        "id": "gcjaHXYOrRFZ",
        "colab_type": "code",
        "outputId": "64d7607f-f5de-4d35-d0b2-b193a81e5d80",
        "trusted": true,
        "colab": {
          "base_uri": "https://localhost:8080/",
          "height": 34
        }
      },
      "source": [
        "props.isnull().values.any()"
      ],
      "execution_count": 0,
      "outputs": [
        {
          "output_type": "execute_result",
          "data": {
            "text/plain": [
              "False"
            ]
          },
          "metadata": {
            "tags": []
          },
          "execution_count": 108
        }
      ]
    },
    {
      "cell_type": "code",
      "metadata": {
        "id": "1SQWloUMtNaQ",
        "colab_type": "code",
        "outputId": "b6a47efc-8e4b-496b-f531-020a7d7fbaad",
        "trusted": true,
        "colab": {
          "base_uri": "https://localhost:8080/",
          "height": 224
        }
      },
      "source": [
        "props.head()"
      ],
      "execution_count": 0,
      "outputs": [
        {
          "output_type": "execute_result",
          "data": {
            "text/plain": [
              "   parcelid           ...             transactiondate_quarter\n",
              "0  17073783           ...                                 1.0\n",
              "2  17100444           ...                                 2.0\n",
              "3  17102429           ...                                 2.0\n",
              "4  17109604           ...                                 3.0\n",
              "5  17125829           ...                                 3.0\n",
              "\n",
              "[5 rows x 28 columns]"
            ],
            "text/html": [
              "<div>\n",
              "<style scoped>\n",
              "    .dataframe tbody tr th:only-of-type {\n",
              "        vertical-align: middle;\n",
              "    }\n",
              "\n",
              "    .dataframe tbody tr th {\n",
              "        vertical-align: top;\n",
              "    }\n",
              "\n",
              "    .dataframe thead th {\n",
              "        text-align: right;\n",
              "    }\n",
              "</style>\n",
              "<table border=\"1\" class=\"dataframe\">\n",
              "  <thead>\n",
              "    <tr style=\"text-align: right;\">\n",
              "      <th></th>\n",
              "      <th>parcelid</th>\n",
              "      <th>bathroomcnt</th>\n",
              "      <th>bedroomcnt</th>\n",
              "      <th>finishedsquarefeet12</th>\n",
              "      <th>fips</th>\n",
              "      <th>fullbathcnt</th>\n",
              "      <th>latitude</th>\n",
              "      <th>longitude</th>\n",
              "      <th>lotsizesquarefeet</th>\n",
              "      <th>propertycountylandusecode</th>\n",
              "      <th>propertylandusetypeid</th>\n",
              "      <th>rawcensustractandblock</th>\n",
              "      <th>regionidcity</th>\n",
              "      <th>regionidcounty</th>\n",
              "      <th>regionidzip</th>\n",
              "      <th>roomcnt</th>\n",
              "      <th>yearbuilt</th>\n",
              "      <th>structuretaxvaluedollarcnt</th>\n",
              "      <th>taxvaluedollarcnt</th>\n",
              "      <th>assessmentyear</th>\n",
              "      <th>landtaxvaluedollarcnt</th>\n",
              "      <th>taxamount</th>\n",
              "      <th>censustractandblock</th>\n",
              "      <th>logerror</th>\n",
              "      <th>transaction_year</th>\n",
              "      <th>transaction_month</th>\n",
              "      <th>transaction_day</th>\n",
              "      <th>transactiondate_quarter</th>\n",
              "    </tr>\n",
              "  </thead>\n",
              "  <tbody>\n",
              "    <tr>\n",
              "      <th>0</th>\n",
              "      <td>17073783</td>\n",
              "      <td>2.5</td>\n",
              "      <td>3.0</td>\n",
              "      <td>1264.0</td>\n",
              "      <td>6111.0</td>\n",
              "      <td>2.0</td>\n",
              "      <td>34303597.0</td>\n",
              "      <td>-119287236.0</td>\n",
              "      <td>1735.0</td>\n",
              "      <td>1128</td>\n",
              "      <td>265.0</td>\n",
              "      <td>6.111002e+07</td>\n",
              "      <td>34543.0</td>\n",
              "      <td>2061.0</td>\n",
              "      <td>97081.0</td>\n",
              "      <td>5.0</td>\n",
              "      <td>1986.0</td>\n",
              "      <td>115087.0</td>\n",
              "      <td>191811.0</td>\n",
              "      <td>2015.0</td>\n",
              "      <td>76724.0</td>\n",
              "      <td>2015.06</td>\n",
              "      <td>6.111002e+13</td>\n",
              "      <td>0.0953</td>\n",
              "      <td>2016.0</td>\n",
              "      <td>1.0</td>\n",
              "      <td>27.0</td>\n",
              "      <td>1.0</td>\n",
              "    </tr>\n",
              "    <tr>\n",
              "      <th>2</th>\n",
              "      <td>17100444</td>\n",
              "      <td>2.0</td>\n",
              "      <td>3.0</td>\n",
              "      <td>1101.0</td>\n",
              "      <td>6111.0</td>\n",
              "      <td>2.0</td>\n",
              "      <td>34340801.0</td>\n",
              "      <td>-119079610.0</td>\n",
              "      <td>6569.0</td>\n",
              "      <td>1111</td>\n",
              "      <td>261.0</td>\n",
              "      <td>6.111001e+07</td>\n",
              "      <td>26965.0</td>\n",
              "      <td>2061.0</td>\n",
              "      <td>97113.0</td>\n",
              "      <td>5.0</td>\n",
              "      <td>1956.0</td>\n",
              "      <td>33619.0</td>\n",
              "      <td>47853.0</td>\n",
              "      <td>2015.0</td>\n",
              "      <td>14234.0</td>\n",
              "      <td>591.64</td>\n",
              "      <td>6.111001e+13</td>\n",
              "      <td>0.0060</td>\n",
              "      <td>2016.0</td>\n",
              "      <td>5.0</td>\n",
              "      <td>27.0</td>\n",
              "      <td>2.0</td>\n",
              "    </tr>\n",
              "    <tr>\n",
              "      <th>3</th>\n",
              "      <td>17102429</td>\n",
              "      <td>1.5</td>\n",
              "      <td>2.0</td>\n",
              "      <td>1554.0</td>\n",
              "      <td>6111.0</td>\n",
              "      <td>1.0</td>\n",
              "      <td>34354313.0</td>\n",
              "      <td>-119076405.0</td>\n",
              "      <td>7400.0</td>\n",
              "      <td>1110</td>\n",
              "      <td>261.0</td>\n",
              "      <td>6.111001e+07</td>\n",
              "      <td>26965.0</td>\n",
              "      <td>2061.0</td>\n",
              "      <td>97113.0</td>\n",
              "      <td>5.0</td>\n",
              "      <td>1965.0</td>\n",
              "      <td>45609.0</td>\n",
              "      <td>62914.0</td>\n",
              "      <td>2015.0</td>\n",
              "      <td>17305.0</td>\n",
              "      <td>682.78</td>\n",
              "      <td>6.111001e+13</td>\n",
              "      <td>-0.0566</td>\n",
              "      <td>2016.0</td>\n",
              "      <td>6.0</td>\n",
              "      <td>7.0</td>\n",
              "      <td>2.0</td>\n",
              "    </tr>\n",
              "    <tr>\n",
              "      <th>4</th>\n",
              "      <td>17109604</td>\n",
              "      <td>2.5</td>\n",
              "      <td>4.0</td>\n",
              "      <td>2415.0</td>\n",
              "      <td>6111.0</td>\n",
              "      <td>2.0</td>\n",
              "      <td>34266578.0</td>\n",
              "      <td>-119165392.0</td>\n",
              "      <td>6326.0</td>\n",
              "      <td>1111</td>\n",
              "      <td>261.0</td>\n",
              "      <td>6.111001e+07</td>\n",
              "      <td>34543.0</td>\n",
              "      <td>2061.0</td>\n",
              "      <td>97084.0</td>\n",
              "      <td>8.0</td>\n",
              "      <td>1984.0</td>\n",
              "      <td>277000.0</td>\n",
              "      <td>554000.0</td>\n",
              "      <td>2015.0</td>\n",
              "      <td>277000.0</td>\n",
              "      <td>5886.92</td>\n",
              "      <td>6.111001e+13</td>\n",
              "      <td>0.0573</td>\n",
              "      <td>2016.0</td>\n",
              "      <td>8.0</td>\n",
              "      <td>8.0</td>\n",
              "      <td>3.0</td>\n",
              "    </tr>\n",
              "    <tr>\n",
              "      <th>5</th>\n",
              "      <td>17125829</td>\n",
              "      <td>2.5</td>\n",
              "      <td>4.0</td>\n",
              "      <td>2882.0</td>\n",
              "      <td>6111.0</td>\n",
              "      <td>2.0</td>\n",
              "      <td>34240014.0</td>\n",
              "      <td>-119024793.0</td>\n",
              "      <td>10000.0</td>\n",
              "      <td>1111</td>\n",
              "      <td>261.0</td>\n",
              "      <td>6.111005e+07</td>\n",
              "      <td>51239.0</td>\n",
              "      <td>2061.0</td>\n",
              "      <td>97089.0</td>\n",
              "      <td>8.0</td>\n",
              "      <td>1980.0</td>\n",
              "      <td>222070.0</td>\n",
              "      <td>289609.0</td>\n",
              "      <td>2015.0</td>\n",
              "      <td>67539.0</td>\n",
              "      <td>3110.44</td>\n",
              "      <td>6.111005e+13</td>\n",
              "      <td>0.0564</td>\n",
              "      <td>2016.0</td>\n",
              "      <td>8.0</td>\n",
              "      <td>26.0</td>\n",
              "      <td>3.0</td>\n",
              "    </tr>\n",
              "  </tbody>\n",
              "</table>\n",
              "</div>"
            ]
          },
          "metadata": {
            "tags": []
          },
          "execution_count": 109
        }
      ]
    },
    {
      "cell_type": "markdown",
      "metadata": {
        "id": "MdjffKml2HBz",
        "colab_type": "text"
      },
      "source": [
        "# Definição de Tipos"
      ]
    },
    {
      "cell_type": "code",
      "metadata": {
        "id": "Zbs4CV8h2G0b",
        "colab_type": "code",
        "trusted": true,
        "colab": {}
      },
      "source": [
        ""
      ],
      "execution_count": 0,
      "outputs": []
    },
    {
      "cell_type": "markdown",
      "metadata": {
        "id": "Z_Tw3ltGEhJ6",
        "colab_type": "text"
      },
      "source": [
        "# Normalizando dados"
      ]
    },
    {
      "cell_type": "code",
      "metadata": {
        "id": "zMvTZICmH7k2",
        "colab_type": "code",
        "trusted": true,
        "colab": {}
      },
      "source": [
        ""
      ],
      "execution_count": 0,
      "outputs": []
    },
    {
      "cell_type": "markdown",
      "metadata": {
        "id": "3jkBpRGkIAB3",
        "colab_type": "text"
      },
      "source": [
        "# Separando em conjuntos de treinamento e teste"
      ]
    },
    {
      "cell_type": "code",
      "metadata": {
        "id": "bBdWhiIbCzbB",
        "colab_type": "code",
        "trusted": true,
        "colab": {}
      },
      "source": [
        "X = props.drop(['logerror'],axis=1)\n",
        "y = props['logerror']"
      ],
      "execution_count": 0,
      "outputs": []
    },
    {
      "cell_type": "code",
      "metadata": {
        "id": "0hauJVdnBzCp",
        "colab_type": "code",
        "trusted": true,
        "colab": {}
      },
      "source": [
        "#x_train, x_test, y_train, y_test = train_test_split(X, y, test_size=1/3, random_state=42)"
      ],
      "execution_count": 0,
      "outputs": []
    },
    {
      "cell_type": "markdown",
      "metadata": {
        "id": "gxL2sfGLAGJd",
        "colab_type": "text"
      },
      "source": [
        "# Linear Regressor para servir como baseline"
      ]
    },
    {
      "cell_type": "code",
      "metadata": {
        "id": "IHKJFKJp4cyc",
        "colab_type": "code",
        "trusted": true,
        "colab": {}
      },
      "source": [
        "def linearRegressor(X_train, Y_train, X_test, Y_test):\n",
        "  regressor = LinearRegression(fit_intercept=True)\n",
        "\n",
        "  model = regressor.fit(X_train, Y_train)\n",
        "\n",
        "  pred_LR = regressor.predict(X_test)\n",
        "  \n",
        "  plt.scatter(Y_test, pred_LR)\n",
        "  plt.xlabel(\"True Values\")\n",
        "  plt.ylabel(\"Predictions\")\n",
        "  \n",
        "  resultados(Y_test, pred_LR)"
      ],
      "execution_count": 0,
      "outputs": []
    },
    {
      "cell_type": "markdown",
      "metadata": {
        "id": "eBtqVZ2eGHlb",
        "colab_type": "text"
      },
      "source": [
        "# Random Forest Regressor"
      ]
    },
    {
      "cell_type": "code",
      "metadata": {
        "id": "_djHEZgZD8qr",
        "colab_type": "code",
        "trusted": true,
        "colab": {}
      },
      "source": [
        "def randomForestRegressor(X_train, Y_train, X_test, Y_test):\n",
        "  # Gerar conjuntos de validação-cruzada para o treinamento de dados\n",
        "  cv_sets = ShuffleSplit(n_splits=10, test_size = 0.25)\n",
        "\n",
        "  #n_estimators =10\n",
        "  rfr =  RandomForestRegressor(n_estimators=10, random_state=42)\n",
        "\n",
        "  # Number of trees in random forest\n",
        "  n_estimators = [int(x) for x in np.linspace(start = 100, stop = 1200, num = 12)]\n",
        "  # Number of features to consider at every split\n",
        "  max_features = ['auto', 'sqrt']\n",
        "  # Maximum number of levels in tree\n",
        "  max_depth = [int(x) for x in np.linspace(5, 30, num = 6)]\n",
        "  # max_depth.append(None)\n",
        "  # Minimum number of samples required to split a node\n",
        "  min_samples_split = [2, 5, 10, 15, 100]\n",
        "  # Minimum number of samples required at each leaf node\n",
        "  min_samples_leaf = [1, 2, 5, 10]\n",
        "  # Method of selecting samples for training each tree\n",
        "  # bootstrap = [True, False]\n",
        "\n",
        "  # Create the random grid\n",
        "  params = {'n_estimators': n_estimators,\n",
        "                 'max_features': max_features,\n",
        "                 'max_depth': max_depth,\n",
        "                 'min_samples_split': min_samples_split,\n",
        "                 'min_samples_leaf': min_samples_leaf}\n",
        "\n",
        "  #Transformar 'performance_metric' em uma função de pontuação utilizando 'make_scorer' \n",
        "  scoring_fnc = make_scorer(mean_absolute_error)\n",
        "\n",
        "  # Gerar o objeto de busca em matriz\n",
        "  grid = RandomizedSearchCV(estimator = rfr, param_distributions = params, scoring=scoring_fnc, cv=cv_sets, n_iter = 100, verbose=2)\n",
        "\n",
        "  # Ajustar o objeto de busca em matriz com os dados para calcular o modelo ótimo\n",
        "  grid = grid.fit(X_train, Y_train)\n",
        "\n",
        "  # Escolher o melhor estimador para predizer os dados de teste\n",
        "  best_rfr = grid.best_estimator_\n",
        "\n",
        "  print(\"Best Estimator: \\n{}\\n\".format(grid.best_estimator_))\n",
        "  print(\"Best Parameters: \\n{}\\n\".format(grid.best_params_))\n",
        "\n",
        "  pred_RFR = best_rfr.predict(X_test)\n",
        "  \n",
        "  resultados(Y_test, pred_RFR)"
      ],
      "execution_count": 0,
      "outputs": []
    },
    {
      "cell_type": "markdown",
      "metadata": {
        "id": "iV42KVbT0nUQ",
        "colab_type": "text"
      },
      "source": [
        "# XGBOOST"
      ]
    },
    {
      "cell_type": "code",
      "metadata": {
        "trusted": true,
        "id": "L7J51yXR0nUR",
        "colab_type": "code",
        "colab": {}
      },
      "source": [
        "def xgb(X_train, Y_train, X_test, Y_test):\n",
        "  model = xgboost.XGBRegressor(max_depth=17, gamma=0.3, learning_rate= 0.1)\n",
        "  model.fit(X_train, Y_train)\n",
        "  xgboost.plot_importance(model)\n",
        "  pred_xgb = model.predict(X_test)\n",
        "  resultados(Y_test, pred_xgb)"
      ],
      "execution_count": 0,
      "outputs": []
    },
    {
      "cell_type": "markdown",
      "metadata": {
        "id": "Gk4wfLbB0nUV",
        "colab_type": "text"
      },
      "source": [
        "# Função para imprimir resultados dos modelos"
      ]
    },
    {
      "cell_type": "code",
      "metadata": {
        "trusted": true,
        "id": "nwLQkDu60nUW",
        "colab_type": "code",
        "colab": {}
      },
      "source": [
        "def resultados(Y_test, predictions):\n",
        "  \n",
        "  #calculando o erro de uma árvore de decisão para regressão:\n",
        "  mae_RFR = mean_absolute_error(predictions, Y_test)\n",
        "  print (\"Erro médio absoluto: {}\".format(mae_RFR))\n",
        "\n",
        "  #Acurácia do modelo\n",
        "  r2_RFR = r2_score(predictions, Y_test)\n",
        "  print (\"Índice R² (score): {}\".format(r2_RFR))\n",
        "  \n",
        "  plt.figure()  \n",
        "  sns.set(style=\"whitegrid\")\n",
        "  # Plot the residuals after fitting\n",
        "  sns.residplot(predictions, Y_test, color=\"g\")"
      ],
      "execution_count": 0,
      "outputs": []
    },
    {
      "cell_type": "markdown",
      "metadata": {
        "id": "OyyNEbsQznf4",
        "colab_type": "text"
      },
      "source": [
        "# Filtrando dataset em relação ao munícipio com mais propriedades"
      ]
    },
    {
      "cell_type": "markdown",
      "metadata": {
        "id": "ltiF3lxI6Y2r",
        "colab_type": "text"
      },
      "source": [
        "### Encontrando o município que possui mais propriedades"
      ]
    },
    {
      "cell_type": "code",
      "metadata": {
        "id": "XnAAOk5lvjhE",
        "colab_type": "code",
        "outputId": "91834d29-2233-4334-c6e0-f658fa704a12",
        "trusted": true,
        "colab": {
          "base_uri": "https://localhost:8080/",
          "height": 204
        }
      },
      "source": [
        "props.propertycountylandusecode.value_counts()[props.propertycountylandusecode.value_counts() >0].head(10)"
      ],
      "execution_count": 0,
      "outputs": [
        {
          "output_type": "execute_result",
          "data": {
            "text/plain": [
              "0100    2344\n",
              "122     1087\n",
              "010C     695\n",
              "0101     550\n",
              "1111     315\n",
              "010E     166\n",
              "010D     130\n",
              "1         86\n",
              "1110      70\n",
              "34        36\n",
              "Name: propertycountylandusecode, dtype: int64"
            ]
          },
          "metadata": {
            "tags": []
          },
          "execution_count": 116
        }
      ]
    },
    {
      "cell_type": "code",
      "metadata": {
        "id": "Vbf3Bpiky8TB",
        "colab_type": "code",
        "outputId": "d6b92053-8ab1-41f0-d695-328426fe3ace",
        "trusted": true,
        "colab": {
          "base_uri": "https://localhost:8080/",
          "height": 34
        }
      },
      "source": [
        "props.propertycountylandusecode.value_counts().argmax()"
      ],
      "execution_count": 0,
      "outputs": [
        {
          "output_type": "execute_result",
          "data": {
            "text/plain": [
              "'0100'"
            ]
          },
          "metadata": {
            "tags": []
          },
          "execution_count": 117
        }
      ]
    },
    {
      "cell_type": "markdown",
      "metadata": {
        "id": "igkGa70n59Dt",
        "colab_type": "text"
      },
      "source": [
        "### props_county são as propriedades do município que contém mais casas"
      ]
    },
    {
      "cell_type": "code",
      "metadata": {
        "id": "nyzgzuk4y9EE",
        "colab_type": "code",
        "trusted": true,
        "colab": {}
      },
      "source": [
        "props_county = props[props.propertycountylandusecode == props.propertycountylandusecode.value_counts().argmax()]\n",
        "props_county.drop(['propertycountylandusecode'], axis=1, inplace=True)"
      ],
      "execution_count": 0,
      "outputs": []
    },
    {
      "cell_type": "code",
      "metadata": {
        "id": "xFZZ3WmxtoFb",
        "colab_type": "code",
        "outputId": "898e7e1f-527b-4704-9d7c-a2fb9260f212",
        "trusted": true,
        "colab": {
          "base_uri": "https://localhost:8080/",
          "height": 34
        }
      },
      "source": [
        "props_county.shape"
      ],
      "execution_count": 0,
      "outputs": [
        {
          "output_type": "execute_result",
          "data": {
            "text/plain": [
              "(2344, 27)"
            ]
          },
          "metadata": {
            "tags": []
          },
          "execution_count": 119
        }
      ]
    },
    {
      "cell_type": "code",
      "metadata": {
        "id": "131T9_dqz3cO",
        "colab_type": "code",
        "outputId": "9d8b0c58-203a-4477-ca64-f6da11f9e01d",
        "trusted": true,
        "colab": {
          "base_uri": "https://localhost:8080/",
          "height": 224
        }
      },
      "source": [
        "props_county.head()"
      ],
      "execution_count": 0,
      "outputs": [
        {
          "output_type": "execute_result",
          "data": {
            "text/plain": [
              "    parcelid           ...             transactiondate_quarter\n",
              "27  10727091           ...                                 4.0\n",
              "28  10730788           ...                                 3.0\n",
              "32  10760933           ...                                 2.0\n",
              "33  10772282           ...                                 2.0\n",
              "34  10783331           ...                                 1.0\n",
              "\n",
              "[5 rows x 27 columns]"
            ],
            "text/html": [
              "<div>\n",
              "<style scoped>\n",
              "    .dataframe tbody tr th:only-of-type {\n",
              "        vertical-align: middle;\n",
              "    }\n",
              "\n",
              "    .dataframe tbody tr th {\n",
              "        vertical-align: top;\n",
              "    }\n",
              "\n",
              "    .dataframe thead th {\n",
              "        text-align: right;\n",
              "    }\n",
              "</style>\n",
              "<table border=\"1\" class=\"dataframe\">\n",
              "  <thead>\n",
              "    <tr style=\"text-align: right;\">\n",
              "      <th></th>\n",
              "      <th>parcelid</th>\n",
              "      <th>bathroomcnt</th>\n",
              "      <th>bedroomcnt</th>\n",
              "      <th>finishedsquarefeet12</th>\n",
              "      <th>fips</th>\n",
              "      <th>fullbathcnt</th>\n",
              "      <th>latitude</th>\n",
              "      <th>longitude</th>\n",
              "      <th>lotsizesquarefeet</th>\n",
              "      <th>propertylandusetypeid</th>\n",
              "      <th>rawcensustractandblock</th>\n",
              "      <th>regionidcity</th>\n",
              "      <th>regionidcounty</th>\n",
              "      <th>regionidzip</th>\n",
              "      <th>roomcnt</th>\n",
              "      <th>yearbuilt</th>\n",
              "      <th>structuretaxvaluedollarcnt</th>\n",
              "      <th>taxvaluedollarcnt</th>\n",
              "      <th>assessmentyear</th>\n",
              "      <th>landtaxvaluedollarcnt</th>\n",
              "      <th>taxamount</th>\n",
              "      <th>censustractandblock</th>\n",
              "      <th>logerror</th>\n",
              "      <th>transaction_year</th>\n",
              "      <th>transaction_month</th>\n",
              "      <th>transaction_day</th>\n",
              "      <th>transactiondate_quarter</th>\n",
              "    </tr>\n",
              "  </thead>\n",
              "  <tbody>\n",
              "    <tr>\n",
              "      <th>27</th>\n",
              "      <td>10727091</td>\n",
              "      <td>2.0</td>\n",
              "      <td>3.0</td>\n",
              "      <td>1160.0</td>\n",
              "      <td>6037.0</td>\n",
              "      <td>2.0</td>\n",
              "      <td>34188121.0</td>\n",
              "      <td>-118646361.0</td>\n",
              "      <td>7688.0</td>\n",
              "      <td>261.0</td>\n",
              "      <td>6.037135e+07</td>\n",
              "      <td>12447.0</td>\n",
              "      <td>3101.0</td>\n",
              "      <td>96342.0</td>\n",
              "      <td>0.0</td>\n",
              "      <td>1960.0</td>\n",
              "      <td>105045.0</td>\n",
              "      <td>437584.0</td>\n",
              "      <td>2015.0</td>\n",
              "      <td>332539.0</td>\n",
              "      <td>5421.96</td>\n",
              "      <td>6.037135e+13</td>\n",
              "      <td>0.0030</td>\n",
              "      <td>2016.0</td>\n",
              "      <td>10.0</td>\n",
              "      <td>14.0</td>\n",
              "      <td>4.0</td>\n",
              "    </tr>\n",
              "    <tr>\n",
              "      <th>28</th>\n",
              "      <td>10730788</td>\n",
              "      <td>2.0</td>\n",
              "      <td>4.0</td>\n",
              "      <td>1570.0</td>\n",
              "      <td>6037.0</td>\n",
              "      <td>2.0</td>\n",
              "      <td>34188446.0</td>\n",
              "      <td>-118616724.0</td>\n",
              "      <td>11308.0</td>\n",
              "      <td>261.0</td>\n",
              "      <td>6.037135e+07</td>\n",
              "      <td>12447.0</td>\n",
              "      <td>3101.0</td>\n",
              "      <td>96342.0</td>\n",
              "      <td>0.0</td>\n",
              "      <td>1959.0</td>\n",
              "      <td>115379.0</td>\n",
              "      <td>397138.0</td>\n",
              "      <td>2015.0</td>\n",
              "      <td>281759.0</td>\n",
              "      <td>5097.78</td>\n",
              "      <td>6.037135e+13</td>\n",
              "      <td>-0.0020</td>\n",
              "      <td>2016.0</td>\n",
              "      <td>7.0</td>\n",
              "      <td>1.0</td>\n",
              "      <td>3.0</td>\n",
              "    </tr>\n",
              "    <tr>\n",
              "      <th>32</th>\n",
              "      <td>10760933</td>\n",
              "      <td>2.0</td>\n",
              "      <td>4.0</td>\n",
              "      <td>1212.0</td>\n",
              "      <td>6037.0</td>\n",
              "      <td>2.0</td>\n",
              "      <td>34220631.0</td>\n",
              "      <td>-118521001.0</td>\n",
              "      <td>7379.0</td>\n",
              "      <td>261.0</td>\n",
              "      <td>6.037131e+07</td>\n",
              "      <td>12447.0</td>\n",
              "      <td>3101.0</td>\n",
              "      <td>96355.0</td>\n",
              "      <td>0.0</td>\n",
              "      <td>1954.0</td>\n",
              "      <td>32615.0</td>\n",
              "      <td>56867.0</td>\n",
              "      <td>2015.0</td>\n",
              "      <td>24252.0</td>\n",
              "      <td>4560.02</td>\n",
              "      <td>6.037131e+13</td>\n",
              "      <td>-0.1244</td>\n",
              "      <td>2016.0</td>\n",
              "      <td>6.0</td>\n",
              "      <td>27.0</td>\n",
              "      <td>2.0</td>\n",
              "    </tr>\n",
              "    <tr>\n",
              "      <th>33</th>\n",
              "      <td>10772282</td>\n",
              "      <td>3.0</td>\n",
              "      <td>4.0</td>\n",
              "      <td>2597.0</td>\n",
              "      <td>6037.0</td>\n",
              "      <td>3.0</td>\n",
              "      <td>34209413.0</td>\n",
              "      <td>-118578052.0</td>\n",
              "      <td>10537.0</td>\n",
              "      <td>261.0</td>\n",
              "      <td>6.037134e+07</td>\n",
              "      <td>12447.0</td>\n",
              "      <td>3101.0</td>\n",
              "      <td>96341.0</td>\n",
              "      <td>0.0</td>\n",
              "      <td>1964.0</td>\n",
              "      <td>234987.0</td>\n",
              "      <td>391643.0</td>\n",
              "      <td>2015.0</td>\n",
              "      <td>156656.0</td>\n",
              "      <td>4998.86</td>\n",
              "      <td>6.037134e+13</td>\n",
              "      <td>0.0545</td>\n",
              "      <td>2016.0</td>\n",
              "      <td>4.0</td>\n",
              "      <td>15.0</td>\n",
              "      <td>2.0</td>\n",
              "    </tr>\n",
              "    <tr>\n",
              "      <th>34</th>\n",
              "      <td>10783331</td>\n",
              "      <td>2.0</td>\n",
              "      <td>3.0</td>\n",
              "      <td>1742.0</td>\n",
              "      <td>6037.0</td>\n",
              "      <td>2.0</td>\n",
              "      <td>34185891.0</td>\n",
              "      <td>-118550426.0</td>\n",
              "      <td>7076.0</td>\n",
              "      <td>261.0</td>\n",
              "      <td>6.037133e+07</td>\n",
              "      <td>12447.0</td>\n",
              "      <td>3101.0</td>\n",
              "      <td>96364.0</td>\n",
              "      <td>0.0</td>\n",
              "      <td>1953.0</td>\n",
              "      <td>192864.0</td>\n",
              "      <td>471448.0</td>\n",
              "      <td>2015.0</td>\n",
              "      <td>278584.0</td>\n",
              "      <td>5784.98</td>\n",
              "      <td>6.037133e+13</td>\n",
              "      <td>0.0070</td>\n",
              "      <td>2016.0</td>\n",
              "      <td>2.0</td>\n",
              "      <td>25.0</td>\n",
              "      <td>1.0</td>\n",
              "    </tr>\n",
              "  </tbody>\n",
              "</table>\n",
              "</div>"
            ]
          },
          "metadata": {
            "tags": []
          },
          "execution_count": 120
        }
      ]
    },
    {
      "cell_type": "code",
      "metadata": {
        "trusted": true,
        "id": "DvsnWAeG0nUy",
        "colab_type": "code",
        "colab": {},
        "outputId": "2da8aa37-36ec-4bd5-8d82-914e1494a327"
      },
      "source": [
        "props_county.describe()"
      ],
      "execution_count": 0,
      "outputs": [
        {
          "output_type": "execute_result",
          "data": {
            "text/plain": [
              "           parcelid           ...             transactiondate_quarter\n",
              "count  2.344000e+03           ...                         2344.000000\n",
              "mean   1.192160e+07           ...                            2.285836\n",
              "std    7.080519e+05           ...                            0.945481\n",
              "min    1.071438e+07           ...                            1.000000\n",
              "25%    1.126846e+07           ...                            2.000000\n",
              "50%    1.196765e+07           ...                            2.000000\n",
              "75%    1.252388e+07           ...                            3.000000\n",
              "max    1.309793e+07           ...                            4.000000\n",
              "\n",
              "[8 rows x 27 columns]"
            ],
            "text/html": [
              "<div>\n",
              "<style scoped>\n",
              "    .dataframe tbody tr th:only-of-type {\n",
              "        vertical-align: middle;\n",
              "    }\n",
              "\n",
              "    .dataframe tbody tr th {\n",
              "        vertical-align: top;\n",
              "    }\n",
              "\n",
              "    .dataframe thead th {\n",
              "        text-align: right;\n",
              "    }\n",
              "</style>\n",
              "<table border=\"1\" class=\"dataframe\">\n",
              "  <thead>\n",
              "    <tr style=\"text-align: right;\">\n",
              "      <th></th>\n",
              "      <th>parcelid</th>\n",
              "      <th>bathroomcnt</th>\n",
              "      <th>bedroomcnt</th>\n",
              "      <th>finishedsquarefeet12</th>\n",
              "      <th>fips</th>\n",
              "      <th>fullbathcnt</th>\n",
              "      <th>latitude</th>\n",
              "      <th>longitude</th>\n",
              "      <th>lotsizesquarefeet</th>\n",
              "      <th>propertylandusetypeid</th>\n",
              "      <th>rawcensustractandblock</th>\n",
              "      <th>regionidcity</th>\n",
              "      <th>regionidcounty</th>\n",
              "      <th>regionidzip</th>\n",
              "      <th>roomcnt</th>\n",
              "      <th>yearbuilt</th>\n",
              "      <th>structuretaxvaluedollarcnt</th>\n",
              "      <th>taxvaluedollarcnt</th>\n",
              "      <th>assessmentyear</th>\n",
              "      <th>landtaxvaluedollarcnt</th>\n",
              "      <th>taxamount</th>\n",
              "      <th>censustractandblock</th>\n",
              "      <th>logerror</th>\n",
              "      <th>transaction_year</th>\n",
              "      <th>transaction_month</th>\n",
              "      <th>transaction_day</th>\n",
              "      <th>transactiondate_quarter</th>\n",
              "    </tr>\n",
              "  </thead>\n",
              "  <tbody>\n",
              "    <tr>\n",
              "      <th>count</th>\n",
              "      <td>2.344000e+03</td>\n",
              "      <td>2344.000000</td>\n",
              "      <td>2344.000000</td>\n",
              "      <td>2344.000000</td>\n",
              "      <td>2344.0</td>\n",
              "      <td>2344.000000</td>\n",
              "      <td>2.344000e+03</td>\n",
              "      <td>2.344000e+03</td>\n",
              "      <td>2344.000000</td>\n",
              "      <td>2344.0</td>\n",
              "      <td>2.344000e+03</td>\n",
              "      <td>2344.000000</td>\n",
              "      <td>2344.0</td>\n",
              "      <td>2344.000000</td>\n",
              "      <td>2344.0</td>\n",
              "      <td>2344.000000</td>\n",
              "      <td>2.344000e+03</td>\n",
              "      <td>2.344000e+03</td>\n",
              "      <td>2344.0</td>\n",
              "      <td>2.344000e+03</td>\n",
              "      <td>2344.000000</td>\n",
              "      <td>2.344000e+03</td>\n",
              "      <td>2344.000000</td>\n",
              "      <td>2344.0</td>\n",
              "      <td>2344.000000</td>\n",
              "      <td>2344.000000</td>\n",
              "      <td>2344.000000</td>\n",
              "    </tr>\n",
              "    <tr>\n",
              "      <th>mean</th>\n",
              "      <td>1.192160e+07</td>\n",
              "      <td>1.988908</td>\n",
              "      <td>3.077645</td>\n",
              "      <td>1629.866894</td>\n",
              "      <td>6037.0</td>\n",
              "      <td>1.988908</td>\n",
              "      <td>3.410875e+07</td>\n",
              "      <td>-1.182240e+08</td>\n",
              "      <td>9298.603669</td>\n",
              "      <td>261.0</td>\n",
              "      <td>6.037462e+07</td>\n",
              "      <td>35013.481655</td>\n",
              "      <td>3101.0</td>\n",
              "      <td>96376.772184</td>\n",
              "      <td>0.0</td>\n",
              "      <td>1954.729096</td>\n",
              "      <td>1.388463e+05</td>\n",
              "      <td>3.776625e+05</td>\n",
              "      <td>2015.0</td>\n",
              "      <td>2.388161e+05</td>\n",
              "      <td>5389.439983</td>\n",
              "      <td>6.037463e+13</td>\n",
              "      <td>0.018961</td>\n",
              "      <td>2016.0</td>\n",
              "      <td>5.869027</td>\n",
              "      <td>16.307594</td>\n",
              "      <td>2.285836</td>\n",
              "    </tr>\n",
              "    <tr>\n",
              "      <th>std</th>\n",
              "      <td>7.080519e+05</td>\n",
              "      <td>0.856725</td>\n",
              "      <td>0.857760</td>\n",
              "      <td>734.922599</td>\n",
              "      <td>0.0</td>\n",
              "      <td>0.856725</td>\n",
              "      <td>2.387296e+05</td>\n",
              "      <td>2.045249e+05</td>\n",
              "      <td>17345.861556</td>\n",
              "      <td>0.0</td>\n",
              "      <td>2.480628e+03</td>\n",
              "      <td>56416.757967</td>\n",
              "      <td>0.0</td>\n",
              "      <td>382.957531</td>\n",
              "      <td>0.0</td>\n",
              "      <td>22.883876</td>\n",
              "      <td>1.437642e+05</td>\n",
              "      <td>4.229484e+05</td>\n",
              "      <td>0.0</td>\n",
              "      <td>3.102218e+05</td>\n",
              "      <td>7132.756212</td>\n",
              "      <td>2.480867e+09</td>\n",
              "      <td>0.190906</td>\n",
              "      <td>0.0</td>\n",
              "      <td>2.844287</td>\n",
              "      <td>9.085294</td>\n",
              "      <td>0.945481</td>\n",
              "    </tr>\n",
              "    <tr>\n",
              "      <th>min</th>\n",
              "      <td>1.071438e+07</td>\n",
              "      <td>1.000000</td>\n",
              "      <td>0.000000</td>\n",
              "      <td>432.000000</td>\n",
              "      <td>6037.0</td>\n",
              "      <td>1.000000</td>\n",
              "      <td>3.370999e+07</td>\n",
              "      <td>-1.189082e+08</td>\n",
              "      <td>1121.000000</td>\n",
              "      <td>261.0</td>\n",
              "      <td>6.037101e+07</td>\n",
              "      <td>4406.000000</td>\n",
              "      <td>3101.0</td>\n",
              "      <td>95982.000000</td>\n",
              "      <td>0.0</td>\n",
              "      <td>1890.000000</td>\n",
              "      <td>1.019000e+03</td>\n",
              "      <td>1.112200e+04</td>\n",
              "      <td>2015.0</td>\n",
              "      <td>3.700000e+03</td>\n",
              "      <td>287.170000</td>\n",
              "      <td>6.037101e+13</td>\n",
              "      <td>-1.737000</td>\n",
              "      <td>2016.0</td>\n",
              "      <td>1.000000</td>\n",
              "      <td>1.000000</td>\n",
              "      <td>1.000000</td>\n",
              "    </tr>\n",
              "    <tr>\n",
              "      <th>25%</th>\n",
              "      <td>1.126846e+07</td>\n",
              "      <td>1.000000</td>\n",
              "      <td>3.000000</td>\n",
              "      <td>1148.000000</td>\n",
              "      <td>6037.0</td>\n",
              "      <td>1.000000</td>\n",
              "      <td>3.393775e+07</td>\n",
              "      <td>-1.183762e+08</td>\n",
              "      <td>5501.750000</td>\n",
              "      <td>261.0</td>\n",
              "      <td>6.037240e+07</td>\n",
              "      <td>12447.000000</td>\n",
              "      <td>3101.0</td>\n",
              "      <td>96121.000000</td>\n",
              "      <td>0.0</td>\n",
              "      <td>1941.000000</td>\n",
              "      <td>6.267400e+04</td>\n",
              "      <td>1.393300e+05</td>\n",
              "      <td>2015.0</td>\n",
              "      <td>4.818900e+04</td>\n",
              "      <td>2535.027500</td>\n",
              "      <td>6.037241e+13</td>\n",
              "      <td>-0.030500</td>\n",
              "      <td>2016.0</td>\n",
              "      <td>4.000000</td>\n",
              "      <td>8.000000</td>\n",
              "      <td>2.000000</td>\n",
              "    </tr>\n",
              "    <tr>\n",
              "      <th>50%</th>\n",
              "      <td>1.196765e+07</td>\n",
              "      <td>2.000000</td>\n",
              "      <td>3.000000</td>\n",
              "      <td>1457.000000</td>\n",
              "      <td>6037.0</td>\n",
              "      <td>2.000000</td>\n",
              "      <td>3.407139e+07</td>\n",
              "      <td>-1.182228e+08</td>\n",
              "      <td>6610.000000</td>\n",
              "      <td>261.0</td>\n",
              "      <td>6.037461e+07</td>\n",
              "      <td>16677.000000</td>\n",
              "      <td>3101.0</td>\n",
              "      <td>96268.000000</td>\n",
              "      <td>0.0</td>\n",
              "      <td>1953.000000</td>\n",
              "      <td>1.046545e+05</td>\n",
              "      <td>2.790000e+05</td>\n",
              "      <td>2015.0</td>\n",
              "      <td>1.551905e+05</td>\n",
              "      <td>4128.180000</td>\n",
              "      <td>6.037461e+13</td>\n",
              "      <td>0.005000</td>\n",
              "      <td>2016.0</td>\n",
              "      <td>6.000000</td>\n",
              "      <td>16.000000</td>\n",
              "      <td>2.000000</td>\n",
              "    </tr>\n",
              "    <tr>\n",
              "      <th>75%</th>\n",
              "      <td>1.252388e+07</td>\n",
              "      <td>2.000000</td>\n",
              "      <td>4.000000</td>\n",
              "      <td>1884.000000</td>\n",
              "      <td>6037.0</td>\n",
              "      <td>2.000000</td>\n",
              "      <td>3.419415e+07</td>\n",
              "      <td>-1.180911e+08</td>\n",
              "      <td>8195.500000</td>\n",
              "      <td>261.0</td>\n",
              "      <td>6.037577e+07</td>\n",
              "      <td>45398.000000</td>\n",
              "      <td>3101.0</td>\n",
              "      <td>96465.000000</td>\n",
              "      <td>0.0</td>\n",
              "      <td>1964.000000</td>\n",
              "      <td>1.647450e+05</td>\n",
              "      <td>4.520000e+05</td>\n",
              "      <td>2015.0</td>\n",
              "      <td>3.088650e+05</td>\n",
              "      <td>6180.585000</td>\n",
              "      <td>6.037577e+13</td>\n",
              "      <td>0.042100</td>\n",
              "      <td>2016.0</td>\n",
              "      <td>8.000000</td>\n",
              "      <td>24.000000</td>\n",
              "      <td>3.000000</td>\n",
              "    </tr>\n",
              "    <tr>\n",
              "      <th>max</th>\n",
              "      <td>1.309793e+07</td>\n",
              "      <td>7.000000</td>\n",
              "      <td>7.000000</td>\n",
              "      <td>8163.000000</td>\n",
              "      <td>6037.0</td>\n",
              "      <td>7.000000</td>\n",
              "      <td>3.476244e+07</td>\n",
              "      <td>-1.176521e+08</td>\n",
              "      <td>444403.000000</td>\n",
              "      <td>261.0</td>\n",
              "      <td>6.037930e+07</td>\n",
              "      <td>396556.000000</td>\n",
              "      <td>3101.0</td>\n",
              "      <td>97344.000000</td>\n",
              "      <td>0.0</td>\n",
              "      <td>2011.000000</td>\n",
              "      <td>1.933256e+06</td>\n",
              "      <td>6.935864e+06</td>\n",
              "      <td>2015.0</td>\n",
              "      <td>5.201898e+06</td>\n",
              "      <td>248725.740000</td>\n",
              "      <td>6.037930e+13</td>\n",
              "      <td>2.758000</td>\n",
              "      <td>2016.0</td>\n",
              "      <td>12.000000</td>\n",
              "      <td>31.000000</td>\n",
              "      <td>4.000000</td>\n",
              "    </tr>\n",
              "  </tbody>\n",
              "</table>\n",
              "</div>"
            ]
          },
          "metadata": {
            "tags": []
          },
          "execution_count": 121
        }
      ]
    },
    {
      "cell_type": "code",
      "metadata": {
        "id": "AtN28xgnz4sy",
        "colab_type": "code",
        "trusted": true,
        "colab": {}
      },
      "source": [
        "ids = props_county.parcelid\n",
        "X_train, X_test, Y_train, Y_test = train_test_split(props_county.drop(['logerror', 'parcelid'], axis=1), props_county.logerror, test_size=1/3, random_state=42)"
      ],
      "execution_count": 0,
      "outputs": []
    },
    {
      "cell_type": "code",
      "metadata": {
        "trusted": true,
        "id": "k4vOJwBx0nU4",
        "colab_type": "code",
        "colab": {},
        "outputId": "5ea60180-c2f9-4e76-97ea-8c377d21ff08"
      },
      "source": [
        "# Se já rodou o gridsearch para determinar melhor estimador, deixar comentado\n",
        "#randomForestRegressor(X_train, Y_train, X_test, Y_test)\n",
        "\n",
        "'''\n",
        "Best Parameters: \n",
        "{'n_estimators': 200, 'min_samples_split': 5, 'min_samples_leaf': 1, 'max_features': 'auto', 'max_depth': 25}\n",
        "\n",
        "Best Test Score: \n",
        "0.10010858167899093\n",
        "'''"
      ],
      "execution_count": 0,
      "outputs": [
        {
          "output_type": "execute_result",
          "data": {
            "text/plain": [
              "\"\\nBest Parameters: \\n{'n_estimators': 200, 'min_samples_split': 5, 'min_samples_leaf': 1, 'max_features': 'auto', 'max_depth': 25}\\n\\nBest Test Score: \\n0.10010858167899093\\n\""
            ]
          },
          "metadata": {
            "tags": []
          },
          "execution_count": 123
        }
      ]
    },
    {
      "cell_type": "code",
      "metadata": {
        "id": "yoAYxu0T4YWF",
        "colab_type": "code",
        "outputId": "82964b21-4c15-43e8-b628-70ef2115612e",
        "trusted": true,
        "colab": {
          "base_uri": "https://localhost:8080/",
          "height": 731
        }
      },
      "source": [
        "# Comentar esta célula caso deseje utilizar o gridsearch para tunar hiperparametros\n",
        "\n",
        "# Modelo com hiperparametros tunados\n",
        "best_rfr = RandomForestRegressor(bootstrap=True, criterion='mse', max_depth=25,\n",
        "           max_features='auto', max_leaf_nodes=None,\n",
        "           min_impurity_decrease=0.0, min_impurity_split=None,\n",
        "           min_samples_leaf=1, min_samples_split=5,\n",
        "           min_weight_fraction_leaf=0.0, n_estimators=200, n_jobs=None,\n",
        "           oob_score=False, random_state=42, verbose=0, warm_start=False)\n",
        "\n",
        "best_rfr.fit(X_train, Y_train)\n",
        "predictions_best_rfr = best_rfr.predict(X_test)\n",
        "resultados(Y_test, predictions_best_rfr)\n",
        "\n",
        "\n",
        "\n"
      ],
      "execution_count": 0,
      "outputs": [
        {
          "output_type": "stream",
          "text": [
            "Erro médio absoluto: 0.08944505453396136\n",
            "Índice R² (score): -2.99296399188032\n"
          ],
          "name": "stdout"
        },
        {
          "output_type": "display_data",
          "data": {
            "text/plain": [
              "<Figure size 432x288 with 1 Axes>"
            ],
            "image/png": "[encoded data removed]"
          },
          "metadata": {
            "tags": []
          }
        }
      ]
    },
    {
      "cell_type": "code",
      "metadata": {
        "id": "TcuPAmaW8gkY",
        "colab_type": "code",
        "trusted": true,
        "colab": {},
        "outputId": "6288d21e-62d7-41fa-eb58-96d4d47822f4"
      },
      "source": [
        "linearRegressor(X_train, Y_train, X_test, Y_test)"
      ],
      "execution_count": 0,
      "outputs": [
        {
          "output_type": "stream",
          "text": [
            "Erro médio absoluto: 0.07815051430668678\n",
            "Índice R² (score): -14.846726698720582\n"
          ],
          "name": "stdout"
        },
        {
          "output_type": "display_data",
          "data": {
            "text/plain": [
              "<Figure size 432x288 with 1 Axes>"
            ],
            "image/png": "[encoded data removed]"
          },
          "metadata": {
            "tags": []
          }
        },
        {
          "output_type": "display_data",
          "data": {
            "text/plain": [
              "<Figure size 432x288 with 1 Axes>"
            ],
            "image/png": "[encoded data removed]"
          },
          "metadata": {
            "tags": []
          }
        }
      ]
    },
    {
      "cell_type": "code",
      "metadata": {
        "trusted": true,
        "id": "jvakklmw0nVC",
        "colab_type": "code",
        "colab": {},
        "outputId": "46a3095d-ed21-429e-d84e-e3f86b8f5627"
      },
      "source": [
        "xgb(X_train, Y_train, X_test, Y_test)"
      ],
      "execution_count": 0,
      "outputs": [
        {
          "output_type": "stream",
          "text": [
            "Erro médio absoluto: 0.09228856442681968\n",
            "Índice R² (score): -1.6893699052643365\n"
          ],
          "name": "stdout"
        },
        {
          "output_type": "display_data",
          "data": {
            "text/plain": [
              "<Figure size 432x288 with 1 Axes>"
            ],
            "image/png": "[encoded data removed]"
          },
          "metadata": {
            "tags": []
          }
        },
        {
          "output_type": "display_data",
          "data": {
            "text/plain": [
              "<Figure size 432x288 with 1 Axes>"
            ],
            "image/png": "[encoded data removed]"
          },
          "metadata": {
            "tags": []
          }
        }
      ]
    },
    {
      "cell_type": "code",
      "metadata": {
        "trusted": true,
        "id": "lCsNUg4I0nVE",
        "colab_type": "code",
        "colab": {}
      },
      "source": [
        ""
      ],
      "execution_count": 0,
      "outputs": []
    }
  ]
}