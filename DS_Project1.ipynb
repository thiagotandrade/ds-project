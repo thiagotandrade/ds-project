{
  "nbformat": 4,
  "nbformat_minor": 0,
  "metadata": {
    "colab": {
      "name": "DS_Project1.ipynb",
      "version": "0.3.2",
      "provenance": [],
      "collapsed_sections": [],
      "toc_visible": true,
      "include_colab_link": true
    },
    "language_info": {
      "codemirror_mode": {
        "name": "ipython",
        "version": 3
      },
      "file_extension": ".py",
      "mimetype": "text/x-python",
      "name": "python",
      "nbconvert_exporter": "python",
      "pygments_lexer": "ipython3",
      "version": "3.7.2"
    },
    "kernelspec": {
      "name": "python3",
      "display_name": "Python 3"
    },
    "accelerator": "GPU"
  },
  "cells": [
    {
      "cell_type": "markdown",
      "metadata": {
        "id": "view-in-github",
        "colab_type": "text"
      },
      "source": [
        "<a href=\"https://colab.research.google.com/github/thiagotandrade/ds_project/blob/master/DS_Project1.ipynb\" target=\"_parent\"><img src=\"https://colab.research.google.com/assets/colab-badge.svg\" alt=\"Open In Colab\"/></a>"
      ]
    },
    {
      "metadata": {
        "id": "WJrLmOc17jXL",
        "colab_type": "text"
      },
      "cell_type": "markdown",
      "source": [
        "# TODO: \n",
        "- Escolher as melhores features (usar XGBoost, ver correlação entre variáveis e alvo)."
      ]
    },
    {
      "metadata": {
        "colab_type": "text",
        "id": "vu5edUGX_xO-"
      },
      "cell_type": "markdown",
      "source": [
        "# Projeto 1 da Disciplina Data Science 2019.1, CIn - UFPE\n",
        "# Competição do Kaggle: [Zillow Prize](https://www.kaggle.com/c/zillow-prize-1)"
      ]
    },
    {
      "metadata": {
        "id": "WtjjA38M7jXN",
        "colab_type": "text"
      },
      "cell_type": "markdown",
      "source": [
        "## Configurando ambiente"
      ]
    },
    {
      "metadata": {
        "id": "xNQEOdU25phd",
        "colab_type": "text"
      },
      "cell_type": "markdown",
      "source": [
        "### Instalando Bibliotecas"
      ]
    },
    {
      "metadata": {
        "id": "AClZxOKu5mSr",
        "colab_type": "code",
        "colab": {
          "base_uri": "https://localhost:8080/",
          "height": 68
        },
        "outputId": "8d27f579-b33f-4642-baa9-074d89690c0c"
      },
      "cell_type": "code",
      "source": [
        "!pip install missingpy\n",
        "!pip install pyspark"
      ],
      "execution_count": 1,
      "outputs": [
        {
          "output_type": "stream",
          "text": [
            "Requirement already satisfied: missingpy in /usr/local/lib/python3.6/dist-packages (0.2.0)\n",
            "Requirement already satisfied: pyspark in /usr/local/lib/python3.6/dist-packages (2.4.2)\n",
            "Requirement already satisfied: py4j==0.10.7 in /usr/local/lib/python3.6/dist-packages (from pyspark) (0.10.7)\n"
          ],
          "name": "stdout"
        }
      ]
    },
    {
      "metadata": {
        "colab_type": "text",
        "id": "JNHID0mdAr6P"
      },
      "cell_type": "markdown",
      "source": [
        "### Imports"
      ]
    },
    {
      "metadata": {
        "id": "hhl1NPPLoREb",
        "colab_type": "code",
        "colab": {}
      },
      "cell_type": "code",
      "source": [
        "import pandas as pd\n",
        "import numpy as np\n",
        "import missingno as msno\n",
        "import matplotlib.pyplot as plt\n",
        "import seaborn as sns\n",
        "\n",
        "from scipy import stats\n",
        "from pyspark.context import SparkContext\n",
        "from pyspark.sql.session import SparkSession\n",
        "from pyspark.ml.feature import QuantileDiscretizer\n",
        "from sklearn import preprocessing\n",
        "from sklearn.ensemble import IsolationForest\n"
      ],
      "execution_count": 0,
      "outputs": []
    },
    {
      "metadata": {
        "colab_type": "code",
        "id": "rp95QRnzAq9E",
        "colab": {}
      },
      "cell_type": "code",
      "source": [
        "sc = SparkContext('local')\n",
        "spark = SparkSession(sc)\n",
        "pd.options.mode.chained_assignment = None\n",
        "sns.set(style=\"ticks\")\n",
        "%matplotlib inline"
      ],
      "execution_count": 0,
      "outputs": []
    },
    {
      "metadata": {
        "id": "e0ZaJ8JJ-hqe",
        "colab_type": "code",
        "colab": {}
      },
      "cell_type": "code",
      "source": [
        "# Variável para indicar se a imputação já foi feita anteriormente (salvar tempo de processamento)\n",
        "imputed = True"
      ],
      "execution_count": 0,
      "outputs": []
    },
    {
      "metadata": {
        "colab_type": "text",
        "id": "Jnmf3qeBEzyR"
      },
      "cell_type": "markdown",
      "source": [
        "### Lendo versão 2016 dos arquivos CSV"
      ]
    },
    {
      "metadata": {
        "colab_type": "code",
        "id": "TDY4oC_g-jV7",
        "colab": {}
      },
      "cell_type": "code",
      "source": [
        "props = pd.read_csv('https://raw.githubusercontent.com/thiagotandrade/ds_project/master/Database/merged_2016v2.csv',\n",
        "                    header=0, sep=',', quotechar='\"')\n",
        "props_bkp = props.copy()"
      ],
      "execution_count": 0,
      "outputs": []
    },
    {
      "metadata": {
        "colab_type": "text",
        "id": "WkpUTHaCUvPO"
      },
      "cell_type": "markdown",
      "source": [
        "## 2. Pré-processamento dos dados"
      ]
    },
    {
      "metadata": {
        "colab_type": "code",
        "id": "mkN_0iktCsYL",
        "outputId": "dd13b155-730b-462f-9d4a-c17fa1c9a5c0",
        "colab": {
          "base_uri": "https://localhost:8080/",
          "height": 1909
        }
      },
      "cell_type": "code",
      "source": [
        "props.tail().transpose()"
      ],
      "execution_count": 6,
      "outputs": [
        {
          "output_type": "execute_result",
          "data": {
            "text/html": [
              "<div>\n",
              "<style scoped>\n",
              "    .dataframe tbody tr th:only-of-type {\n",
              "        vertical-align: middle;\n",
              "    }\n",
              "\n",
              "    .dataframe tbody tr th {\n",
              "        vertical-align: top;\n",
              "    }\n",
              "\n",
              "    .dataframe thead th {\n",
              "        text-align: right;\n",
              "    }\n",
              "</style>\n",
              "<table border=\"1\" class=\"dataframe\">\n",
              "  <thead>\n",
              "    <tr style=\"text-align: right;\">\n",
              "      <th></th>\n",
              "      <th>90270</th>\n",
              "      <th>90271</th>\n",
              "      <th>90272</th>\n",
              "      <th>90273</th>\n",
              "      <th>90274</th>\n",
              "    </tr>\n",
              "  </thead>\n",
              "  <tbody>\n",
              "    <tr>\n",
              "      <th>parcelid</th>\n",
              "      <td>11876798</td>\n",
              "      <td>12808516</td>\n",
              "      <td>12010248</td>\n",
              "      <td>14310905</td>\n",
              "      <td>14636609</td>\n",
              "    </tr>\n",
              "    <tr>\n",
              "      <th>airconditioningtypeid</th>\n",
              "      <td>1</td>\n",
              "      <td>NaN</td>\n",
              "      <td>1</td>\n",
              "      <td>NaN</td>\n",
              "      <td>NaN</td>\n",
              "    </tr>\n",
              "    <tr>\n",
              "      <th>architecturalstyletypeid</th>\n",
              "      <td>NaN</td>\n",
              "      <td>NaN</td>\n",
              "      <td>NaN</td>\n",
              "      <td>NaN</td>\n",
              "      <td>NaN</td>\n",
              "    </tr>\n",
              "    <tr>\n",
              "      <th>basementsqft</th>\n",
              "      <td>NaN</td>\n",
              "      <td>NaN</td>\n",
              "      <td>NaN</td>\n",
              "      <td>NaN</td>\n",
              "      <td>NaN</td>\n",
              "    </tr>\n",
              "    <tr>\n",
              "      <th>bathroomcnt</th>\n",
              "      <td>3</td>\n",
              "      <td>2</td>\n",
              "      <td>2</td>\n",
              "      <td>2.5</td>\n",
              "      <td>2.5</td>\n",
              "    </tr>\n",
              "    <tr>\n",
              "      <th>bedroomcnt</th>\n",
              "      <td>4</td>\n",
              "      <td>3</td>\n",
              "      <td>2</td>\n",
              "      <td>3</td>\n",
              "      <td>3</td>\n",
              "    </tr>\n",
              "    <tr>\n",
              "      <th>buildingclasstypeid</th>\n",
              "      <td>NaN</td>\n",
              "      <td>NaN</td>\n",
              "      <td>NaN</td>\n",
              "      <td>NaN</td>\n",
              "      <td>NaN</td>\n",
              "    </tr>\n",
              "    <tr>\n",
              "      <th>buildingqualitytypeid</th>\n",
              "      <td>4</td>\n",
              "      <td>7</td>\n",
              "      <td>4</td>\n",
              "      <td>NaN</td>\n",
              "      <td>NaN</td>\n",
              "    </tr>\n",
              "    <tr>\n",
              "      <th>calculatedbathnbr</th>\n",
              "      <td>3</td>\n",
              "      <td>2</td>\n",
              "      <td>2</td>\n",
              "      <td>2.5</td>\n",
              "      <td>2.5</td>\n",
              "    </tr>\n",
              "    <tr>\n",
              "      <th>decktypeid</th>\n",
              "      <td>NaN</td>\n",
              "      <td>NaN</td>\n",
              "      <td>NaN</td>\n",
              "      <td>NaN</td>\n",
              "      <td>NaN</td>\n",
              "    </tr>\n",
              "    <tr>\n",
              "      <th>finishedfloor1squarefeet</th>\n",
              "      <td>NaN</td>\n",
              "      <td>NaN</td>\n",
              "      <td>NaN</td>\n",
              "      <td>NaN</td>\n",
              "      <td>NaN</td>\n",
              "    </tr>\n",
              "    <tr>\n",
              "      <th>calculatedfinishedsquarefeet</th>\n",
              "      <td>2068</td>\n",
              "      <td>1352</td>\n",
              "      <td>860</td>\n",
              "      <td>2268</td>\n",
              "      <td>1812</td>\n",
              "    </tr>\n",
              "    <tr>\n",
              "      <th>finishedsquarefeet12</th>\n",
              "      <td>2068</td>\n",
              "      <td>1352</td>\n",
              "      <td>860</td>\n",
              "      <td>2268</td>\n",
              "      <td>1812</td>\n",
              "    </tr>\n",
              "    <tr>\n",
              "      <th>finishedsquarefeet13</th>\n",
              "      <td>NaN</td>\n",
              "      <td>NaN</td>\n",
              "      <td>NaN</td>\n",
              "      <td>NaN</td>\n",
              "      <td>NaN</td>\n",
              "    </tr>\n",
              "    <tr>\n",
              "      <th>finishedsquarefeet15</th>\n",
              "      <td>NaN</td>\n",
              "      <td>NaN</td>\n",
              "      <td>NaN</td>\n",
              "      <td>NaN</td>\n",
              "      <td>NaN</td>\n",
              "    </tr>\n",
              "    <tr>\n",
              "      <th>finishedsquarefeet50</th>\n",
              "      <td>NaN</td>\n",
              "      <td>NaN</td>\n",
              "      <td>NaN</td>\n",
              "      <td>NaN</td>\n",
              "      <td>NaN</td>\n",
              "    </tr>\n",
              "    <tr>\n",
              "      <th>finishedsquarefeet6</th>\n",
              "      <td>NaN</td>\n",
              "      <td>NaN</td>\n",
              "      <td>NaN</td>\n",
              "      <td>NaN</td>\n",
              "      <td>NaN</td>\n",
              "    </tr>\n",
              "    <tr>\n",
              "      <th>fips</th>\n",
              "      <td>6037</td>\n",
              "      <td>6037</td>\n",
              "      <td>6037</td>\n",
              "      <td>6059</td>\n",
              "      <td>6059</td>\n",
              "    </tr>\n",
              "    <tr>\n",
              "      <th>fireplacecnt</th>\n",
              "      <td>NaN</td>\n",
              "      <td>NaN</td>\n",
              "      <td>NaN</td>\n",
              "      <td>NaN</td>\n",
              "      <td>NaN</td>\n",
              "    </tr>\n",
              "    <tr>\n",
              "      <th>fullbathcnt</th>\n",
              "      <td>3</td>\n",
              "      <td>2</td>\n",
              "      <td>2</td>\n",
              "      <td>2</td>\n",
              "      <td>2</td>\n",
              "    </tr>\n",
              "    <tr>\n",
              "      <th>garagecarcnt</th>\n",
              "      <td>NaN</td>\n",
              "      <td>NaN</td>\n",
              "      <td>NaN</td>\n",
              "      <td>2</td>\n",
              "      <td>2</td>\n",
              "    </tr>\n",
              "    <tr>\n",
              "      <th>garagetotalsqft</th>\n",
              "      <td>NaN</td>\n",
              "      <td>NaN</td>\n",
              "      <td>NaN</td>\n",
              "      <td>427</td>\n",
              "      <td>0</td>\n",
              "    </tr>\n",
              "    <tr>\n",
              "      <th>hashottuborspa</th>\n",
              "      <td>NaN</td>\n",
              "      <td>NaN</td>\n",
              "      <td>NaN</td>\n",
              "      <td>NaN</td>\n",
              "      <td>NaN</td>\n",
              "    </tr>\n",
              "    <tr>\n",
              "      <th>heatingorsystemtypeid</th>\n",
              "      <td>2</td>\n",
              "      <td>7</td>\n",
              "      <td>2</td>\n",
              "      <td>NaN</td>\n",
              "      <td>NaN</td>\n",
              "    </tr>\n",
              "    <tr>\n",
              "      <th>latitude</th>\n",
              "      <td>3.40975e+07</td>\n",
              "      <td>3.40452e+07</td>\n",
              "      <td>3.41008e+07</td>\n",
              "      <td>3.36601e+07</td>\n",
              "      <td>3.39285e+07</td>\n",
              "    </tr>\n",
              "    <tr>\n",
              "      <th>longitude</th>\n",
              "      <td>-1.18165e+08</td>\n",
              "      <td>-1.17972e+08</td>\n",
              "      <td>-1.18312e+08</td>\n",
              "      <td>-1.17805e+08</td>\n",
              "      <td>-1.17944e+08</td>\n",
              "    </tr>\n",
              "    <tr>\n",
              "      <th>lotsizesquarefeet</th>\n",
              "      <td>4981</td>\n",
              "      <td>6170</td>\n",
              "      <td>NaN</td>\n",
              "      <td>3479</td>\n",
              "      <td>NaN</td>\n",
              "    </tr>\n",
              "    <tr>\n",
              "      <th>poolcnt</th>\n",
              "      <td>NaN</td>\n",
              "      <td>NaN</td>\n",
              "      <td>NaN</td>\n",
              "      <td>NaN</td>\n",
              "      <td>NaN</td>\n",
              "    </tr>\n",
              "    <tr>\n",
              "      <th>poolsizesum</th>\n",
              "      <td>NaN</td>\n",
              "      <td>NaN</td>\n",
              "      <td>NaN</td>\n",
              "      <td>NaN</td>\n",
              "      <td>NaN</td>\n",
              "    </tr>\n",
              "    <tr>\n",
              "      <th>pooltypeid10</th>\n",
              "      <td>NaN</td>\n",
              "      <td>NaN</td>\n",
              "      <td>NaN</td>\n",
              "      <td>NaN</td>\n",
              "      <td>NaN</td>\n",
              "    </tr>\n",
              "    <tr>\n",
              "      <th>pooltypeid2</th>\n",
              "      <td>NaN</td>\n",
              "      <td>NaN</td>\n",
              "      <td>NaN</td>\n",
              "      <td>NaN</td>\n",
              "      <td>NaN</td>\n",
              "    </tr>\n",
              "    <tr>\n",
              "      <th>pooltypeid7</th>\n",
              "      <td>NaN</td>\n",
              "      <td>NaN</td>\n",
              "      <td>NaN</td>\n",
              "      <td>NaN</td>\n",
              "      <td>NaN</td>\n",
              "    </tr>\n",
              "    <tr>\n",
              "      <th>propertycountylandusecode</th>\n",
              "      <td>0100</td>\n",
              "      <td>0100</td>\n",
              "      <td>010C</td>\n",
              "      <td>1</td>\n",
              "      <td>1</td>\n",
              "    </tr>\n",
              "    <tr>\n",
              "      <th>propertylandusetypeid</th>\n",
              "      <td>261</td>\n",
              "      <td>261</td>\n",
              "      <td>266</td>\n",
              "      <td>261</td>\n",
              "      <td>266</td>\n",
              "    </tr>\n",
              "    <tr>\n",
              "      <th>propertyzoningdesc</th>\n",
              "      <td>LAR1</td>\n",
              "      <td>LPR1*</td>\n",
              "      <td>LAR4</td>\n",
              "      <td>NaN</td>\n",
              "      <td>NaN</td>\n",
              "    </tr>\n",
              "    <tr>\n",
              "      <th>rawcensustractandblock</th>\n",
              "      <td>6.0372e+07</td>\n",
              "      <td>6.03741e+07</td>\n",
              "      <td>6.03719e+07</td>\n",
              "      <td>6.05906e+07</td>\n",
              "      <td>6.059e+07</td>\n",
              "    </tr>\n",
              "    <tr>\n",
              "      <th>regionidcity</th>\n",
              "      <td>12447</td>\n",
              "      <td>39306</td>\n",
              "      <td>12447</td>\n",
              "      <td>52650</td>\n",
              "      <td>18874</td>\n",
              "    </tr>\n",
              "    <tr>\n",
              "      <th>regionidcounty</th>\n",
              "      <td>3101</td>\n",
              "      <td>3101</td>\n",
              "      <td>3101</td>\n",
              "      <td>1286</td>\n",
              "      <td>1286</td>\n",
              "    </tr>\n",
              "    <tr>\n",
              "      <th>regionidneighborhood</th>\n",
              "      <td>114914</td>\n",
              "      <td>NaN</td>\n",
              "      <td>32059</td>\n",
              "      <td>275824</td>\n",
              "      <td>NaN</td>\n",
              "    </tr>\n",
              "    <tr>\n",
              "      <th>regionidzip</th>\n",
              "      <td>96013</td>\n",
              "      <td>96490</td>\n",
              "      <td>96009</td>\n",
              "      <td>96947</td>\n",
              "      <td>96186</td>\n",
              "    </tr>\n",
              "    <tr>\n",
              "      <th>roomcnt</th>\n",
              "      <td>0</td>\n",
              "      <td>0</td>\n",
              "      <td>0</td>\n",
              "      <td>0</td>\n",
              "      <td>0</td>\n",
              "    </tr>\n",
              "    <tr>\n",
              "      <th>storytypeid</th>\n",
              "      <td>NaN</td>\n",
              "      <td>NaN</td>\n",
              "      <td>NaN</td>\n",
              "      <td>NaN</td>\n",
              "      <td>NaN</td>\n",
              "    </tr>\n",
              "    <tr>\n",
              "      <th>threequarterbathnbr</th>\n",
              "      <td>NaN</td>\n",
              "      <td>NaN</td>\n",
              "      <td>NaN</td>\n",
              "      <td>1</td>\n",
              "      <td>1</td>\n",
              "    </tr>\n",
              "    <tr>\n",
              "      <th>typeconstructiontypeid</th>\n",
              "      <td>NaN</td>\n",
              "      <td>NaN</td>\n",
              "      <td>NaN</td>\n",
              "      <td>NaN</td>\n",
              "      <td>NaN</td>\n",
              "    </tr>\n",
              "    <tr>\n",
              "      <th>unitcnt</th>\n",
              "      <td>1</td>\n",
              "      <td>1</td>\n",
              "      <td>1</td>\n",
              "      <td>NaN</td>\n",
              "      <td>NaN</td>\n",
              "    </tr>\n",
              "    <tr>\n",
              "      <th>yardbuildingsqft17</th>\n",
              "      <td>NaN</td>\n",
              "      <td>NaN</td>\n",
              "      <td>NaN</td>\n",
              "      <td>NaN</td>\n",
              "      <td>NaN</td>\n",
              "    </tr>\n",
              "    <tr>\n",
              "      <th>yardbuildingsqft26</th>\n",
              "      <td>NaN</td>\n",
              "      <td>NaN</td>\n",
              "      <td>NaN</td>\n",
              "      <td>NaN</td>\n",
              "      <td>NaN</td>\n",
              "    </tr>\n",
              "    <tr>\n",
              "      <th>yearbuilt</th>\n",
              "      <td>2008</td>\n",
              "      <td>1956</td>\n",
              "      <td>2011</td>\n",
              "      <td>2012</td>\n",
              "      <td>2013</td>\n",
              "    </tr>\n",
              "    <tr>\n",
              "      <th>numberofstories</th>\n",
              "      <td>NaN</td>\n",
              "      <td>NaN</td>\n",
              "      <td>NaN</td>\n",
              "      <td>NaN</td>\n",
              "      <td>NaN</td>\n",
              "    </tr>\n",
              "    <tr>\n",
              "      <th>fireplaceflag</th>\n",
              "      <td>NaN</td>\n",
              "      <td>NaN</td>\n",
              "      <td>NaN</td>\n",
              "      <td>NaN</td>\n",
              "      <td>NaN</td>\n",
              "    </tr>\n",
              "    <tr>\n",
              "      <th>structuretaxvaluedollarcnt</th>\n",
              "      <td>388582</td>\n",
              "      <td>86209</td>\n",
              "      <td>129000</td>\n",
              "      <td>389474</td>\n",
              "      <td>237048</td>\n",
              "    </tr>\n",
              "    <tr>\n",
              "      <th>taxvaluedollarcnt</th>\n",
              "      <td>596082</td>\n",
              "      <td>178408</td>\n",
              "      <td>420000</td>\n",
              "      <td>1.21582e+06</td>\n",
              "      <td>471286</td>\n",
              "    </tr>\n",
              "    <tr>\n",
              "      <th>assessmentyear</th>\n",
              "      <td>2015</td>\n",
              "      <td>2015</td>\n",
              "      <td>2015</td>\n",
              "      <td>2015</td>\n",
              "      <td>2015</td>\n",
              "    </tr>\n",
              "    <tr>\n",
              "      <th>landtaxvaluedollarcnt</th>\n",
              "      <td>207500</td>\n",
              "      <td>92199</td>\n",
              "      <td>291000</td>\n",
              "      <td>826342</td>\n",
              "      <td>234238</td>\n",
              "    </tr>\n",
              "    <tr>\n",
              "      <th>taxamount</th>\n",
              "      <td>7335.81</td>\n",
              "      <td>2441.74</td>\n",
              "      <td>5070.41</td>\n",
              "      <td>12508.3</td>\n",
              "      <td>5470.12</td>\n",
              "    </tr>\n",
              "    <tr>\n",
              "      <th>taxdelinquencyflag</th>\n",
              "      <td>NaN</td>\n",
              "      <td>NaN</td>\n",
              "      <td>NaN</td>\n",
              "      <td>NaN</td>\n",
              "      <td>NaN</td>\n",
              "    </tr>\n",
              "    <tr>\n",
              "      <th>taxdelinquencyyear</th>\n",
              "      <td>NaN</td>\n",
              "      <td>NaN</td>\n",
              "      <td>NaN</td>\n",
              "      <td>NaN</td>\n",
              "      <td>NaN</td>\n",
              "    </tr>\n",
              "    <tr>\n",
              "      <th>censustractandblock</th>\n",
              "      <td>6.0372e+13</td>\n",
              "      <td>6.03741e+13</td>\n",
              "      <td>6.03719e+13</td>\n",
              "      <td>NaN</td>\n",
              "      <td>NaN</td>\n",
              "    </tr>\n",
              "    <tr>\n",
              "      <th>logerror</th>\n",
              "      <td>0.0276</td>\n",
              "      <td>-0.1188</td>\n",
              "      <td>0.0843</td>\n",
              "      <td>-0.005</td>\n",
              "      <td>0.0129</td>\n",
              "    </tr>\n",
              "    <tr>\n",
              "      <th>transactiondate</th>\n",
              "      <td>2016-04-15</td>\n",
              "      <td>2016-06-07</td>\n",
              "      <td>2016-06-30</td>\n",
              "      <td>2016-03-31</td>\n",
              "      <td>2016-09-13</td>\n",
              "    </tr>\n",
              "  </tbody>\n",
              "</table>\n",
              "</div>"
            ],
            "text/plain": [
              "                                    90270        90271        90272  \\\n",
              "parcelid                         11876798     12808516     12010248   \n",
              "airconditioningtypeid                   1          NaN            1   \n",
              "architecturalstyletypeid              NaN          NaN          NaN   \n",
              "basementsqft                          NaN          NaN          NaN   \n",
              "bathroomcnt                             3            2            2   \n",
              "bedroomcnt                              4            3            2   \n",
              "buildingclasstypeid                   NaN          NaN          NaN   \n",
              "buildingqualitytypeid                   4            7            4   \n",
              "calculatedbathnbr                       3            2            2   \n",
              "decktypeid                            NaN          NaN          NaN   \n",
              "finishedfloor1squarefeet              NaN          NaN          NaN   \n",
              "calculatedfinishedsquarefeet         2068         1352          860   \n",
              "finishedsquarefeet12                 2068         1352          860   \n",
              "finishedsquarefeet13                  NaN          NaN          NaN   \n",
              "finishedsquarefeet15                  NaN          NaN          NaN   \n",
              "finishedsquarefeet50                  NaN          NaN          NaN   \n",
              "finishedsquarefeet6                   NaN          NaN          NaN   \n",
              "fips                                 6037         6037         6037   \n",
              "fireplacecnt                          NaN          NaN          NaN   \n",
              "fullbathcnt                             3            2            2   \n",
              "garagecarcnt                          NaN          NaN          NaN   \n",
              "garagetotalsqft                       NaN          NaN          NaN   \n",
              "hashottuborspa                        NaN          NaN          NaN   \n",
              "heatingorsystemtypeid                   2            7            2   \n",
              "latitude                      3.40975e+07  3.40452e+07  3.41008e+07   \n",
              "longitude                    -1.18165e+08 -1.17972e+08 -1.18312e+08   \n",
              "lotsizesquarefeet                    4981         6170          NaN   \n",
              "poolcnt                               NaN          NaN          NaN   \n",
              "poolsizesum                           NaN          NaN          NaN   \n",
              "pooltypeid10                          NaN          NaN          NaN   \n",
              "pooltypeid2                           NaN          NaN          NaN   \n",
              "pooltypeid7                           NaN          NaN          NaN   \n",
              "propertycountylandusecode            0100         0100         010C   \n",
              "propertylandusetypeid                 261          261          266   \n",
              "propertyzoningdesc                   LAR1        LPR1*         LAR4   \n",
              "rawcensustractandblock         6.0372e+07  6.03741e+07  6.03719e+07   \n",
              "regionidcity                        12447        39306        12447   \n",
              "regionidcounty                       3101         3101         3101   \n",
              "regionidneighborhood               114914          NaN        32059   \n",
              "regionidzip                         96013        96490        96009   \n",
              "roomcnt                                 0            0            0   \n",
              "storytypeid                           NaN          NaN          NaN   \n",
              "threequarterbathnbr                   NaN          NaN          NaN   \n",
              "typeconstructiontypeid                NaN          NaN          NaN   \n",
              "unitcnt                                 1            1            1   \n",
              "yardbuildingsqft17                    NaN          NaN          NaN   \n",
              "yardbuildingsqft26                    NaN          NaN          NaN   \n",
              "yearbuilt                            2008         1956         2011   \n",
              "numberofstories                       NaN          NaN          NaN   \n",
              "fireplaceflag                         NaN          NaN          NaN   \n",
              "structuretaxvaluedollarcnt         388582        86209       129000   \n",
              "taxvaluedollarcnt                  596082       178408       420000   \n",
              "assessmentyear                       2015         2015         2015   \n",
              "landtaxvaluedollarcnt              207500        92199       291000   \n",
              "taxamount                         7335.81      2441.74      5070.41   \n",
              "taxdelinquencyflag                    NaN          NaN          NaN   \n",
              "taxdelinquencyyear                    NaN          NaN          NaN   \n",
              "censustractandblock            6.0372e+13  6.03741e+13  6.03719e+13   \n",
              "logerror                           0.0276      -0.1188       0.0843   \n",
              "transactiondate                2016-04-15   2016-06-07   2016-06-30   \n",
              "\n",
              "                                    90273        90274  \n",
              "parcelid                         14310905     14636609  \n",
              "airconditioningtypeid                 NaN          NaN  \n",
              "architecturalstyletypeid              NaN          NaN  \n",
              "basementsqft                          NaN          NaN  \n",
              "bathroomcnt                           2.5          2.5  \n",
              "bedroomcnt                              3            3  \n",
              "buildingclasstypeid                   NaN          NaN  \n",
              "buildingqualitytypeid                 NaN          NaN  \n",
              "calculatedbathnbr                     2.5          2.5  \n",
              "decktypeid                            NaN          NaN  \n",
              "finishedfloor1squarefeet              NaN          NaN  \n",
              "calculatedfinishedsquarefeet         2268         1812  \n",
              "finishedsquarefeet12                 2268         1812  \n",
              "finishedsquarefeet13                  NaN          NaN  \n",
              "finishedsquarefeet15                  NaN          NaN  \n",
              "finishedsquarefeet50                  NaN          NaN  \n",
              "finishedsquarefeet6                   NaN          NaN  \n",
              "fips                                 6059         6059  \n",
              "fireplacecnt                          NaN          NaN  \n",
              "fullbathcnt                             2            2  \n",
              "garagecarcnt                            2            2  \n",
              "garagetotalsqft                       427            0  \n",
              "hashottuborspa                        NaN          NaN  \n",
              "heatingorsystemtypeid                 NaN          NaN  \n",
              "latitude                      3.36601e+07  3.39285e+07  \n",
              "longitude                    -1.17805e+08 -1.17944e+08  \n",
              "lotsizesquarefeet                    3479          NaN  \n",
              "poolcnt                               NaN          NaN  \n",
              "poolsizesum                           NaN          NaN  \n",
              "pooltypeid10                          NaN          NaN  \n",
              "pooltypeid2                           NaN          NaN  \n",
              "pooltypeid7                           NaN          NaN  \n",
              "propertycountylandusecode               1            1  \n",
              "propertylandusetypeid                 261          266  \n",
              "propertyzoningdesc                    NaN          NaN  \n",
              "rawcensustractandblock        6.05906e+07    6.059e+07  \n",
              "regionidcity                        52650        18874  \n",
              "regionidcounty                       1286         1286  \n",
              "regionidneighborhood               275824          NaN  \n",
              "regionidzip                         96947        96186  \n",
              "roomcnt                                 0            0  \n",
              "storytypeid                           NaN          NaN  \n",
              "threequarterbathnbr                     1            1  \n",
              "typeconstructiontypeid                NaN          NaN  \n",
              "unitcnt                               NaN          NaN  \n",
              "yardbuildingsqft17                    NaN          NaN  \n",
              "yardbuildingsqft26                    NaN          NaN  \n",
              "yearbuilt                            2012         2013  \n",
              "numberofstories                       NaN          NaN  \n",
              "fireplaceflag                         NaN          NaN  \n",
              "structuretaxvaluedollarcnt         389474       237048  \n",
              "taxvaluedollarcnt             1.21582e+06       471286  \n",
              "assessmentyear                       2015         2015  \n",
              "landtaxvaluedollarcnt              826342       234238  \n",
              "taxamount                         12508.3      5470.12  \n",
              "taxdelinquencyflag                    NaN          NaN  \n",
              "taxdelinquencyyear                    NaN          NaN  \n",
              "censustractandblock                   NaN          NaN  \n",
              "logerror                           -0.005       0.0129  \n",
              "transactiondate                2016-03-31   2016-09-13  "
            ]
          },
          "metadata": {
            "tags": []
          },
          "execution_count": 6
        }
      ]
    },
    {
      "metadata": {
        "colab_type": "code",
        "id": "OcnPQLdzFGdR",
        "outputId": "5af61919-3d00-4cce-ff0d-b3d48ba1d1f0",
        "colab": {
          "base_uri": "https://localhost:8080/",
          "height": 346
        }
      },
      "cell_type": "code",
      "source": [
        "props.describe()"
      ],
      "execution_count": 7,
      "outputs": [
        {
          "output_type": "execute_result",
          "data": {
            "text/html": [
              "<div>\n",
              "<style scoped>\n",
              "    .dataframe tbody tr th:only-of-type {\n",
              "        vertical-align: middle;\n",
              "    }\n",
              "\n",
              "    .dataframe tbody tr th {\n",
              "        vertical-align: top;\n",
              "    }\n",
              "\n",
              "    .dataframe thead th {\n",
              "        text-align: right;\n",
              "    }\n",
              "</style>\n",
              "<table border=\"1\" class=\"dataframe\">\n",
              "  <thead>\n",
              "    <tr style=\"text-align: right;\">\n",
              "      <th></th>\n",
              "      <th>parcelid</th>\n",
              "      <th>airconditioningtypeid</th>\n",
              "      <th>architecturalstyletypeid</th>\n",
              "      <th>basementsqft</th>\n",
              "      <th>bathroomcnt</th>\n",
              "      <th>bedroomcnt</th>\n",
              "      <th>buildingclasstypeid</th>\n",
              "      <th>buildingqualitytypeid</th>\n",
              "      <th>calculatedbathnbr</th>\n",
              "      <th>decktypeid</th>\n",
              "      <th>...</th>\n",
              "      <th>yearbuilt</th>\n",
              "      <th>numberofstories</th>\n",
              "      <th>structuretaxvaluedollarcnt</th>\n",
              "      <th>taxvaluedollarcnt</th>\n",
              "      <th>assessmentyear</th>\n",
              "      <th>landtaxvaluedollarcnt</th>\n",
              "      <th>taxamount</th>\n",
              "      <th>taxdelinquencyyear</th>\n",
              "      <th>censustractandblock</th>\n",
              "      <th>logerror</th>\n",
              "    </tr>\n",
              "  </thead>\n",
              "  <tbody>\n",
              "    <tr>\n",
              "      <th>count</th>\n",
              "      <td>9.027500e+04</td>\n",
              "      <td>28781.000000</td>\n",
              "      <td>261.000000</td>\n",
              "      <td>43.000000</td>\n",
              "      <td>90275.000000</td>\n",
              "      <td>90275.000000</td>\n",
              "      <td>16.0</td>\n",
              "      <td>57364.000000</td>\n",
              "      <td>89093.000000</td>\n",
              "      <td>658.0</td>\n",
              "      <td>...</td>\n",
              "      <td>89519.000000</td>\n",
              "      <td>20570.000000</td>\n",
              "      <td>8.989500e+04</td>\n",
              "      <td>9.027400e+04</td>\n",
              "      <td>90275.0</td>\n",
              "      <td>9.027400e+04</td>\n",
              "      <td>90269.000000</td>\n",
              "      <td>1783.000000</td>\n",
              "      <td>8.967000e+04</td>\n",
              "      <td>90275.000000</td>\n",
              "    </tr>\n",
              "    <tr>\n",
              "      <th>mean</th>\n",
              "      <td>1.298466e+07</td>\n",
              "      <td>1.816372</td>\n",
              "      <td>7.229885</td>\n",
              "      <td>713.581395</td>\n",
              "      <td>2.279474</td>\n",
              "      <td>3.031869</td>\n",
              "      <td>4.0</td>\n",
              "      <td>5.565407</td>\n",
              "      <td>2.309216</td>\n",
              "      <td>66.0</td>\n",
              "      <td>...</td>\n",
              "      <td>1968.532870</td>\n",
              "      <td>1.440739</td>\n",
              "      <td>1.800934e+05</td>\n",
              "      <td>4.576726e+05</td>\n",
              "      <td>2015.0</td>\n",
              "      <td>2.783353e+05</td>\n",
              "      <td>5983.975927</td>\n",
              "      <td>13.402692</td>\n",
              "      <td>6.049151e+13</td>\n",
              "      <td>0.011457</td>\n",
              "    </tr>\n",
              "    <tr>\n",
              "      <th>std</th>\n",
              "      <td>2.504510e+06</td>\n",
              "      <td>2.974168</td>\n",
              "      <td>2.716196</td>\n",
              "      <td>437.434198</td>\n",
              "      <td>1.004271</td>\n",
              "      <td>1.156436</td>\n",
              "      <td>0.0</td>\n",
              "      <td>1.900602</td>\n",
              "      <td>0.976172</td>\n",
              "      <td>0.0</td>\n",
              "      <td>...</td>\n",
              "      <td>23.763475</td>\n",
              "      <td>0.544498</td>\n",
              "      <td>2.091299e+05</td>\n",
              "      <td>5.548844e+05</td>\n",
              "      <td>0.0</td>\n",
              "      <td>4.004955e+05</td>\n",
              "      <td>6838.876956</td>\n",
              "      <td>2.715966</td>\n",
              "      <td>2.046605e+11</td>\n",
              "      <td>0.161079</td>\n",
              "    </tr>\n",
              "    <tr>\n",
              "      <th>min</th>\n",
              "      <td>1.071174e+07</td>\n",
              "      <td>1.000000</td>\n",
              "      <td>2.000000</td>\n",
              "      <td>100.000000</td>\n",
              "      <td>0.000000</td>\n",
              "      <td>0.000000</td>\n",
              "      <td>4.0</td>\n",
              "      <td>1.000000</td>\n",
              "      <td>1.000000</td>\n",
              "      <td>66.0</td>\n",
              "      <td>...</td>\n",
              "      <td>1885.000000</td>\n",
              "      <td>1.000000</td>\n",
              "      <td>1.000000e+02</td>\n",
              "      <td>2.200000e+01</td>\n",
              "      <td>2015.0</td>\n",
              "      <td>2.200000e+01</td>\n",
              "      <td>49.080000</td>\n",
              "      <td>6.000000</td>\n",
              "      <td>6.037101e+13</td>\n",
              "      <td>-4.605000</td>\n",
              "    </tr>\n",
              "    <tr>\n",
              "      <th>25%</th>\n",
              "      <td>1.155950e+07</td>\n",
              "      <td>1.000000</td>\n",
              "      <td>7.000000</td>\n",
              "      <td>407.500000</td>\n",
              "      <td>2.000000</td>\n",
              "      <td>2.000000</td>\n",
              "      <td>4.0</td>\n",
              "      <td>4.000000</td>\n",
              "      <td>2.000000</td>\n",
              "      <td>66.0</td>\n",
              "      <td>...</td>\n",
              "      <td>1953.000000</td>\n",
              "      <td>1.000000</td>\n",
              "      <td>8.124500e+04</td>\n",
              "      <td>1.990232e+05</td>\n",
              "      <td>2015.0</td>\n",
              "      <td>8.222800e+04</td>\n",
              "      <td>2872.830000</td>\n",
              "      <td>13.000000</td>\n",
              "      <td>6.037320e+13</td>\n",
              "      <td>-0.025300</td>\n",
              "    </tr>\n",
              "    <tr>\n",
              "      <th>50%</th>\n",
              "      <td>1.254734e+07</td>\n",
              "      <td>1.000000</td>\n",
              "      <td>7.000000</td>\n",
              "      <td>616.000000</td>\n",
              "      <td>2.000000</td>\n",
              "      <td>3.000000</td>\n",
              "      <td>4.0</td>\n",
              "      <td>7.000000</td>\n",
              "      <td>2.000000</td>\n",
              "      <td>66.0</td>\n",
              "      <td>...</td>\n",
              "      <td>1970.000000</td>\n",
              "      <td>1.000000</td>\n",
              "      <td>1.320000e+05</td>\n",
              "      <td>3.428720e+05</td>\n",
              "      <td>2015.0</td>\n",
              "      <td>1.929700e+05</td>\n",
              "      <td>4542.750000</td>\n",
              "      <td>14.000000</td>\n",
              "      <td>6.037615e+13</td>\n",
              "      <td>0.006000</td>\n",
              "    </tr>\n",
              "    <tr>\n",
              "      <th>75%</th>\n",
              "      <td>1.422755e+07</td>\n",
              "      <td>1.000000</td>\n",
              "      <td>7.000000</td>\n",
              "      <td>872.000000</td>\n",
              "      <td>3.000000</td>\n",
              "      <td>4.000000</td>\n",
              "      <td>4.0</td>\n",
              "      <td>7.000000</td>\n",
              "      <td>3.000000</td>\n",
              "      <td>66.0</td>\n",
              "      <td>...</td>\n",
              "      <td>1987.000000</td>\n",
              "      <td>2.000000</td>\n",
              "      <td>2.105345e+05</td>\n",
              "      <td>5.405890e+05</td>\n",
              "      <td>2015.0</td>\n",
              "      <td>3.454195e+05</td>\n",
              "      <td>6901.090000</td>\n",
              "      <td>15.000000</td>\n",
              "      <td>6.059042e+13</td>\n",
              "      <td>0.039200</td>\n",
              "    </tr>\n",
              "    <tr>\n",
              "      <th>max</th>\n",
              "      <td>1.629608e+08</td>\n",
              "      <td>13.000000</td>\n",
              "      <td>21.000000</td>\n",
              "      <td>1555.000000</td>\n",
              "      <td>20.000000</td>\n",
              "      <td>16.000000</td>\n",
              "      <td>4.0</td>\n",
              "      <td>12.000000</td>\n",
              "      <td>20.000000</td>\n",
              "      <td>66.0</td>\n",
              "      <td>...</td>\n",
              "      <td>2015.000000</td>\n",
              "      <td>4.000000</td>\n",
              "      <td>9.948100e+06</td>\n",
              "      <td>2.775000e+07</td>\n",
              "      <td>2015.0</td>\n",
              "      <td>2.450000e+07</td>\n",
              "      <td>321936.090000</td>\n",
              "      <td>99.000000</td>\n",
              "      <td>6.111009e+13</td>\n",
              "      <td>4.737000</td>\n",
              "    </tr>\n",
              "  </tbody>\n",
              "</table>\n",
              "<p>8 rows × 54 columns</p>\n",
              "</div>"
            ],
            "text/plain": [
              "           parcelid  airconditioningtypeid  architecturalstyletypeid  \\\n",
              "count  9.027500e+04           28781.000000                261.000000   \n",
              "mean   1.298466e+07               1.816372                  7.229885   \n",
              "std    2.504510e+06               2.974168                  2.716196   \n",
              "min    1.071174e+07               1.000000                  2.000000   \n",
              "25%    1.155950e+07               1.000000                  7.000000   \n",
              "50%    1.254734e+07               1.000000                  7.000000   \n",
              "75%    1.422755e+07               1.000000                  7.000000   \n",
              "max    1.629608e+08              13.000000                 21.000000   \n",
              "\n",
              "       basementsqft   bathroomcnt    bedroomcnt  buildingclasstypeid  \\\n",
              "count     43.000000  90275.000000  90275.000000                 16.0   \n",
              "mean     713.581395      2.279474      3.031869                  4.0   \n",
              "std      437.434198      1.004271      1.156436                  0.0   \n",
              "min      100.000000      0.000000      0.000000                  4.0   \n",
              "25%      407.500000      2.000000      2.000000                  4.0   \n",
              "50%      616.000000      2.000000      3.000000                  4.0   \n",
              "75%      872.000000      3.000000      4.000000                  4.0   \n",
              "max     1555.000000     20.000000     16.000000                  4.0   \n",
              "\n",
              "       buildingqualitytypeid  calculatedbathnbr  decktypeid  ...  \\\n",
              "count           57364.000000       89093.000000       658.0  ...   \n",
              "mean                5.565407           2.309216        66.0  ...   \n",
              "std                 1.900602           0.976172         0.0  ...   \n",
              "min                 1.000000           1.000000        66.0  ...   \n",
              "25%                 4.000000           2.000000        66.0  ...   \n",
              "50%                 7.000000           2.000000        66.0  ...   \n",
              "75%                 7.000000           3.000000        66.0  ...   \n",
              "max                12.000000          20.000000        66.0  ...   \n",
              "\n",
              "          yearbuilt  numberofstories  structuretaxvaluedollarcnt  \\\n",
              "count  89519.000000     20570.000000                8.989500e+04   \n",
              "mean    1968.532870         1.440739                1.800934e+05   \n",
              "std       23.763475         0.544498                2.091299e+05   \n",
              "min     1885.000000         1.000000                1.000000e+02   \n",
              "25%     1953.000000         1.000000                8.124500e+04   \n",
              "50%     1970.000000         1.000000                1.320000e+05   \n",
              "75%     1987.000000         2.000000                2.105345e+05   \n",
              "max     2015.000000         4.000000                9.948100e+06   \n",
              "\n",
              "       taxvaluedollarcnt  assessmentyear  landtaxvaluedollarcnt  \\\n",
              "count       9.027400e+04         90275.0           9.027400e+04   \n",
              "mean        4.576726e+05          2015.0           2.783353e+05   \n",
              "std         5.548844e+05             0.0           4.004955e+05   \n",
              "min         2.200000e+01          2015.0           2.200000e+01   \n",
              "25%         1.990232e+05          2015.0           8.222800e+04   \n",
              "50%         3.428720e+05          2015.0           1.929700e+05   \n",
              "75%         5.405890e+05          2015.0           3.454195e+05   \n",
              "max         2.775000e+07          2015.0           2.450000e+07   \n",
              "\n",
              "           taxamount  taxdelinquencyyear  censustractandblock      logerror  \n",
              "count   90269.000000         1783.000000         8.967000e+04  90275.000000  \n",
              "mean     5983.975927           13.402692         6.049151e+13      0.011457  \n",
              "std      6838.876956            2.715966         2.046605e+11      0.161079  \n",
              "min        49.080000            6.000000         6.037101e+13     -4.605000  \n",
              "25%      2872.830000           13.000000         6.037320e+13     -0.025300  \n",
              "50%      4542.750000           14.000000         6.037615e+13      0.006000  \n",
              "75%      6901.090000           15.000000         6.059042e+13      0.039200  \n",
              "max    321936.090000           99.000000         6.111009e+13      4.737000  \n",
              "\n",
              "[8 rows x 54 columns]"
            ]
          },
          "metadata": {
            "tags": []
          },
          "execution_count": 7
        }
      ]
    },
    {
      "metadata": {
        "id": "DZkfRWY47jXg",
        "colab_type": "code",
        "colab": {}
      },
      "cell_type": "code",
      "source": [
        "# Não faz Sentido\n",
        "\n",
        "# Inserir valor true na coluna 'fireplaceflag' se houve algum valor presente em fireplacecnt diferente de zero ou NaN\n",
        "#props.loc[props['fireplacecnt'] != 0 | pd.notnull(props['fireplacecnt']),'fireplaceflag'] = \"True\""
      ],
      "execution_count": 0,
      "outputs": []
    },
    {
      "metadata": {
        "colab_type": "text",
        "id": "VuO-J9CM4ujO"
      },
      "cell_type": "markdown",
      "source": [
        "### 2.1 Definição de tipos"
      ]
    },
    {
      "metadata": {
        "id": "QWxEVofd7jXk",
        "colab_type": "code",
        "outputId": "d0d124eb-8213-4e87-baf8-44c2e792c6d8",
        "colab": {
          "base_uri": "https://localhost:8080/",
          "height": 330
        }
      },
      "cell_type": "code",
      "source": [
        "props_dtypes_before = props.dtypes.value_counts().sort_values(ascending=False)\n",
        "props_dtypes_before.plot.bar(title='Tipos de Dados Antes da Definição')"
      ],
      "execution_count": 9,
      "outputs": [
        {
          "output_type": "execute_result",
          "data": {
            "text/plain": [
              "<matplotlib.axes._subplots.AxesSubplot at 0x7f72b3383a20>"
            ]
          },
          "metadata": {
            "tags": []
          },
          "execution_count": 9
        },
        {
          "output_type": "display_data",
          "data": {
            "image/png": "[encoded data removed]",
            "text/plain": [
              "<Figure size 432x288 with 1 Axes>"
            ]
          },
          "metadata": {
            "tags": []
          }
        }
      ]
    },
    {
      "metadata": {
        "id": "RpuMSuvn7jXn",
        "colab_type": "code",
        "colab": {}
      },
      "cell_type": "code",
      "source": [
        "# Mudando colunas de tipo 'object' para tipo 'category'\n",
        "object_type = props.select_dtypes(include=['object']).columns.values\n",
        "props[object_type] = props[object_type].astype('category')\n",
        "\n",
        "#Mudar tipo da coluna transaction date para 'datetime64' e separando a data em colunas\n",
        "props['transactiondate'] = pd.to_datetime(props['transactiondate'])\n",
        "props['transaction_year'] = props['transactiondate'].dt.year\n",
        "props['transaction_month'] = props['transactiondate'].dt.month\n",
        "props['transaction_day'] = props['transactiondate'].dt.day\n",
        "props.drop(['transactiondate'], axis=1, inplace=True)"
      ],
      "execution_count": 0,
      "outputs": []
    },
    {
      "metadata": {
        "id": "n2PfRuiCuUJu",
        "colab_type": "code",
        "outputId": "a5368094-2cdf-4de2-9abd-e5f9158662d4",
        "colab": {
          "base_uri": "https://localhost:8080/",
          "height": 340
        }
      },
      "cell_type": "code",
      "source": [
        "props_dtypes_after = props.dtypes.value_counts().sort_values(ascending=False)\n",
        "props_dtypes_after.plot.bar(title='Frequência dos Tipos de Dados Após Definição')"
      ],
      "execution_count": 11,
      "outputs": [
        {
          "output_type": "execute_result",
          "data": {
            "text/plain": [
              "<matplotlib.axes._subplots.AxesSubplot at 0x7f72a2888dd8>"
            ]
          },
          "metadata": {
            "tags": []
          },
          "execution_count": 11
        },
        {
          "output_type": "display_data",
          "data": {
            "image/png": "[encoded data removed]",
            "text/plain": [
              "<Figure size 432x288 with 1 Axes>"
            ]
          },
          "metadata": {
            "tags": []
          }
        }
      ]
    },
    {
      "metadata": {
        "colab_type": "text",
        "id": "kSi6Io_P401l"
      },
      "cell_type": "markdown",
      "source": [
        "### 2.2 Tratamento de dados ausentes"
      ]
    },
    {
      "metadata": {
        "colab_type": "code",
        "id": "YOAL3rQdgbdh",
        "outputId": "7dccad31-fa58-4a1a-a2da-8a00312ce702",
        "colab": {
          "base_uri": "https://localhost:8080/",
          "height": 1191
        }
      },
      "cell_type": "code",
      "source": [
        "((props.isnull().sum()/len(props))*100).sort_values().plot.barh(figsize=(15,20), title='Dados faltantes em cada coluna antes da remoção')\n",
        "\n",
        "#missingValueColumns = props.columns[props.isnull().any()].tolist()\n",
        "#msno.bar(props[missingValueColumns])"
      ],
      "execution_count": 12,
      "outputs": [
        {
          "output_type": "execute_result",
          "data": {
            "text/plain": [
              "<matplotlib.axes._subplots.AxesSubplot at 0x7f72a283f748>"
            ]
          },
          "metadata": {
            "tags": []
          },
          "execution_count": 12
        },
        {
          "output_type": "display_data",
          "data": {
            "image/png": "[encoded data removed]",
            "text/plain": [
              "<Figure size 1080x1440 with 1 Axes>"
            ]
          },
          "metadata": {
            "tags": []
          }
        }
      ]
    },
    {
      "metadata": {
        "id": "9aU_riUzt_td",
        "colab_type": "text"
      },
      "cell_type": "markdown",
      "source": [
        "#### 2.2.1 Remoção de dados"
      ]
    },
    {
      "metadata": {
        "id": "2F94-qbJ7jXx",
        "colab_type": "code",
        "outputId": "78af21dc-552b-4ea0-c0f7-c3f39a37f576",
        "colab": {
          "base_uri": "https://localhost:8080/",
          "height": 34
        }
      },
      "cell_type": "code",
      "source": [
        "props.shape"
      ],
      "execution_count": 13,
      "outputs": [
        {
          "output_type": "execute_result",
          "data": {
            "text/plain": [
              "(90275, 62)"
            ]
          },
          "metadata": {
            "tags": []
          },
          "execution_count": 13
        }
      ]
    },
    {
      "metadata": {
        "id": "HTSUmGqbGzvB",
        "colab_type": "text"
      },
      "cell_type": "markdown",
      "source": [
        "##### Remoção de Instâncias"
      ]
    },
    {
      "metadata": {
        "id": "eBVpfZLd7jX1",
        "colab_type": "code",
        "colab": {}
      },
      "cell_type": "code",
      "source": [
        "#df.dropna(thresh=2)   #Drop row if it does not have at least two values that are **not** NaN\n",
        "\n",
        "# Remover linhas com mais de 70% de dados ausentes\n",
        "props.dropna(thresh=(0.3*len(props.columns.values)), inplace=True)"
      ],
      "execution_count": 0,
      "outputs": []
    },
    {
      "metadata": {
        "id": "UW3ABc8LtTer",
        "colab_type": "text"
      },
      "cell_type": "markdown",
      "source": [
        "##### Remoção de colunas"
      ]
    },
    {
      "metadata": {
        "id": "HqWwzO8VU7Hw",
        "colab_type": "code",
        "outputId": "862a194f-8386-4707-8654-558a9f1a2dbc",
        "colab": {
          "base_uri": "https://localhost:8080/",
          "height": 51
        }
      },
      "cell_type": "code",
      "source": [
        "# A coluna 'assessmentyear' sempre tem o mesmo valor para todas as instâncias, logo se torna inútil mantê-la\n",
        "print(props['assessmentyear'].value_counts())\n",
        "props.drop(['assessmentyear'], axis=1, inplace=True)"
      ],
      "execution_count": 15,
      "outputs": [
        {
          "output_type": "stream",
          "text": [
            "2015.0    90275\n",
            "Name: assessmentyear, dtype: int64\n"
          ],
          "name": "stdout"
        }
      ]
    },
    {
      "metadata": {
        "id": "nPo1pY1M7jX4",
        "colab_type": "code",
        "colab": {}
      },
      "cell_type": "code",
      "source": [
        "#A coluna 'fireplaceflag' não adiciona nenhuma informação útil pois o dataset já possui 'fireplacecnt', então removemos:\n",
        "props.drop(['fireplaceflag'], axis=1, inplace=True)\n",
        "\n",
        "#A coluna 'calculatedbathnbr' é uma cópia da coluna 'bathroomcnt', então removemos:\n",
        "props.drop(['calculatedbathnbr'], axis=1, inplace=True)\n",
        "\n",
        "#A coluna 'calculatedfinishedsquarefeet' é uma cópia da coluna 'finishedsquarefeet12', então removemos:\n",
        "props.drop(['calculatedfinishedsquarefeet'], axis=1, inplace=True)\n",
        "\n",
        "# Remover colunas com mais de 70% de dados ausentes\n",
        "props.dropna(thresh=0.70*len(props), axis=1, inplace=True)"
      ],
      "execution_count": 0,
      "outputs": []
    },
    {
      "metadata": {
        "id": "B9Ozaz7Dulaa",
        "colab_type": "text"
      },
      "cell_type": "markdown",
      "source": [
        "##### Dataframe Resultante"
      ]
    },
    {
      "metadata": {
        "id": "jtzfptEP7jX8",
        "colab_type": "code",
        "outputId": "32d57510-a429-4d64-af70-3050bd79af68",
        "colab": {
          "base_uri": "https://localhost:8080/",
          "height": 889
        }
      },
      "cell_type": "code",
      "source": [
        "print('Dataframe Resultante: \\n', props.shape)\n",
        "\n",
        "props.head().transpose()"
      ],
      "execution_count": 17,
      "outputs": [
        {
          "output_type": "stream",
          "text": [
            "Dataframe Resultante: \n",
            " (90275, 26)\n"
          ],
          "name": "stdout"
        },
        {
          "output_type": "execute_result",
          "data": {
            "text/html": [
              "<div>\n",
              "<style scoped>\n",
              "    .dataframe tbody tr th:only-of-type {\n",
              "        vertical-align: middle;\n",
              "    }\n",
              "\n",
              "    .dataframe tbody tr th {\n",
              "        vertical-align: top;\n",
              "    }\n",
              "\n",
              "    .dataframe thead th {\n",
              "        text-align: right;\n",
              "    }\n",
              "</style>\n",
              "<table border=\"1\" class=\"dataframe\">\n",
              "  <thead>\n",
              "    <tr style=\"text-align: right;\">\n",
              "      <th></th>\n",
              "      <th>0</th>\n",
              "      <th>1</th>\n",
              "      <th>2</th>\n",
              "      <th>3</th>\n",
              "      <th>4</th>\n",
              "    </tr>\n",
              "  </thead>\n",
              "  <tbody>\n",
              "    <tr>\n",
              "      <th>parcelid</th>\n",
              "      <td>17073783</td>\n",
              "      <td>17088994</td>\n",
              "      <td>17100444</td>\n",
              "      <td>17102429</td>\n",
              "      <td>17109604</td>\n",
              "    </tr>\n",
              "    <tr>\n",
              "      <th>bathroomcnt</th>\n",
              "      <td>2.5</td>\n",
              "      <td>1</td>\n",
              "      <td>2</td>\n",
              "      <td>1.5</td>\n",
              "      <td>2.5</td>\n",
              "    </tr>\n",
              "    <tr>\n",
              "      <th>bedroomcnt</th>\n",
              "      <td>3</td>\n",
              "      <td>2</td>\n",
              "      <td>3</td>\n",
              "      <td>2</td>\n",
              "      <td>4</td>\n",
              "    </tr>\n",
              "    <tr>\n",
              "      <th>finishedsquarefeet12</th>\n",
              "      <td>1264</td>\n",
              "      <td>777</td>\n",
              "      <td>1101</td>\n",
              "      <td>1554</td>\n",
              "      <td>2415</td>\n",
              "    </tr>\n",
              "    <tr>\n",
              "      <th>fips</th>\n",
              "      <td>6111</td>\n",
              "      <td>6111</td>\n",
              "      <td>6111</td>\n",
              "      <td>6111</td>\n",
              "      <td>6111</td>\n",
              "    </tr>\n",
              "    <tr>\n",
              "      <th>fullbathcnt</th>\n",
              "      <td>2</td>\n",
              "      <td>1</td>\n",
              "      <td>2</td>\n",
              "      <td>1</td>\n",
              "      <td>2</td>\n",
              "    </tr>\n",
              "    <tr>\n",
              "      <th>latitude</th>\n",
              "      <td>3.43036e+07</td>\n",
              "      <td>3.42729e+07</td>\n",
              "      <td>3.43408e+07</td>\n",
              "      <td>3.43543e+07</td>\n",
              "      <td>3.42666e+07</td>\n",
              "    </tr>\n",
              "    <tr>\n",
              "      <th>longitude</th>\n",
              "      <td>-1.19287e+08</td>\n",
              "      <td>-1.19199e+08</td>\n",
              "      <td>-1.1908e+08</td>\n",
              "      <td>-1.19076e+08</td>\n",
              "      <td>-1.19165e+08</td>\n",
              "    </tr>\n",
              "    <tr>\n",
              "      <th>lotsizesquarefeet</th>\n",
              "      <td>1735</td>\n",
              "      <td>NaN</td>\n",
              "      <td>6569</td>\n",
              "      <td>7400</td>\n",
              "      <td>6326</td>\n",
              "    </tr>\n",
              "    <tr>\n",
              "      <th>propertycountylandusecode</th>\n",
              "      <td>1128</td>\n",
              "      <td>1129</td>\n",
              "      <td>1111</td>\n",
              "      <td>1110</td>\n",
              "      <td>1111</td>\n",
              "    </tr>\n",
              "    <tr>\n",
              "      <th>propertylandusetypeid</th>\n",
              "      <td>265</td>\n",
              "      <td>266</td>\n",
              "      <td>261</td>\n",
              "      <td>261</td>\n",
              "      <td>261</td>\n",
              "    </tr>\n",
              "    <tr>\n",
              "      <th>rawcensustractandblock</th>\n",
              "      <td>6.111e+07</td>\n",
              "      <td>6.111e+07</td>\n",
              "      <td>6.111e+07</td>\n",
              "      <td>6.111e+07</td>\n",
              "      <td>6.111e+07</td>\n",
              "    </tr>\n",
              "    <tr>\n",
              "      <th>regionidcity</th>\n",
              "      <td>34543</td>\n",
              "      <td>34543</td>\n",
              "      <td>26965</td>\n",
              "      <td>26965</td>\n",
              "      <td>34543</td>\n",
              "    </tr>\n",
              "    <tr>\n",
              "      <th>regionidcounty</th>\n",
              "      <td>2061</td>\n",
              "      <td>2061</td>\n",
              "      <td>2061</td>\n",
              "      <td>2061</td>\n",
              "      <td>2061</td>\n",
              "    </tr>\n",
              "    <tr>\n",
              "      <th>regionidzip</th>\n",
              "      <td>97081</td>\n",
              "      <td>97083</td>\n",
              "      <td>97113</td>\n",
              "      <td>97113</td>\n",
              "      <td>97084</td>\n",
              "    </tr>\n",
              "    <tr>\n",
              "      <th>roomcnt</th>\n",
              "      <td>5</td>\n",
              "      <td>4</td>\n",
              "      <td>5</td>\n",
              "      <td>5</td>\n",
              "      <td>8</td>\n",
              "    </tr>\n",
              "    <tr>\n",
              "      <th>yearbuilt</th>\n",
              "      <td>1986</td>\n",
              "      <td>1990</td>\n",
              "      <td>1956</td>\n",
              "      <td>1965</td>\n",
              "      <td>1984</td>\n",
              "    </tr>\n",
              "    <tr>\n",
              "      <th>structuretaxvaluedollarcnt</th>\n",
              "      <td>115087</td>\n",
              "      <td>143809</td>\n",
              "      <td>33619</td>\n",
              "      <td>45609</td>\n",
              "      <td>277000</td>\n",
              "    </tr>\n",
              "    <tr>\n",
              "      <th>taxvaluedollarcnt</th>\n",
              "      <td>191811</td>\n",
              "      <td>239679</td>\n",
              "      <td>47853</td>\n",
              "      <td>62914</td>\n",
              "      <td>554000</td>\n",
              "    </tr>\n",
              "    <tr>\n",
              "      <th>landtaxvaluedollarcnt</th>\n",
              "      <td>76724</td>\n",
              "      <td>95870</td>\n",
              "      <td>14234</td>\n",
              "      <td>17305</td>\n",
              "      <td>277000</td>\n",
              "    </tr>\n",
              "    <tr>\n",
              "      <th>taxamount</th>\n",
              "      <td>2015.06</td>\n",
              "      <td>2581.3</td>\n",
              "      <td>591.64</td>\n",
              "      <td>682.78</td>\n",
              "      <td>5886.92</td>\n",
              "    </tr>\n",
              "    <tr>\n",
              "      <th>censustractandblock</th>\n",
              "      <td>6.111e+13</td>\n",
              "      <td>6.111e+13</td>\n",
              "      <td>6.111e+13</td>\n",
              "      <td>6.111e+13</td>\n",
              "      <td>6.111e+13</td>\n",
              "    </tr>\n",
              "    <tr>\n",
              "      <th>logerror</th>\n",
              "      <td>0.0953</td>\n",
              "      <td>0.0198</td>\n",
              "      <td>0.006</td>\n",
              "      <td>-0.0566</td>\n",
              "      <td>0.0573</td>\n",
              "    </tr>\n",
              "    <tr>\n",
              "      <th>transaction_year</th>\n",
              "      <td>2016</td>\n",
              "      <td>2016</td>\n",
              "      <td>2016</td>\n",
              "      <td>2016</td>\n",
              "      <td>2016</td>\n",
              "    </tr>\n",
              "    <tr>\n",
              "      <th>transaction_month</th>\n",
              "      <td>1</td>\n",
              "      <td>3</td>\n",
              "      <td>5</td>\n",
              "      <td>6</td>\n",
              "      <td>8</td>\n",
              "    </tr>\n",
              "    <tr>\n",
              "      <th>transaction_day</th>\n",
              "      <td>27</td>\n",
              "      <td>30</td>\n",
              "      <td>27</td>\n",
              "      <td>7</td>\n",
              "      <td>8</td>\n",
              "    </tr>\n",
              "  </tbody>\n",
              "</table>\n",
              "</div>"
            ],
            "text/plain": [
              "                                      0            1            2  \\\n",
              "parcelid                       17073783     17088994     17100444   \n",
              "bathroomcnt                         2.5            1            2   \n",
              "bedroomcnt                            3            2            3   \n",
              "finishedsquarefeet12               1264          777         1101   \n",
              "fips                               6111         6111         6111   \n",
              "fullbathcnt                           2            1            2   \n",
              "latitude                    3.43036e+07  3.42729e+07  3.43408e+07   \n",
              "longitude                  -1.19287e+08 -1.19199e+08  -1.1908e+08   \n",
              "lotsizesquarefeet                  1735          NaN         6569   \n",
              "propertycountylandusecode          1128         1129         1111   \n",
              "propertylandusetypeid               265          266          261   \n",
              "rawcensustractandblock        6.111e+07    6.111e+07    6.111e+07   \n",
              "regionidcity                      34543        34543        26965   \n",
              "regionidcounty                     2061         2061         2061   \n",
              "regionidzip                       97081        97083        97113   \n",
              "roomcnt                               5            4            5   \n",
              "yearbuilt                          1986         1990         1956   \n",
              "structuretaxvaluedollarcnt       115087       143809        33619   \n",
              "taxvaluedollarcnt                191811       239679        47853   \n",
              "landtaxvaluedollarcnt             76724        95870        14234   \n",
              "taxamount                       2015.06       2581.3       591.64   \n",
              "censustractandblock           6.111e+13    6.111e+13    6.111e+13   \n",
              "logerror                         0.0953       0.0198        0.006   \n",
              "transaction_year                   2016         2016         2016   \n",
              "transaction_month                     1            3            5   \n",
              "transaction_day                      27           30           27   \n",
              "\n",
              "                                      3            4  \n",
              "parcelid                       17102429     17109604  \n",
              "bathroomcnt                         1.5          2.5  \n",
              "bedroomcnt                            2            4  \n",
              "finishedsquarefeet12               1554         2415  \n",
              "fips                               6111         6111  \n",
              "fullbathcnt                           1            2  \n",
              "latitude                    3.43543e+07  3.42666e+07  \n",
              "longitude                  -1.19076e+08 -1.19165e+08  \n",
              "lotsizesquarefeet                  7400         6326  \n",
              "propertycountylandusecode          1110         1111  \n",
              "propertylandusetypeid               261          261  \n",
              "rawcensustractandblock        6.111e+07    6.111e+07  \n",
              "regionidcity                      26965        34543  \n",
              "regionidcounty                     2061         2061  \n",
              "regionidzip                       97113        97084  \n",
              "roomcnt                               5            8  \n",
              "yearbuilt                          1965         1984  \n",
              "structuretaxvaluedollarcnt        45609       277000  \n",
              "taxvaluedollarcnt                 62914       554000  \n",
              "landtaxvaluedollarcnt             17305       277000  \n",
              "taxamount                        682.78      5886.92  \n",
              "censustractandblock           6.111e+13    6.111e+13  \n",
              "logerror                        -0.0566       0.0573  \n",
              "transaction_year                   2016         2016  \n",
              "transaction_month                     6            8  \n",
              "transaction_day                       7            8  "
            ]
          },
          "metadata": {
            "tags": []
          },
          "execution_count": 17
        }
      ]
    },
    {
      "metadata": {
        "id": "_dILoDdvqb57",
        "colab_type": "code",
        "outputId": "d86bb9c7-16ea-4960-a6a6-5bd4b51b08e3",
        "colab": {
          "base_uri": "https://localhost:8080/",
          "height": 272
        }
      },
      "cell_type": "code",
      "source": [
        "nan_series_cols = props.isnull().sum()\n",
        "print('Quantitativo de dados faltantes por coluna: \\n')\n",
        "nan_series_cols[nan_series_cols != 0].sort_values()\n",
        "#nan_series_cols[nan_series_cols != 0].sort_values().plot.barh(figsize=(7,7), title='Quantidade de dados faltantes para as colunas que possuem')"
      ],
      "execution_count": 18,
      "outputs": [
        {
          "output_type": "stream",
          "text": [
            "Quantitativo de dados faltantes por coluna: \n",
            "\n"
          ],
          "name": "stdout"
        },
        {
          "output_type": "execute_result",
          "data": {
            "text/plain": [
              "propertycountylandusecode         1\n",
              "taxvaluedollarcnt                 1\n",
              "landtaxvaluedollarcnt             1\n",
              "taxamount                         6\n",
              "regionidzip                      35\n",
              "structuretaxvaluedollarcnt      380\n",
              "censustractandblock             605\n",
              "yearbuilt                       756\n",
              "fullbathcnt                    1182\n",
              "regionidcity                   1803\n",
              "finishedsquarefeet12           4679\n",
              "lotsizesquarefeet             10150\n",
              "dtype: int64"
            ]
          },
          "metadata": {
            "tags": []
          },
          "execution_count": 18
        }
      ]
    },
    {
      "metadata": {
        "id": "FfQh4SUH7jYG",
        "colab_type": "text"
      },
      "cell_type": "markdown",
      "source": [
        "#### 2.2.2 Imputação de dados"
      ]
    },
    {
      "metadata": {
        "id": "efqKMYqEm48k",
        "colab_type": "text"
      },
      "cell_type": "markdown",
      "source": [
        "[Obtendo colunas que contém valores NaN](https://dzone.com/articles/pandas-find-rows-where-columnfield-is-null)"
      ]
    },
    {
      "metadata": {
        "id": "tvciwe0ckbs6",
        "colab_type": "code",
        "colab": {}
      },
      "cell_type": "code",
      "source": [
        "nan_columns = props.columns[props.isnull().any()]"
      ],
      "execution_count": 0,
      "outputs": []
    },
    {
      "metadata": {
        "id": "3yN5UqMk7jYH",
        "colab_type": "code",
        "outputId": "37855af6-99cf-4abd-b933-827039102364",
        "colab": {
          "base_uri": "https://localhost:8080/",
          "height": 317
        }
      },
      "cell_type": "code",
      "source": [
        "props[nan_columns].describe()"
      ],
      "execution_count": 20,
      "outputs": [
        {
          "output_type": "execute_result",
          "data": {
            "text/html": [
              "<div>\n",
              "<style scoped>\n",
              "    .dataframe tbody tr th:only-of-type {\n",
              "        vertical-align: middle;\n",
              "    }\n",
              "\n",
              "    .dataframe tbody tr th {\n",
              "        vertical-align: top;\n",
              "    }\n",
              "\n",
              "    .dataframe thead th {\n",
              "        text-align: right;\n",
              "    }\n",
              "</style>\n",
              "<table border=\"1\" class=\"dataframe\">\n",
              "  <thead>\n",
              "    <tr style=\"text-align: right;\">\n",
              "      <th></th>\n",
              "      <th>finishedsquarefeet12</th>\n",
              "      <th>fullbathcnt</th>\n",
              "      <th>lotsizesquarefeet</th>\n",
              "      <th>regionidcity</th>\n",
              "      <th>regionidzip</th>\n",
              "      <th>yearbuilt</th>\n",
              "      <th>structuretaxvaluedollarcnt</th>\n",
              "      <th>taxvaluedollarcnt</th>\n",
              "      <th>landtaxvaluedollarcnt</th>\n",
              "      <th>taxamount</th>\n",
              "      <th>censustractandblock</th>\n",
              "    </tr>\n",
              "  </thead>\n",
              "  <tbody>\n",
              "    <tr>\n",
              "      <th>count</th>\n",
              "      <td>85596.000000</td>\n",
              "      <td>89093.000000</td>\n",
              "      <td>8.012500e+04</td>\n",
              "      <td>88472.000000</td>\n",
              "      <td>90240.000000</td>\n",
              "      <td>89519.000000</td>\n",
              "      <td>8.989500e+04</td>\n",
              "      <td>9.027400e+04</td>\n",
              "      <td>9.027400e+04</td>\n",
              "      <td>90269.000000</td>\n",
              "      <td>8.967000e+04</td>\n",
              "    </tr>\n",
              "    <tr>\n",
              "      <th>mean</th>\n",
              "      <td>1745.454531</td>\n",
              "      <td>2.241231</td>\n",
              "      <td>2.911016e+04</td>\n",
              "      <td>33761.332851</td>\n",
              "      <td>96586.131184</td>\n",
              "      <td>1968.532870</td>\n",
              "      <td>1.800934e+05</td>\n",
              "      <td>4.576726e+05</td>\n",
              "      <td>2.783353e+05</td>\n",
              "      <td>5983.975927</td>\n",
              "      <td>6.049151e+13</td>\n",
              "    </tr>\n",
              "    <tr>\n",
              "      <th>std</th>\n",
              "      <td>909.941166</td>\n",
              "      <td>0.963142</td>\n",
              "      <td>1.217213e+05</td>\n",
              "      <td>46672.393863</td>\n",
              "      <td>3661.339094</td>\n",
              "      <td>23.763475</td>\n",
              "      <td>2.091299e+05</td>\n",
              "      <td>5.548844e+05</td>\n",
              "      <td>4.004955e+05</td>\n",
              "      <td>6838.876956</td>\n",
              "      <td>2.046605e+11</td>\n",
              "    </tr>\n",
              "    <tr>\n",
              "      <th>min</th>\n",
              "      <td>2.000000</td>\n",
              "      <td>1.000000</td>\n",
              "      <td>1.670000e+02</td>\n",
              "      <td>3491.000000</td>\n",
              "      <td>95982.000000</td>\n",
              "      <td>1885.000000</td>\n",
              "      <td>1.000000e+02</td>\n",
              "      <td>2.200000e+01</td>\n",
              "      <td>2.200000e+01</td>\n",
              "      <td>49.080000</td>\n",
              "      <td>6.037101e+13</td>\n",
              "    </tr>\n",
              "    <tr>\n",
              "      <th>25%</th>\n",
              "      <td>1172.000000</td>\n",
              "      <td>2.000000</td>\n",
              "      <td>5.703000e+03</td>\n",
              "      <td>12447.000000</td>\n",
              "      <td>96193.000000</td>\n",
              "      <td>1953.000000</td>\n",
              "      <td>8.124500e+04</td>\n",
              "      <td>1.990232e+05</td>\n",
              "      <td>8.222800e+04</td>\n",
              "      <td>2872.830000</td>\n",
              "      <td>6.037320e+13</td>\n",
              "    </tr>\n",
              "    <tr>\n",
              "      <th>50%</th>\n",
              "      <td>1518.000000</td>\n",
              "      <td>2.000000</td>\n",
              "      <td>7.200000e+03</td>\n",
              "      <td>25218.000000</td>\n",
              "      <td>96393.000000</td>\n",
              "      <td>1970.000000</td>\n",
              "      <td>1.320000e+05</td>\n",
              "      <td>3.428720e+05</td>\n",
              "      <td>1.929700e+05</td>\n",
              "      <td>4542.750000</td>\n",
              "      <td>6.037615e+13</td>\n",
              "    </tr>\n",
              "    <tr>\n",
              "      <th>75%</th>\n",
              "      <td>2056.000000</td>\n",
              "      <td>3.000000</td>\n",
              "      <td>1.168600e+04</td>\n",
              "      <td>45457.000000</td>\n",
              "      <td>96987.000000</td>\n",
              "      <td>1987.000000</td>\n",
              "      <td>2.105345e+05</td>\n",
              "      <td>5.405890e+05</td>\n",
              "      <td>3.454195e+05</td>\n",
              "      <td>6901.090000</td>\n",
              "      <td>6.059042e+13</td>\n",
              "    </tr>\n",
              "    <tr>\n",
              "      <th>max</th>\n",
              "      <td>20013.000000</td>\n",
              "      <td>20.000000</td>\n",
              "      <td>6.971010e+06</td>\n",
              "      <td>396556.000000</td>\n",
              "      <td>399675.000000</td>\n",
              "      <td>2015.000000</td>\n",
              "      <td>9.948100e+06</td>\n",
              "      <td>2.775000e+07</td>\n",
              "      <td>2.450000e+07</td>\n",
              "      <td>321936.090000</td>\n",
              "      <td>6.111009e+13</td>\n",
              "    </tr>\n",
              "  </tbody>\n",
              "</table>\n",
              "</div>"
            ],
            "text/plain": [
              "       finishedsquarefeet12   fullbathcnt  lotsizesquarefeet   regionidcity  \\\n",
              "count          85596.000000  89093.000000       8.012500e+04   88472.000000   \n",
              "mean            1745.454531      2.241231       2.911016e+04   33761.332851   \n",
              "std              909.941166      0.963142       1.217213e+05   46672.393863   \n",
              "min                2.000000      1.000000       1.670000e+02    3491.000000   \n",
              "25%             1172.000000      2.000000       5.703000e+03   12447.000000   \n",
              "50%             1518.000000      2.000000       7.200000e+03   25218.000000   \n",
              "75%             2056.000000      3.000000       1.168600e+04   45457.000000   \n",
              "max            20013.000000     20.000000       6.971010e+06  396556.000000   \n",
              "\n",
              "         regionidzip     yearbuilt  structuretaxvaluedollarcnt  \\\n",
              "count   90240.000000  89519.000000                8.989500e+04   \n",
              "mean    96586.131184   1968.532870                1.800934e+05   \n",
              "std      3661.339094     23.763475                2.091299e+05   \n",
              "min     95982.000000   1885.000000                1.000000e+02   \n",
              "25%     96193.000000   1953.000000                8.124500e+04   \n",
              "50%     96393.000000   1970.000000                1.320000e+05   \n",
              "75%     96987.000000   1987.000000                2.105345e+05   \n",
              "max    399675.000000   2015.000000                9.948100e+06   \n",
              "\n",
              "       taxvaluedollarcnt  landtaxvaluedollarcnt      taxamount  \\\n",
              "count       9.027400e+04           9.027400e+04   90269.000000   \n",
              "mean        4.576726e+05           2.783353e+05    5983.975927   \n",
              "std         5.548844e+05           4.004955e+05    6838.876956   \n",
              "min         2.200000e+01           2.200000e+01      49.080000   \n",
              "25%         1.990232e+05           8.222800e+04    2872.830000   \n",
              "50%         3.428720e+05           1.929700e+05    4542.750000   \n",
              "75%         5.405890e+05           3.454195e+05    6901.090000   \n",
              "max         2.775000e+07           2.450000e+07  321936.090000   \n",
              "\n",
              "       censustractandblock  \n",
              "count         8.967000e+04  \n",
              "mean          6.049151e+13  \n",
              "std           2.046605e+11  \n",
              "min           6.037101e+13  \n",
              "25%           6.037320e+13  \n",
              "50%           6.037615e+13  \n",
              "75%           6.059042e+13  \n",
              "max           6.111009e+13  "
            ]
          },
          "metadata": {
            "tags": []
          },
          "execution_count": 20
        }
      ]
    },
    {
      "metadata": {
        "id": "f3Nalg7t7jYM",
        "colab_type": "text"
      },
      "cell_type": "markdown",
      "source": [
        "##### Dados Categóricos"
      ]
    },
    {
      "metadata": {
        "id": "eMfQBQuj7jYM",
        "colab_type": "code",
        "colab": {}
      },
      "cell_type": "code",
      "source": [
        "cat_df_nan = props[nan_columns].select_dtypes(include=['category']).copy()"
      ],
      "execution_count": 0,
      "outputs": []
    },
    {
      "metadata": {
        "id": "dDZTkYf87jYO",
        "colab_type": "code",
        "outputId": "ce0d56bb-a23b-41e0-c7f9-adffbec09b6c",
        "colab": {
          "base_uri": "https://localhost:8080/",
          "height": 204
        }
      },
      "cell_type": "code",
      "source": [
        "cat_df_nan.head()"
      ],
      "execution_count": 22,
      "outputs": [
        {
          "output_type": "execute_result",
          "data": {
            "text/html": [
              "<div>\n",
              "<style scoped>\n",
              "    .dataframe tbody tr th:only-of-type {\n",
              "        vertical-align: middle;\n",
              "    }\n",
              "\n",
              "    .dataframe tbody tr th {\n",
              "        vertical-align: top;\n",
              "    }\n",
              "\n",
              "    .dataframe thead th {\n",
              "        text-align: right;\n",
              "    }\n",
              "</style>\n",
              "<table border=\"1\" class=\"dataframe\">\n",
              "  <thead>\n",
              "    <tr style=\"text-align: right;\">\n",
              "      <th></th>\n",
              "      <th>propertycountylandusecode</th>\n",
              "    </tr>\n",
              "  </thead>\n",
              "  <tbody>\n",
              "    <tr>\n",
              "      <th>0</th>\n",
              "      <td>1128</td>\n",
              "    </tr>\n",
              "    <tr>\n",
              "      <th>1</th>\n",
              "      <td>1129</td>\n",
              "    </tr>\n",
              "    <tr>\n",
              "      <th>2</th>\n",
              "      <td>1111</td>\n",
              "    </tr>\n",
              "    <tr>\n",
              "      <th>3</th>\n",
              "      <td>1110</td>\n",
              "    </tr>\n",
              "    <tr>\n",
              "      <th>4</th>\n",
              "      <td>1111</td>\n",
              "    </tr>\n",
              "  </tbody>\n",
              "</table>\n",
              "</div>"
            ],
            "text/plain": [
              "  propertycountylandusecode\n",
              "0                      1128\n",
              "1                      1129\n",
              "2                      1111\n",
              "3                      1110\n",
              "4                      1111"
            ]
          },
          "metadata": {
            "tags": []
          },
          "execution_count": 22
        }
      ]
    },
    {
      "metadata": {
        "id": "yWAZyNot7jYR",
        "colab_type": "code",
        "outputId": "68a43b0c-2a91-4c50-ae72-6095335b96be",
        "colab": {
          "base_uri": "https://localhost:8080/",
          "height": 68
        }
      },
      "cell_type": "code",
      "source": [
        "print('Total NaN values in categorical columns: ' + str(cat_df_nan.isnull().values.sum()))\n",
        "print(cat_df_nan.isnull().sum())"
      ],
      "execution_count": 23,
      "outputs": [
        {
          "output_type": "stream",
          "text": [
            "Total NaN values in categorical columns: 1\n",
            "propertycountylandusecode    1\n",
            "dtype: int64\n"
          ],
          "name": "stdout"
        }
      ]
    },
    {
      "metadata": {
        "id": "1ol2RUPt7C-q",
        "colab_type": "code",
        "colab": {}
      },
      "cell_type": "code",
      "source": [
        "category_type = props.select_dtypes(include=['category']).columns.values\n",
        "for c in category_type:\n",
        "  props[c] = props[c].cat.codes"
      ],
      "execution_count": 0,
      "outputs": []
    },
    {
      "metadata": {
        "id": "VW4sijlK7jYe",
        "colab_type": "text"
      },
      "cell_type": "markdown",
      "source": [
        "##### Dados Numéricos"
      ]
    },
    {
      "metadata": {
        "id": "_p_sc-I1lK_u",
        "colab_type": "code",
        "colab": {}
      },
      "cell_type": "code",
      "source": [
        "num_df_nan = props[nan_columns].select_dtypes(exclude=['category']).copy()\n",
        "#num_nan = props[list(set(props.columns.values).difference(num_df_nan.columns.values))]"
      ],
      "execution_count": 0,
      "outputs": []
    },
    {
      "metadata": {
        "id": "ssylvuatHyu6",
        "colab_type": "code",
        "outputId": "f472668f-7f24-4b29-cc82-da132e76a759",
        "colab": {
          "base_uri": "https://localhost:8080/",
          "height": 224
        }
      },
      "cell_type": "code",
      "source": [
        "num_df_nan.head()"
      ],
      "execution_count": 26,
      "outputs": [
        {
          "output_type": "execute_result",
          "data": {
            "text/html": [
              "<div>\n",
              "<style scoped>\n",
              "    .dataframe tbody tr th:only-of-type {\n",
              "        vertical-align: middle;\n",
              "    }\n",
              "\n",
              "    .dataframe tbody tr th {\n",
              "        vertical-align: top;\n",
              "    }\n",
              "\n",
              "    .dataframe thead th {\n",
              "        text-align: right;\n",
              "    }\n",
              "</style>\n",
              "<table border=\"1\" class=\"dataframe\">\n",
              "  <thead>\n",
              "    <tr style=\"text-align: right;\">\n",
              "      <th></th>\n",
              "      <th>finishedsquarefeet12</th>\n",
              "      <th>fullbathcnt</th>\n",
              "      <th>lotsizesquarefeet</th>\n",
              "      <th>propertycountylandusecode</th>\n",
              "      <th>regionidcity</th>\n",
              "      <th>regionidzip</th>\n",
              "      <th>yearbuilt</th>\n",
              "      <th>structuretaxvaluedollarcnt</th>\n",
              "      <th>taxvaluedollarcnt</th>\n",
              "      <th>landtaxvaluedollarcnt</th>\n",
              "      <th>taxamount</th>\n",
              "      <th>censustractandblock</th>\n",
              "    </tr>\n",
              "  </thead>\n",
              "  <tbody>\n",
              "    <tr>\n",
              "      <th>0</th>\n",
              "      <td>1264.0</td>\n",
              "      <td>2.0</td>\n",
              "      <td>1735.0</td>\n",
              "      <td>54</td>\n",
              "      <td>34543.0</td>\n",
              "      <td>97081.0</td>\n",
              "      <td>1986.0</td>\n",
              "      <td>115087.0</td>\n",
              "      <td>191811.0</td>\n",
              "      <td>76724.0</td>\n",
              "      <td>2015.06</td>\n",
              "      <td>6.111002e+13</td>\n",
              "    </tr>\n",
              "    <tr>\n",
              "      <th>1</th>\n",
              "      <td>777.0</td>\n",
              "      <td>1.0</td>\n",
              "      <td>NaN</td>\n",
              "      <td>55</td>\n",
              "      <td>34543.0</td>\n",
              "      <td>97083.0</td>\n",
              "      <td>1990.0</td>\n",
              "      <td>143809.0</td>\n",
              "      <td>239679.0</td>\n",
              "      <td>95870.0</td>\n",
              "      <td>2581.30</td>\n",
              "      <td>6.111002e+13</td>\n",
              "    </tr>\n",
              "    <tr>\n",
              "      <th>2</th>\n",
              "      <td>1101.0</td>\n",
              "      <td>2.0</td>\n",
              "      <td>6569.0</td>\n",
              "      <td>50</td>\n",
              "      <td>26965.0</td>\n",
              "      <td>97113.0</td>\n",
              "      <td>1956.0</td>\n",
              "      <td>33619.0</td>\n",
              "      <td>47853.0</td>\n",
              "      <td>14234.0</td>\n",
              "      <td>591.64</td>\n",
              "      <td>6.111001e+13</td>\n",
              "    </tr>\n",
              "    <tr>\n",
              "      <th>3</th>\n",
              "      <td>1554.0</td>\n",
              "      <td>1.0</td>\n",
              "      <td>7400.0</td>\n",
              "      <td>49</td>\n",
              "      <td>26965.0</td>\n",
              "      <td>97113.0</td>\n",
              "      <td>1965.0</td>\n",
              "      <td>45609.0</td>\n",
              "      <td>62914.0</td>\n",
              "      <td>17305.0</td>\n",
              "      <td>682.78</td>\n",
              "      <td>6.111001e+13</td>\n",
              "    </tr>\n",
              "    <tr>\n",
              "      <th>4</th>\n",
              "      <td>2415.0</td>\n",
              "      <td>2.0</td>\n",
              "      <td>6326.0</td>\n",
              "      <td>50</td>\n",
              "      <td>34543.0</td>\n",
              "      <td>97084.0</td>\n",
              "      <td>1984.0</td>\n",
              "      <td>277000.0</td>\n",
              "      <td>554000.0</td>\n",
              "      <td>277000.0</td>\n",
              "      <td>5886.92</td>\n",
              "      <td>6.111001e+13</td>\n",
              "    </tr>\n",
              "  </tbody>\n",
              "</table>\n",
              "</div>"
            ],
            "text/plain": [
              "   finishedsquarefeet12  fullbathcnt  lotsizesquarefeet  \\\n",
              "0                1264.0          2.0             1735.0   \n",
              "1                 777.0          1.0                NaN   \n",
              "2                1101.0          2.0             6569.0   \n",
              "3                1554.0          1.0             7400.0   \n",
              "4                2415.0          2.0             6326.0   \n",
              "\n",
              "   propertycountylandusecode  regionidcity  regionidzip  yearbuilt  \\\n",
              "0                         54       34543.0      97081.0     1986.0   \n",
              "1                         55       34543.0      97083.0     1990.0   \n",
              "2                         50       26965.0      97113.0     1956.0   \n",
              "3                         49       26965.0      97113.0     1965.0   \n",
              "4                         50       34543.0      97084.0     1984.0   \n",
              "\n",
              "   structuretaxvaluedollarcnt  taxvaluedollarcnt  landtaxvaluedollarcnt  \\\n",
              "0                    115087.0           191811.0                76724.0   \n",
              "1                    143809.0           239679.0                95870.0   \n",
              "2                     33619.0            47853.0                14234.0   \n",
              "3                     45609.0            62914.0                17305.0   \n",
              "4                    277000.0           554000.0               277000.0   \n",
              "\n",
              "   taxamount  censustractandblock  \n",
              "0    2015.06         6.111002e+13  \n",
              "1    2581.30         6.111002e+13  \n",
              "2     591.64         6.111001e+13  \n",
              "3     682.78         6.111001e+13  \n",
              "4    5886.92         6.111001e+13  "
            ]
          },
          "metadata": {
            "tags": []
          },
          "execution_count": 26
        }
      ]
    },
    {
      "metadata": {
        "id": "-YCNab9CNSsa",
        "colab_type": "code",
        "outputId": "4bf18f17-5295-4150-a924-397b1a4c11fd",
        "colab": {
          "base_uri": "https://localhost:8080/",
          "height": 255
        }
      },
      "cell_type": "code",
      "source": [
        "print('Total NaN values in numeric columns: {}'.format(num_df_nan.isnull().values.sum()))\n",
        "print(num_df_nan.isnull().sum().sort_values())"
      ],
      "execution_count": 27,
      "outputs": [
        {
          "output_type": "stream",
          "text": [
            "Total NaN values in numeric columns: 19598\n",
            "propertycountylandusecode         0\n",
            "taxvaluedollarcnt                 1\n",
            "landtaxvaluedollarcnt             1\n",
            "taxamount                         6\n",
            "regionidzip                      35\n",
            "structuretaxvaluedollarcnt      380\n",
            "censustractandblock             605\n",
            "yearbuilt                       756\n",
            "fullbathcnt                    1182\n",
            "regionidcity                   1803\n",
            "finishedsquarefeet12           4679\n",
            "lotsizesquarefeet             10150\n",
            "dtype: int64\n"
          ],
          "name": "stdout"
        }
      ]
    },
    {
      "metadata": {
        "id": "1IwnO_CvTrM-",
        "colab_type": "text"
      },
      "cell_type": "markdown",
      "source": [
        "Usando Random Forest para imputação de dados"
      ]
    },
    {
      "metadata": {
        "id": "etNQ40JS_86p",
        "colab_type": "code",
        "colab": {}
      },
      "cell_type": "code",
      "source": [
        "def saveToCsv(df, columns, index):\n",
        "  \n",
        "  df_out = pd.DataFrame(data=df)\n",
        "  df_out.columns = props.columns.values.tolist()\n",
        "  df_out.set_index(index, inplace=True, drop=True)\n",
        "  df_out.to_csv('props_imputed.csv')\n",
        "  \n",
        "  from google.colab import files\n",
        "  files.download('props_imputed.csv')"
      ],
      "execution_count": 0,
      "outputs": []
    },
    {
      "metadata": {
        "id": "cLcMKuBxO0g8",
        "colab_type": "code",
        "colab": {}
      },
      "cell_type": "code",
      "source": [
        "'''\n",
        "\n",
        "  Se já executou anteriormente, settar imputed para True.\n",
        "  Se não, settar imputed para False para fazer a imputação.\n",
        "  \n",
        "'''\n",
        "\n",
        "if(imputed):\n",
        "  props_imputed = pd.read_csv('https://raw.githubusercontent.com/thiagotandrade/ds_project/master/Database/props_imputed_v2.csv',\n",
        "                             header=0, sep=',', quotechar='\"')\n",
        "else:\n",
        "  from missingpy import MissForest\n",
        "  imputer = MissForest()\n",
        "  props_imputed = imputer.fit_transform(props)\n",
        "  saveToCsv(props_imputed, props.columns.values.tolist(), 'parcelid')"
      ],
      "execution_count": 0,
      "outputs": []
    },
    {
      "metadata": {
        "id": "gZk59btt1pDy",
        "colab_type": "code",
        "colab": {}
      },
      "cell_type": "code",
      "source": [
        "# Executar o kNN com o dataframe causará estouro de memória\n",
        "\n",
        "#lb_make = LabelEncoder()\n",
        "#props['propertycountylandusecode'] = lb_make.fit_transform(props['propertycountylandusecode'])\n",
        "\n",
        "#props_knn = KNN(k=3).fit_transform(props)"
      ],
      "execution_count": 0,
      "outputs": []
    },
    {
      "metadata": {
        "id": "-XKMXoW1ltX6",
        "colab_type": "text"
      },
      "cell_type": "markdown",
      "source": [
        "Comparação das estatísticas antes e depois da imputação."
      ]
    },
    {
      "metadata": {
        "id": "EI34JQj9SvtW",
        "colab_type": "code",
        "outputId": "30f8c818-506a-46d4-f9ab-309e724c24a0",
        "colab": {
          "base_uri": "https://localhost:8080/",
          "height": 317
        }
      },
      "cell_type": "code",
      "source": [
        "props[nan_columns].describe()"
      ],
      "execution_count": 31,
      "outputs": [
        {
          "output_type": "execute_result",
          "data": {
            "text/html": [
              "<div>\n",
              "<style scoped>\n",
              "    .dataframe tbody tr th:only-of-type {\n",
              "        vertical-align: middle;\n",
              "    }\n",
              "\n",
              "    .dataframe tbody tr th {\n",
              "        vertical-align: top;\n",
              "    }\n",
              "\n",
              "    .dataframe thead th {\n",
              "        text-align: right;\n",
              "    }\n",
              "</style>\n",
              "<table border=\"1\" class=\"dataframe\">\n",
              "  <thead>\n",
              "    <tr style=\"text-align: right;\">\n",
              "      <th></th>\n",
              "      <th>finishedsquarefeet12</th>\n",
              "      <th>fullbathcnt</th>\n",
              "      <th>lotsizesquarefeet</th>\n",
              "      <th>propertycountylandusecode</th>\n",
              "      <th>regionidcity</th>\n",
              "      <th>regionidzip</th>\n",
              "      <th>yearbuilt</th>\n",
              "      <th>structuretaxvaluedollarcnt</th>\n",
              "      <th>taxvaluedollarcnt</th>\n",
              "      <th>landtaxvaluedollarcnt</th>\n",
              "      <th>taxamount</th>\n",
              "      <th>censustractandblock</th>\n",
              "    </tr>\n",
              "  </thead>\n",
              "  <tbody>\n",
              "    <tr>\n",
              "      <th>count</th>\n",
              "      <td>85596.000000</td>\n",
              "      <td>89093.000000</td>\n",
              "      <td>8.012500e+04</td>\n",
              "      <td>90275.000000</td>\n",
              "      <td>88472.000000</td>\n",
              "      <td>90240.000000</td>\n",
              "      <td>89519.000000</td>\n",
              "      <td>8.989500e+04</td>\n",
              "      <td>9.027400e+04</td>\n",
              "      <td>9.027400e+04</td>\n",
              "      <td>90269.000000</td>\n",
              "      <td>8.967000e+04</td>\n",
              "    </tr>\n",
              "    <tr>\n",
              "      <th>mean</th>\n",
              "      <td>1745.454531</td>\n",
              "      <td>2.241231</td>\n",
              "      <td>2.911016e+04</td>\n",
              "      <td>24.315071</td>\n",
              "      <td>33761.332851</td>\n",
              "      <td>96586.131184</td>\n",
              "      <td>1968.532870</td>\n",
              "      <td>1.800934e+05</td>\n",
              "      <td>4.576726e+05</td>\n",
              "      <td>2.783353e+05</td>\n",
              "      <td>5983.975927</td>\n",
              "      <td>6.049151e+13</td>\n",
              "    </tr>\n",
              "    <tr>\n",
              "      <th>std</th>\n",
              "      <td>909.941166</td>\n",
              "      <td>0.963142</td>\n",
              "      <td>1.217213e+05</td>\n",
              "      <td>25.738982</td>\n",
              "      <td>46672.393863</td>\n",
              "      <td>3661.339094</td>\n",
              "      <td>23.763475</td>\n",
              "      <td>2.091299e+05</td>\n",
              "      <td>5.548844e+05</td>\n",
              "      <td>4.004955e+05</td>\n",
              "      <td>6838.876956</td>\n",
              "      <td>2.046605e+11</td>\n",
              "    </tr>\n",
              "    <tr>\n",
              "      <th>min</th>\n",
              "      <td>2.000000</td>\n",
              "      <td>1.000000</td>\n",
              "      <td>1.670000e+02</td>\n",
              "      <td>-1.000000</td>\n",
              "      <td>3491.000000</td>\n",
              "      <td>95982.000000</td>\n",
              "      <td>1885.000000</td>\n",
              "      <td>1.000000e+02</td>\n",
              "      <td>2.200000e+01</td>\n",
              "      <td>2.200000e+01</td>\n",
              "      <td>49.080000</td>\n",
              "      <td>6.037101e+13</td>\n",
              "    </tr>\n",
              "    <tr>\n",
              "      <th>25%</th>\n",
              "      <td>1172.000000</td>\n",
              "      <td>2.000000</td>\n",
              "      <td>5.703000e+03</td>\n",
              "      <td>2.000000</td>\n",
              "      <td>12447.000000</td>\n",
              "      <td>96193.000000</td>\n",
              "      <td>1953.000000</td>\n",
              "      <td>8.124500e+04</td>\n",
              "      <td>1.990232e+05</td>\n",
              "      <td>8.222800e+04</td>\n",
              "      <td>2872.830000</td>\n",
              "      <td>6.037320e+13</td>\n",
              "    </tr>\n",
              "    <tr>\n",
              "      <th>50%</th>\n",
              "      <td>1518.000000</td>\n",
              "      <td>2.000000</td>\n",
              "      <td>7.200000e+03</td>\n",
              "      <td>9.000000</td>\n",
              "      <td>25218.000000</td>\n",
              "      <td>96393.000000</td>\n",
              "      <td>1970.000000</td>\n",
              "      <td>1.320000e+05</td>\n",
              "      <td>3.428720e+05</td>\n",
              "      <td>1.929700e+05</td>\n",
              "      <td>4542.750000</td>\n",
              "      <td>6.037615e+13</td>\n",
              "    </tr>\n",
              "    <tr>\n",
              "      <th>75%</th>\n",
              "      <td>2056.000000</td>\n",
              "      <td>3.000000</td>\n",
              "      <td>1.168600e+04</td>\n",
              "      <td>55.000000</td>\n",
              "      <td>45457.000000</td>\n",
              "      <td>96987.000000</td>\n",
              "      <td>1987.000000</td>\n",
              "      <td>2.105345e+05</td>\n",
              "      <td>5.405890e+05</td>\n",
              "      <td>3.454195e+05</td>\n",
              "      <td>6901.090000</td>\n",
              "      <td>6.059042e+13</td>\n",
              "    </tr>\n",
              "    <tr>\n",
              "      <th>max</th>\n",
              "      <td>20013.000000</td>\n",
              "      <td>20.000000</td>\n",
              "      <td>6.971010e+06</td>\n",
              "      <td>76.000000</td>\n",
              "      <td>396556.000000</td>\n",
              "      <td>399675.000000</td>\n",
              "      <td>2015.000000</td>\n",
              "      <td>9.948100e+06</td>\n",
              "      <td>2.775000e+07</td>\n",
              "      <td>2.450000e+07</td>\n",
              "      <td>321936.090000</td>\n",
              "      <td>6.111009e+13</td>\n",
              "    </tr>\n",
              "  </tbody>\n",
              "</table>\n",
              "</div>"
            ],
            "text/plain": [
              "       finishedsquarefeet12   fullbathcnt  lotsizesquarefeet  \\\n",
              "count          85596.000000  89093.000000       8.012500e+04   \n",
              "mean            1745.454531      2.241231       2.911016e+04   \n",
              "std              909.941166      0.963142       1.217213e+05   \n",
              "min                2.000000      1.000000       1.670000e+02   \n",
              "25%             1172.000000      2.000000       5.703000e+03   \n",
              "50%             1518.000000      2.000000       7.200000e+03   \n",
              "75%             2056.000000      3.000000       1.168600e+04   \n",
              "max            20013.000000     20.000000       6.971010e+06   \n",
              "\n",
              "       propertycountylandusecode   regionidcity    regionidzip     yearbuilt  \\\n",
              "count               90275.000000   88472.000000   90240.000000  89519.000000   \n",
              "mean                   24.315071   33761.332851   96586.131184   1968.532870   \n",
              "std                    25.738982   46672.393863    3661.339094     23.763475   \n",
              "min                    -1.000000    3491.000000   95982.000000   1885.000000   \n",
              "25%                     2.000000   12447.000000   96193.000000   1953.000000   \n",
              "50%                     9.000000   25218.000000   96393.000000   1970.000000   \n",
              "75%                    55.000000   45457.000000   96987.000000   1987.000000   \n",
              "max                    76.000000  396556.000000  399675.000000   2015.000000   \n",
              "\n",
              "       structuretaxvaluedollarcnt  taxvaluedollarcnt  landtaxvaluedollarcnt  \\\n",
              "count                8.989500e+04       9.027400e+04           9.027400e+04   \n",
              "mean                 1.800934e+05       4.576726e+05           2.783353e+05   \n",
              "std                  2.091299e+05       5.548844e+05           4.004955e+05   \n",
              "min                  1.000000e+02       2.200000e+01           2.200000e+01   \n",
              "25%                  8.124500e+04       1.990232e+05           8.222800e+04   \n",
              "50%                  1.320000e+05       3.428720e+05           1.929700e+05   \n",
              "75%                  2.105345e+05       5.405890e+05           3.454195e+05   \n",
              "max                  9.948100e+06       2.775000e+07           2.450000e+07   \n",
              "\n",
              "           taxamount  censustractandblock  \n",
              "count   90269.000000         8.967000e+04  \n",
              "mean     5983.975927         6.049151e+13  \n",
              "std      6838.876956         2.046605e+11  \n",
              "min        49.080000         6.037101e+13  \n",
              "25%      2872.830000         6.037320e+13  \n",
              "50%      4542.750000         6.037615e+13  \n",
              "75%      6901.090000         6.059042e+13  \n",
              "max    321936.090000         6.111009e+13  "
            ]
          },
          "metadata": {
            "tags": []
          },
          "execution_count": 31
        }
      ]
    },
    {
      "metadata": {
        "id": "hyTR6I1VS0WQ",
        "colab_type": "code",
        "outputId": "34822a91-bc06-4109-8427-fd061a986efc",
        "colab": {
          "base_uri": "https://localhost:8080/",
          "height": 317
        }
      },
      "cell_type": "code",
      "source": [
        "props_imputed[nan_columns].describe()"
      ],
      "execution_count": 32,
      "outputs": [
        {
          "output_type": "execute_result",
          "data": {
            "text/html": [
              "<div>\n",
              "<style scoped>\n",
              "    .dataframe tbody tr th:only-of-type {\n",
              "        vertical-align: middle;\n",
              "    }\n",
              "\n",
              "    .dataframe tbody tr th {\n",
              "        vertical-align: top;\n",
              "    }\n",
              "\n",
              "    .dataframe thead th {\n",
              "        text-align: right;\n",
              "    }\n",
              "</style>\n",
              "<table border=\"1\" class=\"dataframe\">\n",
              "  <thead>\n",
              "    <tr style=\"text-align: right;\">\n",
              "      <th></th>\n",
              "      <th>finishedsquarefeet12</th>\n",
              "      <th>fullbathcnt</th>\n",
              "      <th>lotsizesquarefeet</th>\n",
              "      <th>propertycountylandusecode</th>\n",
              "      <th>regionidcity</th>\n",
              "      <th>regionidzip</th>\n",
              "      <th>yearbuilt</th>\n",
              "      <th>structuretaxvaluedollarcnt</th>\n",
              "      <th>taxvaluedollarcnt</th>\n",
              "      <th>landtaxvaluedollarcnt</th>\n",
              "      <th>taxamount</th>\n",
              "      <th>censustractandblock</th>\n",
              "    </tr>\n",
              "  </thead>\n",
              "  <tbody>\n",
              "    <tr>\n",
              "      <th>count</th>\n",
              "      <td>90275.000000</td>\n",
              "      <td>90275.000000</td>\n",
              "      <td>9.027500e+04</td>\n",
              "      <td>90275.000000</td>\n",
              "      <td>90275.000000</td>\n",
              "      <td>90275.000000</td>\n",
              "      <td>90275.000000</td>\n",
              "      <td>9.027500e+04</td>\n",
              "      <td>9.027500e+04</td>\n",
              "      <td>9.027500e+04</td>\n",
              "      <td>90275.000000</td>\n",
              "      <td>9.027500e+04</td>\n",
              "    </tr>\n",
              "    <tr>\n",
              "      <th>mean</th>\n",
              "      <td>1766.497488</td>\n",
              "      <td>2.225189</td>\n",
              "      <td>2.912494e+04</td>\n",
              "      <td>24.315071</td>\n",
              "      <td>33961.479352</td>\n",
              "      <td>96586.314028</td>\n",
              "      <td>1968.502799</td>\n",
              "      <td>1.794753e+05</td>\n",
              "      <td>4.576713e+05</td>\n",
              "      <td>2.783341e+05</td>\n",
              "      <td>5983.760300</td>\n",
              "      <td>6.049185e+13</td>\n",
              "    </tr>\n",
              "    <tr>\n",
              "      <th>std</th>\n",
              "      <td>912.601389</td>\n",
              "      <td>0.967107</td>\n",
              "      <td>1.159982e+05</td>\n",
              "      <td>25.738982</td>\n",
              "      <td>46337.300549</td>\n",
              "      <td>3660.641858</td>\n",
              "      <td>23.757301</td>\n",
              "      <td>2.089603e+05</td>\n",
              "      <td>5.548815e+05</td>\n",
              "      <td>4.004934e+05</td>\n",
              "      <td>6838.704246</td>\n",
              "      <td>2.050521e+11</td>\n",
              "    </tr>\n",
              "    <tr>\n",
              "      <th>min</th>\n",
              "      <td>2.000000</td>\n",
              "      <td>1.000000</td>\n",
              "      <td>1.670000e+02</td>\n",
              "      <td>-1.000000</td>\n",
              "      <td>3491.000000</td>\n",
              "      <td>95982.000000</td>\n",
              "      <td>1885.000000</td>\n",
              "      <td>1.000000e+02</td>\n",
              "      <td>2.200000e+01</td>\n",
              "      <td>2.200000e+01</td>\n",
              "      <td>49.080000</td>\n",
              "      <td>6.037101e+13</td>\n",
              "    </tr>\n",
              "    <tr>\n",
              "      <th>25%</th>\n",
              "      <td>1183.000000</td>\n",
              "      <td>2.000000</td>\n",
              "      <td>5.741000e+03</td>\n",
              "      <td>2.000000</td>\n",
              "      <td>12447.000000</td>\n",
              "      <td>96193.000000</td>\n",
              "      <td>1953.000000</td>\n",
              "      <td>8.074700e+04</td>\n",
              "      <td>1.990235e+05</td>\n",
              "      <td>8.222800e+04</td>\n",
              "      <td>2872.600000</td>\n",
              "      <td>6.037400e+13</td>\n",
              "    </tr>\n",
              "    <tr>\n",
              "      <th>50%</th>\n",
              "      <td>1539.000000</td>\n",
              "      <td>2.000000</td>\n",
              "      <td>7.375000e+03</td>\n",
              "      <td>9.000000</td>\n",
              "      <td>25218.000000</td>\n",
              "      <td>96393.000000</td>\n",
              "      <td>1970.000000</td>\n",
              "      <td>1.315660e+05</td>\n",
              "      <td>3.428720e+05</td>\n",
              "      <td>1.929600e+05</td>\n",
              "      <td>4542.440000</td>\n",
              "      <td>6.037620e+13</td>\n",
              "    </tr>\n",
              "    <tr>\n",
              "      <th>75%</th>\n",
              "      <td>2096.000000</td>\n",
              "      <td>3.000000</td>\n",
              "      <td>1.382729e+04</td>\n",
              "      <td>55.000000</td>\n",
              "      <td>45602.000000</td>\n",
              "      <td>96987.000000</td>\n",
              "      <td>1987.000000</td>\n",
              "      <td>2.100780e+05</td>\n",
              "      <td>5.405890e+05</td>\n",
              "      <td>3.454150e+05</td>\n",
              "      <td>6900.600000</td>\n",
              "      <td>6.059042e+13</td>\n",
              "    </tr>\n",
              "    <tr>\n",
              "      <th>max</th>\n",
              "      <td>20013.000000</td>\n",
              "      <td>20.000000</td>\n",
              "      <td>6.971010e+06</td>\n",
              "      <td>76.000000</td>\n",
              "      <td>396556.000000</td>\n",
              "      <td>399675.000000</td>\n",
              "      <td>2015.000000</td>\n",
              "      <td>9.948100e+06</td>\n",
              "      <td>2.775000e+07</td>\n",
              "      <td>2.450000e+07</td>\n",
              "      <td>321936.090000</td>\n",
              "      <td>6.111009e+13</td>\n",
              "    </tr>\n",
              "  </tbody>\n",
              "</table>\n",
              "</div>"
            ],
            "text/plain": [
              "       finishedsquarefeet12   fullbathcnt  lotsizesquarefeet  \\\n",
              "count          90275.000000  90275.000000       9.027500e+04   \n",
              "mean            1766.497488      2.225189       2.912494e+04   \n",
              "std              912.601389      0.967107       1.159982e+05   \n",
              "min                2.000000      1.000000       1.670000e+02   \n",
              "25%             1183.000000      2.000000       5.741000e+03   \n",
              "50%             1539.000000      2.000000       7.375000e+03   \n",
              "75%             2096.000000      3.000000       1.382729e+04   \n",
              "max            20013.000000     20.000000       6.971010e+06   \n",
              "\n",
              "       propertycountylandusecode   regionidcity    regionidzip     yearbuilt  \\\n",
              "count               90275.000000   90275.000000   90275.000000  90275.000000   \n",
              "mean                   24.315071   33961.479352   96586.314028   1968.502799   \n",
              "std                    25.738982   46337.300549    3660.641858     23.757301   \n",
              "min                    -1.000000    3491.000000   95982.000000   1885.000000   \n",
              "25%                     2.000000   12447.000000   96193.000000   1953.000000   \n",
              "50%                     9.000000   25218.000000   96393.000000   1970.000000   \n",
              "75%                    55.000000   45602.000000   96987.000000   1987.000000   \n",
              "max                    76.000000  396556.000000  399675.000000   2015.000000   \n",
              "\n",
              "       structuretaxvaluedollarcnt  taxvaluedollarcnt  landtaxvaluedollarcnt  \\\n",
              "count                9.027500e+04       9.027500e+04           9.027500e+04   \n",
              "mean                 1.794753e+05       4.576713e+05           2.783341e+05   \n",
              "std                  2.089603e+05       5.548815e+05           4.004934e+05   \n",
              "min                  1.000000e+02       2.200000e+01           2.200000e+01   \n",
              "25%                  8.074700e+04       1.990235e+05           8.222800e+04   \n",
              "50%                  1.315660e+05       3.428720e+05           1.929600e+05   \n",
              "75%                  2.100780e+05       5.405890e+05           3.454150e+05   \n",
              "max                  9.948100e+06       2.775000e+07           2.450000e+07   \n",
              "\n",
              "           taxamount  censustractandblock  \n",
              "count   90275.000000         9.027500e+04  \n",
              "mean     5983.760300         6.049185e+13  \n",
              "std      6838.704246         2.050521e+11  \n",
              "min        49.080000         6.037101e+13  \n",
              "25%      2872.600000         6.037400e+13  \n",
              "50%      4542.440000         6.037620e+13  \n",
              "75%      6900.600000         6.059042e+13  \n",
              "max    321936.090000         6.111009e+13  "
            ]
          },
          "metadata": {
            "tags": []
          },
          "execution_count": 32
        }
      ]
    },
    {
      "metadata": {
        "id": "j7HQG4T4mJ8l",
        "colab_type": "text"
      },
      "cell_type": "markdown",
      "source": [
        "Mostrando histograma para uma coluna antes e depois da imputação - TENTAR COLOCAR NO MESMO SUBPLOT"
      ]
    },
    {
      "metadata": {
        "id": "cj8b-ymDl834",
        "colab_type": "code",
        "outputId": "90ceb27c-fa30-4974-9e0c-327441b98794",
        "colab": {
          "base_uri": "https://localhost:8080/",
          "height": 291
        }
      },
      "cell_type": "code",
      "source": [
        "props['yearbuilt'].hist()"
      ],
      "execution_count": 33,
      "outputs": [
        {
          "output_type": "execute_result",
          "data": {
            "text/plain": [
              "<matplotlib.axes._subplots.AxesSubplot at 0x7f72a1466898>"
            ]
          },
          "metadata": {
            "tags": []
          },
          "execution_count": 33
        },
        {
          "output_type": "display_data",
          "data": {
            "image/png": "[encoded data removed]",
            "text/plain": [
              "<Figure size 432x288 with 1 Axes>"
            ]
          },
          "metadata": {
            "tags": []
          }
        }
      ]
    },
    {
      "metadata": {
        "id": "n2KH0ue5mFxP",
        "colab_type": "code",
        "outputId": "f92b7777-cfff-46b1-e0d7-f3fabe9ed41e",
        "colab": {
          "base_uri": "https://localhost:8080/",
          "height": 291
        }
      },
      "cell_type": "code",
      "source": [
        "props_imputed['yearbuilt'].hist()"
      ],
      "execution_count": 34,
      "outputs": [
        {
          "output_type": "execute_result",
          "data": {
            "text/plain": [
              "<matplotlib.axes._subplots.AxesSubplot at 0x7f72a1470978>"
            ]
          },
          "metadata": {
            "tags": []
          },
          "execution_count": 34
        },
        {
          "output_type": "display_data",
          "data": {
            "image/png": "[encoded data removed]",
            "text/plain": [
              "<Figure size 432x288 with 1 Axes>"
            ]
          },
          "metadata": {
            "tags": []
          }
        }
      ]
    },
    {
      "metadata": {
        "id": "0owC52jlGtgE",
        "colab_type": "code",
        "colab": {}
      },
      "cell_type": "code",
      "source": [
        "props = props_imputed.copy()"
      ],
      "execution_count": 0,
      "outputs": []
    },
    {
      "metadata": {
        "id": "z3r_7O43NtE3",
        "colab_type": "code",
        "outputId": "81f3a25b-7816-40cb-f8fb-e11237282d0f",
        "colab": {
          "base_uri": "https://localhost:8080/",
          "height": 34
        }
      },
      "cell_type": "code",
      "source": [
        "print('Total NaN values after imputation: {}'.format(props.isnull().values.sum()))"
      ],
      "execution_count": 36,
      "outputs": [
        {
          "output_type": "stream",
          "text": [
            "Total NaN values after imputation: 0\n"
          ],
          "name": "stdout"
        }
      ]
    },
    {
      "metadata": {
        "id": "cMmOxrRC7jYf",
        "colab_type": "text"
      },
      "cell_type": "markdown",
      "source": [
        "### 2.3 Normalização e discretização"
      ]
    },
    {
      "metadata": {
        "id": "ZKDg_Rs4LL33",
        "colab_type": "code",
        "colab": {}
      },
      "cell_type": "code",
      "source": [
        "# Salvar coluna de IDs\n",
        "parcelid = props['parcelid'].copy()"
      ],
      "execution_count": 0,
      "outputs": []
    },
    {
      "metadata": {
        "id": "vSlMAYuh7jYf",
        "colab_type": "text"
      },
      "cell_type": "markdown",
      "source": [
        "#### 2.3.1 Discretização"
      ]
    },
    {
      "metadata": {
        "id": "mdRPIKqnHxRR",
        "colab_type": "code",
        "outputId": "6d28f41d-b1bc-4022-809a-91b819f11876",
        "colab": {
          "base_uri": "https://localhost:8080/",
          "height": 170
        }
      },
      "cell_type": "code",
      "source": [
        "props['taxvaluedollarcnt'].describe()"
      ],
      "execution_count": 38,
      "outputs": [
        {
          "output_type": "execute_result",
          "data": {
            "text/plain": [
              "count    9.027500e+04\n",
              "mean     4.576713e+05\n",
              "std      5.548815e+05\n",
              "min      2.200000e+01\n",
              "25%      1.990235e+05\n",
              "50%      3.428720e+05\n",
              "75%      5.405890e+05\n",
              "max      2.775000e+07\n",
              "Name: taxvaluedollarcnt, dtype: float64"
            ]
          },
          "metadata": {
            "tags": []
          },
          "execution_count": 38
        }
      ]
    },
    {
      "metadata": {
        "id": "T4JayO_6IUQ8",
        "colab_type": "code",
        "colab": {}
      },
      "cell_type": "code",
      "source": [
        "#props['tax_value_intervals'] = pd.qcut(props['taxvaluedollarcnt'], 20)"
      ],
      "execution_count": 0,
      "outputs": []
    },
    {
      "metadata": {
        "id": "0D5bAsK-7jYi",
        "colab_type": "code",
        "outputId": "e3f5fc00-e850-43c9-dc5a-6789c33a240c",
        "colab": {
          "base_uri": "https://localhost:8080/",
          "height": 479
        }
      },
      "cell_type": "code",
      "source": [
        "# Pyspark QuantileDiscretizer: Discretizar a coluna 'taxvaluedollarcnt'\n",
        "props_spark = spark.createDataFrame(props,props.columns.values.tolist())\n",
        "props_spark_result = QuantileDiscretizer(numBuckets=10, inputCol=\"taxvaluedollarcnt\",outputCol=\"area_intervals\").fit(props_spark).transform(props_spark)\n",
        "props_spark_result.show()"
      ],
      "execution_count": 40,
      "outputs": [
        {
          "output_type": "stream",
          "text": [
            "+-----------+-----------+----------+--------------------+------+-----------+-----------+-------------+-----------------+-------------------------+---------------------+----------------------+------------+--------------+-----------+-------+---------+--------------------------+-----------------+---------------------+---------+-------------------+--------------------+----------------+-----------------+---------------+--------------+\n",
            "|   parcelid|bathroomcnt|bedroomcnt|finishedsquarefeet12|  fips|fullbathcnt|   latitude|    longitude|lotsizesquarefeet|propertycountylandusecode|propertylandusetypeid|rawcensustractandblock|regionidcity|regionidcounty|regionidzip|roomcnt|yearbuilt|structuretaxvaluedollarcnt|taxvaluedollarcnt|landtaxvaluedollarcnt|taxamount|censustractandblock|            logerror|transaction_year|transaction_month|transaction_day|area_intervals|\n",
            "+-----------+-----------+----------+--------------------+------+-----------+-----------+-------------+-----------------+-------------------------+---------------------+----------------------+------------+--------------+-----------+-------+---------+--------------------------+-----------------+---------------------+---------+-------------------+--------------------+----------------+-----------------+---------------+--------------+\n",
            "|1.7073783E7|        2.5|       3.0|              1264.0|6111.0|        2.0|3.4303597E7|-1.19287236E8|           1735.0|                     54.0|                265.0|  6.1110022003006995E7|     34543.0|        2061.0|    97081.0|    5.0|   1986.0|                  115087.0|         191811.0|              76724.0|  2015.06| 6.1110022003007E13|              0.0953|          2016.0|              1.0|           27.0|           2.0|\n",
            "|1.7088994E7|        1.0|       2.0|               777.0|6111.0|        1.0|3.4272866E7|-1.19198911E8|           3916.2|                     55.0|                266.0|     6.1110015031002E7|     34543.0|        2061.0|    97083.0|    4.0|   1990.0|                  143809.0|         239679.0|              95870.0|   2581.3| 6.1110015031002E13|              0.0198|          2016.0|              3.0|           30.0|           3.0|\n",
            "|1.7100444E7|        2.0|       3.0|              1101.0|6111.0|        2.0|3.4340801E7| -1.1907961E8|           6569.0|                     50.0|                261.0|  6.1110007011006996E7|     26965.0|        2061.0|    97113.0|    5.0|   1956.0|                   33619.0|          47853.0|              14234.0|   591.64| 6.1110007011007E13|               0.006|          2016.0|              5.0|           27.0|           0.0|\n",
            "|1.7102429E7|        1.5|       2.0|              1554.0|6111.0|        1.0|3.4354313E7|-1.19076405E8|           7400.0|                     49.0|                261.0|     6.1110008002013E7|     26965.0|        2061.0|    97113.0|    5.0|   1965.0|                   45609.0|          62914.0|              17305.0|   682.78| 6.1110008002013E13|             -0.0566|          2016.0|              6.0|            7.0|           0.0|\n",
            "|1.7109604E7|        2.5|       4.0|              2415.0|6111.0|        2.0|3.4266578E7|-1.19165392E8|           6326.0|                     50.0|                261.0|   6.111001402100699E7|     34543.0|        2061.0|    97084.0|    8.0|   1984.0|                  277000.0|         554000.0|             277000.0|  5886.92| 6.1110014021007E13|              0.0573|          2016.0|              8.0|            8.0|           7.0|\n",
            "|1.7125829E7|        2.5|       4.0|              2882.0|6111.0|        2.0|3.4240014E7|-1.19024793E8|          10000.0|                     50.0|                261.0|     6.1110052022034E7|     51239.0|        2061.0|    97089.0|    8.0|   1980.0|                  222070.0|         289609.0|              67539.0|  3110.44| 6.1110052022034E13|              0.0564|          2016.0|              8.0|           26.0|           4.0|\n",
            "|1.7132911E7|        2.0|       3.0|              1772.0|6111.0|        2.0|3.4226842E7|-1.19059815E8|           8059.0|                     50.0|                261.0|      6.111005503201E7|     51239.0|        2061.0|    97089.0|    6.0|   1978.0|                  185000.0|         526000.0|             341000.0|   5632.2|  6.111005503201E13|              0.0315|          2016.0|              7.0|            8.0|           7.0|\n",
            "|1.7134926E7|        2.5|       5.0|              2632.0|6111.0|        2.0|3.4229816E7|-1.19050224E8|           7602.0|                     50.0|                261.0|     6.1110055041004E7|     51239.0|        2061.0|    97089.0|    8.0|   1971.0|                  342611.0|         571086.0|             228475.0|  6109.94| 6.1110055041004E13|              0.0257|          2016.0|              5.0|           11.0|           7.0|\n",
            "|1.7139988E7|        2.0|       3.0|              1292.0|6111.0|        2.0|3.4226351E7|-1.18983853E8|           7405.0|                     50.0|                261.0|     6.1110053041014E7|     51239.0|        2061.0|    97091.0|    6.0|   1979.0|                  231297.0|         462594.0|             231297.0|   5026.4| 6.1110053041014E13|               0.002|          2016.0|              6.0|           15.0|           6.0|\n",
            "|1.7167359E7|        1.0|       3.0|              1385.0|6111.0|        1.0|3.4179289E7|-1.19169287E8|           6000.0|                     50.0|                261.0|     6.1110039002008E7|     13150.0|        2061.0|    97104.0|    6.0|   1950.0|                  134251.0|         268502.0|             134251.0|  3217.06| 6.1110039002008E13|             -0.0576|          2016.0|              5.0|           27.0|           3.0|\n",
            "| 1.717976E7|        2.0|       4.0|              1260.0|6111.0|        2.0|3.4200478E7|-1.19156509E8|           4860.0|                     50.0|                261.0|  6.1110049022007994E7|     13150.0|        2061.0|    97101.0|    6.0|   1969.0|                   42257.0|          61453.0|              19196.0|    702.4| 6.1110049022008E13|             -0.0131|          2016.0|             10.0|            7.0|           0.0|\n",
            "|1.7198685E7|        2.5|       4.0|              2735.0|6111.0|        2.0|3.4267854E7|-1.18883528E8|           7000.0|                     50.0|                261.0|     6.1110076091002E7|     25974.0|        2061.0|    97097.0|    8.0|   1984.0|                  239850.0|         399742.0|             159892.0|  4595.36| 6.1110076091002E13|             -0.0212|          2016.0|              5.0|           20.0|           5.0|\n",
            "|1.7212207E7|        2.0|       5.0|              2085.0|6111.0|        2.0|3.4199102E7|-1.18882964E8|          10800.0|                     50.0|                261.0|     6.1110067002012E7|     34278.0|        2061.0|    96383.0|    9.0|   1962.0|                  230000.0|         657000.0|             427000.0|  6991.06| 6.1110067002012E13|              0.0834|          2016.0|              3.0|           17.0|           8.0|\n",
            "|1.7213421E7|        3.0|       3.0|              1508.0|6111.0|        3.0|3.4194016E7|-1.18891725E8|           1306.0|                     55.0|                266.0|     6.1110067002021E7|     34278.0|        2061.0|    96383.0|    6.0|   1981.0|                  142797.0|         407991.0|             265194.0|  4267.96| 6.1110067002021E13|             -0.0294|          2016.0|              5.0|           18.0|           6.0|\n",
            "|1.7250387E7|        2.5|       5.0|              1958.0|6111.0|        2.0|3.4265106E7|-1.18747187E8|           9687.0|                     50.0|                261.0|     6.1110080044003E7|     27110.0|        2061.0|    97118.0|    7.0|   1964.0|                  136437.0|         201400.0|              64963.0|  2512.42| 6.1110080044003E13|0.009000000000000001|          2016.0|              5.0|           27.0|           2.0|\n",
            "|1.7254534E7|        2.0|       4.0|              1687.0|6111.0|        2.0|3.4278739E7|-1.18744589E8|           8106.0|                     50.0|                261.0|     6.1110079045001E7|     27110.0|        2061.0|    97118.0|    7.0|   1961.0|                  170705.0|         311415.0|             140710.0|  3763.38| 6.1110079045001E13|              0.0573|          2016.0|              4.0|           13.0|           4.0|\n",
            "| 1.726027E7|        2.5|       5.0|              2232.0|6111.0|        2.0|3.4276919E7|-1.18664161E8|           6500.0|                     50.0|                261.0|   6.111008302100699E7|     27110.0|        2061.0|    97116.0|    9.0|   1965.0|                  225950.0|         451900.0|             225950.0|  5185.66| 6.1110083021007E13|             -0.0151|          2016.0|              7.0|            6.0|           6.0|\n",
            "|1.7261131E7|        1.0|       2.0|               834.0|6111.0|        1.0|3.4273525E7|-1.18674868E8|           3049.0|                     55.0|                266.0|     6.1110083022024E7|     27110.0|        2061.0|    97116.0|    4.0|   1976.0|                   94858.0|         158096.0|              63238.0|  1991.34| 6.1110083022024E13|              0.0843|          2016.0|             12.0|           29.0|           1.0|\n",
            "| 1.727564E7|        2.5|       2.0|              1361.0|6111.0|        2.0|3.4179983E7|-1.18848957E8|           1742.0|                     55.0|                266.0|     6.1110071003003E7|     34278.0|        2061.0|    96385.0|    5.0|   1980.0|                  150363.0|         300726.0|             150363.0|  3216.88| 6.1110071003003E13|               0.006|          2016.0|              1.0|           11.0|           4.0|\n",
            "|1.7275763E7|        2.0|       2.0|               917.0|6111.0|        2.0|3.4179681E7|-1.18850547E8|         26991.75|                     55.0|                266.0|        6.1110071003E7|     34278.0|        2061.0|    96385.0|    4.0|   1985.0|                  126000.0|         256000.0|             130000.0|  2674.64|    6.1110071003E13|              0.0188|          2016.0|              9.0|            7.0|           3.0|\n",
            "+-----------+-----------+----------+--------------------+------+-----------+-----------+-------------+-----------------+-------------------------+---------------------+----------------------+------------+--------------+-----------+-------+---------+--------------------------+-----------------+---------------------+---------+-------------------+--------------------+----------------+-----------------+---------------+--------------+\n",
            "only showing top 20 rows\n",
            "\n"
          ],
          "name": "stdout"
        }
      ]
    },
    {
      "metadata": {
        "id": "1a7Tv4yl7jYi",
        "colab_type": "text"
      },
      "cell_type": "markdown",
      "source": [
        "#### 2.3.2 Normalização"
      ]
    },
    {
      "metadata": {
        "id": "2PzS1wv87jYg",
        "colab_type": "code",
        "outputId": "1ab41ffe-a5da-4183-f6e9-10635523b562",
        "colab": {
          "base_uri": "https://localhost:8080/",
          "height": 346
        }
      },
      "cell_type": "code",
      "source": [
        "min_max_scaler = preprocessing.MinMaxScaler()\n",
        "props = pd.DataFrame(min_max_scaler.fit_transform(props), columns=props.columns, index=props.index)\n",
        "\n",
        "props.describe()"
      ],
      "execution_count": 41,
      "outputs": [
        {
          "output_type": "execute_result",
          "data": {
            "text/html": [
              "<div>\n",
              "<style scoped>\n",
              "    .dataframe tbody tr th:only-of-type {\n",
              "        vertical-align: middle;\n",
              "    }\n",
              "\n",
              "    .dataframe tbody tr th {\n",
              "        vertical-align: top;\n",
              "    }\n",
              "\n",
              "    .dataframe thead th {\n",
              "        text-align: right;\n",
              "    }\n",
              "</style>\n",
              "<table border=\"1\" class=\"dataframe\">\n",
              "  <thead>\n",
              "    <tr style=\"text-align: right;\">\n",
              "      <th></th>\n",
              "      <th>parcelid</th>\n",
              "      <th>bathroomcnt</th>\n",
              "      <th>bedroomcnt</th>\n",
              "      <th>finishedsquarefeet12</th>\n",
              "      <th>fips</th>\n",
              "      <th>fullbathcnt</th>\n",
              "      <th>latitude</th>\n",
              "      <th>longitude</th>\n",
              "      <th>lotsizesquarefeet</th>\n",
              "      <th>propertycountylandusecode</th>\n",
              "      <th>...</th>\n",
              "      <th>yearbuilt</th>\n",
              "      <th>structuretaxvaluedollarcnt</th>\n",
              "      <th>taxvaluedollarcnt</th>\n",
              "      <th>landtaxvaluedollarcnt</th>\n",
              "      <th>taxamount</th>\n",
              "      <th>censustractandblock</th>\n",
              "      <th>logerror</th>\n",
              "      <th>transaction_year</th>\n",
              "      <th>transaction_month</th>\n",
              "      <th>transaction_day</th>\n",
              "    </tr>\n",
              "  </thead>\n",
              "  <tbody>\n",
              "    <tr>\n",
              "      <th>count</th>\n",
              "      <td>90275.000000</td>\n",
              "      <td>90275.000000</td>\n",
              "      <td>90275.000000</td>\n",
              "      <td>90275.000000</td>\n",
              "      <td>90275.000000</td>\n",
              "      <td>90275.000000</td>\n",
              "      <td>90275.000000</td>\n",
              "      <td>90275.000000</td>\n",
              "      <td>90275.000000</td>\n",
              "      <td>90275.000000</td>\n",
              "      <td>...</td>\n",
              "      <td>90275.000000</td>\n",
              "      <td>90275.000000</td>\n",
              "      <td>90275.000000</td>\n",
              "      <td>90275.000000</td>\n",
              "      <td>90275.000000</td>\n",
              "      <td>90275.000000</td>\n",
              "      <td>90275.000000</td>\n",
              "      <td>90275.0</td>\n",
              "      <td>90275.000000</td>\n",
              "      <td>90275.000000</td>\n",
              "    </tr>\n",
              "    <tr>\n",
              "      <th>mean</th>\n",
              "      <td>0.014929</td>\n",
              "      <td>0.113974</td>\n",
              "      <td>0.189492</td>\n",
              "      <td>0.088176</td>\n",
              "      <td>0.160413</td>\n",
              "      <td>0.064484</td>\n",
              "      <td>0.451080</td>\n",
              "      <td>0.659818</td>\n",
              "      <td>0.004154</td>\n",
              "      <td>0.328767</td>\n",
              "      <td>...</td>\n",
              "      <td>0.642329</td>\n",
              "      <td>0.018031</td>\n",
              "      <td>0.016492</td>\n",
              "      <td>0.011360</td>\n",
              "      <td>0.018437</td>\n",
              "      <td>0.163493</td>\n",
              "      <td>0.494162</td>\n",
              "      <td>0.0</td>\n",
              "      <td>0.440895</td>\n",
              "      <td>0.511317</td>\n",
              "    </tr>\n",
              "    <tr>\n",
              "      <th>std</th>\n",
              "      <td>0.016450</td>\n",
              "      <td>0.050214</td>\n",
              "      <td>0.072277</td>\n",
              "      <td>0.045605</td>\n",
              "      <td>0.279236</td>\n",
              "      <td>0.050900</td>\n",
              "      <td>0.179429</td>\n",
              "      <td>0.190499</td>\n",
              "      <td>0.016640</td>\n",
              "      <td>0.334272</td>\n",
              "      <td>...</td>\n",
              "      <td>0.182748</td>\n",
              "      <td>0.021005</td>\n",
              "      <td>0.019996</td>\n",
              "      <td>0.016347</td>\n",
              "      <td>0.021246</td>\n",
              "      <td>0.277442</td>\n",
              "      <td>0.017242</td>\n",
              "      <td>0.0</td>\n",
              "      <td>0.255699</td>\n",
              "      <td>0.300286</td>\n",
              "    </tr>\n",
              "    <tr>\n",
              "      <th>min</th>\n",
              "      <td>0.000000</td>\n",
              "      <td>0.000000</td>\n",
              "      <td>0.000000</td>\n",
              "      <td>0.000000</td>\n",
              "      <td>0.000000</td>\n",
              "      <td>0.000000</td>\n",
              "      <td>0.000000</td>\n",
              "      <td>0.000000</td>\n",
              "      <td>0.000000</td>\n",
              "      <td>0.000000</td>\n",
              "      <td>...</td>\n",
              "      <td>0.000000</td>\n",
              "      <td>0.000000</td>\n",
              "      <td>0.000000</td>\n",
              "      <td>0.000000</td>\n",
              "      <td>0.000000</td>\n",
              "      <td>0.000000</td>\n",
              "      <td>0.000000</td>\n",
              "      <td>0.0</td>\n",
              "      <td>0.000000</td>\n",
              "      <td>0.000000</td>\n",
              "    </tr>\n",
              "    <tr>\n",
              "      <th>25%</th>\n",
              "      <td>0.005568</td>\n",
              "      <td>0.100000</td>\n",
              "      <td>0.125000</td>\n",
              "      <td>0.059018</td>\n",
              "      <td>0.000000</td>\n",
              "      <td>0.052632</td>\n",
              "      <td>0.319793</td>\n",
              "      <td>0.547388</td>\n",
              "      <td>0.000800</td>\n",
              "      <td>0.038961</td>\n",
              "      <td>...</td>\n",
              "      <td>0.523077</td>\n",
              "      <td>0.008107</td>\n",
              "      <td>0.007171</td>\n",
              "      <td>0.003355</td>\n",
              "      <td>0.008772</td>\n",
              "      <td>0.004047</td>\n",
              "      <td>0.490227</td>\n",
              "      <td>0.0</td>\n",
              "      <td>0.272727</td>\n",
              "      <td>0.233333</td>\n",
              "    </tr>\n",
              "    <tr>\n",
              "      <th>50%</th>\n",
              "      <td>0.012057</td>\n",
              "      <td>0.100000</td>\n",
              "      <td>0.187500</td>\n",
              "      <td>0.076808</td>\n",
              "      <td>0.000000</td>\n",
              "      <td>0.052632</td>\n",
              "      <td>0.461975</td>\n",
              "      <td>0.673256</td>\n",
              "      <td>0.001034</td>\n",
              "      <td>0.129870</td>\n",
              "      <td>...</td>\n",
              "      <td>0.653846</td>\n",
              "      <td>0.013215</td>\n",
              "      <td>0.012355</td>\n",
              "      <td>0.007875</td>\n",
              "      <td>0.013959</td>\n",
              "      <td>0.007025</td>\n",
              "      <td>0.493577</td>\n",
              "      <td>0.0</td>\n",
              "      <td>0.454545</td>\n",
              "      <td>0.500000</td>\n",
              "    </tr>\n",
              "    <tr>\n",
              "      <th>75%</th>\n",
              "      <td>0.023093</td>\n",
              "      <td>0.150000</td>\n",
              "      <td>0.250000</td>\n",
              "      <td>0.104642</td>\n",
              "      <td>0.297297</td>\n",
              "      <td>0.105263</td>\n",
              "      <td>0.564393</td>\n",
              "      <td>0.806299</td>\n",
              "      <td>0.001960</td>\n",
              "      <td>0.727273</td>\n",
              "      <td>...</td>\n",
              "      <td>0.784615</td>\n",
              "      <td>0.021108</td>\n",
              "      <td>0.019480</td>\n",
              "      <td>0.014098</td>\n",
              "      <td>0.021285</td>\n",
              "      <td>0.296872</td>\n",
              "      <td>0.497131</td>\n",
              "      <td>0.0</td>\n",
              "      <td>0.636364</td>\n",
              "      <td>0.766667</td>\n",
              "    </tr>\n",
              "    <tr>\n",
              "      <th>max</th>\n",
              "      <td>1.000000</td>\n",
              "      <td>1.000000</td>\n",
              "      <td>1.000000</td>\n",
              "      <td>1.000000</td>\n",
              "      <td>1.000000</td>\n",
              "      <td>1.000000</td>\n",
              "      <td>1.000000</td>\n",
              "      <td>1.000000</td>\n",
              "      <td>1.000000</td>\n",
              "      <td>1.000000</td>\n",
              "      <td>...</td>\n",
              "      <td>1.000000</td>\n",
              "      <td>1.000000</td>\n",
              "      <td>1.000000</td>\n",
              "      <td>1.000000</td>\n",
              "      <td>1.000000</td>\n",
              "      <td>1.000000</td>\n",
              "      <td>1.000000</td>\n",
              "      <td>0.0</td>\n",
              "      <td>1.000000</td>\n",
              "      <td>1.000000</td>\n",
              "    </tr>\n",
              "  </tbody>\n",
              "</table>\n",
              "<p>8 rows × 26 columns</p>\n",
              "</div>"
            ],
            "text/plain": [
              "           parcelid   bathroomcnt    bedroomcnt  finishedsquarefeet12  \\\n",
              "count  90275.000000  90275.000000  90275.000000          90275.000000   \n",
              "mean       0.014929      0.113974      0.189492              0.088176   \n",
              "std        0.016450      0.050214      0.072277              0.045605   \n",
              "min        0.000000      0.000000      0.000000              0.000000   \n",
              "25%        0.005568      0.100000      0.125000              0.059018   \n",
              "50%        0.012057      0.100000      0.187500              0.076808   \n",
              "75%        0.023093      0.150000      0.250000              0.104642   \n",
              "max        1.000000      1.000000      1.000000              1.000000   \n",
              "\n",
              "               fips   fullbathcnt      latitude     longitude  \\\n",
              "count  90275.000000  90275.000000  90275.000000  90275.000000   \n",
              "mean       0.160413      0.064484      0.451080      0.659818   \n",
              "std        0.279236      0.050900      0.179429      0.190499   \n",
              "min        0.000000      0.000000      0.000000      0.000000   \n",
              "25%        0.000000      0.052632      0.319793      0.547388   \n",
              "50%        0.000000      0.052632      0.461975      0.673256   \n",
              "75%        0.297297      0.105263      0.564393      0.806299   \n",
              "max        1.000000      1.000000      1.000000      1.000000   \n",
              "\n",
              "       lotsizesquarefeet  propertycountylandusecode  ...     yearbuilt  \\\n",
              "count       90275.000000               90275.000000  ...  90275.000000   \n",
              "mean            0.004154                   0.328767  ...      0.642329   \n",
              "std             0.016640                   0.334272  ...      0.182748   \n",
              "min             0.000000                   0.000000  ...      0.000000   \n",
              "25%             0.000800                   0.038961  ...      0.523077   \n",
              "50%             0.001034                   0.129870  ...      0.653846   \n",
              "75%             0.001960                   0.727273  ...      0.784615   \n",
              "max             1.000000                   1.000000  ...      1.000000   \n",
              "\n",
              "       structuretaxvaluedollarcnt  taxvaluedollarcnt  landtaxvaluedollarcnt  \\\n",
              "count                90275.000000       90275.000000           90275.000000   \n",
              "mean                     0.018031           0.016492               0.011360   \n",
              "std                      0.021005           0.019996               0.016347   \n",
              "min                      0.000000           0.000000               0.000000   \n",
              "25%                      0.008107           0.007171               0.003355   \n",
              "50%                      0.013215           0.012355               0.007875   \n",
              "75%                      0.021108           0.019480               0.014098   \n",
              "max                      1.000000           1.000000               1.000000   \n",
              "\n",
              "          taxamount  censustractandblock      logerror  transaction_year  \\\n",
              "count  90275.000000         90275.000000  90275.000000           90275.0   \n",
              "mean       0.018437             0.163493      0.494162               0.0   \n",
              "std        0.021246             0.277442      0.017242               0.0   \n",
              "min        0.000000             0.000000      0.000000               0.0   \n",
              "25%        0.008772             0.004047      0.490227               0.0   \n",
              "50%        0.013959             0.007025      0.493577               0.0   \n",
              "75%        0.021285             0.296872      0.497131               0.0   \n",
              "max        1.000000             1.000000      1.000000               0.0   \n",
              "\n",
              "       transaction_month  transaction_day  \n",
              "count       90275.000000     90275.000000  \n",
              "mean            0.440895         0.511317  \n",
              "std             0.255699         0.300286  \n",
              "min             0.000000         0.000000  \n",
              "25%             0.272727         0.233333  \n",
              "50%             0.454545         0.500000  \n",
              "75%             0.636364         0.766667  \n",
              "max             1.000000         1.000000  \n",
              "\n",
              "[8 rows x 26 columns]"
            ]
          },
          "metadata": {
            "tags": []
          },
          "execution_count": 41
        }
      ]
    },
    {
      "metadata": {
        "id": "QOD6foUFKZvN",
        "colab_type": "code",
        "outputId": "87005b26-c4ff-44ae-d893-68d87bda2d64",
        "colab": {
          "base_uri": "https://localhost:8080/",
          "height": 253
        }
      },
      "cell_type": "code",
      "source": [
        "props.head()"
      ],
      "execution_count": 42,
      "outputs": [
        {
          "output_type": "execute_result",
          "data": {
            "text/html": [
              "<div>\n",
              "<style scoped>\n",
              "    .dataframe tbody tr th:only-of-type {\n",
              "        vertical-align: middle;\n",
              "    }\n",
              "\n",
              "    .dataframe tbody tr th {\n",
              "        vertical-align: top;\n",
              "    }\n",
              "\n",
              "    .dataframe thead th {\n",
              "        text-align: right;\n",
              "    }\n",
              "</style>\n",
              "<table border=\"1\" class=\"dataframe\">\n",
              "  <thead>\n",
              "    <tr style=\"text-align: right;\">\n",
              "      <th></th>\n",
              "      <th>parcelid</th>\n",
              "      <th>bathroomcnt</th>\n",
              "      <th>bedroomcnt</th>\n",
              "      <th>finishedsquarefeet12</th>\n",
              "      <th>fips</th>\n",
              "      <th>fullbathcnt</th>\n",
              "      <th>latitude</th>\n",
              "      <th>longitude</th>\n",
              "      <th>lotsizesquarefeet</th>\n",
              "      <th>propertycountylandusecode</th>\n",
              "      <th>...</th>\n",
              "      <th>yearbuilt</th>\n",
              "      <th>structuretaxvaluedollarcnt</th>\n",
              "      <th>taxvaluedollarcnt</th>\n",
              "      <th>landtaxvaluedollarcnt</th>\n",
              "      <th>taxamount</th>\n",
              "      <th>censustractandblock</th>\n",
              "      <th>logerror</th>\n",
              "      <th>transaction_year</th>\n",
              "      <th>transaction_month</th>\n",
              "      <th>transaction_day</th>\n",
              "    </tr>\n",
              "  </thead>\n",
              "  <tbody>\n",
              "    <tr>\n",
              "      <th>0</th>\n",
              "      <td>0.041787</td>\n",
              "      <td>0.125</td>\n",
              "      <td>0.1875</td>\n",
              "      <td>0.063065</td>\n",
              "      <td>1.0</td>\n",
              "      <td>0.052632</td>\n",
              "      <td>0.653005</td>\n",
              "      <td>0.084857</td>\n",
              "      <td>0.000225</td>\n",
              "      <td>0.714286</td>\n",
              "      <td>...</td>\n",
              "      <td>0.776923</td>\n",
              "      <td>0.011559</td>\n",
              "      <td>0.006911</td>\n",
              "      <td>0.003131</td>\n",
              "      <td>0.006108</td>\n",
              "      <td>0.999907</td>\n",
              "      <td>0.503136</td>\n",
              "      <td>0.0</td>\n",
              "      <td>0.000000</td>\n",
              "      <td>0.866667</td>\n",
              "    </tr>\n",
              "    <tr>\n",
              "      <th>1</th>\n",
              "      <td>0.041887</td>\n",
              "      <td>0.050</td>\n",
              "      <td>0.1250</td>\n",
              "      <td>0.038729</td>\n",
              "      <td>1.0</td>\n",
              "      <td>0.000000</td>\n",
              "      <td>0.632195</td>\n",
              "      <td>0.131517</td>\n",
              "      <td>0.000538</td>\n",
              "      <td>0.727273</td>\n",
              "      <td>...</td>\n",
              "      <td>0.807692</td>\n",
              "      <td>0.014446</td>\n",
              "      <td>0.008636</td>\n",
              "      <td>0.003912</td>\n",
              "      <td>0.007867</td>\n",
              "      <td>0.999897</td>\n",
              "      <td>0.495055</td>\n",
              "      <td>0.0</td>\n",
              "      <td>0.181818</td>\n",
              "      <td>0.966667</td>\n",
              "    </tr>\n",
              "    <tr>\n",
              "      <th>2</th>\n",
              "      <td>0.041962</td>\n",
              "      <td>0.100</td>\n",
              "      <td>0.1875</td>\n",
              "      <td>0.054920</td>\n",
              "      <td>1.0</td>\n",
              "      <td>0.052632</td>\n",
              "      <td>0.678199</td>\n",
              "      <td>0.194541</td>\n",
              "      <td>0.000918</td>\n",
              "      <td>0.662338</td>\n",
              "      <td>...</td>\n",
              "      <td>0.546154</td>\n",
              "      <td>0.003369</td>\n",
              "      <td>0.001724</td>\n",
              "      <td>0.000580</td>\n",
              "      <td>0.001686</td>\n",
              "      <td>0.999886</td>\n",
              "      <td>0.493577</td>\n",
              "      <td>0.0</td>\n",
              "      <td>0.363636</td>\n",
              "      <td>0.866667</td>\n",
              "    </tr>\n",
              "    <tr>\n",
              "      <th>3</th>\n",
              "      <td>0.041975</td>\n",
              "      <td>0.075</td>\n",
              "      <td>0.1250</td>\n",
              "      <td>0.077557</td>\n",
              "      <td>1.0</td>\n",
              "      <td>0.000000</td>\n",
              "      <td>0.687349</td>\n",
              "      <td>0.196234</td>\n",
              "      <td>0.001038</td>\n",
              "      <td>0.649351</td>\n",
              "      <td>...</td>\n",
              "      <td>0.615385</td>\n",
              "      <td>0.004575</td>\n",
              "      <td>0.002266</td>\n",
              "      <td>0.000705</td>\n",
              "      <td>0.001969</td>\n",
              "      <td>0.999888</td>\n",
              "      <td>0.486876</td>\n",
              "      <td>0.0</td>\n",
              "      <td>0.454545</td>\n",
              "      <td>0.200000</td>\n",
              "    </tr>\n",
              "    <tr>\n",
              "      <th>4</th>\n",
              "      <td>0.042022</td>\n",
              "      <td>0.125</td>\n",
              "      <td>0.2500</td>\n",
              "      <td>0.120584</td>\n",
              "      <td>1.0</td>\n",
              "      <td>0.052632</td>\n",
              "      <td>0.627937</td>\n",
              "      <td>0.149224</td>\n",
              "      <td>0.000884</td>\n",
              "      <td>0.662338</td>\n",
              "      <td>...</td>\n",
              "      <td>0.761538</td>\n",
              "      <td>0.027835</td>\n",
              "      <td>0.019963</td>\n",
              "      <td>0.011305</td>\n",
              "      <td>0.018136</td>\n",
              "      <td>0.999896</td>\n",
              "      <td>0.499069</td>\n",
              "      <td>0.0</td>\n",
              "      <td>0.636364</td>\n",
              "      <td>0.233333</td>\n",
              "    </tr>\n",
              "  </tbody>\n",
              "</table>\n",
              "<p>5 rows × 26 columns</p>\n",
              "</div>"
            ],
            "text/plain": [
              "   parcelid  bathroomcnt  bedroomcnt  finishedsquarefeet12  fips  fullbathcnt  \\\n",
              "0  0.041787        0.125      0.1875              0.063065   1.0     0.052632   \n",
              "1  0.041887        0.050      0.1250              0.038729   1.0     0.000000   \n",
              "2  0.041962        0.100      0.1875              0.054920   1.0     0.052632   \n",
              "3  0.041975        0.075      0.1250              0.077557   1.0     0.000000   \n",
              "4  0.042022        0.125      0.2500              0.120584   1.0     0.052632   \n",
              "\n",
              "   latitude  longitude  lotsizesquarefeet  propertycountylandusecode  ...  \\\n",
              "0  0.653005   0.084857           0.000225                   0.714286  ...   \n",
              "1  0.632195   0.131517           0.000538                   0.727273  ...   \n",
              "2  0.678199   0.194541           0.000918                   0.662338  ...   \n",
              "3  0.687349   0.196234           0.001038                   0.649351  ...   \n",
              "4  0.627937   0.149224           0.000884                   0.662338  ...   \n",
              "\n",
              "   yearbuilt  structuretaxvaluedollarcnt  taxvaluedollarcnt  \\\n",
              "0   0.776923                    0.011559           0.006911   \n",
              "1   0.807692                    0.014446           0.008636   \n",
              "2   0.546154                    0.003369           0.001724   \n",
              "3   0.615385                    0.004575           0.002266   \n",
              "4   0.761538                    0.027835           0.019963   \n",
              "\n",
              "   landtaxvaluedollarcnt  taxamount  censustractandblock  logerror  \\\n",
              "0               0.003131   0.006108             0.999907  0.503136   \n",
              "1               0.003912   0.007867             0.999897  0.495055   \n",
              "2               0.000580   0.001686             0.999886  0.493577   \n",
              "3               0.000705   0.001969             0.999888  0.486876   \n",
              "4               0.011305   0.018136             0.999896  0.499069   \n",
              "\n",
              "   transaction_year  transaction_month  transaction_day  \n",
              "0               0.0           0.000000         0.866667  \n",
              "1               0.0           0.181818         0.966667  \n",
              "2               0.0           0.363636         0.866667  \n",
              "3               0.0           0.454545         0.200000  \n",
              "4               0.0           0.636364         0.233333  \n",
              "\n",
              "[5 rows x 26 columns]"
            ]
          },
          "metadata": {
            "tags": []
          },
          "execution_count": 42
        }
      ]
    },
    {
      "metadata": {
        "id": "2ad-TufoVFUo",
        "colab_type": "text"
      },
      "cell_type": "markdown",
      "source": [
        "Recuperando os IDs que foram normalizados"
      ]
    },
    {
      "metadata": {
        "id": "LJi5ojfhQv4D",
        "colab_type": "code",
        "colab": {}
      },
      "cell_type": "code",
      "source": [
        "props['parcelid'] = parcelid"
      ],
      "execution_count": 0,
      "outputs": []
    },
    {
      "metadata": {
        "id": "hfE05OPp7jYk",
        "colab_type": "text"
      },
      "cell_type": "markdown",
      "source": [
        "### 2.4 [Limpeza de dados](https://towardsdatascience.com/ways-to-detect-and-remove-the-outliers-404d16608dba)"
      ]
    },
    {
      "metadata": {
        "id": "aJlRIVrF7jYl",
        "colab_type": "text"
      },
      "cell_type": "markdown",
      "source": [
        "#### 2.4.1 Univariado"
      ]
    },
    {
      "metadata": {
        "id": "tePVADXnFOmV",
        "colab_type": "text"
      },
      "cell_type": "markdown",
      "source": [
        "\"The Z-score is the signed number of standard deviations by which the value of an observation or data point is above the mean value of what is being observed or measured.\"\""
      ]
    },
    {
      "metadata": {
        "id": "ElVJdx7KJqV4",
        "colab_type": "text"
      },
      "cell_type": "markdown",
      "source": [
        "Colunas que possuem média menor que o desvio padrão apresentam forte indício de outliers."
      ]
    },
    {
      "metadata": {
        "id": "FTR_7wbNQ7EV",
        "colab_type": "code",
        "outputId": "41588fe2-54c9-468b-fcfd-9aaf12cebfb5",
        "colab": {
          "base_uri": "https://localhost:8080/",
          "height": 102
        }
      },
      "cell_type": "code",
      "source": [
        "outliers = props.loc[:, props.mean() < props.std()]\n",
        "outliers_columns = outliers.columns.values\n",
        "outliers_columns"
      ],
      "execution_count": 44,
      "outputs": [
        {
          "output_type": "execute_result",
          "data": {
            "text/plain": [
              "array(['fips', 'lotsizesquarefeet', 'propertycountylandusecode',\n",
              "       'rawcensustractandblock', 'regionidcity', 'regionidzip', 'roomcnt',\n",
              "       'structuretaxvaluedollarcnt', 'taxvaluedollarcnt',\n",
              "       'landtaxvaluedollarcnt', 'taxamount', 'censustractandblock'],\n",
              "      dtype=object)"
            ]
          },
          "metadata": {
            "tags": []
          },
          "execution_count": 44
        }
      ]
    },
    {
      "metadata": {
        "id": "oQD8Lp4vWW80",
        "colab_type": "code",
        "outputId": "04996d93-8a23-4385-cb3b-78f256fef7e9",
        "colab": {
          "base_uri": "https://localhost:8080/",
          "height": 1365
        }
      },
      "cell_type": "code",
      "source": [
        "outliers.plot.box(subplots=True, layout=(4,3), sharey=True, figsize=(15,20), grid=True)"
      ],
      "execution_count": 45,
      "outputs": [
        {
          "output_type": "execute_result",
          "data": {
            "text/plain": [
              "fips                              AxesSubplot(0.125,0.71587;0.227941x0.16413)\n",
              "lotsizesquarefeet              AxesSubplot(0.398529,0.71587;0.227941x0.16413)\n",
              "propertycountylandusecode      AxesSubplot(0.672059,0.71587;0.227941x0.16413)\n",
              "rawcensustractandblock           AxesSubplot(0.125,0.518913;0.227941x0.16413)\n",
              "regionidcity                  AxesSubplot(0.398529,0.518913;0.227941x0.16413)\n",
              "regionidzip                   AxesSubplot(0.672059,0.518913;0.227941x0.16413)\n",
              "roomcnt                          AxesSubplot(0.125,0.321957;0.227941x0.16413)\n",
              "structuretaxvaluedollarcnt    AxesSubplot(0.398529,0.321957;0.227941x0.16413)\n",
              "taxvaluedollarcnt             AxesSubplot(0.672059,0.321957;0.227941x0.16413)\n",
              "landtaxvaluedollarcnt               AxesSubplot(0.125,0.125;0.227941x0.16413)\n",
              "taxamount                        AxesSubplot(0.398529,0.125;0.227941x0.16413)\n",
              "censustractandblock              AxesSubplot(0.672059,0.125;0.227941x0.16413)\n",
              "dtype: object"
            ]
          },
          "metadata": {
            "tags": []
          },
          "execution_count": 45
        },
        {
          "output_type": "display_data",
          "data": {
            "image/png": "[encoded data removed]",
            "text/plain": [
              "<Figure size 1080x1440 with 12 Axes>"
            ]
          },
          "metadata": {
            "tags": []
          }
        }
      ]
    },
    {
      "metadata": {
        "id": "yG1kz-x4f0wx",
        "colab_type": "text"
      },
      "cell_type": "markdown",
      "source": [
        "##### Remoção de outliers usando Z-score"
      ]
    },
    {
      "metadata": {
        "id": "L1TH331JbzZ4",
        "colab_type": "code",
        "colab": {
          "base_uri": "https://localhost:8080/",
          "height": 334
        },
        "outputId": "9c353082-d281-4bd3-fa33-5ba072b2b44b"
      },
      "cell_type": "code",
      "source": [
        "print(outliers.shape)\n",
        "outliers.describe()"
      ],
      "execution_count": 46,
      "outputs": [
        {
          "output_type": "stream",
          "text": [
            "(90275, 12)\n"
          ],
          "name": "stdout"
        },
        {
          "output_type": "execute_result",
          "data": {
            "text/html": [
              "<div>\n",
              "<style scoped>\n",
              "    .dataframe tbody tr th:only-of-type {\n",
              "        vertical-align: middle;\n",
              "    }\n",
              "\n",
              "    .dataframe tbody tr th {\n",
              "        vertical-align: top;\n",
              "    }\n",
              "\n",
              "    .dataframe thead th {\n",
              "        text-align: right;\n",
              "    }\n",
              "</style>\n",
              "<table border=\"1\" class=\"dataframe\">\n",
              "  <thead>\n",
              "    <tr style=\"text-align: right;\">\n",
              "      <th></th>\n",
              "      <th>fips</th>\n",
              "      <th>lotsizesquarefeet</th>\n",
              "      <th>propertycountylandusecode</th>\n",
              "      <th>rawcensustractandblock</th>\n",
              "      <th>regionidcity</th>\n",
              "      <th>regionidzip</th>\n",
              "      <th>roomcnt</th>\n",
              "      <th>structuretaxvaluedollarcnt</th>\n",
              "      <th>taxvaluedollarcnt</th>\n",
              "      <th>landtaxvaluedollarcnt</th>\n",
              "      <th>taxamount</th>\n",
              "      <th>censustractandblock</th>\n",
              "    </tr>\n",
              "  </thead>\n",
              "  <tbody>\n",
              "    <tr>\n",
              "      <th>count</th>\n",
              "      <td>90275.000000</td>\n",
              "      <td>90275.000000</td>\n",
              "      <td>90275.000000</td>\n",
              "      <td>90275.000000</td>\n",
              "      <td>90275.000000</td>\n",
              "      <td>90275.000000</td>\n",
              "      <td>90275.000000</td>\n",
              "      <td>90275.000000</td>\n",
              "      <td>90275.000000</td>\n",
              "      <td>90275.000000</td>\n",
              "      <td>90275.000000</td>\n",
              "      <td>90275.000000</td>\n",
              "    </tr>\n",
              "    <tr>\n",
              "      <th>mean</th>\n",
              "      <td>0.160413</td>\n",
              "      <td>0.004154</td>\n",
              "      <td>0.328767</td>\n",
              "      <td>0.163424</td>\n",
              "      <td>0.077520</td>\n",
              "      <td>0.001990</td>\n",
              "      <td>0.082140</td>\n",
              "      <td>0.018031</td>\n",
              "      <td>0.016492</td>\n",
              "      <td>0.011360</td>\n",
              "      <td>0.018437</td>\n",
              "      <td>0.163493</td>\n",
              "    </tr>\n",
              "    <tr>\n",
              "      <th>std</th>\n",
              "      <td>0.279236</td>\n",
              "      <td>0.016640</td>\n",
              "      <td>0.334272</td>\n",
              "      <td>0.277446</td>\n",
              "      <td>0.117887</td>\n",
              "      <td>0.012054</td>\n",
              "      <td>0.156646</td>\n",
              "      <td>0.021005</td>\n",
              "      <td>0.019996</td>\n",
              "      <td>0.016347</td>\n",
              "      <td>0.021246</td>\n",
              "      <td>0.277442</td>\n",
              "    </tr>\n",
              "    <tr>\n",
              "      <th>min</th>\n",
              "      <td>0.000000</td>\n",
              "      <td>0.000000</td>\n",
              "      <td>0.000000</td>\n",
              "      <td>0.000000</td>\n",
              "      <td>0.000000</td>\n",
              "      <td>0.000000</td>\n",
              "      <td>0.000000</td>\n",
              "      <td>0.000000</td>\n",
              "      <td>0.000000</td>\n",
              "      <td>0.000000</td>\n",
              "      <td>0.000000</td>\n",
              "      <td>0.000000</td>\n",
              "    </tr>\n",
              "    <tr>\n",
              "      <th>25%</th>\n",
              "      <td>0.000000</td>\n",
              "      <td>0.000800</td>\n",
              "      <td>0.038961</td>\n",
              "      <td>0.002966</td>\n",
              "      <td>0.022785</td>\n",
              "      <td>0.000695</td>\n",
              "      <td>0.000000</td>\n",
              "      <td>0.008107</td>\n",
              "      <td>0.007171</td>\n",
              "      <td>0.003355</td>\n",
              "      <td>0.008772</td>\n",
              "      <td>0.004047</td>\n",
              "    </tr>\n",
              "    <tr>\n",
              "      <th>50%</th>\n",
              "      <td>0.000000</td>\n",
              "      <td>0.001034</td>\n",
              "      <td>0.129870</td>\n",
              "      <td>0.007021</td>\n",
              "      <td>0.055276</td>\n",
              "      <td>0.001353</td>\n",
              "      <td>0.000000</td>\n",
              "      <td>0.013215</td>\n",
              "      <td>0.012355</td>\n",
              "      <td>0.007875</td>\n",
              "      <td>0.013959</td>\n",
              "      <td>0.007025</td>\n",
              "    </tr>\n",
              "    <tr>\n",
              "      <th>75%</th>\n",
              "      <td>0.297297</td>\n",
              "      <td>0.001960</td>\n",
              "      <td>0.727273</td>\n",
              "      <td>0.296872</td>\n",
              "      <td>0.107135</td>\n",
              "      <td>0.003309</td>\n",
              "      <td>0.000000</td>\n",
              "      <td>0.021108</td>\n",
              "      <td>0.019480</td>\n",
              "      <td>0.014098</td>\n",
              "      <td>0.021285</td>\n",
              "      <td>0.296872</td>\n",
              "    </tr>\n",
              "    <tr>\n",
              "      <th>max</th>\n",
              "      <td>1.000000</td>\n",
              "      <td>1.000000</td>\n",
              "      <td>1.000000</td>\n",
              "      <td>1.000000</td>\n",
              "      <td>1.000000</td>\n",
              "      <td>1.000000</td>\n",
              "      <td>1.000000</td>\n",
              "      <td>1.000000</td>\n",
              "      <td>1.000000</td>\n",
              "      <td>1.000000</td>\n",
              "      <td>1.000000</td>\n",
              "      <td>1.000000</td>\n",
              "    </tr>\n",
              "  </tbody>\n",
              "</table>\n",
              "</div>"
            ],
            "text/plain": [
              "               fips  lotsizesquarefeet  propertycountylandusecode  \\\n",
              "count  90275.000000       90275.000000               90275.000000   \n",
              "mean       0.160413           0.004154                   0.328767   \n",
              "std        0.279236           0.016640                   0.334272   \n",
              "min        0.000000           0.000000                   0.000000   \n",
              "25%        0.000000           0.000800                   0.038961   \n",
              "50%        0.000000           0.001034                   0.129870   \n",
              "75%        0.297297           0.001960                   0.727273   \n",
              "max        1.000000           1.000000                   1.000000   \n",
              "\n",
              "       rawcensustractandblock  regionidcity   regionidzip       roomcnt  \\\n",
              "count            90275.000000  90275.000000  90275.000000  90275.000000   \n",
              "mean                 0.163424      0.077520      0.001990      0.082140   \n",
              "std                  0.277446      0.117887      0.012054      0.156646   \n",
              "min                  0.000000      0.000000      0.000000      0.000000   \n",
              "25%                  0.002966      0.022785      0.000695      0.000000   \n",
              "50%                  0.007021      0.055276      0.001353      0.000000   \n",
              "75%                  0.296872      0.107135      0.003309      0.000000   \n",
              "max                  1.000000      1.000000      1.000000      1.000000   \n",
              "\n",
              "       structuretaxvaluedollarcnt  taxvaluedollarcnt  landtaxvaluedollarcnt  \\\n",
              "count                90275.000000       90275.000000           90275.000000   \n",
              "mean                     0.018031           0.016492               0.011360   \n",
              "std                      0.021005           0.019996               0.016347   \n",
              "min                      0.000000           0.000000               0.000000   \n",
              "25%                      0.008107           0.007171               0.003355   \n",
              "50%                      0.013215           0.012355               0.007875   \n",
              "75%                      0.021108           0.019480               0.014098   \n",
              "max                      1.000000           1.000000               1.000000   \n",
              "\n",
              "          taxamount  censustractandblock  \n",
              "count  90275.000000         90275.000000  \n",
              "mean       0.018437             0.163493  \n",
              "std        0.021246             0.277442  \n",
              "min        0.000000             0.000000  \n",
              "25%        0.008772             0.004047  \n",
              "50%        0.013959             0.007025  \n",
              "75%        0.021285             0.296872  \n",
              "max        1.000000             1.000000  "
            ]
          },
          "metadata": {
            "tags": []
          },
          "execution_count": 46
        }
      ]
    },
    {
      "metadata": {
        "id": "-4Xh-R7HbVWf",
        "colab_type": "code",
        "colab": {
          "base_uri": "https://localhost:8080/",
          "height": 334
        },
        "outputId": "d9073c8d-1571-41ed-c47a-1cb32af439a4"
      },
      "cell_type": "code",
      "source": [
        "Z = np.abs(stats.zscore(outliers, axis=1, ddof=0))\n",
        "outliers = outliers[(Z < 3).all(axis=1)]\n",
        "print(outliers.shape)\n",
        "outliers.describe()"
      ],
      "execution_count": 47,
      "outputs": [
        {
          "output_type": "stream",
          "text": [
            "(65532, 12)\n"
          ],
          "name": "stdout"
        },
        {
          "output_type": "execute_result",
          "data": {
            "text/html": [
              "<div>\n",
              "<style scoped>\n",
              "    .dataframe tbody tr th:only-of-type {\n",
              "        vertical-align: middle;\n",
              "    }\n",
              "\n",
              "    .dataframe tbody tr th {\n",
              "        vertical-align: top;\n",
              "    }\n",
              "\n",
              "    .dataframe thead th {\n",
              "        text-align: right;\n",
              "    }\n",
              "</style>\n",
              "<table border=\"1\" class=\"dataframe\">\n",
              "  <thead>\n",
              "    <tr style=\"text-align: right;\">\n",
              "      <th></th>\n",
              "      <th>fips</th>\n",
              "      <th>lotsizesquarefeet</th>\n",
              "      <th>propertycountylandusecode</th>\n",
              "      <th>rawcensustractandblock</th>\n",
              "      <th>regionidcity</th>\n",
              "      <th>regionidzip</th>\n",
              "      <th>roomcnt</th>\n",
              "      <th>structuretaxvaluedollarcnt</th>\n",
              "      <th>taxvaluedollarcnt</th>\n",
              "      <th>landtaxvaluedollarcnt</th>\n",
              "      <th>taxamount</th>\n",
              "      <th>censustractandblock</th>\n",
              "    </tr>\n",
              "  </thead>\n",
              "  <tbody>\n",
              "    <tr>\n",
              "      <th>count</th>\n",
              "      <td>65532.000000</td>\n",
              "      <td>65532.000000</td>\n",
              "      <td>65532.000000</td>\n",
              "      <td>65532.000000</td>\n",
              "      <td>65532.000000</td>\n",
              "      <td>65532.000000</td>\n",
              "      <td>65532.000000</td>\n",
              "      <td>65532.000000</td>\n",
              "      <td>65532.000000</td>\n",
              "      <td>65532.000000</td>\n",
              "      <td>65532.000000</td>\n",
              "      <td>65532.000000</td>\n",
              "    </tr>\n",
              "    <tr>\n",
              "      <th>mean</th>\n",
              "      <td>0.220944</td>\n",
              "      <td>0.003843</td>\n",
              "      <td>0.402727</td>\n",
              "      <td>0.223153</td>\n",
              "      <td>0.061907</td>\n",
              "      <td>0.002069</td>\n",
              "      <td>0.113147</td>\n",
              "      <td>0.019676</td>\n",
              "      <td>0.018398</td>\n",
              "      <td>0.012851</td>\n",
              "      <td>0.020182</td>\n",
              "      <td>0.223187</td>\n",
              "    </tr>\n",
              "    <tr>\n",
              "      <th>std</th>\n",
              "      <td>0.306650</td>\n",
              "      <td>0.015116</td>\n",
              "      <td>0.356774</td>\n",
              "      <td>0.304975</td>\n",
              "      <td>0.042023</td>\n",
              "      <td>0.001336</td>\n",
              "      <td>0.174048</td>\n",
              "      <td>0.023722</td>\n",
              "      <td>0.022600</td>\n",
              "      <td>0.018451</td>\n",
              "      <td>0.023618</td>\n",
              "      <td>0.304961</td>\n",
              "    </tr>\n",
              "    <tr>\n",
              "      <th>min</th>\n",
              "      <td>0.000000</td>\n",
              "      <td>0.000000</td>\n",
              "      <td>0.000000</td>\n",
              "      <td>0.000000</td>\n",
              "      <td>0.000000</td>\n",
              "      <td>0.000000</td>\n",
              "      <td>0.000000</td>\n",
              "      <td>0.000000</td>\n",
              "      <td>0.000069</td>\n",
              "      <td>0.000010</td>\n",
              "      <td>0.000000</td>\n",
              "      <td>0.000000</td>\n",
              "    </tr>\n",
              "    <tr>\n",
              "      <th>25%</th>\n",
              "      <td>0.000000</td>\n",
              "      <td>0.000784</td>\n",
              "      <td>0.038961</td>\n",
              "      <td>0.004100</td>\n",
              "      <td>0.022785</td>\n",
              "      <td>0.000836</td>\n",
              "      <td>0.000000</td>\n",
              "      <td>0.008394</td>\n",
              "      <td>0.008009</td>\n",
              "      <td>0.004120</td>\n",
              "      <td>0.009390</td>\n",
              "      <td>0.004102</td>\n",
              "    </tr>\n",
              "    <tr>\n",
              "      <th>50%</th>\n",
              "      <td>0.000000</td>\n",
              "      <td>0.001031</td>\n",
              "      <td>0.155844</td>\n",
              "      <td>0.011081</td>\n",
              "      <td>0.055276</td>\n",
              "      <td>0.001669</td>\n",
              "      <td>0.000000</td>\n",
              "      <td>0.014063</td>\n",
              "      <td>0.013465</td>\n",
              "      <td>0.008837</td>\n",
              "      <td>0.014804</td>\n",
              "      <td>0.011081</td>\n",
              "    </tr>\n",
              "    <tr>\n",
              "      <th>75%</th>\n",
              "      <td>0.297297</td>\n",
              "      <td>0.001754</td>\n",
              "      <td>0.766234</td>\n",
              "      <td>0.297159</td>\n",
              "      <td>0.091122</td>\n",
              "      <td>0.003339</td>\n",
              "      <td>0.277778</td>\n",
              "      <td>0.022708</td>\n",
              "      <td>0.021319</td>\n",
              "      <td>0.015546</td>\n",
              "      <td>0.023107</td>\n",
              "      <td>0.297159</td>\n",
              "    </tr>\n",
              "    <tr>\n",
              "      <th>max</th>\n",
              "      <td>1.000000</td>\n",
              "      <td>0.514856</td>\n",
              "      <td>1.000000</td>\n",
              "      <td>1.000000</td>\n",
              "      <td>1.000000</td>\n",
              "      <td>0.004485</td>\n",
              "      <td>1.000000</td>\n",
              "      <td>1.000000</td>\n",
              "      <td>1.000000</td>\n",
              "      <td>1.000000</td>\n",
              "      <td>1.000000</td>\n",
              "      <td>1.000000</td>\n",
              "    </tr>\n",
              "  </tbody>\n",
              "</table>\n",
              "</div>"
            ],
            "text/plain": [
              "               fips  lotsizesquarefeet  propertycountylandusecode  \\\n",
              "count  65532.000000       65532.000000               65532.000000   \n",
              "mean       0.220944           0.003843                   0.402727   \n",
              "std        0.306650           0.015116                   0.356774   \n",
              "min        0.000000           0.000000                   0.000000   \n",
              "25%        0.000000           0.000784                   0.038961   \n",
              "50%        0.000000           0.001031                   0.155844   \n",
              "75%        0.297297           0.001754                   0.766234   \n",
              "max        1.000000           0.514856                   1.000000   \n",
              "\n",
              "       rawcensustractandblock  regionidcity   regionidzip       roomcnt  \\\n",
              "count            65532.000000  65532.000000  65532.000000  65532.000000   \n",
              "mean                 0.223153      0.061907      0.002069      0.113147   \n",
              "std                  0.304975      0.042023      0.001336      0.174048   \n",
              "min                  0.000000      0.000000      0.000000      0.000000   \n",
              "25%                  0.004100      0.022785      0.000836      0.000000   \n",
              "50%                  0.011081      0.055276      0.001669      0.000000   \n",
              "75%                  0.297159      0.091122      0.003339      0.277778   \n",
              "max                  1.000000      1.000000      0.004485      1.000000   \n",
              "\n",
              "       structuretaxvaluedollarcnt  taxvaluedollarcnt  landtaxvaluedollarcnt  \\\n",
              "count                65532.000000       65532.000000           65532.000000   \n",
              "mean                     0.019676           0.018398               0.012851   \n",
              "std                      0.023722           0.022600               0.018451   \n",
              "min                      0.000000           0.000069               0.000010   \n",
              "25%                      0.008394           0.008009               0.004120   \n",
              "50%                      0.014063           0.013465               0.008837   \n",
              "75%                      0.022708           0.021319               0.015546   \n",
              "max                      1.000000           1.000000               1.000000   \n",
              "\n",
              "          taxamount  censustractandblock  \n",
              "count  65532.000000         65532.000000  \n",
              "mean       0.020182             0.223187  \n",
              "std        0.023618             0.304961  \n",
              "min        0.000000             0.000000  \n",
              "25%        0.009390             0.004102  \n",
              "50%        0.014804             0.011081  \n",
              "75%        0.023107             0.297159  \n",
              "max        1.000000             1.000000  "
            ]
          },
          "metadata": {
            "tags": []
          },
          "execution_count": 47
        }
      ]
    },
    {
      "metadata": {
        "id": "wFKEJA_0ghWJ",
        "colab_type": "text"
      },
      "cell_type": "markdown",
      "source": [
        "##### Remoção de outliers utilizando o IQR-score (Método Tukey)"
      ]
    },
    {
      "metadata": {
        "id": "kS-ZpQl9Vhym",
        "colab_type": "code",
        "outputId": "aa78eed0-e549-4fb3-a861-19e080a74d66",
        "colab": {
          "base_uri": "https://localhost:8080/",
          "height": 291
        }
      },
      "cell_type": "code",
      "source": [
        "props['logerror'].plot.box()"
      ],
      "execution_count": 48,
      "outputs": [
        {
          "output_type": "execute_result",
          "data": {
            "text/plain": [
              "<matplotlib.axes._subplots.AxesSubplot at 0x7f729f6b2ba8>"
            ]
          },
          "metadata": {
            "tags": []
          },
          "execution_count": 48
        },
        {
          "output_type": "display_data",
          "data": {
            "image/png": "[encoded data removed]",
            "text/plain": [
              "<Figure size 432x288 with 1 Axes>"
            ]
          },
          "metadata": {
            "tags": []
          }
        }
      ]
    },
    {
      "metadata": {
        "id": "9tjiSamaL5jh",
        "colab_type": "code",
        "colab": {}
      },
      "cell_type": "code",
      "source": [
        "def plotVariableDist (df, column):\n",
        "  fig,ax = plt.subplots()\n",
        "  fig.set_size_inches(15,5)\n",
        "  sns.distplot(df[column].values, bins=50,color=\"#34495e\",ax=ax)\n",
        "  ax.set(xlabel=column, ylabel='VIF Score',title=\"Distribution Of Dependent Variable\")"
      ],
      "execution_count": 0,
      "outputs": []
    },
    {
      "metadata": {
        "id": "mm3nZoloAz5v",
        "colab_type": "code",
        "colab": {
          "base_uri": "https://localhost:8080/",
          "height": 355
        },
        "outputId": "8f35e7f7-400e-49b6-b6fa-112bdf9f3060"
      },
      "cell_type": "code",
      "source": [
        "plotVariableDist(props, 'logerror')"
      ],
      "execution_count": 50,
      "outputs": [
        {
          "output_type": "display_data",
          "data": {
            "image/png": "[encoded data removed]",
            "text/plain": [
              "<Figure size 1080x360 with 1 Axes>"
            ]
          },
          "metadata": {
            "tags": []
          }
        }
      ]
    },
    {
      "metadata": {
        "id": "gKHCuG1woTE7",
        "colab_type": "code",
        "colab": {}
      },
      "cell_type": "code",
      "source": [
        "def outlierRemovalIQR (df):\n",
        "  Q1 = df.quantile(0.25)\n",
        "  Q3 = df.quantile(0.75)\n",
        "  IQR = Q3 - Q1\n",
        "  return df[~((df < (Q1 - 1.5 * IQR)) |(df > (Q3 + 1.5 * IQR))).any(axis=1)]"
      ],
      "execution_count": 0,
      "outputs": []
    },
    {
      "metadata": {
        "id": "Kz-pvte1pO91",
        "colab_type": "code",
        "colab": {
          "base_uri": "https://localhost:8080/",
          "height": 34
        },
        "outputId": "8230de3a-55da-4890-d1d1-2d58b4b76019"
      },
      "cell_type": "code",
      "source": [
        "props_out = outlierRemovalIQR(props)\n",
        "props_out.shape"
      ],
      "execution_count": 52,
      "outputs": [
        {
          "output_type": "execute_result",
          "data": {
            "text/plain": [
              "(39042, 26)"
            ]
          },
          "metadata": {
            "tags": []
          },
          "execution_count": 52
        }
      ]
    },
    {
      "metadata": {
        "id": "AIVX5q8RrM1U",
        "colab_type": "code",
        "colab": {
          "base_uri": "https://localhost:8080/",
          "height": 355
        },
        "outputId": "39de933d-256b-428d-d5eb-0a3575b1a660"
      },
      "cell_type": "code",
      "source": [
        "plotVariableDist(props_out, 'logerror')"
      ],
      "execution_count": 53,
      "outputs": [
        {
          "output_type": "display_data",
          "data": {
            "image/png": "[encoded data removed]",
            "text/plain": [
              "<Figure size 1080x360 with 1 Axes>"
            ]
          },
          "metadata": {
            "tags": []
          }
        }
      ]
    },
    {
      "metadata": {
        "id": "YekM3Up67jYn",
        "colab_type": "text"
      },
      "cell_type": "markdown",
      "source": [
        "#### 2.4.2 Bivariado"
      ]
    },
    {
      "metadata": {
        "id": "1YmCXausurqv",
        "colab_type": "text"
      },
      "cell_type": "markdown",
      "source": [
        "-  logerror com transaction_month\n",
        "-  logerror com finishedsquarefeet12\n",
        "-  logerror com yearbuilt\n",
        "-  finishedsquarefeet12 com yearbuilt"
      ]
    },
    {
      "metadata": {
        "id": "Wu6z-9G_F8oE",
        "colab_type": "text"
      },
      "cell_type": "markdown",
      "source": [
        "##### Combinar as colunas yearbuilt e finishedsquarefeet12 para remoção de outliers Bivariado"
      ]
    },
    {
      "metadata": {
        "id": "-SKJoRNc7jYo",
        "colab_type": "code",
        "colab": {
          "base_uri": "https://localhost:8080/",
          "height": 454
        },
        "outputId": "12e02378-e8d5-4408-9d51-d83f2edca53a"
      },
      "cell_type": "code",
      "source": [
        "sns.set(style=\"whitegrid\")\n",
        "sns.jointplot(x=\"yearbuilt\", y=\"finishedsquarefeet12\", data=props, ratio=3)"
      ],
      "execution_count": 54,
      "outputs": [
        {
          "output_type": "execute_result",
          "data": {
            "text/plain": [
              "<seaborn.axisgrid.JointGrid at 0x7f729f453cc0>"
            ]
          },
          "metadata": {
            "tags": []
          },
          "execution_count": 54
        },
        {
          "output_type": "display_data",
          "data": {
            "image/png": "[encoded data removed]",
            "text/plain": [
              "<Figure size 432x432 with 3 Axes>"
            ]
          },
          "metadata": {
            "tags": []
          }
        }
      ]
    },
    {
      "metadata": {
        "id": "qJNdHU0V8_Xb",
        "colab_type": "code",
        "colab": {}
      },
      "cell_type": "code",
      "source": [
        "props['area_yearbuilt'] = props['finishedsquarefeet12'] / props['yearbuilt']"
      ],
      "execution_count": 0,
      "outputs": []
    },
    {
      "metadata": {
        "id": "E3LrjPF18_PE",
        "colab_type": "code",
        "colab": {
          "base_uri": "https://localhost:8080/",
          "height": 292
        },
        "outputId": "d3f2f92e-8814-4126-ff1f-f5206884c52d"
      },
      "cell_type": "code",
      "source": [
        "props['area_yearbuilt'].plot.box()"
      ],
      "execution_count": 56,
      "outputs": [
        {
          "output_type": "execute_result",
          "data": {
            "text/plain": [
              "<matplotlib.axes._subplots.AxesSubplot at 0x7f729f39df60>"
            ]
          },
          "metadata": {
            "tags": []
          },
          "execution_count": 56
        },
        {
          "output_type": "display_data",
          "data": {
            "image/png": "[encoded data removed]",
            "text/plain": [
              "<Figure size 432x288 with 1 Axes>"
            ]
          },
          "metadata": {
            "tags": []
          }
        }
      ]
    },
    {
      "metadata": {
        "id": "ZngBGO-HD7e8",
        "colab_type": "code",
        "colab": {}
      },
      "cell_type": "code",
      "source": [
        "props['area_yearbuilt'].replace([np.inf, -np.inf], 0, inplace=True)\n"
      ],
      "execution_count": 0,
      "outputs": []
    },
    {
      "metadata": {
        "id": "pPB-iQSHCkRt",
        "colab_type": "code",
        "colab": {
          "base_uri": "https://localhost:8080/",
          "height": 355
        },
        "outputId": "fc44b698-99fd-46c5-e282-a3155b563069"
      },
      "cell_type": "code",
      "source": [
        "plotVariableDist(props, 'area_yearbuilt')"
      ],
      "execution_count": 58,
      "outputs": [
        {
          "output_type": "display_data",
          "data": {
            "image/png": "[encoded data removed]",
            "text/plain": [
              "<Figure size 1080x360 with 1 Axes>"
            ]
          },
          "metadata": {
            "tags": []
          }
        }
      ]
    },
    {
      "metadata": {
        "id": "T3Hsn5DR_N3d",
        "colab_type": "code",
        "colab": {
          "base_uri": "https://localhost:8080/",
          "height": 372
        },
        "outputId": "3afdbebb-6465-47fd-e16a-b73213dfa76b"
      },
      "cell_type": "code",
      "source": [
        "area_yearbuilt_out = outlierRemovalIQR(props)\n",
        "print(area_yearbuilt_out.area_yearbuilt.shape)\n",
        "plotVariableDist(area_yearbuilt_out, 'area_yearbuilt')\n"
      ],
      "execution_count": 59,
      "outputs": [
        {
          "output_type": "stream",
          "text": [
            "(38043,)\n"
          ],
          "name": "stdout"
        },
        {
          "output_type": "display_data",
          "data": {
            "image/png": "[encoded data removed]",
            "text/plain": [
              "<Figure size 1080x360 with 1 Axes>"
            ]
          },
          "metadata": {
            "tags": []
          }
        }
      ]
    },
    {
      "metadata": {
        "id": "CDMVO_e77jYq",
        "colab_type": "text"
      },
      "cell_type": "markdown",
      "source": [
        "#### 2.4.3 Multivariado [1](https://scikit-learn.org/stable/auto_examples/ensemble/plot_isolation_forest.html), [2](https://towardsdatascience.com/outlier-detection-with-isolation-forest-3d190448d45e), [3](https://)"
      ]
    },
    {
      "metadata": {
        "id": "VKfuRfBXhzPN",
        "colab_type": "text"
      },
      "cell_type": "markdown",
      "source": [
        "##### Usando Isolation Forest para Detecção de outliers multivariados"
      ]
    },
    {
      "metadata": {
        "id": "8V2GODep7jYr",
        "colab_type": "code",
        "colab": {
          "base_uri": "https://localhost:8080/",
          "height": 105
        },
        "outputId": "0041b67b-338a-4eab-c20b-49bdb351ff0c"
      },
      "cell_type": "code",
      "source": [
        "rng = np.random.RandomState(42)\n",
        "isolation_forest = IsolationForest(n_estimators=100, max_samples='auto', contamination=.04, max_features=props.shape[1])\n",
        "isolation_forest.fit(props)\n",
        "props['outlier'] = isolation_forest.predict(props)"
      ],
      "execution_count": 60,
      "outputs": [
        {
          "output_type": "stream",
          "text": [
            "/usr/local/lib/python3.6/dist-packages/sklearn/ensemble/iforest.py:223: FutureWarning: behaviour=\"old\" is deprecated and will be removed in version 0.22. Please use behaviour=\"new\", which makes the decision_function change to match other anomaly detection algorithm API.\n",
            "  FutureWarning)\n",
            "/usr/local/lib/python3.6/dist-packages/sklearn/ensemble/iforest.py:417: DeprecationWarning: threshold_ attribute is deprecated in 0.20 and will be removed in 0.22.\n",
            "  \" be removed in 0.22.\", DeprecationWarning)\n"
          ],
          "name": "stderr"
        }
      ]
    },
    {
      "metadata": {
        "id": "RcKAYtMBiGwi",
        "colab_type": "code",
        "colab": {}
      },
      "cell_type": "code",
      "source": [
        "props_no_outlier = props[props['outlier'] != -1]"
      ],
      "execution_count": 0,
      "outputs": []
    },
    {
      "metadata": {
        "id": "s296J6-9jocG",
        "colab_type": "text"
      },
      "cell_type": "markdown",
      "source": [
        "Comparação das estatísticas descritivas antes e depois da detecção de outliers"
      ]
    },
    {
      "metadata": {
        "id": "LsmpINzCiGk4",
        "colab_type": "code",
        "colab": {
          "base_uri": "https://localhost:8080/",
          "height": 346
        },
        "outputId": "1d5ebeca-c330-4ec7-f644-bf7284d04eda"
      },
      "cell_type": "code",
      "source": [
        "props.describe()"
      ],
      "execution_count": 62,
      "outputs": [
        {
          "output_type": "execute_result",
          "data": {
            "text/html": [
              "<div>\n",
              "<style scoped>\n",
              "    .dataframe tbody tr th:only-of-type {\n",
              "        vertical-align: middle;\n",
              "    }\n",
              "\n",
              "    .dataframe tbody tr th {\n",
              "        vertical-align: top;\n",
              "    }\n",
              "\n",
              "    .dataframe thead th {\n",
              "        text-align: right;\n",
              "    }\n",
              "</style>\n",
              "<table border=\"1\" class=\"dataframe\">\n",
              "  <thead>\n",
              "    <tr style=\"text-align: right;\">\n",
              "      <th></th>\n",
              "      <th>parcelid</th>\n",
              "      <th>bathroomcnt</th>\n",
              "      <th>bedroomcnt</th>\n",
              "      <th>finishedsquarefeet12</th>\n",
              "      <th>fips</th>\n",
              "      <th>fullbathcnt</th>\n",
              "      <th>latitude</th>\n",
              "      <th>longitude</th>\n",
              "      <th>lotsizesquarefeet</th>\n",
              "      <th>propertycountylandusecode</th>\n",
              "      <th>...</th>\n",
              "      <th>taxvaluedollarcnt</th>\n",
              "      <th>landtaxvaluedollarcnt</th>\n",
              "      <th>taxamount</th>\n",
              "      <th>censustractandblock</th>\n",
              "      <th>logerror</th>\n",
              "      <th>transaction_year</th>\n",
              "      <th>transaction_month</th>\n",
              "      <th>transaction_day</th>\n",
              "      <th>area_yearbuilt</th>\n",
              "      <th>outlier</th>\n",
              "    </tr>\n",
              "  </thead>\n",
              "  <tbody>\n",
              "    <tr>\n",
              "      <th>count</th>\n",
              "      <td>9.027500e+04</td>\n",
              "      <td>90275.000000</td>\n",
              "      <td>90275.000000</td>\n",
              "      <td>90275.000000</td>\n",
              "      <td>90275.000000</td>\n",
              "      <td>90275.000000</td>\n",
              "      <td>90275.000000</td>\n",
              "      <td>90275.000000</td>\n",
              "      <td>90275.000000</td>\n",
              "      <td>90275.000000</td>\n",
              "      <td>...</td>\n",
              "      <td>90275.000000</td>\n",
              "      <td>90275.000000</td>\n",
              "      <td>90275.000000</td>\n",
              "      <td>90275.000000</td>\n",
              "      <td>90275.000000</td>\n",
              "      <td>90275.0</td>\n",
              "      <td>90275.000000</td>\n",
              "      <td>90275.000000</td>\n",
              "      <td>90275.000000</td>\n",
              "      <td>90275.000000</td>\n",
              "    </tr>\n",
              "    <tr>\n",
              "      <th>mean</th>\n",
              "      <td>1.298466e+07</td>\n",
              "      <td>0.113974</td>\n",
              "      <td>0.189492</td>\n",
              "      <td>0.088176</td>\n",
              "      <td>0.160413</td>\n",
              "      <td>0.064484</td>\n",
              "      <td>0.451080</td>\n",
              "      <td>0.659818</td>\n",
              "      <td>0.004154</td>\n",
              "      <td>0.328767</td>\n",
              "      <td>...</td>\n",
              "      <td>0.016492</td>\n",
              "      <td>0.011360</td>\n",
              "      <td>0.018437</td>\n",
              "      <td>0.163493</td>\n",
              "      <td>0.494162</td>\n",
              "      <td>0.0</td>\n",
              "      <td>0.440895</td>\n",
              "      <td>0.511317</td>\n",
              "      <td>0.149975</td>\n",
              "      <td>0.920000</td>\n",
              "    </tr>\n",
              "    <tr>\n",
              "      <th>std</th>\n",
              "      <td>2.504510e+06</td>\n",
              "      <td>0.050214</td>\n",
              "      <td>0.072277</td>\n",
              "      <td>0.045605</td>\n",
              "      <td>0.279236</td>\n",
              "      <td>0.050900</td>\n",
              "      <td>0.179429</td>\n",
              "      <td>0.190499</td>\n",
              "      <td>0.016640</td>\n",
              "      <td>0.334272</td>\n",
              "      <td>...</td>\n",
              "      <td>0.019996</td>\n",
              "      <td>0.016347</td>\n",
              "      <td>0.021246</td>\n",
              "      <td>0.277442</td>\n",
              "      <td>0.017242</td>\n",
              "      <td>0.0</td>\n",
              "      <td>0.255699</td>\n",
              "      <td>0.300286</td>\n",
              "      <td>0.112938</td>\n",
              "      <td>0.391921</td>\n",
              "    </tr>\n",
              "    <tr>\n",
              "      <th>min</th>\n",
              "      <td>1.071174e+07</td>\n",
              "      <td>0.000000</td>\n",
              "      <td>0.000000</td>\n",
              "      <td>0.000000</td>\n",
              "      <td>0.000000</td>\n",
              "      <td>0.000000</td>\n",
              "      <td>0.000000</td>\n",
              "      <td>0.000000</td>\n",
              "      <td>0.000000</td>\n",
              "      <td>0.000000</td>\n",
              "      <td>...</td>\n",
              "      <td>0.000000</td>\n",
              "      <td>0.000000</td>\n",
              "      <td>0.000000</td>\n",
              "      <td>0.000000</td>\n",
              "      <td>0.000000</td>\n",
              "      <td>0.0</td>\n",
              "      <td>0.000000</td>\n",
              "      <td>0.000000</td>\n",
              "      <td>0.000000</td>\n",
              "      <td>-1.000000</td>\n",
              "    </tr>\n",
              "    <tr>\n",
              "      <th>25%</th>\n",
              "      <td>1.155950e+07</td>\n",
              "      <td>0.100000</td>\n",
              "      <td>0.125000</td>\n",
              "      <td>0.059018</td>\n",
              "      <td>0.000000</td>\n",
              "      <td>0.052632</td>\n",
              "      <td>0.319793</td>\n",
              "      <td>0.547388</td>\n",
              "      <td>0.000800</td>\n",
              "      <td>0.038961</td>\n",
              "      <td>...</td>\n",
              "      <td>0.007171</td>\n",
              "      <td>0.003355</td>\n",
              "      <td>0.008772</td>\n",
              "      <td>0.004047</td>\n",
              "      <td>0.490227</td>\n",
              "      <td>0.0</td>\n",
              "      <td>0.272727</td>\n",
              "      <td>0.233333</td>\n",
              "      <td>0.093471</td>\n",
              "      <td>1.000000</td>\n",
              "    </tr>\n",
              "    <tr>\n",
              "      <th>50%</th>\n",
              "      <td>1.254734e+07</td>\n",
              "      <td>0.100000</td>\n",
              "      <td>0.187500</td>\n",
              "      <td>0.076808</td>\n",
              "      <td>0.000000</td>\n",
              "      <td>0.052632</td>\n",
              "      <td>0.461975</td>\n",
              "      <td>0.673256</td>\n",
              "      <td>0.001034</td>\n",
              "      <td>0.129870</td>\n",
              "      <td>...</td>\n",
              "      <td>0.012355</td>\n",
              "      <td>0.007875</td>\n",
              "      <td>0.013959</td>\n",
              "      <td>0.007025</td>\n",
              "      <td>0.493577</td>\n",
              "      <td>0.0</td>\n",
              "      <td>0.454545</td>\n",
              "      <td>0.500000</td>\n",
              "      <td>0.125878</td>\n",
              "      <td>1.000000</td>\n",
              "    </tr>\n",
              "    <tr>\n",
              "      <th>75%</th>\n",
              "      <td>1.422755e+07</td>\n",
              "      <td>0.150000</td>\n",
              "      <td>0.250000</td>\n",
              "      <td>0.104642</td>\n",
              "      <td>0.297297</td>\n",
              "      <td>0.105263</td>\n",
              "      <td>0.564393</td>\n",
              "      <td>0.806299</td>\n",
              "      <td>0.001960</td>\n",
              "      <td>0.727273</td>\n",
              "      <td>...</td>\n",
              "      <td>0.019480</td>\n",
              "      <td>0.014098</td>\n",
              "      <td>0.021285</td>\n",
              "      <td>0.296872</td>\n",
              "      <td>0.497131</td>\n",
              "      <td>0.0</td>\n",
              "      <td>0.636364</td>\n",
              "      <td>0.766667</td>\n",
              "      <td>0.174182</td>\n",
              "      <td>1.000000</td>\n",
              "    </tr>\n",
              "    <tr>\n",
              "      <th>max</th>\n",
              "      <td>1.629608e+08</td>\n",
              "      <td>1.000000</td>\n",
              "      <td>1.000000</td>\n",
              "      <td>1.000000</td>\n",
              "      <td>1.000000</td>\n",
              "      <td>1.000000</td>\n",
              "      <td>1.000000</td>\n",
              "      <td>1.000000</td>\n",
              "      <td>1.000000</td>\n",
              "      <td>1.000000</td>\n",
              "      <td>...</td>\n",
              "      <td>1.000000</td>\n",
              "      <td>1.000000</td>\n",
              "      <td>1.000000</td>\n",
              "      <td>1.000000</td>\n",
              "      <td>1.000000</td>\n",
              "      <td>0.0</td>\n",
              "      <td>1.000000</td>\n",
              "      <td>1.000000</td>\n",
              "      <td>7.873669</td>\n",
              "      <td>1.000000</td>\n",
              "    </tr>\n",
              "  </tbody>\n",
              "</table>\n",
              "<p>8 rows × 28 columns</p>\n",
              "</div>"
            ],
            "text/plain": [
              "           parcelid   bathroomcnt    bedroomcnt  finishedsquarefeet12  \\\n",
              "count  9.027500e+04  90275.000000  90275.000000          90275.000000   \n",
              "mean   1.298466e+07      0.113974      0.189492              0.088176   \n",
              "std    2.504510e+06      0.050214      0.072277              0.045605   \n",
              "min    1.071174e+07      0.000000      0.000000              0.000000   \n",
              "25%    1.155950e+07      0.100000      0.125000              0.059018   \n",
              "50%    1.254734e+07      0.100000      0.187500              0.076808   \n",
              "75%    1.422755e+07      0.150000      0.250000              0.104642   \n",
              "max    1.629608e+08      1.000000      1.000000              1.000000   \n",
              "\n",
              "               fips   fullbathcnt      latitude     longitude  \\\n",
              "count  90275.000000  90275.000000  90275.000000  90275.000000   \n",
              "mean       0.160413      0.064484      0.451080      0.659818   \n",
              "std        0.279236      0.050900      0.179429      0.190499   \n",
              "min        0.000000      0.000000      0.000000      0.000000   \n",
              "25%        0.000000      0.052632      0.319793      0.547388   \n",
              "50%        0.000000      0.052632      0.461975      0.673256   \n",
              "75%        0.297297      0.105263      0.564393      0.806299   \n",
              "max        1.000000      1.000000      1.000000      1.000000   \n",
              "\n",
              "       lotsizesquarefeet  propertycountylandusecode  ...  taxvaluedollarcnt  \\\n",
              "count       90275.000000               90275.000000  ...       90275.000000   \n",
              "mean            0.004154                   0.328767  ...           0.016492   \n",
              "std             0.016640                   0.334272  ...           0.019996   \n",
              "min             0.000000                   0.000000  ...           0.000000   \n",
              "25%             0.000800                   0.038961  ...           0.007171   \n",
              "50%             0.001034                   0.129870  ...           0.012355   \n",
              "75%             0.001960                   0.727273  ...           0.019480   \n",
              "max             1.000000                   1.000000  ...           1.000000   \n",
              "\n",
              "       landtaxvaluedollarcnt     taxamount  censustractandblock      logerror  \\\n",
              "count           90275.000000  90275.000000         90275.000000  90275.000000   \n",
              "mean                0.011360      0.018437             0.163493      0.494162   \n",
              "std                 0.016347      0.021246             0.277442      0.017242   \n",
              "min                 0.000000      0.000000             0.000000      0.000000   \n",
              "25%                 0.003355      0.008772             0.004047      0.490227   \n",
              "50%                 0.007875      0.013959             0.007025      0.493577   \n",
              "75%                 0.014098      0.021285             0.296872      0.497131   \n",
              "max                 1.000000      1.000000             1.000000      1.000000   \n",
              "\n",
              "       transaction_year  transaction_month  transaction_day  area_yearbuilt  \\\n",
              "count           90275.0       90275.000000     90275.000000    90275.000000   \n",
              "mean                0.0           0.440895         0.511317        0.149975   \n",
              "std                 0.0           0.255699         0.300286        0.112938   \n",
              "min                 0.0           0.000000         0.000000        0.000000   \n",
              "25%                 0.0           0.272727         0.233333        0.093471   \n",
              "50%                 0.0           0.454545         0.500000        0.125878   \n",
              "75%                 0.0           0.636364         0.766667        0.174182   \n",
              "max                 0.0           1.000000         1.000000        7.873669   \n",
              "\n",
              "            outlier  \n",
              "count  90275.000000  \n",
              "mean       0.920000  \n",
              "std        0.391921  \n",
              "min       -1.000000  \n",
              "25%        1.000000  \n",
              "50%        1.000000  \n",
              "75%        1.000000  \n",
              "max        1.000000  \n",
              "\n",
              "[8 rows x 28 columns]"
            ]
          },
          "metadata": {
            "tags": []
          },
          "execution_count": 62
        }
      ]
    },
    {
      "metadata": {
        "id": "5gmuYvc2jljI",
        "colab_type": "code",
        "colab": {
          "base_uri": "https://localhost:8080/",
          "height": 346
        },
        "outputId": "07aecdf1-ca72-4a30-bffe-0bf38fffa6a6"
      },
      "cell_type": "code",
      "source": [
        "props_no_outlier.describe()"
      ],
      "execution_count": 63,
      "outputs": [
        {
          "output_type": "execute_result",
          "data": {
            "text/html": [
              "<div>\n",
              "<style scoped>\n",
              "    .dataframe tbody tr th:only-of-type {\n",
              "        vertical-align: middle;\n",
              "    }\n",
              "\n",
              "    .dataframe tbody tr th {\n",
              "        vertical-align: top;\n",
              "    }\n",
              "\n",
              "    .dataframe thead th {\n",
              "        text-align: right;\n",
              "    }\n",
              "</style>\n",
              "<table border=\"1\" class=\"dataframe\">\n",
              "  <thead>\n",
              "    <tr style=\"text-align: right;\">\n",
              "      <th></th>\n",
              "      <th>parcelid</th>\n",
              "      <th>bathroomcnt</th>\n",
              "      <th>bedroomcnt</th>\n",
              "      <th>finishedsquarefeet12</th>\n",
              "      <th>fips</th>\n",
              "      <th>fullbathcnt</th>\n",
              "      <th>latitude</th>\n",
              "      <th>longitude</th>\n",
              "      <th>lotsizesquarefeet</th>\n",
              "      <th>propertycountylandusecode</th>\n",
              "      <th>...</th>\n",
              "      <th>taxvaluedollarcnt</th>\n",
              "      <th>landtaxvaluedollarcnt</th>\n",
              "      <th>taxamount</th>\n",
              "      <th>censustractandblock</th>\n",
              "      <th>logerror</th>\n",
              "      <th>transaction_year</th>\n",
              "      <th>transaction_month</th>\n",
              "      <th>transaction_day</th>\n",
              "      <th>area_yearbuilt</th>\n",
              "      <th>outlier</th>\n",
              "    </tr>\n",
              "  </thead>\n",
              "  <tbody>\n",
              "    <tr>\n",
              "      <th>count</th>\n",
              "      <td>8.666400e+04</td>\n",
              "      <td>86664.000000</td>\n",
              "      <td>86664.000000</td>\n",
              "      <td>86664.000000</td>\n",
              "      <td>86664.000000</td>\n",
              "      <td>86664.000000</td>\n",
              "      <td>86664.000000</td>\n",
              "      <td>86664.000000</td>\n",
              "      <td>86664.000000</td>\n",
              "      <td>86664.000000</td>\n",
              "      <td>...</td>\n",
              "      <td>86664.000000</td>\n",
              "      <td>86664.000000</td>\n",
              "      <td>86664.000000</td>\n",
              "      <td>86664.000000</td>\n",
              "      <td>86664.000000</td>\n",
              "      <td>86664.0</td>\n",
              "      <td>86664.000000</td>\n",
              "      <td>86664.000000</td>\n",
              "      <td>86664.000000</td>\n",
              "      <td>86664.0</td>\n",
              "    </tr>\n",
              "    <tr>\n",
              "      <th>mean</th>\n",
              "      <td>1.287866e+07</td>\n",
              "      <td>0.111381</td>\n",
              "      <td>0.187554</td>\n",
              "      <td>0.084582</td>\n",
              "      <td>0.139279</td>\n",
              "      <td>0.061814</td>\n",
              "      <td>0.448315</td>\n",
              "      <td>0.670269</td>\n",
              "      <td>0.004122</td>\n",
              "      <td>0.318559</td>\n",
              "      <td>...</td>\n",
              "      <td>0.014921</td>\n",
              "      <td>0.010277</td>\n",
              "      <td>0.016877</td>\n",
              "      <td>0.142447</td>\n",
              "      <td>0.494063</td>\n",
              "      <td>0.0</td>\n",
              "      <td>0.440908</td>\n",
              "      <td>0.511732</td>\n",
              "      <td>0.145542</td>\n",
              "      <td>1.0</td>\n",
              "    </tr>\n",
              "    <tr>\n",
              "      <th>std</th>\n",
              "      <td>2.442321e+06</td>\n",
              "      <td>0.044226</td>\n",
              "      <td>0.068358</td>\n",
              "      <td>0.037283</td>\n",
              "      <td>0.249551</td>\n",
              "      <td>0.045283</td>\n",
              "      <td>0.179404</td>\n",
              "      <td>0.179383</td>\n",
              "      <td>0.016432</td>\n",
              "      <td>0.333646</td>\n",
              "      <td>...</td>\n",
              "      <td>0.012400</td>\n",
              "      <td>0.010497</td>\n",
              "      <td>0.013706</td>\n",
              "      <td>0.247762</td>\n",
              "      <td>0.016697</td>\n",
              "      <td>0.0</td>\n",
              "      <td>0.255168</td>\n",
              "      <td>0.299871</td>\n",
              "      <td>0.106009</td>\n",
              "      <td>0.0</td>\n",
              "    </tr>\n",
              "    <tr>\n",
              "      <th>min</th>\n",
              "      <td>1.071174e+07</td>\n",
              "      <td>0.000000</td>\n",
              "      <td>0.000000</td>\n",
              "      <td>0.000000</td>\n",
              "      <td>0.000000</td>\n",
              "      <td>0.000000</td>\n",
              "      <td>0.000000</td>\n",
              "      <td>0.000000</td>\n",
              "      <td>0.000000</td>\n",
              "      <td>0.000000</td>\n",
              "      <td>...</td>\n",
              "      <td>0.000000</td>\n",
              "      <td>0.000000</td>\n",
              "      <td>0.000007</td>\n",
              "      <td>0.000000</td>\n",
              "      <td>0.000000</td>\n",
              "      <td>0.0</td>\n",
              "      <td>0.000000</td>\n",
              "      <td>0.000000</td>\n",
              "      <td>0.000000</td>\n",
              "      <td>1.0</td>\n",
              "    </tr>\n",
              "    <tr>\n",
              "      <th>25%</th>\n",
              "      <td>1.153413e+07</td>\n",
              "      <td>0.100000</td>\n",
              "      <td>0.125000</td>\n",
              "      <td>0.058668</td>\n",
              "      <td>0.000000</td>\n",
              "      <td>0.052632</td>\n",
              "      <td>0.317344</td>\n",
              "      <td>0.556885</td>\n",
              "      <td>0.000795</td>\n",
              "      <td>0.038961</td>\n",
              "      <td>...</td>\n",
              "      <td>0.007095</td>\n",
              "      <td>0.003282</td>\n",
              "      <td>0.008714</td>\n",
              "      <td>0.002836</td>\n",
              "      <td>0.490227</td>\n",
              "      <td>0.0</td>\n",
              "      <td>0.272727</td>\n",
              "      <td>0.233333</td>\n",
              "      <td>0.092869</td>\n",
              "      <td>1.0</td>\n",
              "    </tr>\n",
              "    <tr>\n",
              "      <th>50%</th>\n",
              "      <td>1.251230e+07</td>\n",
              "      <td>0.100000</td>\n",
              "      <td>0.187500</td>\n",
              "      <td>0.075808</td>\n",
              "      <td>0.000000</td>\n",
              "      <td>0.052632</td>\n",
              "      <td>0.453947</td>\n",
              "      <td>0.679317</td>\n",
              "      <td>0.001024</td>\n",
              "      <td>0.129870</td>\n",
              "      <td>...</td>\n",
              "      <td>0.012143</td>\n",
              "      <td>0.007700</td>\n",
              "      <td>0.013752</td>\n",
              "      <td>0.006753</td>\n",
              "      <td>0.493470</td>\n",
              "      <td>0.0</td>\n",
              "      <td>0.454545</td>\n",
              "      <td>0.500000</td>\n",
              "      <td>0.124057</td>\n",
              "      <td>1.0</td>\n",
              "    </tr>\n",
              "    <tr>\n",
              "      <th>75%</th>\n",
              "      <td>1.416087e+07</td>\n",
              "      <td>0.150000</td>\n",
              "      <td>0.250000</td>\n",
              "      <td>0.101444</td>\n",
              "      <td>0.297297</td>\n",
              "      <td>0.105263</td>\n",
              "      <td>0.559963</td>\n",
              "      <td>0.808629</td>\n",
              "      <td>0.001883</td>\n",
              "      <td>0.727273</td>\n",
              "      <td>...</td>\n",
              "      <td>0.018800</td>\n",
              "      <td>0.013632</td>\n",
              "      <td>0.020649</td>\n",
              "      <td>0.296869</td>\n",
              "      <td>0.497035</td>\n",
              "      <td>0.0</td>\n",
              "      <td>0.636364</td>\n",
              "      <td>0.766667</td>\n",
              "      <td>0.170206</td>\n",
              "      <td>1.0</td>\n",
              "    </tr>\n",
              "    <tr>\n",
              "      <th>max</th>\n",
              "      <td>1.629608e+08</td>\n",
              "      <td>1.000000</td>\n",
              "      <td>1.000000</td>\n",
              "      <td>0.436360</td>\n",
              "      <td>1.000000</td>\n",
              "      <td>1.000000</td>\n",
              "      <td>1.000000</td>\n",
              "      <td>1.000000</td>\n",
              "      <td>1.000000</td>\n",
              "      <td>1.000000</td>\n",
              "      <td>...</td>\n",
              "      <td>0.183780</td>\n",
              "      <td>0.203995</td>\n",
              "      <td>0.537981</td>\n",
              "      <td>1.000000</td>\n",
              "      <td>1.000000</td>\n",
              "      <td>0.0</td>\n",
              "      <td>1.000000</td>\n",
              "      <td>1.000000</td>\n",
              "      <td>7.873669</td>\n",
              "      <td>1.0</td>\n",
              "    </tr>\n",
              "  </tbody>\n",
              "</table>\n",
              "<p>8 rows × 28 columns</p>\n",
              "</div>"
            ],
            "text/plain": [
              "           parcelid   bathroomcnt    bedroomcnt  finishedsquarefeet12  \\\n",
              "count  8.666400e+04  86664.000000  86664.000000          86664.000000   \n",
              "mean   1.287866e+07      0.111381      0.187554              0.084582   \n",
              "std    2.442321e+06      0.044226      0.068358              0.037283   \n",
              "min    1.071174e+07      0.000000      0.000000              0.000000   \n",
              "25%    1.153413e+07      0.100000      0.125000              0.058668   \n",
              "50%    1.251230e+07      0.100000      0.187500              0.075808   \n",
              "75%    1.416087e+07      0.150000      0.250000              0.101444   \n",
              "max    1.629608e+08      1.000000      1.000000              0.436360   \n",
              "\n",
              "               fips   fullbathcnt      latitude     longitude  \\\n",
              "count  86664.000000  86664.000000  86664.000000  86664.000000   \n",
              "mean       0.139279      0.061814      0.448315      0.670269   \n",
              "std        0.249551      0.045283      0.179404      0.179383   \n",
              "min        0.000000      0.000000      0.000000      0.000000   \n",
              "25%        0.000000      0.052632      0.317344      0.556885   \n",
              "50%        0.000000      0.052632      0.453947      0.679317   \n",
              "75%        0.297297      0.105263      0.559963      0.808629   \n",
              "max        1.000000      1.000000      1.000000      1.000000   \n",
              "\n",
              "       lotsizesquarefeet  propertycountylandusecode  ...  taxvaluedollarcnt  \\\n",
              "count       86664.000000               86664.000000  ...       86664.000000   \n",
              "mean            0.004122                   0.318559  ...           0.014921   \n",
              "std             0.016432                   0.333646  ...           0.012400   \n",
              "min             0.000000                   0.000000  ...           0.000000   \n",
              "25%             0.000795                   0.038961  ...           0.007095   \n",
              "50%             0.001024                   0.129870  ...           0.012143   \n",
              "75%             0.001883                   0.727273  ...           0.018800   \n",
              "max             1.000000                   1.000000  ...           0.183780   \n",
              "\n",
              "       landtaxvaluedollarcnt     taxamount  censustractandblock      logerror  \\\n",
              "count           86664.000000  86664.000000         86664.000000  86664.000000   \n",
              "mean                0.010277      0.016877             0.142447      0.494063   \n",
              "std                 0.010497      0.013706             0.247762      0.016697   \n",
              "min                 0.000000      0.000007             0.000000      0.000000   \n",
              "25%                 0.003282      0.008714             0.002836      0.490227   \n",
              "50%                 0.007700      0.013752             0.006753      0.493470   \n",
              "75%                 0.013632      0.020649             0.296869      0.497035   \n",
              "max                 0.203995      0.537981             1.000000      1.000000   \n",
              "\n",
              "       transaction_year  transaction_month  transaction_day  area_yearbuilt  \\\n",
              "count           86664.0       86664.000000     86664.000000    86664.000000   \n",
              "mean                0.0           0.440908         0.511732        0.145542   \n",
              "std                 0.0           0.255168         0.299871        0.106009   \n",
              "min                 0.0           0.000000         0.000000        0.000000   \n",
              "25%                 0.0           0.272727         0.233333        0.092869   \n",
              "50%                 0.0           0.454545         0.500000        0.124057   \n",
              "75%                 0.0           0.636364         0.766667        0.170206   \n",
              "max                 0.0           1.000000         1.000000        7.873669   \n",
              "\n",
              "       outlier  \n",
              "count  86664.0  \n",
              "mean       1.0  \n",
              "std        0.0  \n",
              "min        1.0  \n",
              "25%        1.0  \n",
              "50%        1.0  \n",
              "75%        1.0  \n",
              "max        1.0  \n",
              "\n",
              "[8 rows x 28 columns]"
            ]
          },
          "metadata": {
            "tags": []
          },
          "execution_count": 63
        }
      ]
    },
    {
      "metadata": {
        "id": "ra5R_DgZo1D0",
        "colab_type": "code",
        "colab": {}
      },
      "cell_type": "code",
      "source": [
        "props = props_no_outlier.copy()"
      ],
      "execution_count": 0,
      "outputs": []
    },
    {
      "metadata": {
        "id": "5q_1kGB_Rm-h",
        "colab_type": "text"
      },
      "cell_type": "markdown",
      "source": [
        "## Criação de Novas Features"
      ]
    },
    {
      "metadata": {
        "id": "S4yN5Aym7jYt",
        "colab_type": "text"
      },
      "cell_type": "markdown",
      "source": [
        "## Visualização de Dados"
      ]
    },
    {
      "metadata": {
        "id": "onPYR3re7jYu",
        "colab_type": "text"
      },
      "cell_type": "markdown",
      "source": [
        "#### Distribuição da localização das propriedades"
      ]
    },
    {
      "metadata": {
        "id": "jW0Y3uV37jYu",
        "colab_type": "code",
        "colab": {}
      },
      "cell_type": "code",
      "source": [
        "props['latitude'] /= 1e6\n",
        "props['longitude'] /= 1e6"
      ],
      "execution_count": 0,
      "outputs": []
    },
    {
      "metadata": {
        "colab_type": "code",
        "id": "5eOuEaOHzmuk",
        "outputId": "5fa4c40d-6929-4daa-b380-a6f5c5664d56",
        "colab": {
          "base_uri": "https://localhost:8080/",
          "height": 796
        }
      },
      "cell_type": "code",
      "source": [
        "plt.figure(figsize=(12,12))\n",
        "sns.jointplot(x=props.latitude.values, y=props.longitude.values, size=10)\n",
        "plt.ylabel('Longitude', fontsize=12)\n",
        "plt.xlabel('Latitude', fontsize=12)\n",
        "plt.show()"
      ],
      "execution_count": 66,
      "outputs": [
        {
          "output_type": "stream",
          "text": [
            "/usr/local/lib/python3.6/dist-packages/seaborn/axisgrid.py:2262: UserWarning: The `size` paramter has been renamed to `height`; please update your code.\n",
            "  warnings.warn(msg, UserWarning)\n"
          ],
          "name": "stderr"
        },
        {
          "output_type": "display_data",
          "data": {
            "text/plain": [
              "<Figure size 864x864 with 0 Axes>"
            ]
          },
          "metadata": {
            "tags": []
          }
        },
        {
          "output_type": "display_data",
          "data": {
            "image/png": "[encoded data removed]",
            "text/plain": [
              "<Figure size 720x720 with 3 Axes>"
            ]
          },
          "metadata": {
            "tags": []
          }
        }
      ]
    },
    {
      "metadata": {
        "colab_type": "code",
        "id": "zc9xewjEzmmE",
        "colab": {}
      },
      "cell_type": "code",
      "source": [
        ""
      ],
      "execution_count": 0,
      "outputs": []
    },
    {
      "metadata": {
        "colab_type": "code",
        "id": "ZGSCZYf_zmip",
        "colab": {}
      },
      "cell_type": "code",
      "source": [
        ""
      ],
      "execution_count": 0,
      "outputs": []
    },
    {
      "metadata": {
        "colab_type": "code",
        "id": "V4_dEyUYc87t",
        "colab": {}
      },
      "cell_type": "code",
      "source": [
        "#Save for later\n",
        "\n",
        "#Get all null columns as dataframe \n",
        "#print(props[props.isnull().any(axis=1)][nan_columns].head())\n",
        "\n",
        "#props_train = pd.merge(props, train, on='parcelid', how='left')\n",
        "\n",
        "#msno.dendrogram(props)\n",
        "\n",
        "# Changing type of columns with Ids to unsigned short int\n",
        "#id_columns = props.filter(regex='id').columns.values\n",
        "#props[id_columns] = props[id_columns].astype('uint16')\n",
        "\n",
        "# Par0s['propertyzoningdesc'] = cat_df_props['propertyzoningdesc'].cat.codes.astype('int16')\n",
        "\n",
        "#msno.heatmap(props[nan_columns], figsize=(15,15))\n",
        "# All Columns Correlation\n",
        "#f,ax = plt.subplots(figsize=(15, 15))\n",
        "#sns.heatmap(props.corr(), annot=True, linewidths=.5, fmt='.1f',ax=ax)\n",
        "#plt.show()\n",
        "\n",
        "###############################################################################################################################\n",
        "\n",
        "# b = abs(props.drop(['parcelid'], axis=1).mean() - props.drop(['parcelid'], axis=1).median()).nlargest(5)\n",
        "\n",
        "#Para excluir\n",
        "\n",
        "# Não podemos usar o one hot encoder pois precisariamos criar 240 novas colunas para um dataframe com 3 mi instâncias\n",
        "#cat_df_props['propertycountylandusecode'].cat.categories\n",
        "\n",
        "#prop_county_land_use_code = cat_df_props['propertycountylandusecode'].cat.codes\n",
        "#prop_county_land_use_code\n",
        "\n",
        "#lb_make = LabelEncoder()\n",
        "#cat_df_props['propertycountylandusecode'] = lb_make.fit_transform(cat_df_props['propertycountylandusecode'])"
      ],
      "execution_count": 0,
      "outputs": []
    },
    {
      "metadata": {
        "id": "AD2rWpU-Y3Bk",
        "colab_type": "text"
      },
      "cell_type": "markdown",
      "source": [
        "# Algumas estatísticas Descritivas"
      ]
    },
    {
      "metadata": {
        "id": "iqvFTsJ0nPXm",
        "colab_type": "code",
        "colab": {}
      },
      "cell_type": "code",
      "source": [
        "imputed = pd.read_csv('https://raw.githubusercontent.com/thiagotandrade/ds_project/master/Database/props_imputed_v2.csv',header=0, sep=',', quotechar='\"')"
      ],
      "execution_count": 0,
      "outputs": []
    },
    {
      "metadata": {
        "id": "6sW72CljZClf",
        "colab_type": "code",
        "outputId": "c26b2be2-1c4c-43d9-fd29-7eadff4bf7db",
        "colab": {
          "base_uri": "https://localhost:8080/",
          "height": 346
        }
      },
      "cell_type": "code",
      "source": [
        "imputed.describe()"
      ],
      "execution_count": 69,
      "outputs": [
        {
          "output_type": "execute_result",
          "data": {
            "text/html": [
              "<div>\n",
              "<style scoped>\n",
              "    .dataframe tbody tr th:only-of-type {\n",
              "        vertical-align: middle;\n",
              "    }\n",
              "\n",
              "    .dataframe tbody tr th {\n",
              "        vertical-align: top;\n",
              "    }\n",
              "\n",
              "    .dataframe thead th {\n",
              "        text-align: right;\n",
              "    }\n",
              "</style>\n",
              "<table border=\"1\" class=\"dataframe\">\n",
              "  <thead>\n",
              "    <tr style=\"text-align: right;\">\n",
              "      <th></th>\n",
              "      <th>parcelid</th>\n",
              "      <th>bathroomcnt</th>\n",
              "      <th>bedroomcnt</th>\n",
              "      <th>finishedsquarefeet12</th>\n",
              "      <th>fips</th>\n",
              "      <th>fullbathcnt</th>\n",
              "      <th>latitude</th>\n",
              "      <th>longitude</th>\n",
              "      <th>lotsizesquarefeet</th>\n",
              "      <th>propertycountylandusecode</th>\n",
              "      <th>...</th>\n",
              "      <th>yearbuilt</th>\n",
              "      <th>structuretaxvaluedollarcnt</th>\n",
              "      <th>taxvaluedollarcnt</th>\n",
              "      <th>landtaxvaluedollarcnt</th>\n",
              "      <th>taxamount</th>\n",
              "      <th>censustractandblock</th>\n",
              "      <th>logerror</th>\n",
              "      <th>transaction_year</th>\n",
              "      <th>transaction_month</th>\n",
              "      <th>transaction_day</th>\n",
              "    </tr>\n",
              "  </thead>\n",
              "  <tbody>\n",
              "    <tr>\n",
              "      <th>count</th>\n",
              "      <td>9.027500e+04</td>\n",
              "      <td>90275.000000</td>\n",
              "      <td>90275.000000</td>\n",
              "      <td>90275.000000</td>\n",
              "      <td>90275.000000</td>\n",
              "      <td>90275.000000</td>\n",
              "      <td>9.027500e+04</td>\n",
              "      <td>9.027500e+04</td>\n",
              "      <td>9.027500e+04</td>\n",
              "      <td>90275.000000</td>\n",
              "      <td>...</td>\n",
              "      <td>90275.000000</td>\n",
              "      <td>9.027500e+04</td>\n",
              "      <td>9.027500e+04</td>\n",
              "      <td>9.027500e+04</td>\n",
              "      <td>90275.000000</td>\n",
              "      <td>9.027500e+04</td>\n",
              "      <td>90275.000000</td>\n",
              "      <td>90275.0</td>\n",
              "      <td>90275.000000</td>\n",
              "      <td>90275.000000</td>\n",
              "    </tr>\n",
              "    <tr>\n",
              "      <th>mean</th>\n",
              "      <td>1.298466e+07</td>\n",
              "      <td>2.279474</td>\n",
              "      <td>3.031869</td>\n",
              "      <td>1766.497488</td>\n",
              "      <td>6048.870551</td>\n",
              "      <td>2.225189</td>\n",
              "      <td>3.400541e+07</td>\n",
              "      <td>-1.181989e+08</td>\n",
              "      <td>2.912494e+04</td>\n",
              "      <td>24.315071</td>\n",
              "      <td>...</td>\n",
              "      <td>1968.502799</td>\n",
              "      <td>1.794753e+05</td>\n",
              "      <td>4.576713e+05</td>\n",
              "      <td>2.783341e+05</td>\n",
              "      <td>5983.760300</td>\n",
              "      <td>6.049185e+13</td>\n",
              "      <td>0.011457</td>\n",
              "      <td>2016.0</td>\n",
              "      <td>5.849848</td>\n",
              "      <td>16.339507</td>\n",
              "    </tr>\n",
              "    <tr>\n",
              "      <th>std</th>\n",
              "      <td>2.504510e+06</td>\n",
              "      <td>1.004271</td>\n",
              "      <td>1.156436</td>\n",
              "      <td>912.601389</td>\n",
              "      <td>20.663461</td>\n",
              "      <td>0.967107</td>\n",
              "      <td>2.649654e+05</td>\n",
              "      <td>3.606032e+05</td>\n",
              "      <td>1.159982e+05</td>\n",
              "      <td>25.738982</td>\n",
              "      <td>...</td>\n",
              "      <td>23.757301</td>\n",
              "      <td>2.089603e+05</td>\n",
              "      <td>5.548815e+05</td>\n",
              "      <td>4.004934e+05</td>\n",
              "      <td>6838.704246</td>\n",
              "      <td>2.050521e+11</td>\n",
              "      <td>0.161079</td>\n",
              "      <td>0.0</td>\n",
              "      <td>2.812690</td>\n",
              "      <td>9.008589</td>\n",
              "    </tr>\n",
              "    <tr>\n",
              "      <th>min</th>\n",
              "      <td>1.071174e+07</td>\n",
              "      <td>0.000000</td>\n",
              "      <td>0.000000</td>\n",
              "      <td>2.000000</td>\n",
              "      <td>6037.000000</td>\n",
              "      <td>1.000000</td>\n",
              "      <td>3.333930e+07</td>\n",
              "      <td>-1.194479e+08</td>\n",
              "      <td>1.670000e+02</td>\n",
              "      <td>-1.000000</td>\n",
              "      <td>...</td>\n",
              "      <td>1885.000000</td>\n",
              "      <td>1.000000e+02</td>\n",
              "      <td>2.200000e+01</td>\n",
              "      <td>2.200000e+01</td>\n",
              "      <td>49.080000</td>\n",
              "      <td>6.037101e+13</td>\n",
              "      <td>-4.605000</td>\n",
              "      <td>2016.0</td>\n",
              "      <td>1.000000</td>\n",
              "      <td>1.000000</td>\n",
              "    </tr>\n",
              "    <tr>\n",
              "      <th>25%</th>\n",
              "      <td>1.155950e+07</td>\n",
              "      <td>2.000000</td>\n",
              "      <td>2.000000</td>\n",
              "      <td>1183.000000</td>\n",
              "      <td>6037.000000</td>\n",
              "      <td>2.000000</td>\n",
              "      <td>3.381154e+07</td>\n",
              "      <td>-1.184117e+08</td>\n",
              "      <td>5.741000e+03</td>\n",
              "      <td>2.000000</td>\n",
              "      <td>...</td>\n",
              "      <td>1953.000000</td>\n",
              "      <td>8.074700e+04</td>\n",
              "      <td>1.990235e+05</td>\n",
              "      <td>8.222800e+04</td>\n",
              "      <td>2872.600000</td>\n",
              "      <td>6.037400e+13</td>\n",
              "      <td>-0.025300</td>\n",
              "      <td>2016.0</td>\n",
              "      <td>4.000000</td>\n",
              "      <td>8.000000</td>\n",
              "    </tr>\n",
              "    <tr>\n",
              "      <th>50%</th>\n",
              "      <td>1.254734e+07</td>\n",
              "      <td>2.000000</td>\n",
              "      <td>3.000000</td>\n",
              "      <td>1539.000000</td>\n",
              "      <td>6037.000000</td>\n",
              "      <td>2.000000</td>\n",
              "      <td>3.402150e+07</td>\n",
              "      <td>-1.181734e+08</td>\n",
              "      <td>7.375000e+03</td>\n",
              "      <td>9.000000</td>\n",
              "      <td>...</td>\n",
              "      <td>1970.000000</td>\n",
              "      <td>1.315660e+05</td>\n",
              "      <td>3.428720e+05</td>\n",
              "      <td>1.929600e+05</td>\n",
              "      <td>4542.440000</td>\n",
              "      <td>6.037620e+13</td>\n",
              "      <td>0.006000</td>\n",
              "      <td>2016.0</td>\n",
              "      <td>6.000000</td>\n",
              "      <td>16.000000</td>\n",
              "    </tr>\n",
              "    <tr>\n",
              "      <th>75%</th>\n",
              "      <td>1.422755e+07</td>\n",
              "      <td>3.000000</td>\n",
              "      <td>4.000000</td>\n",
              "      <td>2096.000000</td>\n",
              "      <td>6059.000000</td>\n",
              "      <td>3.000000</td>\n",
              "      <td>3.417274e+07</td>\n",
              "      <td>-1.179216e+08</td>\n",
              "      <td>1.382729e+04</td>\n",
              "      <td>55.000000</td>\n",
              "      <td>...</td>\n",
              "      <td>1987.000000</td>\n",
              "      <td>2.100780e+05</td>\n",
              "      <td>5.405890e+05</td>\n",
              "      <td>3.454150e+05</td>\n",
              "      <td>6900.600000</td>\n",
              "      <td>6.059042e+13</td>\n",
              "      <td>0.039200</td>\n",
              "      <td>2016.0</td>\n",
              "      <td>8.000000</td>\n",
              "      <td>24.000000</td>\n",
              "    </tr>\n",
              "    <tr>\n",
              "      <th>max</th>\n",
              "      <td>1.629608e+08</td>\n",
              "      <td>20.000000</td>\n",
              "      <td>16.000000</td>\n",
              "      <td>20013.000000</td>\n",
              "      <td>6111.000000</td>\n",
              "      <td>20.000000</td>\n",
              "      <td>3.481601e+07</td>\n",
              "      <td>-1.175549e+08</td>\n",
              "      <td>6.971010e+06</td>\n",
              "      <td>76.000000</td>\n",
              "      <td>...</td>\n",
              "      <td>2015.000000</td>\n",
              "      <td>9.948100e+06</td>\n",
              "      <td>2.775000e+07</td>\n",
              "      <td>2.450000e+07</td>\n",
              "      <td>321936.090000</td>\n",
              "      <td>6.111009e+13</td>\n",
              "      <td>4.737000</td>\n",
              "      <td>2016.0</td>\n",
              "      <td>12.000000</td>\n",
              "      <td>31.000000</td>\n",
              "    </tr>\n",
              "  </tbody>\n",
              "</table>\n",
              "<p>8 rows × 26 columns</p>\n",
              "</div>"
            ],
            "text/plain": [
              "           parcelid   bathroomcnt    bedroomcnt  finishedsquarefeet12  \\\n",
              "count  9.027500e+04  90275.000000  90275.000000          90275.000000   \n",
              "mean   1.298466e+07      2.279474      3.031869           1766.497488   \n",
              "std    2.504510e+06      1.004271      1.156436            912.601389   \n",
              "min    1.071174e+07      0.000000      0.000000              2.000000   \n",
              "25%    1.155950e+07      2.000000      2.000000           1183.000000   \n",
              "50%    1.254734e+07      2.000000      3.000000           1539.000000   \n",
              "75%    1.422755e+07      3.000000      4.000000           2096.000000   \n",
              "max    1.629608e+08     20.000000     16.000000          20013.000000   \n",
              "\n",
              "               fips   fullbathcnt      latitude     longitude  \\\n",
              "count  90275.000000  90275.000000  9.027500e+04  9.027500e+04   \n",
              "mean    6048.870551      2.225189  3.400541e+07 -1.181989e+08   \n",
              "std       20.663461      0.967107  2.649654e+05  3.606032e+05   \n",
              "min     6037.000000      1.000000  3.333930e+07 -1.194479e+08   \n",
              "25%     6037.000000      2.000000  3.381154e+07 -1.184117e+08   \n",
              "50%     6037.000000      2.000000  3.402150e+07 -1.181734e+08   \n",
              "75%     6059.000000      3.000000  3.417274e+07 -1.179216e+08   \n",
              "max     6111.000000     20.000000  3.481601e+07 -1.175549e+08   \n",
              "\n",
              "       lotsizesquarefeet  propertycountylandusecode  ...     yearbuilt  \\\n",
              "count       9.027500e+04               90275.000000  ...  90275.000000   \n",
              "mean        2.912494e+04                  24.315071  ...   1968.502799   \n",
              "std         1.159982e+05                  25.738982  ...     23.757301   \n",
              "min         1.670000e+02                  -1.000000  ...   1885.000000   \n",
              "25%         5.741000e+03                   2.000000  ...   1953.000000   \n",
              "50%         7.375000e+03                   9.000000  ...   1970.000000   \n",
              "75%         1.382729e+04                  55.000000  ...   1987.000000   \n",
              "max         6.971010e+06                  76.000000  ...   2015.000000   \n",
              "\n",
              "       structuretaxvaluedollarcnt  taxvaluedollarcnt  landtaxvaluedollarcnt  \\\n",
              "count                9.027500e+04       9.027500e+04           9.027500e+04   \n",
              "mean                 1.794753e+05       4.576713e+05           2.783341e+05   \n",
              "std                  2.089603e+05       5.548815e+05           4.004934e+05   \n",
              "min                  1.000000e+02       2.200000e+01           2.200000e+01   \n",
              "25%                  8.074700e+04       1.990235e+05           8.222800e+04   \n",
              "50%                  1.315660e+05       3.428720e+05           1.929600e+05   \n",
              "75%                  2.100780e+05       5.405890e+05           3.454150e+05   \n",
              "max                  9.948100e+06       2.775000e+07           2.450000e+07   \n",
              "\n",
              "           taxamount  censustractandblock      logerror  transaction_year  \\\n",
              "count   90275.000000         9.027500e+04  90275.000000           90275.0   \n",
              "mean     5983.760300         6.049185e+13      0.011457            2016.0   \n",
              "std      6838.704246         2.050521e+11      0.161079               0.0   \n",
              "min        49.080000         6.037101e+13     -4.605000            2016.0   \n",
              "25%      2872.600000         6.037400e+13     -0.025300            2016.0   \n",
              "50%      4542.440000         6.037620e+13      0.006000            2016.0   \n",
              "75%      6900.600000         6.059042e+13      0.039200            2016.0   \n",
              "max    321936.090000         6.111009e+13      4.737000            2016.0   \n",
              "\n",
              "       transaction_month  transaction_day  \n",
              "count       90275.000000     90275.000000  \n",
              "mean            5.849848        16.339507  \n",
              "std             2.812690         9.008589  \n",
              "min             1.000000         1.000000  \n",
              "25%             4.000000         8.000000  \n",
              "50%             6.000000        16.000000  \n",
              "75%             8.000000        24.000000  \n",
              "max            12.000000        31.000000  \n",
              "\n",
              "[8 rows x 26 columns]"
            ]
          },
          "metadata": {
            "tags": []
          },
          "execution_count": 69
        }
      ]
    },
    {
      "metadata": {
        "id": "B0WeKUOVZ36Y",
        "colab_type": "code",
        "outputId": "9dafed07-0bfb-47bf-e68f-2a0da3bf6489",
        "colab": {
          "base_uri": "https://localhost:8080/",
          "height": 34
        }
      },
      "cell_type": "code",
      "source": [
        "imputed.shape"
      ],
      "execution_count": 70,
      "outputs": [
        {
          "output_type": "execute_result",
          "data": {
            "text/plain": [
              "(90275, 26)"
            ]
          },
          "metadata": {
            "tags": []
          },
          "execution_count": 70
        }
      ]
    },
    {
      "metadata": {
        "id": "yoC1a9QKZ5Wv",
        "colab_type": "code",
        "outputId": "46d3fce3-f4ca-4c80-9be5-fa1cb3cf9101",
        "colab": {
          "base_uri": "https://localhost:8080/",
          "height": 187
        }
      },
      "cell_type": "code",
      "source": [
        "imputed.axes"
      ],
      "execution_count": 71,
      "outputs": [
        {
          "output_type": "execute_result",
          "data": {
            "text/plain": [
              "[RangeIndex(start=0, stop=90275, step=1),\n",
              " Index(['parcelid', 'bathroomcnt', 'bedroomcnt', 'finishedsquarefeet12', 'fips',\n",
              "        'fullbathcnt', 'latitude', 'longitude', 'lotsizesquarefeet',\n",
              "        'propertycountylandusecode', 'propertylandusetypeid',\n",
              "        'rawcensustractandblock', 'regionidcity', 'regionidcounty',\n",
              "        'regionidzip', 'roomcnt', 'yearbuilt', 'structuretaxvaluedollarcnt',\n",
              "        'taxvaluedollarcnt', 'landtaxvaluedollarcnt', 'taxamount',\n",
              "        'censustractandblock', 'logerror', 'transaction_year',\n",
              "        'transaction_month', 'transaction_day'],\n",
              "       dtype='object')]"
            ]
          },
          "metadata": {
            "tags": []
          },
          "execution_count": 71
        }
      ]
    },
    {
      "metadata": {
        "id": "AIsjff_SaKot",
        "colab_type": "code",
        "outputId": "43f965ba-03cd-4f95-c117-331bf76e419b",
        "colab": {
          "base_uri": "https://localhost:8080/",
          "height": 291
        }
      },
      "cell_type": "code",
      "source": [
        "imputed['bathroomcnt'].hist()"
      ],
      "execution_count": 72,
      "outputs": [
        {
          "output_type": "execute_result",
          "data": {
            "text/plain": [
              "<matplotlib.axes._subplots.AxesSubplot at 0x7f729f0ec470>"
            ]
          },
          "metadata": {
            "tags": []
          },
          "execution_count": 72
        },
        {
          "output_type": "display_data",
          "data": {
            "image/png": "[encoded data removed]",
            "text/plain": [
              "<Figure size 432x288 with 1 Axes>"
            ]
          },
          "metadata": {
            "tags": []
          }
        }
      ]
    },
    {
      "metadata": {
        "id": "avpXSdm8g3ZG",
        "colab_type": "code",
        "outputId": "08624003-21ca-4db8-e26c-75f508f679ff",
        "colab": {
          "base_uri": "https://localhost:8080/",
          "height": 291
        }
      },
      "cell_type": "code",
      "source": [
        "imputed['fullbathcnt'].hist()"
      ],
      "execution_count": 73,
      "outputs": [
        {
          "output_type": "execute_result",
          "data": {
            "text/plain": [
              "<matplotlib.axes._subplots.AxesSubplot at 0x7f729f05db70>"
            ]
          },
          "metadata": {
            "tags": []
          },
          "execution_count": 73
        },
        {
          "output_type": "display_data",
          "data": {
            "image/png": "[encoded data removed]",
            "text/plain": [
              "<Figure size 432x288 with 1 Axes>"
            ]
          },
          "metadata": {
            "tags": []
          }
        }
      ]
    },
    {
      "metadata": {
        "id": "5GmA1_wGiC_9",
        "colab_type": "code",
        "outputId": "a94ab77c-a83e-44ee-dbb3-a8a2754b18e9",
        "colab": {
          "base_uri": "https://localhost:8080/",
          "height": 34
        }
      },
      "cell_type": "code",
      "source": [
        "print(f\"Média/Mediana de banheiros completos {imputed['fullbathcnt'].mean()}/{imputed['fullbathcnt'].median()} média de banheiros incompletos {imputed['bathroomcnt'].mean()}/{imputed['bathroomcnt'].median()}\")"
      ],
      "execution_count": 74,
      "outputs": [
        {
          "output_type": "stream",
          "text": [
            "Média/Mediana de banheiros completos 2.225188701190806/2.0 média de banheiros incompletos 2.2794738299639987/2.0\n"
          ],
          "name": "stdout"
        }
      ]
    },
    {
      "metadata": {
        "id": "BIrtuH8hig0m",
        "colab_type": "code",
        "outputId": "34fea42c-c559-4c60-816f-50522cc38342",
        "colab": {
          "base_uri": "https://localhost:8080/",
          "height": 291
        }
      },
      "cell_type": "code",
      "source": [
        "imputed.boxplot(column=['fullbathcnt','bathroomcnt'])"
      ],
      "execution_count": 75,
      "outputs": [
        {
          "output_type": "execute_result",
          "data": {
            "text/plain": [
              "<matplotlib.axes._subplots.AxesSubplot at 0x7f729f1e6e10>"
            ]
          },
          "metadata": {
            "tags": []
          },
          "execution_count": 75
        },
        {
          "output_type": "display_data",
          "data": {
            "image/png": "[encoded data removed]",
            "text/plain": [
              "<Figure size 432x288 with 1 Axes>"
            ]
          },
          "metadata": {
            "tags": []
          }
        }
      ]
    },
    {
      "metadata": {
        "id": "LE8jnJTAVj1N",
        "colab_type": "code",
        "colab": {}
      },
      "cell_type": "code",
      "source": [
        "#apaguei sem querer o q mostrava a correlação de fullbathcnt com bathroom cnt q na verdade deveria ser bedroomcnt\n",
        "cnt_transaction = imputed.groupby('transaction_month')['transaction_month'].count()"
      ],
      "execution_count": 0,
      "outputs": []
    },
    {
      "metadata": {
        "id": "E-kbF2AbQSB1",
        "colab_type": "code",
        "outputId": "0bc750e3-abcb-48bf-b1f1-0da551eef270",
        "colab": {
          "base_uri": "https://localhost:8080/",
          "height": 403
        }
      },
      "cell_type": "code",
      "source": [
        "#acho que essas análises deveriam ser feitas antes da remoção dos nulos\n",
        "cnt_transaction = imputed.groupby('transaction_month')['transaction_month'].count()\n",
        "plt.figure(figsize=(12,6))\n",
        "sns.barplot(cnt_transaction.index, cnt_transaction.values, alpha=0.7,color = 'red')\n",
        "plt.xlabel(\"Mês da transação\",fontsize=16)\n",
        "plt.ylabel(\"Número de transações\",fontsize=16)\n",
        "plt.show()"
      ],
      "execution_count": 77,
      "outputs": [
        {
          "output_type": "display_data",
          "data": {
            "image/png": "[encoded data removed]",
            "text/plain": [
              "<Figure size 864x432 with 1 Axes>"
            ]
          },
          "metadata": {
            "tags": []
          }
        }
      ]
    },
    {
      "metadata": {
        "id": "yCUVTfJeHwOo",
        "colab_type": "code",
        "outputId": "0871f3e2-480a-4024-9de9-8a38c1510506",
        "colab": {
          "base_uri": "https://localhost:8080/",
          "height": 291
        }
      },
      "cell_type": "code",
      "source": [
        "#Número de banheiro com número de quartos\n",
        "imputed['bedroomcnt'].hist()"
      ],
      "execution_count": 78,
      "outputs": [
        {
          "output_type": "execute_result",
          "data": {
            "text/plain": [
              "<matplotlib.axes._subplots.AxesSubplot at 0x7f729efad438>"
            ]
          },
          "metadata": {
            "tags": []
          },
          "execution_count": 78
        },
        {
          "output_type": "display_data",
          "data": {
            "image/png": "[encoded data removed]",
            "text/plain": [
              "<Figure size 432x288 with 1 Axes>"
            ]
          },
          "metadata": {
            "tags": []
          }
        }
      ]
    },
    {
      "metadata": {
        "id": "kug7ky-8HLiZ",
        "colab_type": "code",
        "outputId": "f50fabc7-06c9-4391-86e7-f504a48426d0",
        "colab": {
          "base_uri": "https://localhost:8080/",
          "height": 345
        }
      },
      "cell_type": "code",
      "source": [
        "imputed.plot.scatter(x='bathroomcnt',y='bedroomcnt')"
      ],
      "execution_count": 79,
      "outputs": [
        {
          "output_type": "stream",
          "text": [
            "'c' argument looks like a single numeric RGB or RGBA sequence, which should be avoided as value-mapping will have precedence in case its length matches with 'x' & 'y'.  Please use a 2-D array with a single row if you really want to specify the same RGB or RGBA value for all points.\n"
          ],
          "name": "stderr"
        },
        {
          "output_type": "execute_result",
          "data": {
            "text/plain": [
              "<matplotlib.axes._subplots.AxesSubplot at 0x7f729ee4cc18>"
            ]
          },
          "metadata": {
            "tags": []
          },
          "execution_count": 79
        },
        {
          "output_type": "display_data",
          "data": {
            "image/png": "[encoded data removed]",
            "text/plain": [
              "<Figure size 432x288 with 1 Axes>"
            ]
          },
          "metadata": {
            "tags": []
          }
        }
      ]
    },
    {
      "metadata": {
        "id": "QOjd7eOgIg53",
        "colab_type": "code",
        "colab": {}
      },
      "cell_type": "code",
      "source": [
        ""
      ],
      "execution_count": 0,
      "outputs": []
    },
    {
      "metadata": {
        "id": "NOQvEHuGZEHE",
        "colab_type": "text"
      },
      "cell_type": "markdown",
      "source": [
        "# Testes de Hipóteses"
      ]
    },
    {
      "metadata": {
        "id": "tl8hUcJ6ZH87",
        "colab_type": "text"
      },
      "cell_type": "markdown",
      "source": [
        "testar se o ano das casas segue a mesma distribuição da área"
      ]
    },
    {
      "metadata": {
        "id": "Dredt0CWfx8v",
        "colab_type": "code",
        "outputId": "b5936fe4-9cc7-4f35-d805-e77c20eff01d",
        "colab": {
          "base_uri": "https://localhost:8080/",
          "height": 291
        }
      },
      "cell_type": "code",
      "source": [
        "imputed['yearbuilt'].hist()"
      ],
      "execution_count": 80,
      "outputs": [
        {
          "output_type": "execute_result",
          "data": {
            "text/plain": [
              "<matplotlib.axes._subplots.AxesSubplot at 0x7f729ee33e10>"
            ]
          },
          "metadata": {
            "tags": []
          },
          "execution_count": 80
        },
        {
          "output_type": "display_data",
          "data": {
            "image/png": "[encoded data removed]",
            "text/plain": [
              "<Figure size 432x288 with 1 Axes>"
            ]
          },
          "metadata": {
            "tags": []
          }
        }
      ]
    },
    {
      "metadata": {
        "id": "Ds_lVfYGa6iL",
        "colab_type": "code",
        "outputId": "36e60277-4662-45d4-bbeb-b45ff296c7f4",
        "colab": {
          "base_uri": "https://localhost:8080/",
          "height": 291
        }
      },
      "cell_type": "code",
      "source": [
        "imputed['lotsize_log10'] = imputed['lotsizesquarefeet'].apply(np.log10)\n",
        "imputed['lotsize_log10'].hist()"
      ],
      "execution_count": 81,
      "outputs": [
        {
          "output_type": "execute_result",
          "data": {
            "text/plain": [
              "<matplotlib.axes._subplots.AxesSubplot at 0x7f729ed930b8>"
            ]
          },
          "metadata": {
            "tags": []
          },
          "execution_count": 81
        },
        {
          "output_type": "display_data",
          "data": {
            "image/png": "[encoded data removed]",
            "text/plain": [
              "<Figure size 432x288 with 1 Axes>"
            ]
          },
          "metadata": {
            "tags": []
          }
        }
      ]
    },
    {
      "metadata": {
        "id": "bDgB-rpEe2h_",
        "colab_type": "code",
        "outputId": "8d661b95-6c1c-4393-f016-7368b5ced694",
        "colab": {
          "base_uri": "https://localhost:8080/",
          "height": 88
        }
      },
      "cell_type": "code",
      "source": [
        "#testando se as variáveis seguem distribuição normal\n",
        "stats.shapiro(imputed['yearbuilt'])"
      ],
      "execution_count": 82,
      "outputs": [
        {
          "output_type": "stream",
          "text": [
            "/usr/local/lib/python3.6/dist-packages/scipy/stats/morestats.py:1653: UserWarning: p-value may not be accurate for N > 5000.\n",
            "  warnings.warn(\"p-value may not be accurate for N > 5000.\")\n"
          ],
          "name": "stderr"
        },
        {
          "output_type": "execute_result",
          "data": {
            "text/plain": [
              "(0.9824066758155823, 0.0)"
            ]
          },
          "metadata": {
            "tags": []
          },
          "execution_count": 82
        }
      ]
    },
    {
      "metadata": {
        "id": "WpRZsQERp_u1",
        "colab_type": "code",
        "outputId": "db14d0f2-ffb6-4525-c183-a763b26697d6",
        "colab": {
          "base_uri": "https://localhost:8080/",
          "height": 34
        }
      },
      "cell_type": "code",
      "source": [
        "#o teste de Shapiro não funciona com N > 5000 e o normaltest tinha p_value 0.0\n",
        "stats.skewtest(imputed['yearbuilt'])"
      ],
      "execution_count": 83,
      "outputs": [
        {
          "output_type": "execute_result",
          "data": {
            "text/plain": [
              "SkewtestResult(statistic=-36.06747476858066, pvalue=7.340693551179111e-285)"
            ]
          },
          "metadata": {
            "tags": []
          },
          "execution_count": 83
        }
      ]
    },
    {
      "metadata": {
        "id": "Zy0Cs5UetcdG",
        "colab_type": "code",
        "outputId": "8505e310-a41d-4628-b1b1-fd6f56b2da5e",
        "colab": {
          "base_uri": "https://localhost:8080/",
          "height": 34
        }
      },
      "cell_type": "code",
      "source": [
        "stats.skewtest(imputed['lotsize_log10'])"
      ],
      "execution_count": 84,
      "outputs": [
        {
          "output_type": "execute_result",
          "data": {
            "text/plain": [
              "SkewtestResult(statistic=137.16865970640646, pvalue=0.0)"
            ]
          },
          "metadata": {
            "tags": []
          },
          "execution_count": 84
        }
      ]
    },
    {
      "metadata": {
        "id": "UVkzkk98t_rb",
        "colab_type": "code",
        "outputId": "998dbf47-4218-44d8-9691-5227ba99242e",
        "colab": {
          "base_uri": "https://localhost:8080/",
          "height": 34
        }
      },
      "cell_type": "code",
      "source": [
        "#'yearbuilt' e 'lotsize_log10' não seguem distribuição normal\n",
        "#teste a ser usado --> mannwhitneyu\n",
        "stats.mannwhitneyu(imputed['yearbuilt'],imputed['lotsize_log10'],alternative = 'two-sided')"
      ],
      "execution_count": 85,
      "outputs": [
        {
          "output_type": "execute_result",
          "data": {
            "text/plain": [
              "MannwhitneyuResult(statistic=8149575625.0, pvalue=0.0)"
            ]
          },
          "metadata": {
            "tags": []
          },
          "execution_count": 85
        }
      ]
    },
    {
      "metadata": {
        "id": "_iZEXN1_vPfB",
        "colab_type": "code",
        "outputId": "0faf790e-045c-454d-e4ee-c70fd717274b",
        "colab": {
          "base_uri": "https://localhost:8080/",
          "height": 34
        }
      },
      "cell_type": "code",
      "source": [
        "#Testando só pra ver se o pvalue muda (teoricamente esse teste n deve ser feito já q as distribuições n seguem a normal)\n",
        "stats.ttest_ind(imputed['yearbuilt'],imputed['lotsizesquarefeet'])"
      ],
      "execution_count": 86,
      "outputs": [
        {
          "output_type": "execute_result",
          "data": {
            "text/plain": [
              "Ttest_indResult(statistic=-70.34049493020676, pvalue=0.0)"
            ]
          },
          "metadata": {
            "tags": []
          },
          "execution_count": 86
        }
      ]
    },
    {
      "metadata": {
        "id": "jRv9PKqpU7Og",
        "colab_type": "code",
        "outputId": "6a960ae3-5600-4815-aa44-e97741525457",
        "colab": {
          "base_uri": "https://localhost:8080/",
          "height": 34
        }
      },
      "cell_type": "code",
      "source": [
        "#testando a correlação entre as variáveis já q o p_value ficou 0.0 nos testes acima\n",
        "imputed['yearbuilt'].corr(imputed['lotsize_log10'])"
      ],
      "execution_count": 87,
      "outputs": [
        {
          "output_type": "execute_result",
          "data": {
            "text/plain": [
              "0.24210254732002376"
            ]
          },
          "metadata": {
            "tags": []
          },
          "execution_count": 87
        }
      ]
    },
    {
      "metadata": {
        "id": "rharPUYSXpKF",
        "colab_type": "code",
        "outputId": "2e7ff478-2113-4c01-fa6a-6781d7ec7435",
        "colab": {
          "base_uri": "https://localhost:8080/",
          "height": 34
        }
      },
      "cell_type": "code",
      "source": [
        "imputed['yearbuilt'].corr(imputed['lotsizesquarefeet'],method='pearson')"
      ],
      "execution_count": 88,
      "outputs": [
        {
          "output_type": "execute_result",
          "data": {
            "text/plain": [
              "0.11121102836443442"
            ]
          },
          "metadata": {
            "tags": []
          },
          "execution_count": 88
        }
      ]
    },
    {
      "metadata": {
        "id": "O_whXn-0E_X2",
        "colab_type": "code",
        "outputId": "139be535-96c7-4b51-b352-ca563dc16477",
        "colab": {
          "base_uri": "https://localhost:8080/",
          "height": 345
        }
      },
      "cell_type": "code",
      "source": [
        "imputed.plot.scatter(x='yearbuilt',y='lotsizesquarefeet')"
      ],
      "execution_count": 89,
      "outputs": [
        {
          "output_type": "stream",
          "text": [
            "'c' argument looks like a single numeric RGB or RGBA sequence, which should be avoided as value-mapping will have precedence in case its length matches with 'x' & 'y'.  Please use a 2-D array with a single row if you really want to specify the same RGB or RGBA value for all points.\n"
          ],
          "name": "stderr"
        },
        {
          "output_type": "execute_result",
          "data": {
            "text/plain": [
              "<matplotlib.axes._subplots.AxesSubplot at 0x7f729ed75048>"
            ]
          },
          "metadata": {
            "tags": []
          },
          "execution_count": 89
        },
        {
          "output_type": "display_data",
          "data": {
            "image/png": "[encoded data removed]",
            "text/plain": [
              "<Figure size 432x288 with 1 Axes>"
            ]
          },
          "metadata": {
            "tags": []
          }
        }
      ]
    },
    {
      "metadata": {
        "id": "YqMcdXQCY4Mj",
        "colab_type": "code",
        "outputId": "fb9bf564-98e8-497a-f818-e37e98445eb6",
        "colab": {
          "base_uri": "https://localhost:8080/",
          "height": 345
        }
      },
      "cell_type": "code",
      "source": [
        "imputed.plot.scatter(x='yearbuilt',y='lotsize_log10')"
      ],
      "execution_count": 90,
      "outputs": [
        {
          "output_type": "stream",
          "text": [
            "'c' argument looks like a single numeric RGB or RGBA sequence, which should be avoided as value-mapping will have precedence in case its length matches with 'x' & 'y'.  Please use a 2-D array with a single row if you really want to specify the same RGB or RGBA value for all points.\n"
          ],
          "name": "stderr"
        },
        {
          "output_type": "execute_result",
          "data": {
            "text/plain": [
              "<matplotlib.axes._subplots.AxesSubplot at 0x7f729ec39f28>"
            ]
          },
          "metadata": {
            "tags": []
          },
          "execution_count": 90
        },
        {
          "output_type": "display_data",
          "data": {
            "image/png": "[encoded data removed]",
            "text/plain": [
              "<Figure size 432x288 with 1 Axes>"
            ]
          },
          "metadata": {
            "tags": []
          }
        }
      ]
    },
    {
      "metadata": {
        "id": "5WCWmcOLGZsd",
        "colab_type": "code",
        "colab": {}
      },
      "cell_type": "code",
      "source": [
        "#imposto() com a área "
      ],
      "execution_count": 0,
      "outputs": []
    }
  ]
}