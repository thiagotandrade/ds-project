{
  "nbformat": 4,
  "nbformat_minor": 0,
  "metadata": {
    "colab": {
      "name": "DS_Project1.ipynb",
      "version": "0.3.2",
      "provenance": [],
      "collapsed_sections": [],
      "toc_visible": true,
      "include_colab_link": true
    },
    "language_info": {
      "codemirror_mode": {
        "name": "ipython",
        "version": 3
      },
      "file_extension": ".py",
      "mimetype": "text/x-python",
      "name": "python",
      "nbconvert_exporter": "python",
      "pygments_lexer": "ipython3",
      "version": "3.7.2"
    },
    "kernelspec": {
      "name": "python3",
      "display_name": "Python 3"
    },
    "accelerator": "GPU"
  },
  "cells": [
    {
      "cell_type": "markdown",
      "metadata": {
        "id": "view-in-github",
        "colab_type": "text"
      },
      "source": [
        "<a href=\"https://colab.research.google.com/github/thiagotandrade/ds_project/blob/master/DS_Project1.ipynb\" target=\"_parent\"><img src=\"https://colab.research.google.com/assets/colab-badge.svg\" alt=\"Open In Colab\"/></a>"
      ]
    },
    {
      "metadata": {
        "id": "WJrLmOc17jXL",
        "colab_type": "text"
      },
      "cell_type": "markdown",
      "source": [
        "# TODO: \n",
        "- ANALISAR O LOGERROR NA LIMPEZA DE DADOS (DETECÇÃO DE OUTLIERS, LEMBRAR DO KERNEL NO KAGGLE QUE FAZ ALGO PARECIDO)\n",
        "- Escolher as melhores features (usar XGBoost, ver correlação entre variáveis e alvo)."
      ]
    },
    {
      "metadata": {
        "colab_type": "text",
        "id": "vu5edUGX_xO-"
      },
      "cell_type": "markdown",
      "source": [
        "# Projeto 1 da Disciplina Data Science 2019.1, CIn - UFPE\n",
        "# Competição do Kaggle: [Zillow Prize](https://www.kaggle.com/c/zillow-prize-1)"
      ]
    },
    {
      "metadata": {
        "id": "WtjjA38M7jXN",
        "colab_type": "text"
      },
      "cell_type": "markdown",
      "source": [
        "## Configurando ambiente"
      ]
    },
    {
      "metadata": {
        "colab_type": "text",
        "id": "JNHID0mdAr6P"
      },
      "cell_type": "markdown",
      "source": [
        "### Imports"
      ]
    },
    {
      "metadata": {
        "colab_type": "code",
        "id": "rp95QRnzAq9E",
        "outputId": "def8e4a8-525d-436f-ecde-bfc59c95609d",
        "colab": {
          "base_uri": "https://localhost:8080/",
          "height": 88
        }
      },
      "cell_type": "code",
      "source": [
        "!pip install missingpy\n",
        "!pip install pyspark\n",
        "\n",
        "import pandas as pd\n",
        "import numpy as np\n",
        "import missingno as msno\n",
        "import matplotlib.pyplot as plt\n",
        "import seaborn as sns\n",
        "\n",
        "from pyspark.context import SparkContext\n",
        "from pyspark.sql.session import SparkSession\n",
        "from pyspark.ml.feature import QuantileDiscretizer\n",
        "from sklearn import preprocessing\n",
        "\n",
        "sc = SparkContext('local')\n",
        "spark = SparkSession(sc)\n",
        "pd.options.mode.chained_assignment = None\n",
        "%matplotlib inline"
      ],
      "execution_count": 1,
      "outputs": [
        {
          "output_type": "stream",
          "text": [
            "Requirement already satisfied: missingpy in /usr/local/lib/python3.6/dist-packages (0.2.0)\n",
            "Requirement already satisfied: pyspark in /usr/local/lib/python3.6/dist-packages (2.4.2)\n",
            "Requirement already satisfied: py4j==0.10.7 in /usr/local/lib/python3.6/dist-packages (from pyspark) (0.10.7)\n"
          ],
          "name": "stdout"
        }
      ]
    },
    {
      "metadata": {
        "id": "e0ZaJ8JJ-hqe",
        "colab_type": "code",
        "colab": {}
      },
      "cell_type": "code",
      "source": [
        "# Variável para indicar se a imputação já foi feita anteriormente (salvar tempo de processamento)\n",
        "imputed = False"
      ],
      "execution_count": 0,
      "outputs": []
    },
    {
      "metadata": {
        "colab_type": "text",
        "id": "Jnmf3qeBEzyR"
      },
      "cell_type": "markdown",
      "source": [
        "### Lendo versão 2016 dos arquivos CSV"
      ]
    },
    {
      "metadata": {
        "colab_type": "code",
        "id": "TDY4oC_g-jV7",
        "colab": {}
      },
      "cell_type": "code",
      "source": [
        "props = pd.read_csv('https://raw.githubusercontent.com/thiagotandrade/ds_project/master/Database/merged_2016v2.csv',\n",
        "                    header=0, sep=',', quotechar='\"')\n",
        "props_bkp = props.copy()"
      ],
      "execution_count": 0,
      "outputs": []
    },
    {
      "metadata": {
        "colab_type": "text",
        "id": "WkpUTHaCUvPO"
      },
      "cell_type": "markdown",
      "source": [
        "## 2. Pré-processamento dos dados"
      ]
    },
    {
      "metadata": {
        "colab_type": "code",
        "id": "mkN_0iktCsYL",
        "outputId": "b2659bb6-e78b-4aed-c7e2-8e32c38caefe",
        "colab": {
          "base_uri": "https://localhost:8080/",
          "height": 1909
        }
      },
      "cell_type": "code",
      "source": [
        "props.tail().transpose()"
      ],
      "execution_count": 4,
      "outputs": [
        {
          "output_type": "execute_result",
          "data": {
            "text/html": [
              "<div>\n",
              "<style scoped>\n",
              "    .dataframe tbody tr th:only-of-type {\n",
              "        vertical-align: middle;\n",
              "    }\n",
              "\n",
              "    .dataframe tbody tr th {\n",
              "        vertical-align: top;\n",
              "    }\n",
              "\n",
              "    .dataframe thead th {\n",
              "        text-align: right;\n",
              "    }\n",
              "</style>\n",
              "<table border=\"1\" class=\"dataframe\">\n",
              "  <thead>\n",
              "    <tr style=\"text-align: right;\">\n",
              "      <th></th>\n",
              "      <th>90270</th>\n",
              "      <th>90271</th>\n",
              "      <th>90272</th>\n",
              "      <th>90273</th>\n",
              "      <th>90274</th>\n",
              "    </tr>\n",
              "  </thead>\n",
              "  <tbody>\n",
              "    <tr>\n",
              "      <th>parcelid</th>\n",
              "      <td>11876798</td>\n",
              "      <td>12808516</td>\n",
              "      <td>12010248</td>\n",
              "      <td>14310905</td>\n",
              "      <td>14636609</td>\n",
              "    </tr>\n",
              "    <tr>\n",
              "      <th>airconditioningtypeid</th>\n",
              "      <td>1</td>\n",
              "      <td>NaN</td>\n",
              "      <td>1</td>\n",
              "      <td>NaN</td>\n",
              "      <td>NaN</td>\n",
              "    </tr>\n",
              "    <tr>\n",
              "      <th>architecturalstyletypeid</th>\n",
              "      <td>NaN</td>\n",
              "      <td>NaN</td>\n",
              "      <td>NaN</td>\n",
              "      <td>NaN</td>\n",
              "      <td>NaN</td>\n",
              "    </tr>\n",
              "    <tr>\n",
              "      <th>basementsqft</th>\n",
              "      <td>NaN</td>\n",
              "      <td>NaN</td>\n",
              "      <td>NaN</td>\n",
              "      <td>NaN</td>\n",
              "      <td>NaN</td>\n",
              "    </tr>\n",
              "    <tr>\n",
              "      <th>bathroomcnt</th>\n",
              "      <td>3</td>\n",
              "      <td>2</td>\n",
              "      <td>2</td>\n",
              "      <td>2.5</td>\n",
              "      <td>2.5</td>\n",
              "    </tr>\n",
              "    <tr>\n",
              "      <th>bedroomcnt</th>\n",
              "      <td>4</td>\n",
              "      <td>3</td>\n",
              "      <td>2</td>\n",
              "      <td>3</td>\n",
              "      <td>3</td>\n",
              "    </tr>\n",
              "    <tr>\n",
              "      <th>buildingclasstypeid</th>\n",
              "      <td>NaN</td>\n",
              "      <td>NaN</td>\n",
              "      <td>NaN</td>\n",
              "      <td>NaN</td>\n",
              "      <td>NaN</td>\n",
              "    </tr>\n",
              "    <tr>\n",
              "      <th>buildingqualitytypeid</th>\n",
              "      <td>4</td>\n",
              "      <td>7</td>\n",
              "      <td>4</td>\n",
              "      <td>NaN</td>\n",
              "      <td>NaN</td>\n",
              "    </tr>\n",
              "    <tr>\n",
              "      <th>calculatedbathnbr</th>\n",
              "      <td>3</td>\n",
              "      <td>2</td>\n",
              "      <td>2</td>\n",
              "      <td>2.5</td>\n",
              "      <td>2.5</td>\n",
              "    </tr>\n",
              "    <tr>\n",
              "      <th>decktypeid</th>\n",
              "      <td>NaN</td>\n",
              "      <td>NaN</td>\n",
              "      <td>NaN</td>\n",
              "      <td>NaN</td>\n",
              "      <td>NaN</td>\n",
              "    </tr>\n",
              "    <tr>\n",
              "      <th>finishedfloor1squarefeet</th>\n",
              "      <td>NaN</td>\n",
              "      <td>NaN</td>\n",
              "      <td>NaN</td>\n",
              "      <td>NaN</td>\n",
              "      <td>NaN</td>\n",
              "    </tr>\n",
              "    <tr>\n",
              "      <th>calculatedfinishedsquarefeet</th>\n",
              "      <td>2068</td>\n",
              "      <td>1352</td>\n",
              "      <td>860</td>\n",
              "      <td>2268</td>\n",
              "      <td>1812</td>\n",
              "    </tr>\n",
              "    <tr>\n",
              "      <th>finishedsquarefeet12</th>\n",
              "      <td>2068</td>\n",
              "      <td>1352</td>\n",
              "      <td>860</td>\n",
              "      <td>2268</td>\n",
              "      <td>1812</td>\n",
              "    </tr>\n",
              "    <tr>\n",
              "      <th>finishedsquarefeet13</th>\n",
              "      <td>NaN</td>\n",
              "      <td>NaN</td>\n",
              "      <td>NaN</td>\n",
              "      <td>NaN</td>\n",
              "      <td>NaN</td>\n",
              "    </tr>\n",
              "    <tr>\n",
              "      <th>finishedsquarefeet15</th>\n",
              "      <td>NaN</td>\n",
              "      <td>NaN</td>\n",
              "      <td>NaN</td>\n",
              "      <td>NaN</td>\n",
              "      <td>NaN</td>\n",
              "    </tr>\n",
              "    <tr>\n",
              "      <th>finishedsquarefeet50</th>\n",
              "      <td>NaN</td>\n",
              "      <td>NaN</td>\n",
              "      <td>NaN</td>\n",
              "      <td>NaN</td>\n",
              "      <td>NaN</td>\n",
              "    </tr>\n",
              "    <tr>\n",
              "      <th>finishedsquarefeet6</th>\n",
              "      <td>NaN</td>\n",
              "      <td>NaN</td>\n",
              "      <td>NaN</td>\n",
              "      <td>NaN</td>\n",
              "      <td>NaN</td>\n",
              "    </tr>\n",
              "    <tr>\n",
              "      <th>fips</th>\n",
              "      <td>6037</td>\n",
              "      <td>6037</td>\n",
              "      <td>6037</td>\n",
              "      <td>6059</td>\n",
              "      <td>6059</td>\n",
              "    </tr>\n",
              "    <tr>\n",
              "      <th>fireplacecnt</th>\n",
              "      <td>NaN</td>\n",
              "      <td>NaN</td>\n",
              "      <td>NaN</td>\n",
              "      <td>NaN</td>\n",
              "      <td>NaN</td>\n",
              "    </tr>\n",
              "    <tr>\n",
              "      <th>fullbathcnt</th>\n",
              "      <td>3</td>\n",
              "      <td>2</td>\n",
              "      <td>2</td>\n",
              "      <td>2</td>\n",
              "      <td>2</td>\n",
              "    </tr>\n",
              "    <tr>\n",
              "      <th>garagecarcnt</th>\n",
              "      <td>NaN</td>\n",
              "      <td>NaN</td>\n",
              "      <td>NaN</td>\n",
              "      <td>2</td>\n",
              "      <td>2</td>\n",
              "    </tr>\n",
              "    <tr>\n",
              "      <th>garagetotalsqft</th>\n",
              "      <td>NaN</td>\n",
              "      <td>NaN</td>\n",
              "      <td>NaN</td>\n",
              "      <td>427</td>\n",
              "      <td>0</td>\n",
              "    </tr>\n",
              "    <tr>\n",
              "      <th>hashottuborspa</th>\n",
              "      <td>NaN</td>\n",
              "      <td>NaN</td>\n",
              "      <td>NaN</td>\n",
              "      <td>NaN</td>\n",
              "      <td>NaN</td>\n",
              "    </tr>\n",
              "    <tr>\n",
              "      <th>heatingorsystemtypeid</th>\n",
              "      <td>2</td>\n",
              "      <td>7</td>\n",
              "      <td>2</td>\n",
              "      <td>NaN</td>\n",
              "      <td>NaN</td>\n",
              "    </tr>\n",
              "    <tr>\n",
              "      <th>latitude</th>\n",
              "      <td>3.40975e+07</td>\n",
              "      <td>3.40452e+07</td>\n",
              "      <td>3.41008e+07</td>\n",
              "      <td>3.36601e+07</td>\n",
              "      <td>3.39285e+07</td>\n",
              "    </tr>\n",
              "    <tr>\n",
              "      <th>longitude</th>\n",
              "      <td>-1.18165e+08</td>\n",
              "      <td>-1.17972e+08</td>\n",
              "      <td>-1.18312e+08</td>\n",
              "      <td>-1.17805e+08</td>\n",
              "      <td>-1.17944e+08</td>\n",
              "    </tr>\n",
              "    <tr>\n",
              "      <th>lotsizesquarefeet</th>\n",
              "      <td>4981</td>\n",
              "      <td>6170</td>\n",
              "      <td>NaN</td>\n",
              "      <td>3479</td>\n",
              "      <td>NaN</td>\n",
              "    </tr>\n",
              "    <tr>\n",
              "      <th>poolcnt</th>\n",
              "      <td>NaN</td>\n",
              "      <td>NaN</td>\n",
              "      <td>NaN</td>\n",
              "      <td>NaN</td>\n",
              "      <td>NaN</td>\n",
              "    </tr>\n",
              "    <tr>\n",
              "      <th>poolsizesum</th>\n",
              "      <td>NaN</td>\n",
              "      <td>NaN</td>\n",
              "      <td>NaN</td>\n",
              "      <td>NaN</td>\n",
              "      <td>NaN</td>\n",
              "    </tr>\n",
              "    <tr>\n",
              "      <th>pooltypeid10</th>\n",
              "      <td>NaN</td>\n",
              "      <td>NaN</td>\n",
              "      <td>NaN</td>\n",
              "      <td>NaN</td>\n",
              "      <td>NaN</td>\n",
              "    </tr>\n",
              "    <tr>\n",
              "      <th>pooltypeid2</th>\n",
              "      <td>NaN</td>\n",
              "      <td>NaN</td>\n",
              "      <td>NaN</td>\n",
              "      <td>NaN</td>\n",
              "      <td>NaN</td>\n",
              "    </tr>\n",
              "    <tr>\n",
              "      <th>pooltypeid7</th>\n",
              "      <td>NaN</td>\n",
              "      <td>NaN</td>\n",
              "      <td>NaN</td>\n",
              "      <td>NaN</td>\n",
              "      <td>NaN</td>\n",
              "    </tr>\n",
              "    <tr>\n",
              "      <th>propertycountylandusecode</th>\n",
              "      <td>0100</td>\n",
              "      <td>0100</td>\n",
              "      <td>010C</td>\n",
              "      <td>1</td>\n",
              "      <td>1</td>\n",
              "    </tr>\n",
              "    <tr>\n",
              "      <th>propertylandusetypeid</th>\n",
              "      <td>261</td>\n",
              "      <td>261</td>\n",
              "      <td>266</td>\n",
              "      <td>261</td>\n",
              "      <td>266</td>\n",
              "    </tr>\n",
              "    <tr>\n",
              "      <th>propertyzoningdesc</th>\n",
              "      <td>LAR1</td>\n",
              "      <td>LPR1*</td>\n",
              "      <td>LAR4</td>\n",
              "      <td>NaN</td>\n",
              "      <td>NaN</td>\n",
              "    </tr>\n",
              "    <tr>\n",
              "      <th>rawcensustractandblock</th>\n",
              "      <td>6.0372e+07</td>\n",
              "      <td>6.03741e+07</td>\n",
              "      <td>6.03719e+07</td>\n",
              "      <td>6.05906e+07</td>\n",
              "      <td>6.059e+07</td>\n",
              "    </tr>\n",
              "    <tr>\n",
              "      <th>regionidcity</th>\n",
              "      <td>12447</td>\n",
              "      <td>39306</td>\n",
              "      <td>12447</td>\n",
              "      <td>52650</td>\n",
              "      <td>18874</td>\n",
              "    </tr>\n",
              "    <tr>\n",
              "      <th>regionidcounty</th>\n",
              "      <td>3101</td>\n",
              "      <td>3101</td>\n",
              "      <td>3101</td>\n",
              "      <td>1286</td>\n",
              "      <td>1286</td>\n",
              "    </tr>\n",
              "    <tr>\n",
              "      <th>regionidneighborhood</th>\n",
              "      <td>114914</td>\n",
              "      <td>NaN</td>\n",
              "      <td>32059</td>\n",
              "      <td>275824</td>\n",
              "      <td>NaN</td>\n",
              "    </tr>\n",
              "    <tr>\n",
              "      <th>regionidzip</th>\n",
              "      <td>96013</td>\n",
              "      <td>96490</td>\n",
              "      <td>96009</td>\n",
              "      <td>96947</td>\n",
              "      <td>96186</td>\n",
              "    </tr>\n",
              "    <tr>\n",
              "      <th>roomcnt</th>\n",
              "      <td>0</td>\n",
              "      <td>0</td>\n",
              "      <td>0</td>\n",
              "      <td>0</td>\n",
              "      <td>0</td>\n",
              "    </tr>\n",
              "    <tr>\n",
              "      <th>storytypeid</th>\n",
              "      <td>NaN</td>\n",
              "      <td>NaN</td>\n",
              "      <td>NaN</td>\n",
              "      <td>NaN</td>\n",
              "      <td>NaN</td>\n",
              "    </tr>\n",
              "    <tr>\n",
              "      <th>threequarterbathnbr</th>\n",
              "      <td>NaN</td>\n",
              "      <td>NaN</td>\n",
              "      <td>NaN</td>\n",
              "      <td>1</td>\n",
              "      <td>1</td>\n",
              "    </tr>\n",
              "    <tr>\n",
              "      <th>typeconstructiontypeid</th>\n",
              "      <td>NaN</td>\n",
              "      <td>NaN</td>\n",
              "      <td>NaN</td>\n",
              "      <td>NaN</td>\n",
              "      <td>NaN</td>\n",
              "    </tr>\n",
              "    <tr>\n",
              "      <th>unitcnt</th>\n",
              "      <td>1</td>\n",
              "      <td>1</td>\n",
              "      <td>1</td>\n",
              "      <td>NaN</td>\n",
              "      <td>NaN</td>\n",
              "    </tr>\n",
              "    <tr>\n",
              "      <th>yardbuildingsqft17</th>\n",
              "      <td>NaN</td>\n",
              "      <td>NaN</td>\n",
              "      <td>NaN</td>\n",
              "      <td>NaN</td>\n",
              "      <td>NaN</td>\n",
              "    </tr>\n",
              "    <tr>\n",
              "      <th>yardbuildingsqft26</th>\n",
              "      <td>NaN</td>\n",
              "      <td>NaN</td>\n",
              "      <td>NaN</td>\n",
              "      <td>NaN</td>\n",
              "      <td>NaN</td>\n",
              "    </tr>\n",
              "    <tr>\n",
              "      <th>yearbuilt</th>\n",
              "      <td>2008</td>\n",
              "      <td>1956</td>\n",
              "      <td>2011</td>\n",
              "      <td>2012</td>\n",
              "      <td>2013</td>\n",
              "    </tr>\n",
              "    <tr>\n",
              "      <th>numberofstories</th>\n",
              "      <td>NaN</td>\n",
              "      <td>NaN</td>\n",
              "      <td>NaN</td>\n",
              "      <td>NaN</td>\n",
              "      <td>NaN</td>\n",
              "    </tr>\n",
              "    <tr>\n",
              "      <th>fireplaceflag</th>\n",
              "      <td>NaN</td>\n",
              "      <td>NaN</td>\n",
              "      <td>NaN</td>\n",
              "      <td>NaN</td>\n",
              "      <td>NaN</td>\n",
              "    </tr>\n",
              "    <tr>\n",
              "      <th>structuretaxvaluedollarcnt</th>\n",
              "      <td>388582</td>\n",
              "      <td>86209</td>\n",
              "      <td>129000</td>\n",
              "      <td>389474</td>\n",
              "      <td>237048</td>\n",
              "    </tr>\n",
              "    <tr>\n",
              "      <th>taxvaluedollarcnt</th>\n",
              "      <td>596082</td>\n",
              "      <td>178408</td>\n",
              "      <td>420000</td>\n",
              "      <td>1.21582e+06</td>\n",
              "      <td>471286</td>\n",
              "    </tr>\n",
              "    <tr>\n",
              "      <th>assessmentyear</th>\n",
              "      <td>2015</td>\n",
              "      <td>2015</td>\n",
              "      <td>2015</td>\n",
              "      <td>2015</td>\n",
              "      <td>2015</td>\n",
              "    </tr>\n",
              "    <tr>\n",
              "      <th>landtaxvaluedollarcnt</th>\n",
              "      <td>207500</td>\n",
              "      <td>92199</td>\n",
              "      <td>291000</td>\n",
              "      <td>826342</td>\n",
              "      <td>234238</td>\n",
              "    </tr>\n",
              "    <tr>\n",
              "      <th>taxamount</th>\n",
              "      <td>7335.81</td>\n",
              "      <td>2441.74</td>\n",
              "      <td>5070.41</td>\n",
              "      <td>12508.3</td>\n",
              "      <td>5470.12</td>\n",
              "    </tr>\n",
              "    <tr>\n",
              "      <th>taxdelinquencyflag</th>\n",
              "      <td>NaN</td>\n",
              "      <td>NaN</td>\n",
              "      <td>NaN</td>\n",
              "      <td>NaN</td>\n",
              "      <td>NaN</td>\n",
              "    </tr>\n",
              "    <tr>\n",
              "      <th>taxdelinquencyyear</th>\n",
              "      <td>NaN</td>\n",
              "      <td>NaN</td>\n",
              "      <td>NaN</td>\n",
              "      <td>NaN</td>\n",
              "      <td>NaN</td>\n",
              "    </tr>\n",
              "    <tr>\n",
              "      <th>censustractandblock</th>\n",
              "      <td>6.0372e+13</td>\n",
              "      <td>6.03741e+13</td>\n",
              "      <td>6.03719e+13</td>\n",
              "      <td>NaN</td>\n",
              "      <td>NaN</td>\n",
              "    </tr>\n",
              "    <tr>\n",
              "      <th>logerror</th>\n",
              "      <td>0.0276</td>\n",
              "      <td>-0.1188</td>\n",
              "      <td>0.0843</td>\n",
              "      <td>-0.005</td>\n",
              "      <td>0.0129</td>\n",
              "    </tr>\n",
              "    <tr>\n",
              "      <th>transactiondate</th>\n",
              "      <td>2016-04-15</td>\n",
              "      <td>2016-06-07</td>\n",
              "      <td>2016-06-30</td>\n",
              "      <td>2016-03-31</td>\n",
              "      <td>2016-09-13</td>\n",
              "    </tr>\n",
              "  </tbody>\n",
              "</table>\n",
              "</div>"
            ],
            "text/plain": [
              "                                    90270        90271        90272  \\\n",
              "parcelid                         11876798     12808516     12010248   \n",
              "airconditioningtypeid                   1          NaN            1   \n",
              "architecturalstyletypeid              NaN          NaN          NaN   \n",
              "basementsqft                          NaN          NaN          NaN   \n",
              "bathroomcnt                             3            2            2   \n",
              "bedroomcnt                              4            3            2   \n",
              "buildingclasstypeid                   NaN          NaN          NaN   \n",
              "buildingqualitytypeid                   4            7            4   \n",
              "calculatedbathnbr                       3            2            2   \n",
              "decktypeid                            NaN          NaN          NaN   \n",
              "finishedfloor1squarefeet              NaN          NaN          NaN   \n",
              "calculatedfinishedsquarefeet         2068         1352          860   \n",
              "finishedsquarefeet12                 2068         1352          860   \n",
              "finishedsquarefeet13                  NaN          NaN          NaN   \n",
              "finishedsquarefeet15                  NaN          NaN          NaN   \n",
              "finishedsquarefeet50                  NaN          NaN          NaN   \n",
              "finishedsquarefeet6                   NaN          NaN          NaN   \n",
              "fips                                 6037         6037         6037   \n",
              "fireplacecnt                          NaN          NaN          NaN   \n",
              "fullbathcnt                             3            2            2   \n",
              "garagecarcnt                          NaN          NaN          NaN   \n",
              "garagetotalsqft                       NaN          NaN          NaN   \n",
              "hashottuborspa                        NaN          NaN          NaN   \n",
              "heatingorsystemtypeid                   2            7            2   \n",
              "latitude                      3.40975e+07  3.40452e+07  3.41008e+07   \n",
              "longitude                    -1.18165e+08 -1.17972e+08 -1.18312e+08   \n",
              "lotsizesquarefeet                    4981         6170          NaN   \n",
              "poolcnt                               NaN          NaN          NaN   \n",
              "poolsizesum                           NaN          NaN          NaN   \n",
              "pooltypeid10                          NaN          NaN          NaN   \n",
              "pooltypeid2                           NaN          NaN          NaN   \n",
              "pooltypeid7                           NaN          NaN          NaN   \n",
              "propertycountylandusecode            0100         0100         010C   \n",
              "propertylandusetypeid                 261          261          266   \n",
              "propertyzoningdesc                   LAR1        LPR1*         LAR4   \n",
              "rawcensustractandblock         6.0372e+07  6.03741e+07  6.03719e+07   \n",
              "regionidcity                        12447        39306        12447   \n",
              "regionidcounty                       3101         3101         3101   \n",
              "regionidneighborhood               114914          NaN        32059   \n",
              "regionidzip                         96013        96490        96009   \n",
              "roomcnt                                 0            0            0   \n",
              "storytypeid                           NaN          NaN          NaN   \n",
              "threequarterbathnbr                   NaN          NaN          NaN   \n",
              "typeconstructiontypeid                NaN          NaN          NaN   \n",
              "unitcnt                                 1            1            1   \n",
              "yardbuildingsqft17                    NaN          NaN          NaN   \n",
              "yardbuildingsqft26                    NaN          NaN          NaN   \n",
              "yearbuilt                            2008         1956         2011   \n",
              "numberofstories                       NaN          NaN          NaN   \n",
              "fireplaceflag                         NaN          NaN          NaN   \n",
              "structuretaxvaluedollarcnt         388582        86209       129000   \n",
              "taxvaluedollarcnt                  596082       178408       420000   \n",
              "assessmentyear                       2015         2015         2015   \n",
              "landtaxvaluedollarcnt              207500        92199       291000   \n",
              "taxamount                         7335.81      2441.74      5070.41   \n",
              "taxdelinquencyflag                    NaN          NaN          NaN   \n",
              "taxdelinquencyyear                    NaN          NaN          NaN   \n",
              "censustractandblock            6.0372e+13  6.03741e+13  6.03719e+13   \n",
              "logerror                           0.0276      -0.1188       0.0843   \n",
              "transactiondate                2016-04-15   2016-06-07   2016-06-30   \n",
              "\n",
              "                                    90273        90274  \n",
              "parcelid                         14310905     14636609  \n",
              "airconditioningtypeid                 NaN          NaN  \n",
              "architecturalstyletypeid              NaN          NaN  \n",
              "basementsqft                          NaN          NaN  \n",
              "bathroomcnt                           2.5          2.5  \n",
              "bedroomcnt                              3            3  \n",
              "buildingclasstypeid                   NaN          NaN  \n",
              "buildingqualitytypeid                 NaN          NaN  \n",
              "calculatedbathnbr                     2.5          2.5  \n",
              "decktypeid                            NaN          NaN  \n",
              "finishedfloor1squarefeet              NaN          NaN  \n",
              "calculatedfinishedsquarefeet         2268         1812  \n",
              "finishedsquarefeet12                 2268         1812  \n",
              "finishedsquarefeet13                  NaN          NaN  \n",
              "finishedsquarefeet15                  NaN          NaN  \n",
              "finishedsquarefeet50                  NaN          NaN  \n",
              "finishedsquarefeet6                   NaN          NaN  \n",
              "fips                                 6059         6059  \n",
              "fireplacecnt                          NaN          NaN  \n",
              "fullbathcnt                             2            2  \n",
              "garagecarcnt                            2            2  \n",
              "garagetotalsqft                       427            0  \n",
              "hashottuborspa                        NaN          NaN  \n",
              "heatingorsystemtypeid                 NaN          NaN  \n",
              "latitude                      3.36601e+07  3.39285e+07  \n",
              "longitude                    -1.17805e+08 -1.17944e+08  \n",
              "lotsizesquarefeet                    3479          NaN  \n",
              "poolcnt                               NaN          NaN  \n",
              "poolsizesum                           NaN          NaN  \n",
              "pooltypeid10                          NaN          NaN  \n",
              "pooltypeid2                           NaN          NaN  \n",
              "pooltypeid7                           NaN          NaN  \n",
              "propertycountylandusecode               1            1  \n",
              "propertylandusetypeid                 261          266  \n",
              "propertyzoningdesc                    NaN          NaN  \n",
              "rawcensustractandblock        6.05906e+07    6.059e+07  \n",
              "regionidcity                        52650        18874  \n",
              "regionidcounty                       1286         1286  \n",
              "regionidneighborhood               275824          NaN  \n",
              "regionidzip                         96947        96186  \n",
              "roomcnt                                 0            0  \n",
              "storytypeid                           NaN          NaN  \n",
              "threequarterbathnbr                     1            1  \n",
              "typeconstructiontypeid                NaN          NaN  \n",
              "unitcnt                               NaN          NaN  \n",
              "yardbuildingsqft17                    NaN          NaN  \n",
              "yardbuildingsqft26                    NaN          NaN  \n",
              "yearbuilt                            2012         2013  \n",
              "numberofstories                       NaN          NaN  \n",
              "fireplaceflag                         NaN          NaN  \n",
              "structuretaxvaluedollarcnt         389474       237048  \n",
              "taxvaluedollarcnt             1.21582e+06       471286  \n",
              "assessmentyear                       2015         2015  \n",
              "landtaxvaluedollarcnt              826342       234238  \n",
              "taxamount                         12508.3      5470.12  \n",
              "taxdelinquencyflag                    NaN          NaN  \n",
              "taxdelinquencyyear                    NaN          NaN  \n",
              "censustractandblock                   NaN          NaN  \n",
              "logerror                           -0.005       0.0129  \n",
              "transactiondate                2016-03-31   2016-09-13  "
            ]
          },
          "metadata": {
            "tags": []
          },
          "execution_count": 4
        }
      ]
    },
    {
      "metadata": {
        "colab_type": "code",
        "id": "OcnPQLdzFGdR",
        "outputId": "dddd558d-96c7-418d-9685-c9ef3c6fc5f3",
        "colab": {
          "base_uri": "https://localhost:8080/",
          "height": 346
        }
      },
      "cell_type": "code",
      "source": [
        "props.describe()"
      ],
      "execution_count": 5,
      "outputs": [
        {
          "output_type": "execute_result",
          "data": {
            "text/html": [
              "<div>\n",
              "<style scoped>\n",
              "    .dataframe tbody tr th:only-of-type {\n",
              "        vertical-align: middle;\n",
              "    }\n",
              "\n",
              "    .dataframe tbody tr th {\n",
              "        vertical-align: top;\n",
              "    }\n",
              "\n",
              "    .dataframe thead th {\n",
              "        text-align: right;\n",
              "    }\n",
              "</style>\n",
              "<table border=\"1\" class=\"dataframe\">\n",
              "  <thead>\n",
              "    <tr style=\"text-align: right;\">\n",
              "      <th></th>\n",
              "      <th>parcelid</th>\n",
              "      <th>airconditioningtypeid</th>\n",
              "      <th>architecturalstyletypeid</th>\n",
              "      <th>basementsqft</th>\n",
              "      <th>bathroomcnt</th>\n",
              "      <th>bedroomcnt</th>\n",
              "      <th>buildingclasstypeid</th>\n",
              "      <th>buildingqualitytypeid</th>\n",
              "      <th>calculatedbathnbr</th>\n",
              "      <th>decktypeid</th>\n",
              "      <th>...</th>\n",
              "      <th>yearbuilt</th>\n",
              "      <th>numberofstories</th>\n",
              "      <th>structuretaxvaluedollarcnt</th>\n",
              "      <th>taxvaluedollarcnt</th>\n",
              "      <th>assessmentyear</th>\n",
              "      <th>landtaxvaluedollarcnt</th>\n",
              "      <th>taxamount</th>\n",
              "      <th>taxdelinquencyyear</th>\n",
              "      <th>censustractandblock</th>\n",
              "      <th>logerror</th>\n",
              "    </tr>\n",
              "  </thead>\n",
              "  <tbody>\n",
              "    <tr>\n",
              "      <th>count</th>\n",
              "      <td>9.027500e+04</td>\n",
              "      <td>28781.000000</td>\n",
              "      <td>261.000000</td>\n",
              "      <td>43.000000</td>\n",
              "      <td>90275.000000</td>\n",
              "      <td>90275.000000</td>\n",
              "      <td>16.0</td>\n",
              "      <td>57364.000000</td>\n",
              "      <td>89093.000000</td>\n",
              "      <td>658.0</td>\n",
              "      <td>...</td>\n",
              "      <td>89519.000000</td>\n",
              "      <td>20570.000000</td>\n",
              "      <td>8.989500e+04</td>\n",
              "      <td>9.027400e+04</td>\n",
              "      <td>90275.0</td>\n",
              "      <td>9.027400e+04</td>\n",
              "      <td>90269.000000</td>\n",
              "      <td>1783.000000</td>\n",
              "      <td>8.967000e+04</td>\n",
              "      <td>90275.000000</td>\n",
              "    </tr>\n",
              "    <tr>\n",
              "      <th>mean</th>\n",
              "      <td>1.298466e+07</td>\n",
              "      <td>1.816372</td>\n",
              "      <td>7.229885</td>\n",
              "      <td>713.581395</td>\n",
              "      <td>2.279474</td>\n",
              "      <td>3.031869</td>\n",
              "      <td>4.0</td>\n",
              "      <td>5.565407</td>\n",
              "      <td>2.309216</td>\n",
              "      <td>66.0</td>\n",
              "      <td>...</td>\n",
              "      <td>1968.532870</td>\n",
              "      <td>1.440739</td>\n",
              "      <td>1.800934e+05</td>\n",
              "      <td>4.576726e+05</td>\n",
              "      <td>2015.0</td>\n",
              "      <td>2.783353e+05</td>\n",
              "      <td>5983.975927</td>\n",
              "      <td>13.402692</td>\n",
              "      <td>6.049151e+13</td>\n",
              "      <td>0.011457</td>\n",
              "    </tr>\n",
              "    <tr>\n",
              "      <th>std</th>\n",
              "      <td>2.504510e+06</td>\n",
              "      <td>2.974168</td>\n",
              "      <td>2.716196</td>\n",
              "      <td>437.434198</td>\n",
              "      <td>1.004271</td>\n",
              "      <td>1.156436</td>\n",
              "      <td>0.0</td>\n",
              "      <td>1.900602</td>\n",
              "      <td>0.976172</td>\n",
              "      <td>0.0</td>\n",
              "      <td>...</td>\n",
              "      <td>23.763475</td>\n",
              "      <td>0.544498</td>\n",
              "      <td>2.091299e+05</td>\n",
              "      <td>5.548844e+05</td>\n",
              "      <td>0.0</td>\n",
              "      <td>4.004955e+05</td>\n",
              "      <td>6838.876956</td>\n",
              "      <td>2.715966</td>\n",
              "      <td>2.046605e+11</td>\n",
              "      <td>0.161079</td>\n",
              "    </tr>\n",
              "    <tr>\n",
              "      <th>min</th>\n",
              "      <td>1.071174e+07</td>\n",
              "      <td>1.000000</td>\n",
              "      <td>2.000000</td>\n",
              "      <td>100.000000</td>\n",
              "      <td>0.000000</td>\n",
              "      <td>0.000000</td>\n",
              "      <td>4.0</td>\n",
              "      <td>1.000000</td>\n",
              "      <td>1.000000</td>\n",
              "      <td>66.0</td>\n",
              "      <td>...</td>\n",
              "      <td>1885.000000</td>\n",
              "      <td>1.000000</td>\n",
              "      <td>1.000000e+02</td>\n",
              "      <td>2.200000e+01</td>\n",
              "      <td>2015.0</td>\n",
              "      <td>2.200000e+01</td>\n",
              "      <td>49.080000</td>\n",
              "      <td>6.000000</td>\n",
              "      <td>6.037101e+13</td>\n",
              "      <td>-4.605000</td>\n",
              "    </tr>\n",
              "    <tr>\n",
              "      <th>25%</th>\n",
              "      <td>1.155950e+07</td>\n",
              "      <td>1.000000</td>\n",
              "      <td>7.000000</td>\n",
              "      <td>407.500000</td>\n",
              "      <td>2.000000</td>\n",
              "      <td>2.000000</td>\n",
              "      <td>4.0</td>\n",
              "      <td>4.000000</td>\n",
              "      <td>2.000000</td>\n",
              "      <td>66.0</td>\n",
              "      <td>...</td>\n",
              "      <td>1953.000000</td>\n",
              "      <td>1.000000</td>\n",
              "      <td>8.124500e+04</td>\n",
              "      <td>1.990232e+05</td>\n",
              "      <td>2015.0</td>\n",
              "      <td>8.222800e+04</td>\n",
              "      <td>2872.830000</td>\n",
              "      <td>13.000000</td>\n",
              "      <td>6.037320e+13</td>\n",
              "      <td>-0.025300</td>\n",
              "    </tr>\n",
              "    <tr>\n",
              "      <th>50%</th>\n",
              "      <td>1.254734e+07</td>\n",
              "      <td>1.000000</td>\n",
              "      <td>7.000000</td>\n",
              "      <td>616.000000</td>\n",
              "      <td>2.000000</td>\n",
              "      <td>3.000000</td>\n",
              "      <td>4.0</td>\n",
              "      <td>7.000000</td>\n",
              "      <td>2.000000</td>\n",
              "      <td>66.0</td>\n",
              "      <td>...</td>\n",
              "      <td>1970.000000</td>\n",
              "      <td>1.000000</td>\n",
              "      <td>1.320000e+05</td>\n",
              "      <td>3.428720e+05</td>\n",
              "      <td>2015.0</td>\n",
              "      <td>1.929700e+05</td>\n",
              "      <td>4542.750000</td>\n",
              "      <td>14.000000</td>\n",
              "      <td>6.037615e+13</td>\n",
              "      <td>0.006000</td>\n",
              "    </tr>\n",
              "    <tr>\n",
              "      <th>75%</th>\n",
              "      <td>1.422755e+07</td>\n",
              "      <td>1.000000</td>\n",
              "      <td>7.000000</td>\n",
              "      <td>872.000000</td>\n",
              "      <td>3.000000</td>\n",
              "      <td>4.000000</td>\n",
              "      <td>4.0</td>\n",
              "      <td>7.000000</td>\n",
              "      <td>3.000000</td>\n",
              "      <td>66.0</td>\n",
              "      <td>...</td>\n",
              "      <td>1987.000000</td>\n",
              "      <td>2.000000</td>\n",
              "      <td>2.105345e+05</td>\n",
              "      <td>5.405890e+05</td>\n",
              "      <td>2015.0</td>\n",
              "      <td>3.454195e+05</td>\n",
              "      <td>6901.090000</td>\n",
              "      <td>15.000000</td>\n",
              "      <td>6.059042e+13</td>\n",
              "      <td>0.039200</td>\n",
              "    </tr>\n",
              "    <tr>\n",
              "      <th>max</th>\n",
              "      <td>1.629608e+08</td>\n",
              "      <td>13.000000</td>\n",
              "      <td>21.000000</td>\n",
              "      <td>1555.000000</td>\n",
              "      <td>20.000000</td>\n",
              "      <td>16.000000</td>\n",
              "      <td>4.0</td>\n",
              "      <td>12.000000</td>\n",
              "      <td>20.000000</td>\n",
              "      <td>66.0</td>\n",
              "      <td>...</td>\n",
              "      <td>2015.000000</td>\n",
              "      <td>4.000000</td>\n",
              "      <td>9.948100e+06</td>\n",
              "      <td>2.775000e+07</td>\n",
              "      <td>2015.0</td>\n",
              "      <td>2.450000e+07</td>\n",
              "      <td>321936.090000</td>\n",
              "      <td>99.000000</td>\n",
              "      <td>6.111009e+13</td>\n",
              "      <td>4.737000</td>\n",
              "    </tr>\n",
              "  </tbody>\n",
              "</table>\n",
              "<p>8 rows × 54 columns</p>\n",
              "</div>"
            ],
            "text/plain": [
              "           parcelid  airconditioningtypeid  architecturalstyletypeid  \\\n",
              "count  9.027500e+04           28781.000000                261.000000   \n",
              "mean   1.298466e+07               1.816372                  7.229885   \n",
              "std    2.504510e+06               2.974168                  2.716196   \n",
              "min    1.071174e+07               1.000000                  2.000000   \n",
              "25%    1.155950e+07               1.000000                  7.000000   \n",
              "50%    1.254734e+07               1.000000                  7.000000   \n",
              "75%    1.422755e+07               1.000000                  7.000000   \n",
              "max    1.629608e+08              13.000000                 21.000000   \n",
              "\n",
              "       basementsqft   bathroomcnt    bedroomcnt  buildingclasstypeid  \\\n",
              "count     43.000000  90275.000000  90275.000000                 16.0   \n",
              "mean     713.581395      2.279474      3.031869                  4.0   \n",
              "std      437.434198      1.004271      1.156436                  0.0   \n",
              "min      100.000000      0.000000      0.000000                  4.0   \n",
              "25%      407.500000      2.000000      2.000000                  4.0   \n",
              "50%      616.000000      2.000000      3.000000                  4.0   \n",
              "75%      872.000000      3.000000      4.000000                  4.0   \n",
              "max     1555.000000     20.000000     16.000000                  4.0   \n",
              "\n",
              "       buildingqualitytypeid  calculatedbathnbr  decktypeid  ...  \\\n",
              "count           57364.000000       89093.000000       658.0  ...   \n",
              "mean                5.565407           2.309216        66.0  ...   \n",
              "std                 1.900602           0.976172         0.0  ...   \n",
              "min                 1.000000           1.000000        66.0  ...   \n",
              "25%                 4.000000           2.000000        66.0  ...   \n",
              "50%                 7.000000           2.000000        66.0  ...   \n",
              "75%                 7.000000           3.000000        66.0  ...   \n",
              "max                12.000000          20.000000        66.0  ...   \n",
              "\n",
              "          yearbuilt  numberofstories  structuretaxvaluedollarcnt  \\\n",
              "count  89519.000000     20570.000000                8.989500e+04   \n",
              "mean    1968.532870         1.440739                1.800934e+05   \n",
              "std       23.763475         0.544498                2.091299e+05   \n",
              "min     1885.000000         1.000000                1.000000e+02   \n",
              "25%     1953.000000         1.000000                8.124500e+04   \n",
              "50%     1970.000000         1.000000                1.320000e+05   \n",
              "75%     1987.000000         2.000000                2.105345e+05   \n",
              "max     2015.000000         4.000000                9.948100e+06   \n",
              "\n",
              "       taxvaluedollarcnt  assessmentyear  landtaxvaluedollarcnt  \\\n",
              "count       9.027400e+04         90275.0           9.027400e+04   \n",
              "mean        4.576726e+05          2015.0           2.783353e+05   \n",
              "std         5.548844e+05             0.0           4.004955e+05   \n",
              "min         2.200000e+01          2015.0           2.200000e+01   \n",
              "25%         1.990232e+05          2015.0           8.222800e+04   \n",
              "50%         3.428720e+05          2015.0           1.929700e+05   \n",
              "75%         5.405890e+05          2015.0           3.454195e+05   \n",
              "max         2.775000e+07          2015.0           2.450000e+07   \n",
              "\n",
              "           taxamount  taxdelinquencyyear  censustractandblock      logerror  \n",
              "count   90269.000000         1783.000000         8.967000e+04  90275.000000  \n",
              "mean     5983.975927           13.402692         6.049151e+13      0.011457  \n",
              "std      6838.876956            2.715966         2.046605e+11      0.161079  \n",
              "min        49.080000            6.000000         6.037101e+13     -4.605000  \n",
              "25%      2872.830000           13.000000         6.037320e+13     -0.025300  \n",
              "50%      4542.750000           14.000000         6.037615e+13      0.006000  \n",
              "75%      6901.090000           15.000000         6.059042e+13      0.039200  \n",
              "max    321936.090000           99.000000         6.111009e+13      4.737000  \n",
              "\n",
              "[8 rows x 54 columns]"
            ]
          },
          "metadata": {
            "tags": []
          },
          "execution_count": 5
        }
      ]
    },
    {
      "metadata": {
        "id": "DZkfRWY47jXg",
        "colab_type": "code",
        "colab": {}
      },
      "cell_type": "code",
      "source": [
        "# Não faz Sentido\n",
        "\n",
        "# Inserir valor true na coluna 'fireplaceflag' se houve algum valor presente em fireplacecnt diferente de zero ou NaN\n",
        "#props.loc[props['fireplacecnt'] != 0 | pd.notnull(props['fireplacecnt']),'fireplaceflag'] = \"True\""
      ],
      "execution_count": 0,
      "outputs": []
    },
    {
      "metadata": {
        "colab_type": "text",
        "id": "VuO-J9CM4ujO"
      },
      "cell_type": "markdown",
      "source": [
        "### 2.1 Definição de tipos"
      ]
    },
    {
      "metadata": {
        "id": "QWxEVofd7jXk",
        "colab_type": "code",
        "outputId": "df31c3a8-0571-4b78-fe47-5fba75d6cb58",
        "colab": {
          "base_uri": "https://localhost:8080/",
          "height": 323
        }
      },
      "cell_type": "code",
      "source": [
        "props_dtypes_before = props.dtypes.value_counts().sort_values(ascending=False)\n",
        "props_dtypes_before.plot.bar(title='Tipos de Dados Antes da Definição')"
      ],
      "execution_count": 7,
      "outputs": [
        {
          "output_type": "execute_result",
          "data": {
            "text/plain": [
              "<matplotlib.axes._subplots.AxesSubplot at 0x7f5ca2b87a20>"
            ]
          },
          "metadata": {
            "tags": []
          },
          "execution_count": 7
        },
        {
          "output_type": "display_data",
          "data": {
            "image/png": "[encoded data removed]",
            "text/plain": [
              "<Figure size 432x288 with 1 Axes>"
            ]
          },
          "metadata": {
            "tags": []
          }
        }
      ]
    },
    {
      "metadata": {
        "id": "RpuMSuvn7jXn",
        "colab_type": "code",
        "colab": {}
      },
      "cell_type": "code",
      "source": [
        "# Mudando colunas de tipo 'object' para tipo 'category'\n",
        "object_type = props.select_dtypes(include=['object']).columns.values\n",
        "props[object_type] = props[object_type].astype('category')\n",
        "\n",
        "#Mudar tipo da coluna transaction date para 'datetime64' e separando a data em colunas\n",
        "props['transactiondate'] = pd.to_datetime(props['transactiondate'])\n",
        "props['transaction_year'] = props['transactiondate'].dt.year\n",
        "props['transaction_month'] = props['transactiondate'].dt.month\n",
        "props['transaction_day'] = props['transactiondate'].dt.day\n",
        "props.drop(['transactiondate'], axis=1, inplace=True)"
      ],
      "execution_count": 0,
      "outputs": []
    },
    {
      "metadata": {
        "id": "n2PfRuiCuUJu",
        "colab_type": "code",
        "outputId": "3e9a1f63-8a0c-49f0-a72a-ab3acf204ab8",
        "colab": {
          "base_uri": "https://localhost:8080/",
          "height": 332
        }
      },
      "cell_type": "code",
      "source": [
        "props_dtypes_after = props.dtypes.value_counts().sort_values(ascending=False)\n",
        "props_dtypes_after.plot.bar(title='Frequência dos Tipos de Dados Após Definição')"
      ],
      "execution_count": 9,
      "outputs": [
        {
          "output_type": "execute_result",
          "data": {
            "text/plain": [
              "<matplotlib.axes._subplots.AxesSubplot at 0x7f5ca2b139b0>"
            ]
          },
          "metadata": {
            "tags": []
          },
          "execution_count": 9
        },
        {
          "output_type": "display_data",
          "data": {
            "image/png": "[encoded data removed]",
            "text/plain": [
              "<Figure size 432x288 with 1 Axes>"
            ]
          },
          "metadata": {
            "tags": []
          }
        }
      ]
    },
    {
      "metadata": {
        "colab_type": "text",
        "id": "kSi6Io_P401l"
      },
      "cell_type": "markdown",
      "source": [
        "### 2.2 Tratamento de dados ausentes"
      ]
    },
    {
      "metadata": {
        "colab_type": "code",
        "id": "YOAL3rQdgbdh",
        "outputId": "dedb861a-fe8f-415f-8aa9-63937794129f",
        "colab": {
          "base_uri": "https://localhost:8080/",
          "height": 1188
        }
      },
      "cell_type": "code",
      "source": [
        "((props.isnull().sum()/len(props))*100).sort_values().plot.barh(figsize=(15,20), title='Dados faltantes em cada coluna antes da remoção')\n",
        "\n",
        "#missingValueColumns = props.columns[props.isnull().any()].tolist()\n",
        "#msno.bar(props[missingValueColumns])"
      ],
      "execution_count": 10,
      "outputs": [
        {
          "output_type": "execute_result",
          "data": {
            "text/plain": [
              "<matplotlib.axes._subplots.AxesSubplot at 0x7f5c9fff6a90>"
            ]
          },
          "metadata": {
            "tags": []
          },
          "execution_count": 10
        },
        {
          "output_type": "display_data",
          "data": {
            "image/png": "[encoded data removed]",
            "text/plain": [
              "<Figure size 1080x1440 with 1 Axes>"
            ]
          },
          "metadata": {
            "tags": []
          }
        }
      ]
    },
    {
      "metadata": {
        "id": "9aU_riUzt_td",
        "colab_type": "text"
      },
      "cell_type": "markdown",
      "source": [
        "#### 2.2.1 Remoção de dados"
      ]
    },
    {
      "metadata": {
        "id": "2F94-qbJ7jXx",
        "colab_type": "code",
        "outputId": "81c9db50-8a45-4801-d632-7fdd326eef6c",
        "colab": {
          "base_uri": "https://localhost:8080/",
          "height": 34
        }
      },
      "cell_type": "code",
      "source": [
        "props.shape"
      ],
      "execution_count": 11,
      "outputs": [
        {
          "output_type": "execute_result",
          "data": {
            "text/plain": [
              "(90275, 62)"
            ]
          },
          "metadata": {
            "tags": []
          },
          "execution_count": 11
        }
      ]
    },
    {
      "metadata": {
        "id": "HTSUmGqbGzvB",
        "colab_type": "text"
      },
      "cell_type": "markdown",
      "source": [
        "##### Remoção de Instâncias"
      ]
    },
    {
      "metadata": {
        "id": "eBVpfZLd7jX1",
        "colab_type": "code",
        "colab": {}
      },
      "cell_type": "code",
      "source": [
        "#df.dropna(thresh=2)   #Drop row if it does not have at least two values that are **not** NaN\n",
        "\n",
        "# Remover linhas com mais de 70% de dados ausentes\n",
        "props.dropna(thresh=(0.3*len(props.columns.values)), inplace=True)"
      ],
      "execution_count": 0,
      "outputs": []
    },
    {
      "metadata": {
        "id": "UW3ABc8LtTer",
        "colab_type": "text"
      },
      "cell_type": "markdown",
      "source": [
        "##### Remoção de colunas"
      ]
    },
    {
      "metadata": {
        "id": "HqWwzO8VU7Hw",
        "colab_type": "code",
        "outputId": "c646c79f-7393-499d-d3d1-dbc1fd105fbd",
        "colab": {
          "base_uri": "https://localhost:8080/",
          "height": 51
        }
      },
      "cell_type": "code",
      "source": [
        "# A coluna 'assessmentyear' sempre tem o mesmo valor para todas as instâncias, logo se torna inútil mantê-la\n",
        "print(props['assessmentyear'].value_counts())\n",
        "props.drop(['assessmentyear'], axis=1, inplace=True)"
      ],
      "execution_count": 13,
      "outputs": [
        {
          "output_type": "stream",
          "text": [
            "2015.0    90275\n",
            "Name: assessmentyear, dtype: int64\n"
          ],
          "name": "stdout"
        }
      ]
    },
    {
      "metadata": {
        "id": "nPo1pY1M7jX4",
        "colab_type": "code",
        "colab": {}
      },
      "cell_type": "code",
      "source": [
        "#A coluna 'fireplaceflag' não adiciona nenhuma informação útil pois o dataset já possui 'fireplacecnt', então removemos:\n",
        "props.drop(['fireplaceflag'], axis=1, inplace=True)\n",
        "\n",
        "#A coluna 'calculatedbathnbr' é uma cópia da coluna 'bathroomcnt', então removemos:\n",
        "props.drop(['calculatedbathnbr'], axis=1, inplace=True)\n",
        "\n",
        "#A coluna 'calculatedfinishedsquarefeet' é uma cópia da coluna 'finishedsquarefeet12', então removemos:\n",
        "props.drop(['calculatedfinishedsquarefeet'], axis=1, inplace=True)\n",
        "\n",
        "# Remover colunas com mais de 70% de dados ausentes\n",
        "props.dropna(thresh=0.70*len(props), axis=1, inplace=True)"
      ],
      "execution_count": 0,
      "outputs": []
    },
    {
      "metadata": {
        "id": "B9Ozaz7Dulaa",
        "colab_type": "text"
      },
      "cell_type": "markdown",
      "source": [
        "##### Dataframe Resultante"
      ]
    },
    {
      "metadata": {
        "id": "jtzfptEP7jX8",
        "colab_type": "code",
        "outputId": "c8c89942-9906-465d-db5c-fdb45b59f169",
        "colab": {
          "base_uri": "https://localhost:8080/",
          "height": 889
        }
      },
      "cell_type": "code",
      "source": [
        "print('Dataframe Resultante: \\n', props.shape)\n",
        "\n",
        "props.head().transpose()"
      ],
      "execution_count": 15,
      "outputs": [
        {
          "output_type": "stream",
          "text": [
            "Dataframe Resultante: \n",
            " (90275, 26)\n"
          ],
          "name": "stdout"
        },
        {
          "output_type": "execute_result",
          "data": {
            "text/html": [
              "<div>\n",
              "<style scoped>\n",
              "    .dataframe tbody tr th:only-of-type {\n",
              "        vertical-align: middle;\n",
              "    }\n",
              "\n",
              "    .dataframe tbody tr th {\n",
              "        vertical-align: top;\n",
              "    }\n",
              "\n",
              "    .dataframe thead th {\n",
              "        text-align: right;\n",
              "    }\n",
              "</style>\n",
              "<table border=\"1\" class=\"dataframe\">\n",
              "  <thead>\n",
              "    <tr style=\"text-align: right;\">\n",
              "      <th></th>\n",
              "      <th>0</th>\n",
              "      <th>1</th>\n",
              "      <th>2</th>\n",
              "      <th>3</th>\n",
              "      <th>4</th>\n",
              "    </tr>\n",
              "  </thead>\n",
              "  <tbody>\n",
              "    <tr>\n",
              "      <th>parcelid</th>\n",
              "      <td>17073783</td>\n",
              "      <td>17088994</td>\n",
              "      <td>17100444</td>\n",
              "      <td>17102429</td>\n",
              "      <td>17109604</td>\n",
              "    </tr>\n",
              "    <tr>\n",
              "      <th>bathroomcnt</th>\n",
              "      <td>2.5</td>\n",
              "      <td>1</td>\n",
              "      <td>2</td>\n",
              "      <td>1.5</td>\n",
              "      <td>2.5</td>\n",
              "    </tr>\n",
              "    <tr>\n",
              "      <th>bedroomcnt</th>\n",
              "      <td>3</td>\n",
              "      <td>2</td>\n",
              "      <td>3</td>\n",
              "      <td>2</td>\n",
              "      <td>4</td>\n",
              "    </tr>\n",
              "    <tr>\n",
              "      <th>finishedsquarefeet12</th>\n",
              "      <td>1264</td>\n",
              "      <td>777</td>\n",
              "      <td>1101</td>\n",
              "      <td>1554</td>\n",
              "      <td>2415</td>\n",
              "    </tr>\n",
              "    <tr>\n",
              "      <th>fips</th>\n",
              "      <td>6111</td>\n",
              "      <td>6111</td>\n",
              "      <td>6111</td>\n",
              "      <td>6111</td>\n",
              "      <td>6111</td>\n",
              "    </tr>\n",
              "    <tr>\n",
              "      <th>fullbathcnt</th>\n",
              "      <td>2</td>\n",
              "      <td>1</td>\n",
              "      <td>2</td>\n",
              "      <td>1</td>\n",
              "      <td>2</td>\n",
              "    </tr>\n",
              "    <tr>\n",
              "      <th>latitude</th>\n",
              "      <td>3.43036e+07</td>\n",
              "      <td>3.42729e+07</td>\n",
              "      <td>3.43408e+07</td>\n",
              "      <td>3.43543e+07</td>\n",
              "      <td>3.42666e+07</td>\n",
              "    </tr>\n",
              "    <tr>\n",
              "      <th>longitude</th>\n",
              "      <td>-1.19287e+08</td>\n",
              "      <td>-1.19199e+08</td>\n",
              "      <td>-1.1908e+08</td>\n",
              "      <td>-1.19076e+08</td>\n",
              "      <td>-1.19165e+08</td>\n",
              "    </tr>\n",
              "    <tr>\n",
              "      <th>lotsizesquarefeet</th>\n",
              "      <td>1735</td>\n",
              "      <td>NaN</td>\n",
              "      <td>6569</td>\n",
              "      <td>7400</td>\n",
              "      <td>6326</td>\n",
              "    </tr>\n",
              "    <tr>\n",
              "      <th>propertycountylandusecode</th>\n",
              "      <td>1128</td>\n",
              "      <td>1129</td>\n",
              "      <td>1111</td>\n",
              "      <td>1110</td>\n",
              "      <td>1111</td>\n",
              "    </tr>\n",
              "    <tr>\n",
              "      <th>propertylandusetypeid</th>\n",
              "      <td>265</td>\n",
              "      <td>266</td>\n",
              "      <td>261</td>\n",
              "      <td>261</td>\n",
              "      <td>261</td>\n",
              "    </tr>\n",
              "    <tr>\n",
              "      <th>rawcensustractandblock</th>\n",
              "      <td>6.111e+07</td>\n",
              "      <td>6.111e+07</td>\n",
              "      <td>6.111e+07</td>\n",
              "      <td>6.111e+07</td>\n",
              "      <td>6.111e+07</td>\n",
              "    </tr>\n",
              "    <tr>\n",
              "      <th>regionidcity</th>\n",
              "      <td>34543</td>\n",
              "      <td>34543</td>\n",
              "      <td>26965</td>\n",
              "      <td>26965</td>\n",
              "      <td>34543</td>\n",
              "    </tr>\n",
              "    <tr>\n",
              "      <th>regionidcounty</th>\n",
              "      <td>2061</td>\n",
              "      <td>2061</td>\n",
              "      <td>2061</td>\n",
              "      <td>2061</td>\n",
              "      <td>2061</td>\n",
              "    </tr>\n",
              "    <tr>\n",
              "      <th>regionidzip</th>\n",
              "      <td>97081</td>\n",
              "      <td>97083</td>\n",
              "      <td>97113</td>\n",
              "      <td>97113</td>\n",
              "      <td>97084</td>\n",
              "    </tr>\n",
              "    <tr>\n",
              "      <th>roomcnt</th>\n",
              "      <td>5</td>\n",
              "      <td>4</td>\n",
              "      <td>5</td>\n",
              "      <td>5</td>\n",
              "      <td>8</td>\n",
              "    </tr>\n",
              "    <tr>\n",
              "      <th>yearbuilt</th>\n",
              "      <td>1986</td>\n",
              "      <td>1990</td>\n",
              "      <td>1956</td>\n",
              "      <td>1965</td>\n",
              "      <td>1984</td>\n",
              "    </tr>\n",
              "    <tr>\n",
              "      <th>structuretaxvaluedollarcnt</th>\n",
              "      <td>115087</td>\n",
              "      <td>143809</td>\n",
              "      <td>33619</td>\n",
              "      <td>45609</td>\n",
              "      <td>277000</td>\n",
              "    </tr>\n",
              "    <tr>\n",
              "      <th>taxvaluedollarcnt</th>\n",
              "      <td>191811</td>\n",
              "      <td>239679</td>\n",
              "      <td>47853</td>\n",
              "      <td>62914</td>\n",
              "      <td>554000</td>\n",
              "    </tr>\n",
              "    <tr>\n",
              "      <th>landtaxvaluedollarcnt</th>\n",
              "      <td>76724</td>\n",
              "      <td>95870</td>\n",
              "      <td>14234</td>\n",
              "      <td>17305</td>\n",
              "      <td>277000</td>\n",
              "    </tr>\n",
              "    <tr>\n",
              "      <th>taxamount</th>\n",
              "      <td>2015.06</td>\n",
              "      <td>2581.3</td>\n",
              "      <td>591.64</td>\n",
              "      <td>682.78</td>\n",
              "      <td>5886.92</td>\n",
              "    </tr>\n",
              "    <tr>\n",
              "      <th>censustractandblock</th>\n",
              "      <td>6.111e+13</td>\n",
              "      <td>6.111e+13</td>\n",
              "      <td>6.111e+13</td>\n",
              "      <td>6.111e+13</td>\n",
              "      <td>6.111e+13</td>\n",
              "    </tr>\n",
              "    <tr>\n",
              "      <th>logerror</th>\n",
              "      <td>0.0953</td>\n",
              "      <td>0.0198</td>\n",
              "      <td>0.006</td>\n",
              "      <td>-0.0566</td>\n",
              "      <td>0.0573</td>\n",
              "    </tr>\n",
              "    <tr>\n",
              "      <th>transaction_year</th>\n",
              "      <td>2016</td>\n",
              "      <td>2016</td>\n",
              "      <td>2016</td>\n",
              "      <td>2016</td>\n",
              "      <td>2016</td>\n",
              "    </tr>\n",
              "    <tr>\n",
              "      <th>transaction_month</th>\n",
              "      <td>1</td>\n",
              "      <td>3</td>\n",
              "      <td>5</td>\n",
              "      <td>6</td>\n",
              "      <td>8</td>\n",
              "    </tr>\n",
              "    <tr>\n",
              "      <th>transaction_day</th>\n",
              "      <td>27</td>\n",
              "      <td>30</td>\n",
              "      <td>27</td>\n",
              "      <td>7</td>\n",
              "      <td>8</td>\n",
              "    </tr>\n",
              "  </tbody>\n",
              "</table>\n",
              "</div>"
            ],
            "text/plain": [
              "                                      0            1            2  \\\n",
              "parcelid                       17073783     17088994     17100444   \n",
              "bathroomcnt                         2.5            1            2   \n",
              "bedroomcnt                            3            2            3   \n",
              "finishedsquarefeet12               1264          777         1101   \n",
              "fips                               6111         6111         6111   \n",
              "fullbathcnt                           2            1            2   \n",
              "latitude                    3.43036e+07  3.42729e+07  3.43408e+07   \n",
              "longitude                  -1.19287e+08 -1.19199e+08  -1.1908e+08   \n",
              "lotsizesquarefeet                  1735          NaN         6569   \n",
              "propertycountylandusecode          1128         1129         1111   \n",
              "propertylandusetypeid               265          266          261   \n",
              "rawcensustractandblock        6.111e+07    6.111e+07    6.111e+07   \n",
              "regionidcity                      34543        34543        26965   \n",
              "regionidcounty                     2061         2061         2061   \n",
              "regionidzip                       97081        97083        97113   \n",
              "roomcnt                               5            4            5   \n",
              "yearbuilt                          1986         1990         1956   \n",
              "structuretaxvaluedollarcnt       115087       143809        33619   \n",
              "taxvaluedollarcnt                191811       239679        47853   \n",
              "landtaxvaluedollarcnt             76724        95870        14234   \n",
              "taxamount                       2015.06       2581.3       591.64   \n",
              "censustractandblock           6.111e+13    6.111e+13    6.111e+13   \n",
              "logerror                         0.0953       0.0198        0.006   \n",
              "transaction_year                   2016         2016         2016   \n",
              "transaction_month                     1            3            5   \n",
              "transaction_day                      27           30           27   \n",
              "\n",
              "                                      3            4  \n",
              "parcelid                       17102429     17109604  \n",
              "bathroomcnt                         1.5          2.5  \n",
              "bedroomcnt                            2            4  \n",
              "finishedsquarefeet12               1554         2415  \n",
              "fips                               6111         6111  \n",
              "fullbathcnt                           1            2  \n",
              "latitude                    3.43543e+07  3.42666e+07  \n",
              "longitude                  -1.19076e+08 -1.19165e+08  \n",
              "lotsizesquarefeet                  7400         6326  \n",
              "propertycountylandusecode          1110         1111  \n",
              "propertylandusetypeid               261          261  \n",
              "rawcensustractandblock        6.111e+07    6.111e+07  \n",
              "regionidcity                      26965        34543  \n",
              "regionidcounty                     2061         2061  \n",
              "regionidzip                       97113        97084  \n",
              "roomcnt                               5            8  \n",
              "yearbuilt                          1965         1984  \n",
              "structuretaxvaluedollarcnt        45609       277000  \n",
              "taxvaluedollarcnt                 62914       554000  \n",
              "landtaxvaluedollarcnt             17305       277000  \n",
              "taxamount                        682.78      5886.92  \n",
              "censustractandblock           6.111e+13    6.111e+13  \n",
              "logerror                        -0.0566       0.0573  \n",
              "transaction_year                   2016         2016  \n",
              "transaction_month                     6            8  \n",
              "transaction_day                       7            8  "
            ]
          },
          "metadata": {
            "tags": []
          },
          "execution_count": 15
        }
      ]
    },
    {
      "metadata": {
        "id": "_dILoDdvqb57",
        "colab_type": "code",
        "outputId": "6c6696f8-5bef-40a3-9f93-7f4b398f4da7",
        "colab": {
          "base_uri": "https://localhost:8080/",
          "height": 272
        }
      },
      "cell_type": "code",
      "source": [
        "nan_series_cols = props.isnull().sum()\n",
        "print('Quantitativo de dados faltantes por coluna: \\n')\n",
        "nan_series_cols[nan_series_cols != 0].sort_values()\n",
        "#nan_series_cols[nan_series_cols != 0].sort_values().plot.barh(figsize=(7,7), title='Quantidade de dados faltantes para as colunas que possuem')"
      ],
      "execution_count": 16,
      "outputs": [
        {
          "output_type": "stream",
          "text": [
            "Quantitativo de dados faltantes por coluna: \n",
            "\n"
          ],
          "name": "stdout"
        },
        {
          "output_type": "execute_result",
          "data": {
            "text/plain": [
              "propertycountylandusecode         1\n",
              "taxvaluedollarcnt                 1\n",
              "landtaxvaluedollarcnt             1\n",
              "taxamount                         6\n",
              "regionidzip                      35\n",
              "structuretaxvaluedollarcnt      380\n",
              "censustractandblock             605\n",
              "yearbuilt                       756\n",
              "fullbathcnt                    1182\n",
              "regionidcity                   1803\n",
              "finishedsquarefeet12           4679\n",
              "lotsizesquarefeet             10150\n",
              "dtype: int64"
            ]
          },
          "metadata": {
            "tags": []
          },
          "execution_count": 16
        }
      ]
    },
    {
      "metadata": {
        "id": "FfQh4SUH7jYG",
        "colab_type": "text"
      },
      "cell_type": "markdown",
      "source": [
        "#### 2.2.2 Imputação de dados"
      ]
    },
    {
      "metadata": {
        "id": "efqKMYqEm48k",
        "colab_type": "text"
      },
      "cell_type": "markdown",
      "source": [
        "[Obtendo colunas que contém valores NaN](https://dzone.com/articles/pandas-find-rows-where-columnfield-is-null)"
      ]
    },
    {
      "metadata": {
        "id": "tvciwe0ckbs6",
        "colab_type": "code",
        "colab": {}
      },
      "cell_type": "code",
      "source": [
        "nan_columns = props.columns[props.isnull().any()]"
      ],
      "execution_count": 0,
      "outputs": []
    },
    {
      "metadata": {
        "id": "Ctj5i6KA7jYH",
        "colab_type": "text"
      },
      "cell_type": "markdown",
      "source": [
        "Baseando-se correlação para medir algum impacto na imputação:"
      ]
    },
    {
      "metadata": {
        "id": "3yN5UqMk7jYH",
        "colab_type": "code",
        "outputId": "6a959324-0035-404d-ad8e-53e83f3604a1",
        "colab": {
          "base_uri": "https://localhost:8080/",
          "height": 1010
        }
      },
      "cell_type": "code",
      "source": [
        "props[nan_columns].describe()"
      ],
      "execution_count": 18,
      "outputs": [
        {
          "output_type": "display_data",
          "data": {
            "image/png": "[encoded data removed]",
            "text/plain": [
              "<Figure size 1080x1080 with 2 Axes>"
            ]
          },
          "metadata": {
            "tags": []
          }
        }
      ]
    },
    {
      "metadata": {
        "id": "f3Nalg7t7jYM",
        "colab_type": "text"
      },
      "cell_type": "markdown",
      "source": [
        "##### Dados Categóricos [aqui](https://www.datacamp.com/community/tutorials/categorical-data) e [aqui](https://scikit-learn.org/stable/modules/impute.html)"
      ]
    },
    {
      "metadata": {
        "id": "eMfQBQuj7jYM",
        "colab_type": "code",
        "colab": {}
      },
      "cell_type": "code",
      "source": [
        "cat_df_nan = props[nan_columns].select_dtypes(include=['category']).copy()"
      ],
      "execution_count": 0,
      "outputs": []
    },
    {
      "metadata": {
        "id": "dDZTkYf87jYO",
        "colab_type": "code",
        "outputId": "ddab6b95-7b65-4f66-af0c-67326d10c978",
        "colab": {
          "base_uri": "https://localhost:8080/",
          "height": 204
        }
      },
      "cell_type": "code",
      "source": [
        "cat_df_nan.head()"
      ],
      "execution_count": 20,
      "outputs": [
        {
          "output_type": "execute_result",
          "data": {
            "text/html": [
              "<div>\n",
              "<style scoped>\n",
              "    .dataframe tbody tr th:only-of-type {\n",
              "        vertical-align: middle;\n",
              "    }\n",
              "\n",
              "    .dataframe tbody tr th {\n",
              "        vertical-align: top;\n",
              "    }\n",
              "\n",
              "    .dataframe thead th {\n",
              "        text-align: right;\n",
              "    }\n",
              "</style>\n",
              "<table border=\"1\" class=\"dataframe\">\n",
              "  <thead>\n",
              "    <tr style=\"text-align: right;\">\n",
              "      <th></th>\n",
              "      <th>propertycountylandusecode</th>\n",
              "    </tr>\n",
              "  </thead>\n",
              "  <tbody>\n",
              "    <tr>\n",
              "      <th>0</th>\n",
              "      <td>1128</td>\n",
              "    </tr>\n",
              "    <tr>\n",
              "      <th>1</th>\n",
              "      <td>1129</td>\n",
              "    </tr>\n",
              "    <tr>\n",
              "      <th>2</th>\n",
              "      <td>1111</td>\n",
              "    </tr>\n",
              "    <tr>\n",
              "      <th>3</th>\n",
              "      <td>1110</td>\n",
              "    </tr>\n",
              "    <tr>\n",
              "      <th>4</th>\n",
              "      <td>1111</td>\n",
              "    </tr>\n",
              "  </tbody>\n",
              "</table>\n",
              "</div>"
            ],
            "text/plain": [
              "  propertycountylandusecode\n",
              "0                      1128\n",
              "1                      1129\n",
              "2                      1111\n",
              "3                      1110\n",
              "4                      1111"
            ]
          },
          "metadata": {
            "tags": []
          },
          "execution_count": 20
        }
      ]
    },
    {
      "metadata": {
        "id": "yWAZyNot7jYR",
        "colab_type": "code",
        "outputId": "b2f8991b-86eb-4730-af50-d04a75d2bce2",
        "colab": {
          "base_uri": "https://localhost:8080/",
          "height": 68
        }
      },
      "cell_type": "code",
      "source": [
        "print('Total NaN values in categorical columns: ' + str(cat_df_nan.isnull().values.sum()))\n",
        "print(cat_df_nan.isnull().sum())"
      ],
      "execution_count": 21,
      "outputs": [
        {
          "output_type": "stream",
          "text": [
            "Total NaN values in categorical columns: 1\n",
            "propertycountylandusecode    1\n",
            "dtype: int64\n"
          ],
          "name": "stdout"
        }
      ]
    },
    {
      "metadata": {
        "id": "1ol2RUPt7C-q",
        "colab_type": "code",
        "colab": {}
      },
      "cell_type": "code",
      "source": [
        "category_type = props.select_dtypes(include=['category']).columns.values\n",
        "for c in category_type:\n",
        "  props[c] = props[c].cat.codes"
      ],
      "execution_count": 0,
      "outputs": []
    },
    {
      "metadata": {
        "id": "VW4sijlK7jYe",
        "colab_type": "text"
      },
      "cell_type": "markdown",
      "source": [
        "##### Dados Numéricos"
      ]
    },
    {
      "metadata": {
        "id": "_p_sc-I1lK_u",
        "colab_type": "code",
        "colab": {}
      },
      "cell_type": "code",
      "source": [
        "num_df_nan = props[nan_columns].select_dtypes(exclude=['category']).copy()\n",
        "#num_nan = props[list(set(props.columns.values).difference(num_df_nan.columns.values))]"
      ],
      "execution_count": 0,
      "outputs": []
    },
    {
      "metadata": {
        "id": "ssylvuatHyu6",
        "colab_type": "code",
        "outputId": "5de928d4-114f-4064-e85f-49f9181a42db",
        "colab": {
          "base_uri": "https://localhost:8080/",
          "height": 224
        }
      },
      "cell_type": "code",
      "source": [
        "num_df_nan.head()"
      ],
      "execution_count": 24,
      "outputs": [
        {
          "output_type": "execute_result",
          "data": {
            "text/html": [
              "<div>\n",
              "<style scoped>\n",
              "    .dataframe tbody tr th:only-of-type {\n",
              "        vertical-align: middle;\n",
              "    }\n",
              "\n",
              "    .dataframe tbody tr th {\n",
              "        vertical-align: top;\n",
              "    }\n",
              "\n",
              "    .dataframe thead th {\n",
              "        text-align: right;\n",
              "    }\n",
              "</style>\n",
              "<table border=\"1\" class=\"dataframe\">\n",
              "  <thead>\n",
              "    <tr style=\"text-align: right;\">\n",
              "      <th></th>\n",
              "      <th>finishedsquarefeet12</th>\n",
              "      <th>fullbathcnt</th>\n",
              "      <th>lotsizesquarefeet</th>\n",
              "      <th>propertycountylandusecode</th>\n",
              "      <th>regionidcity</th>\n",
              "      <th>regionidzip</th>\n",
              "      <th>yearbuilt</th>\n",
              "      <th>structuretaxvaluedollarcnt</th>\n",
              "      <th>taxvaluedollarcnt</th>\n",
              "      <th>landtaxvaluedollarcnt</th>\n",
              "      <th>taxamount</th>\n",
              "      <th>censustractandblock</th>\n",
              "    </tr>\n",
              "  </thead>\n",
              "  <tbody>\n",
              "    <tr>\n",
              "      <th>0</th>\n",
              "      <td>1264.0</td>\n",
              "      <td>2.0</td>\n",
              "      <td>1735.0</td>\n",
              "      <td>54</td>\n",
              "      <td>34543.0</td>\n",
              "      <td>97081.0</td>\n",
              "      <td>1986.0</td>\n",
              "      <td>115087.0</td>\n",
              "      <td>191811.0</td>\n",
              "      <td>76724.0</td>\n",
              "      <td>2015.06</td>\n",
              "      <td>6.111002e+13</td>\n",
              "    </tr>\n",
              "    <tr>\n",
              "      <th>1</th>\n",
              "      <td>777.0</td>\n",
              "      <td>1.0</td>\n",
              "      <td>NaN</td>\n",
              "      <td>55</td>\n",
              "      <td>34543.0</td>\n",
              "      <td>97083.0</td>\n",
              "      <td>1990.0</td>\n",
              "      <td>143809.0</td>\n",
              "      <td>239679.0</td>\n",
              "      <td>95870.0</td>\n",
              "      <td>2581.30</td>\n",
              "      <td>6.111002e+13</td>\n",
              "    </tr>\n",
              "    <tr>\n",
              "      <th>2</th>\n",
              "      <td>1101.0</td>\n",
              "      <td>2.0</td>\n",
              "      <td>6569.0</td>\n",
              "      <td>50</td>\n",
              "      <td>26965.0</td>\n",
              "      <td>97113.0</td>\n",
              "      <td>1956.0</td>\n",
              "      <td>33619.0</td>\n",
              "      <td>47853.0</td>\n",
              "      <td>14234.0</td>\n",
              "      <td>591.64</td>\n",
              "      <td>6.111001e+13</td>\n",
              "    </tr>\n",
              "    <tr>\n",
              "      <th>3</th>\n",
              "      <td>1554.0</td>\n",
              "      <td>1.0</td>\n",
              "      <td>7400.0</td>\n",
              "      <td>49</td>\n",
              "      <td>26965.0</td>\n",
              "      <td>97113.0</td>\n",
              "      <td>1965.0</td>\n",
              "      <td>45609.0</td>\n",
              "      <td>62914.0</td>\n",
              "      <td>17305.0</td>\n",
              "      <td>682.78</td>\n",
              "      <td>6.111001e+13</td>\n",
              "    </tr>\n",
              "    <tr>\n",
              "      <th>4</th>\n",
              "      <td>2415.0</td>\n",
              "      <td>2.0</td>\n",
              "      <td>6326.0</td>\n",
              "      <td>50</td>\n",
              "      <td>34543.0</td>\n",
              "      <td>97084.0</td>\n",
              "      <td>1984.0</td>\n",
              "      <td>277000.0</td>\n",
              "      <td>554000.0</td>\n",
              "      <td>277000.0</td>\n",
              "      <td>5886.92</td>\n",
              "      <td>6.111001e+13</td>\n",
              "    </tr>\n",
              "  </tbody>\n",
              "</table>\n",
              "</div>"
            ],
            "text/plain": [
              "   finishedsquarefeet12  fullbathcnt  lotsizesquarefeet  \\\n",
              "0                1264.0          2.0             1735.0   \n",
              "1                 777.0          1.0                NaN   \n",
              "2                1101.0          2.0             6569.0   \n",
              "3                1554.0          1.0             7400.0   \n",
              "4                2415.0          2.0             6326.0   \n",
              "\n",
              "   propertycountylandusecode  regionidcity  regionidzip  yearbuilt  \\\n",
              "0                         54       34543.0      97081.0     1986.0   \n",
              "1                         55       34543.0      97083.0     1990.0   \n",
              "2                         50       26965.0      97113.0     1956.0   \n",
              "3                         49       26965.0      97113.0     1965.0   \n",
              "4                         50       34543.0      97084.0     1984.0   \n",
              "\n",
              "   structuretaxvaluedollarcnt  taxvaluedollarcnt  landtaxvaluedollarcnt  \\\n",
              "0                    115087.0           191811.0                76724.0   \n",
              "1                    143809.0           239679.0                95870.0   \n",
              "2                     33619.0            47853.0                14234.0   \n",
              "3                     45609.0            62914.0                17305.0   \n",
              "4                    277000.0           554000.0               277000.0   \n",
              "\n",
              "   taxamount  censustractandblock  \n",
              "0    2015.06         6.111002e+13  \n",
              "1    2581.30         6.111002e+13  \n",
              "2     591.64         6.111001e+13  \n",
              "3     682.78         6.111001e+13  \n",
              "4    5886.92         6.111001e+13  "
            ]
          },
          "metadata": {
            "tags": []
          },
          "execution_count": 24
        }
      ]
    },
    {
      "metadata": {
        "id": "-YCNab9CNSsa",
        "colab_type": "code",
        "outputId": "80046dbf-fc84-4cfb-82b8-65898385865c",
        "colab": {
          "base_uri": "https://localhost:8080/",
          "height": 255
        }
      },
      "cell_type": "code",
      "source": [
        "print('Total NaN values in numeric columns: {}'.format(num_df_nan.isnull().values.sum()))\n",
        "print(num_df_nan.isnull().sum().sort_values())"
      ],
      "execution_count": 25,
      "outputs": [
        {
          "output_type": "stream",
          "text": [
            "Total NaN values in numeric columns: 19598\n",
            "propertycountylandusecode         0\n",
            "taxvaluedollarcnt                 1\n",
            "landtaxvaluedollarcnt             1\n",
            "taxamount                         6\n",
            "regionidzip                      35\n",
            "structuretaxvaluedollarcnt      380\n",
            "censustractandblock             605\n",
            "yearbuilt                       756\n",
            "fullbathcnt                    1182\n",
            "regionidcity                   1803\n",
            "finishedsquarefeet12           4679\n",
            "lotsizesquarefeet             10150\n",
            "dtype: int64\n"
          ],
          "name": "stdout"
        }
      ]
    },
    {
      "metadata": {
        "id": "1IwnO_CvTrM-",
        "colab_type": "text"
      },
      "cell_type": "markdown",
      "source": [
        "Usando Random Forest para imputação de dados\n",
        "*(Tentar usar o fancyimpute do sklearn para fazer a imputação com outros algoritmos fora o kNN)*"
      ]
    },
    {
      "metadata": {
        "id": "f3KIK2fM7YpH",
        "colab_type": "code",
        "colab": {
          "base_uri": "https://localhost:8080/",
          "height": 286
        },
        "outputId": "e574d42f-a57a-4dce-db67-1c418284d858"
      },
      "cell_type": "code",
      "source": [
        "props['yearbuilt'].hist()"
      ],
      "execution_count": 26,
      "outputs": [
        {
          "output_type": "execute_result",
          "data": {
            "text/plain": [
              "<matplotlib.axes._subplots.AxesSubplot at 0x7f5c9d23bcf8>"
            ]
          },
          "metadata": {
            "tags": []
          },
          "execution_count": 26
        },
        {
          "output_type": "display_data",
          "data": {
            "image/png": "[encoded data removed]",
            "text/plain": [
              "<Figure size 432x288 with 1 Axes>"
            ]
          },
          "metadata": {
            "tags": []
          }
        }
      ]
    },
    {
      "metadata": {
        "id": "etNQ40JS_86p",
        "colab_type": "code",
        "colab": {}
      },
      "cell_type": "code",
      "source": [
        "def saveToCsv(df, columns, index):\n",
        "  \n",
        "  df_out = pd.DataFrame(data=df)\n",
        "  df_out.columns = props.columns.values.tolist()\n",
        "  df_out.set_index(index, inplace=True, drop=True)\n",
        "  df_out.to_csv('props_imputed.csv')\n",
        "  \n",
        "  from google.colab import files\n",
        "  files.download('props_imputed.csv')"
      ],
      "execution_count": 0,
      "outputs": []
    },
    {
      "metadata": {
        "id": "cLcMKuBxO0g8",
        "colab_type": "code",
        "colab": {
          "base_uri": "https://localhost:8080/",
          "height": 479
        },
        "outputId": "172b13b6-0cd3-4cc0-a25a-adf6ca68356f"
      },
      "cell_type": "code",
      "source": [
        "'''\n",
        "\n",
        "  Se já executou anteriormente, settar imputed para True.\n",
        "  Se não, settar imputed para False para fazer a imputação.\n",
        "  \n",
        "'''\n",
        "\n",
        "if(imputed):\n",
        "  props_imputed = pd.read_csv('https://raw.githubusercontent.com/thiagotandrade/ds_project/master/Database/props_imputed.csv',\n",
        "                             header=0, sep=',', quotechar='\"')\n",
        "else:\n",
        "  from missingpy import MissForest\n",
        "  imputer = MissForest()\n",
        "  props_imputed = imputer.fit_transform(props)\n",
        "  saveToCsv(props_imputed, props.columns.values.tolist(), 'parcelid')"
      ],
      "execution_count": 28,
      "outputs": [
        {
          "output_type": "stream",
          "text": [
            "Iteration: 0\n",
            "Iteration: 1\n",
            "Iteration: 2\n",
            "Iteration: 3\n",
            "Iteration: 4\n"
          ],
          "name": "stdout"
        },
        {
          "output_type": "error",
          "ename": "KeyboardInterrupt",
          "evalue": "ignored",
          "traceback": [
            "\u001b[0;31m---------------------------------------------------------------------------\u001b[0m",
            "\u001b[0;31mKeyboardInterrupt\u001b[0m                         Traceback (most recent call last)",
            "\u001b[0;32m<ipython-input-28-fe27c91258b7>\u001b[0m in \u001b[0;36m<module>\u001b[0;34m()\u001b[0m\n\u001b[1;32m     13\u001b[0m   \u001b[0mimputer\u001b[0m \u001b[0;34m=\u001b[0m \u001b[0mMissForest\u001b[0m\u001b[0;34m(\u001b[0m\u001b[0;34m)\u001b[0m\u001b[0;34m\u001b[0m\u001b[0;34m\u001b[0m\u001b[0m\n\u001b[1;32m     14\u001b[0m   \u001b[0mprops_imputed\u001b[0m \u001b[0;34m=\u001b[0m \u001b[0mimputer\u001b[0m\u001b[0;34m.\u001b[0m\u001b[0mfit_transform\u001b[0m\u001b[0;34m(\u001b[0m\u001b[0mprops\u001b[0m\u001b[0;34m)\u001b[0m\u001b[0;34m\u001b[0m\u001b[0;34m\u001b[0m\u001b[0m\n\u001b[0;32m---> 15\u001b[0;31m   \u001b[0msaveToCsv\u001b[0m\u001b[0;34m(\u001b[0m\u001b[0mprops_imputed\u001b[0m\u001b[0;34m,\u001b[0m \u001b[0mprops\u001b[0m\u001b[0;34m.\u001b[0m\u001b[0mcolumns\u001b[0m\u001b[0;34m.\u001b[0m\u001b[0mvalues\u001b[0m\u001b[0;34m.\u001b[0m\u001b[0mtolist\u001b[0m\u001b[0;34m(\u001b[0m\u001b[0;34m)\u001b[0m\u001b[0;34m,\u001b[0m \u001b[0;34m'parcelid'\u001b[0m\u001b[0;34m)\u001b[0m\u001b[0;34m\u001b[0m\u001b[0;34m\u001b[0m\u001b[0m\n\u001b[0m\u001b[1;32m     16\u001b[0m \u001b[0;34m\u001b[0m\u001b[0m\n\u001b[1;32m     17\u001b[0m \u001b[0mprops\u001b[0m \u001b[0;34m=\u001b[0m \u001b[0mprops_imputed\u001b[0m\u001b[0;34m.\u001b[0m\u001b[0mcopy\u001b[0m\u001b[0;34m(\u001b[0m\u001b[0;34m)\u001b[0m\u001b[0;34m\u001b[0m\u001b[0;34m\u001b[0m\u001b[0m\n",
            "\u001b[0;32m<ipython-input-27-74101953a348>\u001b[0m in \u001b[0;36msaveToCsv\u001b[0;34m(df, columns, index)\u001b[0m\n\u001b[1;32m      7\u001b[0m \u001b[0;34m\u001b[0m\u001b[0m\n\u001b[1;32m      8\u001b[0m   \u001b[0;32mfrom\u001b[0m \u001b[0mgoogle\u001b[0m\u001b[0;34m.\u001b[0m\u001b[0mcolab\u001b[0m \u001b[0;32mimport\u001b[0m \u001b[0mfiles\u001b[0m\u001b[0;34m\u001b[0m\u001b[0;34m\u001b[0m\u001b[0m\n\u001b[0;32m----> 9\u001b[0;31m   \u001b[0mfiles\u001b[0m\u001b[0;34m.\u001b[0m\u001b[0mdownload\u001b[0m\u001b[0;34m(\u001b[0m\u001b[0;34m'props_imputed.csv'\u001b[0m\u001b[0;34m)\u001b[0m\u001b[0;34m\u001b[0m\u001b[0;34m\u001b[0m\u001b[0m\n\u001b[0m",
            "\u001b[0;32m/usr/local/lib/python3.6/dist-packages/google/colab/files.py\u001b[0m in \u001b[0;36mdownload\u001b[0;34m(filename)\u001b[0m\n\u001b[1;32m    176\u001b[0m       \u001b[0;34m'port'\u001b[0m\u001b[0;34m:\u001b[0m \u001b[0mport\u001b[0m\u001b[0;34m,\u001b[0m\u001b[0;34m\u001b[0m\u001b[0;34m\u001b[0m\u001b[0m\n\u001b[1;32m    177\u001b[0m       \u001b[0;34m'path'\u001b[0m\u001b[0;34m:\u001b[0m \u001b[0m_os\u001b[0m\u001b[0;34m.\u001b[0m\u001b[0mpath\u001b[0m\u001b[0;34m.\u001b[0m\u001b[0mabspath\u001b[0m\u001b[0;34m(\u001b[0m\u001b[0mfilename\u001b[0m\u001b[0;34m)\u001b[0m\u001b[0;34m,\u001b[0m\u001b[0;34m\u001b[0m\u001b[0;34m\u001b[0m\u001b[0m\n\u001b[0;32m--> 178\u001b[0;31m       \u001b[0;34m'name'\u001b[0m\u001b[0;34m:\u001b[0m \u001b[0m_os\u001b[0m\u001b[0;34m.\u001b[0m\u001b[0mpath\u001b[0m\u001b[0;34m.\u001b[0m\u001b[0mbasename\u001b[0m\u001b[0;34m(\u001b[0m\u001b[0mfilename\u001b[0m\u001b[0;34m)\u001b[0m\u001b[0;34m,\u001b[0m\u001b[0;34m\u001b[0m\u001b[0;34m\u001b[0m\u001b[0m\n\u001b[0m\u001b[1;32m    179\u001b[0m   })\n",
            "\u001b[0;32m/usr/local/lib/python3.6/dist-packages/google/colab/output/_js.py\u001b[0m in \u001b[0;36meval_js\u001b[0;34m(script, ignore_result)\u001b[0m\n\u001b[1;32m     37\u001b[0m   \u001b[0;32mif\u001b[0m \u001b[0mignore_result\u001b[0m\u001b[0;34m:\u001b[0m\u001b[0;34m\u001b[0m\u001b[0;34m\u001b[0m\u001b[0m\n\u001b[1;32m     38\u001b[0m     \u001b[0;32mreturn\u001b[0m\u001b[0;34m\u001b[0m\u001b[0;34m\u001b[0m\u001b[0m\n\u001b[0;32m---> 39\u001b[0;31m   \u001b[0;32mreturn\u001b[0m \u001b[0m_message\u001b[0m\u001b[0;34m.\u001b[0m\u001b[0mread_reply_from_input\u001b[0m\u001b[0;34m(\u001b[0m\u001b[0mrequest_id\u001b[0m\u001b[0;34m)\u001b[0m\u001b[0;34m\u001b[0m\u001b[0;34m\u001b[0m\u001b[0m\n\u001b[0m\u001b[1;32m     40\u001b[0m \u001b[0;34m\u001b[0m\u001b[0m\n\u001b[1;32m     41\u001b[0m \u001b[0;34m\u001b[0m\u001b[0m\n",
            "\u001b[0;32m/usr/local/lib/python3.6/dist-packages/google/colab/_message.py\u001b[0m in \u001b[0;36mread_reply_from_input\u001b[0;34m(message_id, timeout_sec)\u001b[0m\n\u001b[1;32m     99\u001b[0m     \u001b[0mreply\u001b[0m \u001b[0;34m=\u001b[0m \u001b[0m_read_next_input_message\u001b[0m\u001b[0;34m(\u001b[0m\u001b[0;34m)\u001b[0m\u001b[0;34m\u001b[0m\u001b[0;34m\u001b[0m\u001b[0m\n\u001b[1;32m    100\u001b[0m     \u001b[0;32mif\u001b[0m \u001b[0mreply\u001b[0m \u001b[0;34m==\u001b[0m \u001b[0m_NOT_READY\u001b[0m \u001b[0;32mor\u001b[0m \u001b[0;32mnot\u001b[0m \u001b[0misinstance\u001b[0m\u001b[0;34m(\u001b[0m\u001b[0mreply\u001b[0m\u001b[0;34m,\u001b[0m \u001b[0mdict\u001b[0m\u001b[0;34m)\u001b[0m\u001b[0;34m:\u001b[0m\u001b[0;34m\u001b[0m\u001b[0;34m\u001b[0m\u001b[0m\n\u001b[0;32m--> 101\u001b[0;31m       \u001b[0mtime\u001b[0m\u001b[0;34m.\u001b[0m\u001b[0msleep\u001b[0m\u001b[0;34m(\u001b[0m\u001b[0;36m0.025\u001b[0m\u001b[0;34m)\u001b[0m\u001b[0;34m\u001b[0m\u001b[0;34m\u001b[0m\u001b[0m\n\u001b[0m\u001b[1;32m    102\u001b[0m       \u001b[0;32mcontinue\u001b[0m\u001b[0;34m\u001b[0m\u001b[0;34m\u001b[0m\u001b[0m\n\u001b[1;32m    103\u001b[0m     if (reply.get('type') == 'colab_reply' and\n",
            "\u001b[0;31mKeyboardInterrupt\u001b[0m: "
          ]
        }
      ]
    },
    {
      "metadata": {
        "id": "gZk59btt1pDy",
        "colab_type": "code",
        "colab": {}
      },
      "cell_type": "code",
      "source": [
        "# Executar o kNN com o dataframe causará estouro de memória\n",
        "\n",
        "#lb_make = LabelEncoder()\n",
        "#props['propertycountylandusecode'] = lb_make.fit_transform(props['propertycountylandusecode'])\n",
        "\n",
        "#props_knn = KNN(k=3).fit_transform(props)"
      ],
      "execution_count": 0,
      "outputs": []
    },
    {
      "metadata": {
        "id": "EI34JQj9SvtW",
        "colab_type": "code",
        "colab": {}
      },
      "cell_type": "code",
      "source": [
        "props[nan_columns].describe()"
      ],
      "execution_count": 0,
      "outputs": []
    },
    {
      "metadata": {
        "id": "hyTR6I1VS0WQ",
        "colab_type": "code",
        "colab": {}
      },
      "cell_type": "code",
      "source": [
        "props_imputed[nan_columns].describe()"
      ],
      "execution_count": 0,
      "outputs": []
    },
    {
      "metadata": {
        "id": "0owC52jlGtgE",
        "colab_type": "code",
        "colab": {}
      },
      "cell_type": "code",
      "source": [
        "props = props_imputed.copy()"
      ],
      "execution_count": 0,
      "outputs": []
    },
    {
      "metadata": {
        "id": "z3r_7O43NtE3",
        "colab_type": "code",
        "colab": {}
      },
      "cell_type": "code",
      "source": [
        "print('Total NaN values: {}'.format(props.isnull().values.sum()))"
      ],
      "execution_count": 0,
      "outputs": []
    },
    {
      "metadata": {
        "id": "EAmPXrah7ezd",
        "colab_type": "code",
        "colab": {}
      },
      "cell_type": "code",
      "source": [
        "props['yearbuilt'].hist()"
      ],
      "execution_count": 0,
      "outputs": []
    },
    {
      "metadata": {
        "id": "cMmOxrRC7jYf",
        "colab_type": "text"
      },
      "cell_type": "markdown",
      "source": [
        "### 2.3 Normalização e discretização"
      ]
    },
    {
      "metadata": {
        "id": "ZKDg_Rs4LL33",
        "colab_type": "code",
        "colab": {}
      },
      "cell_type": "code",
      "source": [
        "# Salvar coluna de IDs\n",
        "parcelid = props['parcelid'].copy()"
      ],
      "execution_count": 0,
      "outputs": []
    },
    {
      "metadata": {
        "id": "vSlMAYuh7jYf",
        "colab_type": "text"
      },
      "cell_type": "markdown",
      "source": [
        "#### 2.3.1 Discretização"
      ]
    },
    {
      "metadata": {
        "id": "mdRPIKqnHxRR",
        "colab_type": "code",
        "colab": {}
      },
      "cell_type": "code",
      "source": [
        "props['taxvaluedollarcnt'].describe()"
      ],
      "execution_count": 0,
      "outputs": []
    },
    {
      "metadata": {
        "id": "T4JayO_6IUQ8",
        "colab_type": "code",
        "colab": {}
      },
      "cell_type": "code",
      "source": [
        "#props['tax_value_intervals'] = pd.qcut(props['taxvaluedollarcnt'], 20)"
      ],
      "execution_count": 0,
      "outputs": []
    },
    {
      "metadata": {
        "id": "0D5bAsK-7jYi",
        "colab_type": "code",
        "colab": {}
      },
      "cell_type": "code",
      "source": [
        "# Pyspark QuantileDiscretizer: Discretizar a coluna 'taxvaluedollarcnt'\n",
        "props_spark = spark.createDataFrame(props,props.columns.values.tolist())\n",
        "props_spark_result = QuantileDiscretizer(numBuckets=10, inputCol=\"taxvaluedollarcnt\",outputCol=\"area_intervals\").fit(props_spark).transform(props_spark)\n",
        "props_spark_result.show()"
      ],
      "execution_count": 0,
      "outputs": []
    },
    {
      "metadata": {
        "id": "1a7Tv4yl7jYi",
        "colab_type": "text"
      },
      "cell_type": "markdown",
      "source": [
        "#### 2.3.2 Normalização"
      ]
    },
    {
      "metadata": {
        "id": "2PzS1wv87jYg",
        "colab_type": "code",
        "colab": {}
      },
      "cell_type": "code",
      "source": [
        "min_max_scaler = preprocessing.MinMaxScaler()\n",
        "props = pd.DataFrame(min_max_scaler.fit_transform(props), columns=props.columns, index=props.index)\n",
        "\n",
        "props.describe()"
      ],
      "execution_count": 0,
      "outputs": []
    },
    {
      "metadata": {
        "id": "QOD6foUFKZvN",
        "colab_type": "code",
        "colab": {}
      },
      "cell_type": "code",
      "source": [
        "props.head()"
      ],
      "execution_count": 0,
      "outputs": []
    },
    {
      "metadata": {
        "id": "2ad-TufoVFUo",
        "colab_type": "text"
      },
      "cell_type": "markdown",
      "source": [
        "Recuperando os IDs que foram normalizados"
      ]
    },
    {
      "metadata": {
        "id": "LJi5ojfhQv4D",
        "colab_type": "code",
        "colab": {}
      },
      "cell_type": "code",
      "source": [
        "props['parcelid'] = parcelid"
      ],
      "execution_count": 0,
      "outputs": []
    },
    {
      "metadata": {
        "id": "hfE05OPp7jYk",
        "colab_type": "text"
      },
      "cell_type": "markdown",
      "source": [
        "### 2.4 [Limpeza de dados](https://towardsdatascience.com/ways-to-detect-and-remove-the-outliers-404d16608dba)"
      ]
    },
    {
      "metadata": {
        "id": "aJlRIVrF7jYl",
        "colab_type": "text"
      },
      "cell_type": "markdown",
      "source": [
        "#### 2.4.1 Univariado [aqui](https://towardsdatascience.com/ways-to-detect-and-remove-the-outliers-404d16608dba) e [aqui](https://machinelearningmastery.com/how-to-use-statistics-to-identify-outliers-in-data/)"
      ]
    },
    {
      "metadata": {
        "id": "tePVADXnFOmV",
        "colab_type": "text"
      },
      "cell_type": "markdown",
      "source": [
        "\"The Z-score is the signed number of standard deviations by which the value of an observation or data point is above the mean value of what is being observed or measured.\"\""
      ]
    },
    {
      "metadata": {
        "id": "ElVJdx7KJqV4",
        "colab_type": "text"
      },
      "cell_type": "markdown",
      "source": [
        "Colunas que possuem média menor que o desvio padrão apresentam forte indício de outliers."
      ]
    },
    {
      "metadata": {
        "id": "FTR_7wbNQ7EV",
        "colab_type": "code",
        "colab": {}
      },
      "cell_type": "code",
      "source": [
        "props.loc[:, props.mean() < props.std()].columns.values"
      ],
      "execution_count": 0,
      "outputs": []
    },
    {
      "metadata": {
        "id": "oQD8Lp4vWW80",
        "colab_type": "code",
        "colab": {}
      },
      "cell_type": "code",
      "source": [
        "# CRIAR VÁRIOS SUBPLOTS PARA CADA BOXPLOT\n",
        "props.loc[:, props.mean() < props.std()].plot.box()"
      ],
      "execution_count": 0,
      "outputs": []
    },
    {
      "metadata": {
        "id": "iuzzZhl7Vh2G",
        "colab_type": "code",
        "colab": {}
      },
      "cell_type": "code",
      "source": [
        "props['taxvaluedollarcnt'].describe()"
      ],
      "execution_count": 0,
      "outputs": []
    },
    {
      "metadata": {
        "id": "kS-ZpQl9Vhym",
        "colab_type": "code",
        "colab": {}
      },
      "cell_type": "code",
      "source": [
        "props['taxvaluedollarcnt'].plot.box()"
      ],
      "execution_count": 0,
      "outputs": []
    },
    {
      "metadata": {
        "id": "4Xcv93SaVwd4",
        "colab_type": "code",
        "colab": {}
      },
      "cell_type": "code",
      "source": [
        "props['taxvaluedollarcnt'].hist()"
      ],
      "execution_count": 0,
      "outputs": []
    },
    {
      "metadata": {
        "id": "pV-J0Qi0WCFb",
        "colab_type": "code",
        "colab": {}
      },
      "cell_type": "code",
      "source": [
        "from numpy import log10\n",
        "props['total_tax_log'] = log10(props['taxvaluedollarcnt'])\n",
        "props['taxvaluedollarcnt'].hist()"
      ],
      "execution_count": 0,
      "outputs": []
    },
    {
      "metadata": {
        "id": "Sb2aXiQ1VyAl",
        "colab_type": "code",
        "colab": {}
      },
      "cell_type": "code",
      "source": [
        ""
      ],
      "execution_count": 0,
      "outputs": []
    },
    {
      "metadata": {
        "id": "pWH5_EDlUTHN",
        "colab_type": "code",
        "colab": {}
      },
      "cell_type": "code",
      "source": [
        "# TEST\n",
        "from scipy import stats\n",
        "props[(np.abs(stats.zscore(props)) < 10).all(axis=1)]"
      ],
      "execution_count": 0,
      "outputs": []
    },
    {
      "metadata": {
        "id": "YekM3Up67jYn",
        "colab_type": "text"
      },
      "cell_type": "markdown",
      "source": [
        "#### 2.4.2 Bivariado"
      ]
    },
    {
      "metadata": {
        "id": "-SKJoRNc7jYo",
        "colab_type": "code",
        "colab": {}
      },
      "cell_type": "code",
      "source": [
        ""
      ],
      "execution_count": 0,
      "outputs": []
    },
    {
      "metadata": {
        "id": "CDMVO_e77jYq",
        "colab_type": "text"
      },
      "cell_type": "markdown",
      "source": [
        "#### 2.4.3 Multivariado"
      ]
    },
    {
      "metadata": {
        "id": "8V2GODep7jYr",
        "colab_type": "code",
        "colab": {}
      },
      "cell_type": "code",
      "source": [
        ""
      ],
      "execution_count": 0,
      "outputs": []
    },
    {
      "metadata": {
        "id": "5q_1kGB_Rm-h",
        "colab_type": "text"
      },
      "cell_type": "markdown",
      "source": [
        "## Criação de Novas Features"
      ]
    },
    {
      "metadata": {
        "id": "S4yN5Aym7jYt",
        "colab_type": "text"
      },
      "cell_type": "markdown",
      "source": [
        "## Visualização de Dados"
      ]
    },
    {
      "metadata": {
        "id": "onPYR3re7jYu",
        "colab_type": "text"
      },
      "cell_type": "markdown",
      "source": [
        "#### Distribuição da localização das propriedades"
      ]
    },
    {
      "metadata": {
        "id": "jW0Y3uV37jYu",
        "colab_type": "code",
        "colab": {}
      },
      "cell_type": "code",
      "source": [
        "props['latitude'] /= 1e6\n",
        "props['longitude'] /= 1e6"
      ],
      "execution_count": 0,
      "outputs": []
    },
    {
      "metadata": {
        "colab_type": "code",
        "id": "5eOuEaOHzmuk",
        "colab": {}
      },
      "cell_type": "code",
      "source": [
        "plt.figure(figsize=(12,12))\n",
        "sns.jointplot(x=props.latitude.values, y=props.longitude.values, size=10)\n",
        "plt.ylabel('Longitude', fontsize=12)\n",
        "plt.xlabel('Latitude', fontsize=12)\n",
        "plt.show()"
      ],
      "execution_count": 0,
      "outputs": []
    },
    {
      "metadata": {
        "colab_type": "code",
        "id": "zc9xewjEzmmE",
        "colab": {}
      },
      "cell_type": "code",
      "source": [
        ""
      ],
      "execution_count": 0,
      "outputs": []
    },
    {
      "metadata": {
        "colab_type": "code",
        "id": "ZGSCZYf_zmip",
        "colab": {}
      },
      "cell_type": "code",
      "source": [
        ""
      ],
      "execution_count": 0,
      "outputs": []
    },
    {
      "metadata": {
        "colab_type": "code",
        "id": "V4_dEyUYc87t",
        "colab": {}
      },
      "cell_type": "code",
      "source": [
        "#Save for later\n",
        "\n",
        "#Get all null columns as dataframe \n",
        "#print(props[props.isnull().any(axis=1)][nan_columns].head())\n",
        "\n",
        "#props_train = pd.merge(props, train, on='parcelid', how='left')\n",
        "\n",
        "#msno.dendrogram(props)\n",
        "\n",
        "# Changing type of columns with Ids to unsigned short int\n",
        "#id_columns = props.filter(regex='id').columns.values\n",
        "#props[id_columns] = props[id_columns].astype('uint16')\n",
        "\n",
        "# Para a coluna propertycountylandusecode não precisamos de imputação, logo apenas transformamos as categorias para código\n",
        "# cat_df_props['propertycountylandusecode'] = cat_df_props['propertycountylandusecode'].cat.codes.astype('int16')\n",
        "#cat_df_props['propertyzoningdesc'] = cat_df_props['propertyzoningdesc'].cat.codes.astype('int16')\n",
        "\n",
        "#msno.heatmap(props[nan_columns], figsize=(15,15))\n",
        "# All Columns Correlation\n",
        "#f,ax = plt.subplots(figsize=(15, 15))\n",
        "#sns.heatmap(props.corr(), annot=True, linewidths=.5, fmt='.1f',ax=ax)\n",
        "#plt.show()\n",
        "\n",
        "###############################################################################################################################\n",
        "\n",
        "# b = abs(props.drop(['parcelid'], axis=1).mean() - props.drop(['parcelid'], axis=1).median()).nlargest(5)\n",
        "\n",
        "#Para excluir\n",
        "\n",
        "# Não podemos usar o one hot encoder pois precisariamos criar 240 novas colunas para um dataframe com 3 mi instâncias\n",
        "#cat_df_props['propertycountylandusecode'].cat.categories\n",
        "\n",
        "#prop_county_land_use_code = cat_df_props['propertycountylandusecode'].cat.codes\n",
        "#prop_county_land_use_code\n",
        "\n",
        "#lb_make = LabelEncoder()\n",
        "#cat_df_props['propertycountylandusecode'] = lb_make.fit_transform(cat_df_props['propertycountylandusecode'])"
      ],
      "execution_count": 0,
      "outputs": []
    },
    {
      "metadata": {
        "id": "AD2rWpU-Y3Bk",
        "colab_type": "text"
      },
      "cell_type": "markdown",
      "source": [
        "# Algumas estatísticas Descritivas"
      ]
    },
    {
      "metadata": {
        "id": "6sW72CljZClf",
        "colab_type": "code",
        "colab": {}
      },
      "cell_type": "code",
      "source": [
        "props_imputed.describe()"
      ],
      "execution_count": 0,
      "outputs": []
    },
    {
      "metadata": {
        "id": "B0WeKUOVZ36Y",
        "colab_type": "code",
        "colab": {}
      },
      "cell_type": "code",
      "source": [
        "props_imputed.shape"
      ],
      "execution_count": 0,
      "outputs": []
    },
    {
      "metadata": {
        "id": "yoC1a9QKZ5Wv",
        "colab_type": "code",
        "colab": {}
      },
      "cell_type": "code",
      "source": [
        "props_imputed.axes"
      ],
      "execution_count": 0,
      "outputs": []
    },
    {
      "metadata": {
        "id": "AIsjff_SaKot",
        "colab_type": "code",
        "colab": {}
      },
      "cell_type": "code",
      "source": [
        ""
      ],
      "execution_count": 0,
      "outputs": []
    },
    {
      "metadata": {
        "id": "NOQvEHuGZEHE",
        "colab_type": "text"
      },
      "cell_type": "markdown",
      "source": [
        "# Testes de Hipóteses"
      ]
    },
    {
      "metadata": {
        "id": "tl8hUcJ6ZH87",
        "colab_type": "text"
      },
      "cell_type": "markdown",
      "source": [
        "testar se o ano das casas segue a mesma distribuição da área"
      ]
    },
    {
      "metadata": {
        "id": "Dredt0CWfx8v",
        "colab_type": "code",
        "colab": {}
      },
      "cell_type": "code",
      "source": [
        "props_imputed['yearbuilt']"
      ],
      "execution_count": 0,
      "outputs": []
    }
  ]
}